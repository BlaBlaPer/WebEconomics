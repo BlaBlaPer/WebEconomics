{
 "cells": [
  {
   "cell_type": "code",
   "execution_count": 1,
   "metadata": {},
   "outputs": [],
   "source": [
    "import numpy as np\n",
    "import pandas as pd\n",
    "#import training setvalid_newfeature\n",
    "Train_df = pd.read_csv('/project/Data/train_newfeature.csv')\n",
    "#import validation set\n",
    "Valid_df = pd.read_csv('/project/Data/valid_newfeature.csv')"
   ]
  },
  {
   "cell_type": "code",
   "execution_count": 134,
   "metadata": {
    "collapsed": true
   },
   "outputs": [
    {
     "data": {
      "text/plain": [
       "click                        1793\n",
       "slotwidth                    1793\n",
       "slotheight                   1793\n",
       "slotprice                    1793\n",
       "android                      1793\n",
       "ios                          1793\n",
       "linux                        1793\n",
       "mac                          1793\n",
       "other                        1793\n",
       "windows                      1793\n",
       "chrome                       1793\n",
       "firefox                      1793\n",
       "ie                           1793\n",
       "maxthon                      1793\n",
       "opera                        1793\n",
       "other.1                      1793\n",
       "safari                       1793\n",
       "sogou                        1793\n",
       "theworld                     1793\n",
       "10006                        1793\n",
       "10024                        1793\n",
       "10031                        1793\n",
       "10048                        1793\n",
       "10052                        1793\n",
       "10057                        1793\n",
       "10059                        1793\n",
       "10063                        1793\n",
       "10067                        1793\n",
       "10074                        1793\n",
       "10075                        1793\n",
       "                             ... \n",
       "adexchange_1.0               1793\n",
       "adexchange_2.0               1793\n",
       "adexchange_3.0               1793\n",
       "adexchange_4.0               1793\n",
       "adexchange_nan               1793\n",
       "slotvisibility_0             1793\n",
       "slotvisibility_1             1793\n",
       "slotvisibility_2             1793\n",
       "slotvisibility_255           1793\n",
       "slotvisibility_FifthView     1793\n",
       "slotvisibility_FirstView     1793\n",
       "slotvisibility_FourthView    1793\n",
       "slotvisibility_Na            1793\n",
       "slotvisibility_OtherView     1793\n",
       "slotvisibility_SecondView    1793\n",
       "slotvisibility_ThirdView     1793\n",
       "slotformat_0                 1793\n",
       "slotformat_1                 1793\n",
       "slotformat_5                 1793\n",
       "slotformat_Na                1793\n",
       "advertiser_1458              1793\n",
       "advertiser_2259              1793\n",
       "advertiser_2261              1793\n",
       "advertiser_2821              1793\n",
       "advertiser_2997              1793\n",
       "advertiser_3358              1793\n",
       "advertiser_3386              1793\n",
       "advertiser_3427              1793\n",
       "advertiser_3476              1793\n",
       "payprice                     1793\n",
       "Length: 128, dtype: int64"
      ]
     },
     "execution_count": 134,
     "metadata": {},
     "output_type": "execute_result"
    }
   ],
   "source": [
    "Train_df[Train_df['click']==1].count()"
   ]
  },
  {
   "cell_type": "code",
   "execution_count": 2,
   "metadata": {},
   "outputs": [
    {
     "data": {
      "text/plain": [
       "(2430981, 127)"
      ]
     },
     "execution_count": 2,
     "metadata": {},
     "output_type": "execute_result"
    }
   ],
   "source": [
    "Train_df.shape"
   ]
  },
  {
   "cell_type": "code",
   "execution_count": 3,
   "metadata": {},
   "outputs": [
    {
     "data": {
      "text/plain": [
       "0.0007375623256619447"
      ]
     },
     "execution_count": 3,
     "metadata": {},
     "output_type": "execute_result"
    }
   ],
   "source": [
    "1793/2430981"
   ]
  },
  {
   "cell_type": "code",
   "execution_count": 136,
   "metadata": {},
   "outputs": [
    {
     "data": {
      "text/plain": [
       "0.0006646376573167722"
      ]
     },
     "execution_count": 136,
     "metadata": {},
     "output_type": "execute_result"
    }
   ],
   "source": [
    "202/303925"
   ]
  },
  {
   "cell_type": "code",
   "execution_count": 137,
   "metadata": {},
   "outputs": [],
   "source": [
    "Train_df_price = pd.read_csv('/project/Data/price.csv')"
   ]
  },
  {
   "cell_type": "code",
   "execution_count": 34,
   "metadata": {},
   "outputs": [],
   "source": [
    "Train_df['payprice']= Train_df_price['payprice']"
   ]
  },
  {
   "cell_type": "code",
   "execution_count": 35,
   "metadata": {},
   "outputs": [
    {
     "data": {
      "text/plain": [
       "(244712, 128)"
      ]
     },
     "execution_count": 35,
     "metadata": {},
     "output_type": "execute_result"
    }
   ],
   "source": [
    "df1 = Train_df[Train_df['click']==1]\n",
    "# bids which click =0\n",
    "df0 = Train_df[Train_df['click']==0]\n",
    "# get click =0 data, down sampling\n",
    "df2=df0.sample(frac=0.1)\n",
    "# combine % of click =0 data and all click=1, down sampling\n",
    "combined_df = pd.concat([df1, df2],axis=0)\n",
    "combined_df.head()\n",
    "combined_df.shape"
   ]
  },
  {
   "cell_type": "code",
   "execution_count": 117,
   "metadata": {},
   "outputs": [],
   "source": [
    "combined_df.to_csv('set.csv', encoding='utf-8', index=False)"
   ]
  },
  {
   "cell_type": "code",
   "execution_count": 36,
   "metadata": {},
   "outputs": [],
   "source": [
    "Train_df=combined_df.copy()"
   ]
  },
  {
   "cell_type": "code",
   "execution_count": 37,
   "metadata": {},
   "outputs": [],
   "source": [
    "# columns of without click\n",
    "cols=list(Train_df.columns)[1:-1]"
   ]
  },
  {
   "cell_type": "code",
   "execution_count": 38,
   "metadata": {},
   "outputs": [
    {
     "data": {
      "text/plain": [
       "array(['click', 'slotwidth', 'slotheight', 'slotprice', 'android', 'ios',\n",
       "       'linux', 'mac', 'other', 'windows', 'chrome', 'firefox', 'ie',\n",
       "       'maxthon', 'opera', 'other.1', 'safari', 'sogou', 'theworld',\n",
       "       '10006', '10024', '10031', '10048', '10052', '10057', '10059',\n",
       "       '10063', '10067', '10074', '10075', '10076', '10077', '10079',\n",
       "       '10083', '10093', '10102', '10110', '10111', '10114', '10115',\n",
       "       '10116', '10117', '10118', '10120', '10123', '10125', '10126',\n",
       "       '10127', '10129', '10130', '10131', '10133', '10138', '10140',\n",
       "       '10142', '10145', '10146', '10147', '10148', '10149', '10684',\n",
       "       '11092', '11278', '11379', '11423', '11512', '11576', '11632',\n",
       "       '11680', '11724', '11944', '13042', '13403', '13496', '13678',\n",
       "       '13776', '13800', '13866', '13874', '14273', '15398', '16593',\n",
       "       '16617', '16661', '16706', '16751', '16753', 'hour_sin',\n",
       "       'hour_cos', 'city_per', 'region_per', 'weekday_0', 'weekday_1',\n",
       "       'weekday_2', 'weekday_3', 'weekday_4', 'weekday_5', 'weekday_6',\n",
       "       'adexchange_1.0', 'adexchange_2.0', 'adexchange_3.0',\n",
       "       'adexchange_4.0', 'adexchange_nan', 'slotvisibility_0',\n",
       "       'slotvisibility_1', 'slotvisibility_2', 'slotvisibility_255',\n",
       "       'slotvisibility_FifthView', 'slotvisibility_FirstView',\n",
       "       'slotvisibility_FourthView', 'slotvisibility_Na',\n",
       "       'slotvisibility_OtherView', 'slotvisibility_SecondView',\n",
       "       'slotvisibility_ThirdView', 'slotformat_0', 'slotformat_1',\n",
       "       'slotformat_5', 'slotformat_Na', 'advertiser_1458',\n",
       "       'advertiser_2259', 'advertiser_2261', 'advertiser_2821',\n",
       "       'advertiser_2997', 'advertiser_3358', 'advertiser_3386',\n",
       "       'advertiser_3427', 'advertiser_3476', 'payprice'], dtype=object)"
      ]
     },
     "execution_count": 38,
     "metadata": {},
     "output_type": "execute_result"
    }
   ],
   "source": [
    "Train_df.columns.get_values()"
   ]
  },
  {
   "cell_type": "code",
   "execution_count": 39,
   "metadata": {},
   "outputs": [],
   "source": [
    "Train_df['slotheight']=Train_df['slotheight']/10\n",
    "Train_df['slotwidth']=Train_df['slotwidth']/100\n",
    "Train_df['slotprice']=Train_df['slotprice']/100\n",
    "\n",
    "Valid_df['slotheight']=Valid_df['slotheight']/10\n",
    "Valid_df['slotwidth']=Valid_df['slotwidth']/100\n",
    "Valid_df['slotprice']=Valid_df['slotprice']/100"
   ]
  },
  {
   "cell_type": "code",
   "execution_count": 40,
   "metadata": {},
   "outputs": [],
   "source": [
    "#train = Train_df\n",
    "y_tr = Train_df['click']\n",
    "X_tr = Train_df[cols]\n",
    "y_te = Valid_df['click']\n",
    "X_te = Valid_df[cols]"
   ]
  },
  {
   "cell_type": "code",
   "execution_count": 41,
   "metadata": {},
   "outputs": [],
   "source": [
    "y_tr_p = Train_df['payprice']\n",
    "y_te_p = df_valid['payprice']"
   ]
  },
  {
   "cell_type": "code",
   "execution_count": 42,
   "metadata": {},
   "outputs": [],
   "source": [
    "X_te=X_te.values\n",
    "X_tr=X_tr.values\n",
    "y_te=y_te.values\n",
    "y_tr=y_tr.values"
   ]
  },
  {
   "cell_type": "code",
   "execution_count": 43,
   "metadata": {},
   "outputs": [],
   "source": [
    "y_tr_p = y_tr_p.values\n",
    "y_te_p = y_te_p.values"
   ]
  },
  {
   "cell_type": "code",
   "execution_count": 44,
   "metadata": {},
   "outputs": [],
   "source": [
    "import scipy.sparse as sp\n",
    "# only CSR format supported\n",
    "X_tr_sparse = sp.csr_matrix(X_tr)\n",
    "X_te_sparse = sp.csr_matrix(X_te)"
   ]
  },
  {
   "cell_type": "code",
   "execution_count": 45,
   "metadata": {},
   "outputs": [],
   "source": [
    "#! pip install tqdm"
   ]
  },
  {
   "cell_type": "code",
   "execution_count": 46,
   "metadata": {},
   "outputs": [
    {
     "name": "stderr",
     "output_type": "stream",
     "text": [
      "100%|██████████| 30/30 [04:26<00:00,  8.89s/epoch]\n"
     ]
    }
   ],
   "source": [
    "#23:33\n",
    "#train Factorised Machine model\n",
    "from tffm import TFFMClassifier\n",
    "import tensorflow as tf\n",
    "from sklearn.metrics import accuracy_score\n",
    "from sklearn.metrics import roc_auc_score\n",
    "\n",
    "\n",
    "model = TFFMClassifier(\n",
    "    order=3, \n",
    "    rank=10, \n",
    "    optimizer=tf.train.AdamOptimizer(learning_rate=0.001), \n",
    "    n_epochs=30, \n",
    "    batch_size=1024,\n",
    "    init_std=0.001,\n",
    "    reg=0.01,\n",
    "    input_type='sparse',\n",
    "    seed=42\n",
    ")\n",
    "\n",
    "model.fit(X_tr_sparse, y_tr, show_progress=True)\n",
    "\n",
    "    \n"
   ]
  },
  {
   "cell_type": "code",
   "execution_count": 48,
   "metadata": {},
   "outputs": [
    {
     "name": "stderr",
     "output_type": "stream",
     "text": [
      "100%|██████████| 30/30 [04:23<00:00,  8.78s/epoch]\n"
     ]
    }
   ],
   "source": [
    "# regression!!!\n",
    "from tffm import TFFMRegressor\n",
    "from sklearn.metrics import mean_squared_error\n",
    "\n",
    "model2 = TFFMRegressor(\n",
    "    order=3, \n",
    "    rank=10, \n",
    "    optimizer=tf.train.AdamOptimizer(learning_rate=0.001), \n",
    "    n_epochs=30, \n",
    "    batch_size=1024,\n",
    "    init_std=0.001,\n",
    "    reg=0.01,\n",
    "    input_type='sparse'\n",
    ")\n",
    "# translate Y from {0,1} to {-10, 10}\n",
    "model2.fit(X_tr_sparse, y_tr_p, show_progress=True)\n",
    "#model.destroy()"
   ]
  },
  {
   "cell_type": "code",
   "execution_count": 50,
   "metadata": {},
   "outputs": [
    {
     "name": "stdout",
     "output_type": "stream",
     "text": [
      "model: TFFMClassifier()\n",
      "the accuracy is: 0.999154\n",
      "the AUC for FM is: 0.874338\n",
      "==================================\n",
      " accuracy: 0.0009574730607880234\n",
      "MSE: 2715.4566462513308\n"
     ]
    }
   ],
   "source": [
    "valid_predictions = model.predict_proba(X_te_sparse)\n",
    "valid_predictions_class = model.predict(X_te_sparse)\n",
    "valid_predictions_price = model2.predict(X_te_sparse)\n",
    "\n",
    "acc = accuracy_score(y_te, valid_predictions_class)\n",
    "print('model: {}'.format(model.__str__()))\n",
    "print(\"the accuracy is: {0:6f}\".format(acc))\n",
    "print (\"the AUC for FM is: {0:6f}\".format(roc_auc_score(y_te, valid_predictions[:,1])))\n",
    "print(\"==================================\")\n",
    "print(' accuracy: {}'.format( accuracy_score(y_te_p, valid_predictions_price > 0)))\n",
    "print('MSE: {}'.format(mean_squared_error(y_te_p, valid_predictions_price)))\n"
   ]
  },
  {
   "cell_type": "code",
   "execution_count": 118,
   "metadata": {},
   "outputs": [
    {
     "data": {
      "text/plain": [
       "52.11004362166022"
      ]
     },
     "execution_count": 118,
     "metadata": {},
     "output_type": "execute_result"
    }
   ],
   "source": [
    "np.sqrt(mean_squared_error(y_te_p, valid_predictions_price))"
   ]
  },
  {
   "cell_type": "code",
   "execution_count": 119,
   "metadata": {},
   "outputs": [],
   "source": [
    "import numpy as np\n",
    "\n",
    "def mean_absolute_percentage_error(y_true, y_pred): \n",
    "    y_true, y_pred = np.array(y_true), np.array(y_pred)\n",
    "    return np.mean(np.abs((y_true - y_pred) / y_true)) * 100"
   ]
  },
  {
   "cell_type": "code",
   "execution_count": 126,
   "metadata": {},
   "outputs": [
    {
     "data": {
      "text/plain": [
       "78.23400509994242"
      ]
     },
     "execution_count": 126,
     "metadata": {},
     "output_type": "execute_result"
    }
   ],
   "source": [
    "y_te_p.mean()"
   ]
  },
  {
   "cell_type": "code",
   "execution_count": 127,
   "metadata": {},
   "outputs": [
    {
     "data": {
      "text/plain": [
       "75.93086"
      ]
     },
     "execution_count": 127,
     "metadata": {},
     "output_type": "execute_result"
    }
   ],
   "source": [
    "valid_predictions_price.mean()"
   ]
  },
  {
   "cell_type": "code",
   "execution_count": 125,
   "metadata": {},
   "outputs": [
    {
     "name": "stderr",
     "output_type": "stream",
     "text": [
      "/opt/anaconda/envs/Python3/lib/python3.6/site-packages/ipykernel/__main__.py:5: RuntimeWarning: divide by zero encountered in true_divide\n"
     ]
    },
    {
     "data": {
      "text/plain": [
       "inf"
      ]
     },
     "execution_count": 125,
     "metadata": {},
     "output_type": "execute_result"
    }
   ],
   "source": [
    "mean_absolute_percentage_error(y_te_p, valid_predictions_price)"
   ]
  },
  {
   "cell_type": "code",
   "execution_count": 175,
   "metadata": {},
   "outputs": [
    {
     "data": {
      "text/plain": [
       "array([ 41.528423,  74.85316 ,  65.849266, ..., 144.20177 ,  88.90956 ,\n",
       "        45.171257], dtype=float32)"
      ]
     },
     "execution_count": 175,
     "metadata": {},
     "output_type": "execute_result"
    }
   ],
   "source": [
    "valid_predictions_price"
   ]
  },
  {
   "cell_type": "code",
   "execution_count": 52,
   "metadata": {
    "scrolled": true
   },
   "outputs": [
    {
     "data": {
      "text/plain": [
       "0          23\n",
       "1          75\n",
       "2          65\n",
       "3           6\n",
       "4           5\n",
       "5          22\n",
       "6          31\n",
       "7          20\n",
       "8          58\n",
       "9          55\n",
       "10         88\n",
       "11         55\n",
       "12         49\n",
       "13        110\n",
       "14        160\n",
       "15         16\n",
       "16         50\n",
       "17         76\n",
       "18         89\n",
       "19        136\n",
       "20         55\n",
       "21         50\n",
       "22         64\n",
       "23        129\n",
       "24         20\n",
       "25        166\n",
       "26         88\n",
       "27        221\n",
       "28         69\n",
       "29         70\n",
       "         ... \n",
       "303895    185\n",
       "303896     22\n",
       "303897     86\n",
       "303898    230\n",
       "303899     76\n",
       "303900     20\n",
       "303901     27\n",
       "303902    160\n",
       "303903     77\n",
       "303904    160\n",
       "303905     20\n",
       "303906     80\n",
       "303907    265\n",
       "303908     70\n",
       "303909     50\n",
       "303910     70\n",
       "303911     93\n",
       "303912     77\n",
       "303913    100\n",
       "303914     22\n",
       "303915      5\n",
       "303916     20\n",
       "303917     17\n",
       "303918     50\n",
       "303919     64\n",
       "303920     50\n",
       "303921     41\n",
       "303922    108\n",
       "303923     50\n",
       "303924     40\n",
       "Name: payprice, Length: 303925, dtype: int64"
      ]
     },
     "execution_count": 52,
     "metadata": {},
     "output_type": "execute_result"
    }
   ],
   "source": [
    "df_valid.payprice"
   ]
  },
  {
   "cell_type": "code",
   "execution_count": 105,
   "metadata": {},
   "outputs": [
    {
     "data": {
      "text/plain": [
       "array([ 41.528423,  74.85316 ,  65.849266, ..., 144.20177 ,  88.90956 ,\n",
       "        45.171257], dtype=float32)"
      ]
     },
     "execution_count": 105,
     "metadata": {},
     "output_type": "execute_result"
    }
   ],
   "source": [
    "valid_predictions_price"
   ]
  },
  {
   "cell_type": "code",
   "execution_count": 176,
   "metadata": {},
   "outputs": [
    {
     "data": {
      "text/html": [
       "<div>\n",
       "<style scoped>\n",
       "    .dataframe tbody tr th:only-of-type {\n",
       "        vertical-align: middle;\n",
       "    }\n",
       "\n",
       "    .dataframe tbody tr th {\n",
       "        vertical-align: top;\n",
       "    }\n",
       "\n",
       "    .dataframe thead th {\n",
       "        text-align: right;\n",
       "    }\n",
       "</style>\n",
       "<table border=\"1\" class=\"dataframe\">\n",
       "  <thead>\n",
       "    <tr style=\"text-align: right;\">\n",
       "      <th></th>\n",
       "      <th>click</th>\n",
       "      <th>click_pred_per</th>\n",
       "      <th>click_pred_class</th>\n",
       "      <th>click_pred_price</th>\n",
       "    </tr>\n",
       "  </thead>\n",
       "  <tbody>\n",
       "    <tr>\n",
       "      <th>0</th>\n",
       "      <td>0</td>\n",
       "      <td>0.000129</td>\n",
       "      <td>0</td>\n",
       "      <td>41.528423</td>\n",
       "    </tr>\n",
       "    <tr>\n",
       "      <th>1</th>\n",
       "      <td>0</td>\n",
       "      <td>0.000123</td>\n",
       "      <td>0</td>\n",
       "      <td>74.853157</td>\n",
       "    </tr>\n",
       "    <tr>\n",
       "      <th>2</th>\n",
       "      <td>0</td>\n",
       "      <td>0.000173</td>\n",
       "      <td>0</td>\n",
       "      <td>65.849266</td>\n",
       "    </tr>\n",
       "    <tr>\n",
       "      <th>3</th>\n",
       "      <td>0</td>\n",
       "      <td>0.000225</td>\n",
       "      <td>0</td>\n",
       "      <td>47.286716</td>\n",
       "    </tr>\n",
       "    <tr>\n",
       "      <th>4</th>\n",
       "      <td>0</td>\n",
       "      <td>0.002499</td>\n",
       "      <td>0</td>\n",
       "      <td>63.333000</td>\n",
       "    </tr>\n",
       "  </tbody>\n",
       "</table>\n",
       "</div>"
      ],
      "text/plain": [
       "   click  click_pred_per  click_pred_class  click_pred_price\n",
       "0      0        0.000129                 0         41.528423\n",
       "1      0        0.000123                 0         74.853157\n",
       "2      0        0.000173                 0         65.849266\n",
       "3      0        0.000225                 0         47.286716\n",
       "4      0        0.002499                 0         63.333000"
      ]
     },
     "execution_count": 176,
     "metadata": {},
     "output_type": "execute_result"
    }
   ],
   "source": [
    "valid_result = pd.DataFrame(columns=['click', 'click_pred_per', 'click_pred_class'])  \n",
    "valid_result['click']= Valid_df['click'].copy()\n",
    "valid_result['click_pred_per'] = valid_predictions[:,1]\n",
    "valid_result['click_pred_class'] = valid_predictions_class\n",
    "valid_result['click_pred_price'] = valid_predictions_price\n",
    "valid_result.head()"
   ]
  },
  {
   "cell_type": "code",
   "execution_count": 54,
   "metadata": {},
   "outputs": [],
   "source": [
    "def recalibrate(p,w):\n",
    "    q = p/(p+(1-p)/w)\n",
    "    return q"
   ]
  },
  {
   "cell_type": "code",
   "execution_count": 180,
   "metadata": {},
   "outputs": [
    {
     "data": {
      "text/html": [
       "<div>\n",
       "<style scoped>\n",
       "    .dataframe tbody tr th:only-of-type {\n",
       "        vertical-align: middle;\n",
       "    }\n",
       "\n",
       "    .dataframe tbody tr th {\n",
       "        vertical-align: top;\n",
       "    }\n",
       "\n",
       "    .dataframe thead th {\n",
       "        text-align: right;\n",
       "    }\n",
       "</style>\n",
       "<table border=\"1\" class=\"dataframe\">\n",
       "  <thead>\n",
       "    <tr style=\"text-align: right;\">\n",
       "      <th></th>\n",
       "      <th>click</th>\n",
       "      <th>click_pred_per</th>\n",
       "      <th>click_pred_class</th>\n",
       "      <th>click_pred_price</th>\n",
       "    </tr>\n",
       "  </thead>\n",
       "  <tbody>\n",
       "    <tr>\n",
       "      <th>0</th>\n",
       "      <td>0</td>\n",
       "      <td>0.000013</td>\n",
       "      <td>0</td>\n",
       "      <td>41.528423</td>\n",
       "    </tr>\n",
       "    <tr>\n",
       "      <th>1</th>\n",
       "      <td>0</td>\n",
       "      <td>0.000012</td>\n",
       "      <td>0</td>\n",
       "      <td>74.853157</td>\n",
       "    </tr>\n",
       "    <tr>\n",
       "      <th>2</th>\n",
       "      <td>0</td>\n",
       "      <td>0.000017</td>\n",
       "      <td>0</td>\n",
       "      <td>65.849266</td>\n",
       "    </tr>\n",
       "    <tr>\n",
       "      <th>3</th>\n",
       "      <td>0</td>\n",
       "      <td>0.000023</td>\n",
       "      <td>0</td>\n",
       "      <td>47.286716</td>\n",
       "    </tr>\n",
       "    <tr>\n",
       "      <th>4</th>\n",
       "      <td>0</td>\n",
       "      <td>0.000250</td>\n",
       "      <td>0</td>\n",
       "      <td>63.333000</td>\n",
       "    </tr>\n",
       "    <tr>\n",
       "      <th>5</th>\n",
       "      <td>0</td>\n",
       "      <td>0.000302</td>\n",
       "      <td>0</td>\n",
       "      <td>27.206230</td>\n",
       "    </tr>\n",
       "    <tr>\n",
       "      <th>6</th>\n",
       "      <td>0</td>\n",
       "      <td>0.000212</td>\n",
       "      <td>0</td>\n",
       "      <td>107.028847</td>\n",
       "    </tr>\n",
       "    <tr>\n",
       "      <th>7</th>\n",
       "      <td>0</td>\n",
       "      <td>0.000313</td>\n",
       "      <td>0</td>\n",
       "      <td>74.587341</td>\n",
       "    </tr>\n",
       "    <tr>\n",
       "      <th>8</th>\n",
       "      <td>0</td>\n",
       "      <td>0.000283</td>\n",
       "      <td>0</td>\n",
       "      <td>60.130764</td>\n",
       "    </tr>\n",
       "    <tr>\n",
       "      <th>9</th>\n",
       "      <td>0</td>\n",
       "      <td>0.000011</td>\n",
       "      <td>0</td>\n",
       "      <td>50.409180</td>\n",
       "    </tr>\n",
       "    <tr>\n",
       "      <th>10</th>\n",
       "      <td>0</td>\n",
       "      <td>0.000326</td>\n",
       "      <td>0</td>\n",
       "      <td>83.867355</td>\n",
       "    </tr>\n",
       "    <tr>\n",
       "      <th>11</th>\n",
       "      <td>0</td>\n",
       "      <td>0.000030</td>\n",
       "      <td>0</td>\n",
       "      <td>61.906258</td>\n",
       "    </tr>\n",
       "    <tr>\n",
       "      <th>12</th>\n",
       "      <td>0</td>\n",
       "      <td>0.000054</td>\n",
       "      <td>0</td>\n",
       "      <td>72.603172</td>\n",
       "    </tr>\n",
       "    <tr>\n",
       "      <th>13</th>\n",
       "      <td>0</td>\n",
       "      <td>0.000461</td>\n",
       "      <td>0</td>\n",
       "      <td>51.176170</td>\n",
       "    </tr>\n",
       "    <tr>\n",
       "      <th>14</th>\n",
       "      <td>0</td>\n",
       "      <td>0.000180</td>\n",
       "      <td>0</td>\n",
       "      <td>122.005959</td>\n",
       "    </tr>\n",
       "    <tr>\n",
       "      <th>15</th>\n",
       "      <td>0</td>\n",
       "      <td>0.000028</td>\n",
       "      <td>0</td>\n",
       "      <td>57.131073</td>\n",
       "    </tr>\n",
       "    <tr>\n",
       "      <th>16</th>\n",
       "      <td>0</td>\n",
       "      <td>0.000220</td>\n",
       "      <td>0</td>\n",
       "      <td>53.497307</td>\n",
       "    </tr>\n",
       "    <tr>\n",
       "      <th>17</th>\n",
       "      <td>0</td>\n",
       "      <td>0.000042</td>\n",
       "      <td>0</td>\n",
       "      <td>63.281025</td>\n",
       "    </tr>\n",
       "    <tr>\n",
       "      <th>18</th>\n",
       "      <td>0</td>\n",
       "      <td>0.000004</td>\n",
       "      <td>0</td>\n",
       "      <td>82.382370</td>\n",
       "    </tr>\n",
       "    <tr>\n",
       "      <th>19</th>\n",
       "      <td>0</td>\n",
       "      <td>0.000169</td>\n",
       "      <td>0</td>\n",
       "      <td>90.635757</td>\n",
       "    </tr>\n",
       "  </tbody>\n",
       "</table>\n",
       "</div>"
      ],
      "text/plain": [
       "    click  click_pred_per  click_pred_class  click_pred_price\n",
       "0       0        0.000013                 0         41.528423\n",
       "1       0        0.000012                 0         74.853157\n",
       "2       0        0.000017                 0         65.849266\n",
       "3       0        0.000023                 0         47.286716\n",
       "4       0        0.000250                 0         63.333000\n",
       "5       0        0.000302                 0         27.206230\n",
       "6       0        0.000212                 0        107.028847\n",
       "7       0        0.000313                 0         74.587341\n",
       "8       0        0.000283                 0         60.130764\n",
       "9       0        0.000011                 0         50.409180\n",
       "10      0        0.000326                 0         83.867355\n",
       "11      0        0.000030                 0         61.906258\n",
       "12      0        0.000054                 0         72.603172\n",
       "13      0        0.000461                 0         51.176170\n",
       "14      0        0.000180                 0        122.005959\n",
       "15      0        0.000028                 0         57.131073\n",
       "16      0        0.000220                 0         53.497307\n",
       "17      0        0.000042                 0         63.281025\n",
       "18      0        0.000004                 0         82.382370\n",
       "19      0        0.000169                 0         90.635757"
      ]
     },
     "execution_count": 180,
     "metadata": {},
     "output_type": "execute_result"
    }
   ],
   "source": [
    "valid_result['click_pred_per']=recalibrate(valid_result['click_pred_per'],0.1)\n",
    "valid_result.head(20)"
   ]
  },
  {
   "cell_type": "code",
   "execution_count": 181,
   "metadata": {},
   "outputs": [],
   "source": [
    "valid_result['P_cut']=valid_result['click_pred_per']/valid_result['click_pred_price']"
   ]
  },
  {
   "cell_type": "code",
   "execution_count": 182,
   "metadata": {},
   "outputs": [
    {
     "data": {
      "text/html": [
       "<div>\n",
       "<style scoped>\n",
       "    .dataframe tbody tr th:only-of-type {\n",
       "        vertical-align: middle;\n",
       "    }\n",
       "\n",
       "    .dataframe tbody tr th {\n",
       "        vertical-align: top;\n",
       "    }\n",
       "\n",
       "    .dataframe thead th {\n",
       "        text-align: right;\n",
       "    }\n",
       "</style>\n",
       "<table border=\"1\" class=\"dataframe\">\n",
       "  <thead>\n",
       "    <tr style=\"text-align: right;\">\n",
       "      <th></th>\n",
       "      <th>click</th>\n",
       "      <th>click_pred_per</th>\n",
       "      <th>click_pred_class</th>\n",
       "      <th>click_pred_price</th>\n",
       "      <th>P_cut</th>\n",
       "    </tr>\n",
       "  </thead>\n",
       "  <tbody>\n",
       "    <tr>\n",
       "      <th>0</th>\n",
       "      <td>0</td>\n",
       "      <td>0.000013</td>\n",
       "      <td>0</td>\n",
       "      <td>41.528423</td>\n",
       "      <td>3.105461e-07</td>\n",
       "    </tr>\n",
       "    <tr>\n",
       "      <th>1</th>\n",
       "      <td>0</td>\n",
       "      <td>0.000012</td>\n",
       "      <td>0</td>\n",
       "      <td>74.853157</td>\n",
       "      <td>1.648244e-07</td>\n",
       "    </tr>\n",
       "    <tr>\n",
       "      <th>2</th>\n",
       "      <td>0</td>\n",
       "      <td>0.000017</td>\n",
       "      <td>0</td>\n",
       "      <td>65.849266</td>\n",
       "      <td>2.627570e-07</td>\n",
       "    </tr>\n",
       "    <tr>\n",
       "      <th>3</th>\n",
       "      <td>0</td>\n",
       "      <td>0.000023</td>\n",
       "      <td>0</td>\n",
       "      <td>47.286716</td>\n",
       "      <td>4.758912e-07</td>\n",
       "    </tr>\n",
       "    <tr>\n",
       "      <th>4</th>\n",
       "      <td>0</td>\n",
       "      <td>0.000250</td>\n",
       "      <td>0</td>\n",
       "      <td>63.333000</td>\n",
       "      <td>3.954213e-06</td>\n",
       "    </tr>\n",
       "    <tr>\n",
       "      <th>5</th>\n",
       "      <td>0</td>\n",
       "      <td>0.000302</td>\n",
       "      <td>0</td>\n",
       "      <td>27.206230</td>\n",
       "      <td>1.109239e-05</td>\n",
       "    </tr>\n",
       "    <tr>\n",
       "      <th>6</th>\n",
       "      <td>0</td>\n",
       "      <td>0.000212</td>\n",
       "      <td>0</td>\n",
       "      <td>107.028847</td>\n",
       "      <td>1.980029e-06</td>\n",
       "    </tr>\n",
       "    <tr>\n",
       "      <th>7</th>\n",
       "      <td>0</td>\n",
       "      <td>0.000313</td>\n",
       "      <td>0</td>\n",
       "      <td>74.587341</td>\n",
       "      <td>4.194008e-06</td>\n",
       "    </tr>\n",
       "    <tr>\n",
       "      <th>8</th>\n",
       "      <td>0</td>\n",
       "      <td>0.000283</td>\n",
       "      <td>0</td>\n",
       "      <td>60.130764</td>\n",
       "      <td>4.700234e-06</td>\n",
       "    </tr>\n",
       "    <tr>\n",
       "      <th>9</th>\n",
       "      <td>0</td>\n",
       "      <td>0.000011</td>\n",
       "      <td>0</td>\n",
       "      <td>50.409180</td>\n",
       "      <td>2.239603e-07</td>\n",
       "    </tr>\n",
       "  </tbody>\n",
       "</table>\n",
       "</div>"
      ],
      "text/plain": [
       "   click  click_pred_per  click_pred_class  click_pred_price         P_cut\n",
       "0      0        0.000013                 0         41.528423  3.105461e-07\n",
       "1      0        0.000012                 0         74.853157  1.648244e-07\n",
       "2      0        0.000017                 0         65.849266  2.627570e-07\n",
       "3      0        0.000023                 0         47.286716  4.758912e-07\n",
       "4      0        0.000250                 0         63.333000  3.954213e-06\n",
       "5      0        0.000302                 0         27.206230  1.109239e-05\n",
       "6      0        0.000212                 0        107.028847  1.980029e-06\n",
       "7      0        0.000313                 0         74.587341  4.194008e-06\n",
       "8      0        0.000283                 0         60.130764  4.700234e-06\n",
       "9      0        0.000011                 0         50.409180  2.239603e-07"
      ]
     },
     "execution_count": 182,
     "metadata": {},
     "output_type": "execute_result"
    }
   ],
   "source": [
    "valid_result.head(10)"
   ]
  },
  {
   "cell_type": "code",
   "execution_count": 196,
   "metadata": {},
   "outputs": [],
   "source": [
    "for i in valid_result.index:\n",
    "    if valid_result.at[i,'click_pred_price']<0:\n",
    "        valid_result.at[i,'click_pred_price']=1\n"
   ]
  },
  {
   "cell_type": "code",
   "execution_count": 197,
   "metadata": {},
   "outputs": [
    {
     "data": {
      "text/html": [
       "<div>\n",
       "<style scoped>\n",
       "    .dataframe tbody tr th:only-of-type {\n",
       "        vertical-align: middle;\n",
       "    }\n",
       "\n",
       "    .dataframe tbody tr th {\n",
       "        vertical-align: top;\n",
       "    }\n",
       "\n",
       "    .dataframe thead th {\n",
       "        text-align: right;\n",
       "    }\n",
       "</style>\n",
       "<table border=\"1\" class=\"dataframe\">\n",
       "  <thead>\n",
       "    <tr style=\"text-align: right;\">\n",
       "      <th></th>\n",
       "      <th>click</th>\n",
       "      <th>click_pred_per</th>\n",
       "      <th>click_pred_class</th>\n",
       "      <th>click_pred_price</th>\n",
       "      <th>P_cut</th>\n",
       "    </tr>\n",
       "  </thead>\n",
       "  <tbody>\n",
       "  </tbody>\n",
       "</table>\n",
       "</div>"
      ],
      "text/plain": [
       "Empty DataFrame\n",
       "Columns: [click, click_pred_per, click_pred_class, click_pred_price, P_cut]\n",
       "Index: []"
      ]
     },
     "execution_count": 197,
     "metadata": {},
     "output_type": "execute_result"
    }
   ],
   "source": [
    "valid_result[valid_result['click_pred_price']<0]"
   ]
  },
  {
   "cell_type": "code",
   "execution_count": 199,
   "metadata": {},
   "outputs": [],
   "source": [
    "import math\n",
    "def clicksum1(pc,test):\n",
    "    final_price=[]\n",
    "    total_budget=6500000\n",
    "    current_budget=total_budget\n",
    "    \n",
    "    \n",
    "    TR = test.copy()\n",
    "    TR['final_price']=0\n",
    "    for i in TR.index:\n",
    "        if TR.at[i,'P_cut'] >= pc:\n",
    "            tmp = math.ceil(TR.at[i,'click_pred_price'])\n",
    "            if tmp <= current_budget:\n",
    "                current_budget = current_budget - tmp\n",
    "                TR.at[i,'final_price']=tmp\n",
    "            else:\n",
    "                #TR.at[i,'final_price']=current_budget\n",
    "                #current_budget=0\n",
    "                ##print(\"tmp is \", tmp)\n",
    "                break\n",
    "    #print(\"hahha\",TR['final_price'].sum())            \n",
    "    click = TR[TR['final_price']!=0]['click'].sum()\n",
    "    return click #, current_budget\n",
    "                \n",
    "                "
   ]
  },
  {
   "cell_type": "code",
   "execution_count": 201,
   "metadata": {},
   "outputs": [
    {
     "data": {
      "text/plain": [
       "count    3.039250e+05\n",
       "mean     8.985618e-06\n",
       "std      1.365999e-04\n",
       "min     -3.750611e-04\n",
       "25%      5.501112e-07\n",
       "50%      2.098257e-06\n",
       "75%      6.342664e-06\n",
       "max      2.487838e-02\n",
       "Name: P_cut, dtype: float64"
      ]
     },
     "execution_count": 201,
     "metadata": {},
     "output_type": "execute_result"
    }
   ],
   "source": [
    "valid_result['P_cut'].describe()"
   ]
  },
  {
   "cell_type": "code",
   "execution_count": null,
   "metadata": {},
   "outputs": [],
   "source": []
  },
  {
   "cell_type": "code",
   "execution_count": 200,
   "metadata": {},
   "outputs": [
    {
     "name": "stdout",
     "output_type": "stream",
     "text": [
      "110\n",
      "149\n",
      "169\n",
      "169\n"
     ]
    }
   ],
   "source": [
    "for pc in [2.1072625776133453e-06,4.125536024047084e-06,495e-8,4975e-9,5000e-9]:\n",
    "    a=clicksum1(pc,valid_result)\n",
    "    print(a)"
   ]
  },
  {
   "cell_type": "code",
   "execution_count": 202,
   "metadata": {},
   "outputs": [
    {
     "name": "stdout",
     "output_type": "stream",
     "text": [
      "169\n",
      "167\n"
     ]
    }
   ],
   "source": [
    "for pc in [4975e-9]:\n",
    "    a=clicksum1(pc,valid_result)\n",
    "    print(a)"
   ]
  },
  {
   "cell_type": "code",
   "execution_count": null,
   "metadata": {},
   "outputs": [],
   "source": [
    "valid_result['new_price']"
   ]
  },
  {
   "cell_type": "code",
   "execution_count": 150,
   "metadata": {},
   "outputs": [
    {
     "data": {
      "text/plain": [
       "4.9771294593743254e-06"
      ]
     },
     "execution_count": 150,
     "metadata": {},
     "output_type": "execute_result"
    }
   ],
   "source": [
    "valid_result['P_cut'].quantile(0.6945)"
   ]
  },
  {
   "cell_type": "code",
   "execution_count": null,
   "metadata": {},
   "outputs": [],
   "source": [
    "Test_df = pd.read_csv('/Users/weisihan/Downloads/we_data/mytestset.csv')"
   ]
  },
  {
   "cell_type": "code",
   "execution_count": 162,
   "metadata": {},
   "outputs": [
    {
     "data": {
      "text/plain": [
       "2.1072625776133453e-06"
      ]
     },
     "execution_count": 162,
     "metadata": {},
     "output_type": "execute_result"
    }
   ],
   "source": [
    "test_result['P_cut'].quantile(0.5)"
   ]
  },
  {
   "cell_type": "code",
   "execution_count": null,
   "metadata": {},
   "outputs": [],
   "source": []
  },
  {
   "cell_type": "code",
   "execution_count": null,
   "metadata": {},
   "outputs": [],
   "source": []
  },
  {
   "cell_type": "code",
   "execution_count": null,
   "metadata": {},
   "outputs": [],
   "source": []
  },
  {
   "cell_type": "code",
   "execution_count": null,
   "metadata": {},
   "outputs": [],
   "source": []
  },
  {
   "cell_type": "code",
   "execution_count": 56,
   "metadata": {},
   "outputs": [
    {
     "name": "stdout",
     "output_type": "stream",
     "text": [
      "[[303612    111]\n",
      " [   146     56]]\n",
      "TP: 56\n",
      "TN: 303612\n",
      "FP: 111\n",
      "FN: 146\n",
      "Accuracy: 99.915440%\n",
      "Recall: 27.722772%\n",
      "Specificity: 99.963454%\n",
      "False Positive Rate: 0.036546%\n",
      "Precision: 33.532934%\n",
      "F1 score: 30.352304%\n"
     ]
    }
   ],
   "source": [
    "from sklearn.metrics import accuracy_score\n",
    "from sklearn.metrics import precision_score\n",
    "from sklearn.metrics import recall_score\n",
    "from sklearn.metrics import f1_score\n",
    "from sklearn.metrics import confusion_matrix\n",
    "\n",
    "\n",
    "y_test = valid_result['click']\n",
    "y_pred_class = valid_result['click_pred_class']\n",
    "\n",
    "print(confusion_matrix(y_test, y_pred_class))\n",
    "\n",
    "confusion = confusion_matrix(y_test, y_pred_class)\n",
    "TP = confusion[1, 1]\n",
    "TN = confusion[0, 0]\n",
    "FP = confusion[0, 1]\n",
    "FN = confusion[1, 0]\n",
    "print (\"TP:\", TP)\n",
    "print (\"TN:\", TN)\n",
    "print (\"FP:\", FP)\n",
    "print (\"FN:\", FN)\n",
    "\n",
    "#准确率、识别率（Classification Accuracy）：分类器正确分类的比例\n",
    "#print ((TP+TN) / float(TP+TN+FN+FP))\n",
    "print (\"Accuracy: %.6f%%\" % (accuracy_score(y_test, y_pred_class)* 100.0) )\n",
    "\n",
    "#灵敏性（Sensitivity），也称为真正例识别率、召回率（Recall）：正确识别的正例数据在实际正例数据中的百分比\n",
    "#print (TP / float(TP+FN))\n",
    "#recall = metrics.recall_score(y_test, y_pred_class)\n",
    "print (\"Recall: %.6f%%\" % (recall_score(y_test, y_pred_class)* 100.0))\n",
    "\n",
    "#特效性（Specificity），也称为真负例率：正确识别的负例数据在实际负例数据中的百分比\n",
    "print (\"Specificity: %.6f%%\" % (TN / float(TN+FP)* 100.0))\n",
    "\n",
    "#假阳率（False Positive Rate）：实际值是负例数据，预测错误的百分比\n",
    "#print (FP / float(TN+FP))\n",
    "specificity = TN / float(TN+FP)\n",
    "print (\"False Positive Rate: %.6f%%\" %((1 - specificity)*100.0))\n",
    "\n",
    "#精度（Precision）：看做精确性的度量，即标记为正类的数据实际为正例的百分比\n",
    "#print (TP / float(TP+FP))\n",
    "precision = precision_score(y_test, y_pred_class)\n",
    "print (\"Precision: %.6f%%\" %(precision*100.0))\n",
    "\n",
    "#F1（平衡F分数）：精确率和召回率的调和平均数\n",
    "#print (TP / float(TP+FP))\n",
    "f1 = f1_score(y_test, y_pred_class)\n",
    "print (\"F1 score: %.6f%%\" %(f1*100.0))"
   ]
  },
  {
   "cell_type": "code",
   "execution_count": 204,
   "metadata": {},
   "outputs": [],
   "source": [
    "\n",
    "\n",
    "# allow plots to appear in the notebook\n",
    "%matplotlib inline\n",
    "import matplotlib.pyplot as plt\n",
    "\n",
    "\n",
    "# IMPORTANT: first argument is true values, second argument is predicted probabilities\n",
    "from sklearn.metrics import roc_auc_score\n",
    "from sklearn.metrics import roc_curve\n",
    "def plot_ROC_curve(data, prediction):\n",
    "    \"\"\"\n",
    "    Function to plot the ROC curve with AUC.\n",
    "    \"\"\"\n",
    "\n",
    "    # Compute fpr, tpr, thresholds and roc auc\n",
    "    fpr, tpr, thresholds = roc_curve(data, prediction)\n",
    "    roc_auc = roc_auc_score(data, prediction)\n",
    "\n",
    "    # Plot ROC curve\n",
    "    plt.plot(fpr, tpr, label='ROC curve (area = %0.3f)' % roc_auc)\n",
    "    #plt.plot(fpr, tpr, label='Logistic Regression (area = %0.3f)' % logit_roc_auc)\n",
    "    plt.plot([0, 1], [0, 1], 'r--')  # random predictions curve\n",
    "    plt.xlim([0.0, 1.0])\n",
    "    plt.ylim([0.0, 1.0])\n",
    "    plt.xlabel('False Positive Rate or (1 - Specifity)')\n",
    "    plt.ylabel('True Positive Rate or (Sensitivity)')\n",
    "    plt.title('ROC curve for CTR')\n",
    "    plt.grid(True)\n",
    "    plt.legend(loc=\"lower right\")\n",
    "    \n",
    "    return\n",
    "\n",
    "\n",
    "\n"
   ]
  },
  {
   "cell_type": "code",
   "execution_count": 205,
   "metadata": {},
   "outputs": [
    {
     "name": "stdout",
     "output_type": "stream",
     "text": [
      "the AUC for FM is: 0.874338\n"
     ]
    },
    {
     "data": {
      "image/png": "[encoded data removed]",
      "text/plain": [
       "<matplotlib.figure.Figure at 0x7f0582eb2470>"
      ]
     },
     "metadata": {},
     "output_type": "display_data"
    }
   ],
   "source": [
    "plot_ROC_curve(valid_result['click'], valid_result['click_pred_per'])\n",
    "#xgboost的auc\n",
    "print (\"the AUC for FM is: {0:6f}\".format(roc_auc_score(valid_result['click'], valid_result['click_pred_per'])))"
   ]
  },
  {
   "cell_type": "code",
   "execution_count": 29,
   "metadata": {},
   "outputs": [
    {
     "name": "stdout",
     "output_type": "stream",
     "text": [
      "Collecting mpld3\n",
      "Installing collected packages: mpld3\n",
      "Successfully installed mpld3-0.3\n"
     ]
    }
   ],
   "source": [
    "#Find Base Bid\n",
    "#! pip install mpld3"
   ]
  },
  {
   "cell_type": "code",
   "execution_count": 30,
   "metadata": {},
   "outputs": [],
   "source": [
    "%matplotlib inline\n",
    "import matplotlib\n",
    "import matplotlib.pyplot as plt\n",
    "import mpld3\n",
    "import numpy as np"
   ]
  },
  {
   "cell_type": "code",
   "execution_count": 11,
   "metadata": {},
   "outputs": [],
   "source": [
    "df_valid = pd.read_csv(\"/project/Data/validation.csv\")"
   ]
  },
  {
   "cell_type": "code",
   "execution_count": 32,
   "metadata": {},
   "outputs": [],
   "source": [
    "# parameters\n",
    "total_budget = 6250000\n",
    "payprice = df_valid['payprice'].as_matrix()\n",
    "Train_df_qr = df_valid.copy()\n",
    "avgCTR = 1793/2430981 #train set\n",
    "#tuning..."
   ]
  },
  {
   "cell_type": "code",
   "execution_count": 33,
   "metadata": {},
   "outputs": [],
   "source": [
    "def generate_bidprice(base_bid, test_predictions):\n",
    "    avgCTR = 1793/2430981#train set\n",
    "    bidprices = base_bid*test_predictions/avgCTR\n",
    "    return bidprices"
   ]
  },
  {
   "cell_type": "code",
   "execution_count": 34,
   "metadata": {},
   "outputs": [],
   "source": [
    "def Prob3(Train_df,payprice,base_bid,test_predictions):\n",
    "    Train_Const_summ = pd.DataFrame({'Clicks':'', 'Spend':'', 'CTR':'', 'CPM':'', 'eCPC':''}, index=[0])\n",
    "    \n",
    "    #if count_break = 5 break\n",
    "    count_break = 0\n",
    "    \n",
    "    current_budget = total_budget\n",
    "    Train_df['win'] = 0 #initialize win label\n",
    "    bidprices = generate_bidprice(base_bid, test_predictions)\n",
    "    #start biding...\n",
    "    for i in Train_df.index:\n",
    "        current_bidprice = bidprices[i]\n",
    "        #consider budget\n",
    "        if current_budget <= current_bidprice:              \n",
    "            #count lack budget times\n",
    "            count_break = count_break + 1\n",
    "#             print('lack of budget!',\"current_budget:\",current_budget,\";current_bidprice:\",current_bidprice,';count_break:',count_break)\n",
    "            if count_break > 5:\n",
    "                break  \n",
    "            #reset bidprice\n",
    "            current_bidprice = current_budget\n",
    "        else:\n",
    "            count_break = 0\n",
    "            \n",
    "\n",
    "        #Winning criterion:\n",
    "        current_payprice = payprice[i]\n",
    "        if current_bidprice > current_payprice:\n",
    "            Train_df.at[i, 'win'] = int(1)\n",
    "            current_budget = current_budget - current_payprice\n",
    "        else:\n",
    "            Train_df.at[i, 'win'] = int(0)\n",
    "\n",
    "    #biding end        \n",
    "    \n",
    "    Train_df_new = Train_df[Train_df['win']!=0]\n",
    "    #wintimes,_ = Train_df_new.shape\n",
    "    #print('wintimes:',wintimes)\n",
    "    #print('current_budget',current_budget)\n",
    "\n",
    "    \n",
    "#     #commented in for\n",
    "#     Clk = Train_df_new['click'].sum()\n",
    "#     Imp = Train_df_new['click'].count()\n",
    "#     CTR = Clk/Imp\n",
    "#     Spd = total_budget - current_budget\n",
    "#     CPM = 1000*Spd/Imp\n",
    "#     eCPC = Spd/Clk\n",
    "    \n",
    "#     Train_Const_summ.loc[0,'Clicks']=Clk\n",
    "#     Train_Const_summ.loc[0,'Spend']=Spd\n",
    "#     Train_Const_summ.loc[0,'CTR']=CTR\n",
    "#     Train_Const_summ.loc[0,'CPM']=CPM\n",
    "#     Train_Const_summ.loc[0,'eCPC']=eCPC\n",
    "\n",
    "#     print(Train_Const_summ)\n",
    "    \n",
    "        \n",
    "    return Train_df,current_budget"
   ]
  },
  {
   "cell_type": "code",
   "execution_count": 35,
   "metadata": {},
   "outputs": [],
   "source": [
    "def calculate_click(base_bid,Train_df,payprice,test_predictions):\n",
    "#     print('base_bid:',base_bid)\n",
    "    result_df,current_budget = Prob3(Train_df,payprice,base_bid,test_predictions)\n",
    "#     print('current_budget:',current_budget)\n",
    "    Train_df_new = result_df[result_df['win']!=0]\n",
    "    wintimes,_ = Train_df_new.shape\n",
    "#     print('wintimes:',wintimes)\n",
    "#     print('----------------')\n",
    "    Clk = Train_df_new['click'].sum()    \n",
    "    return Clk"
   ]
  },
  {
   "cell_type": "code",
   "execution_count": 36,
   "metadata": {},
   "outputs": [],
   "source": [
    "#test range\n",
    "base_bids = np.arange(160,180,1)#区间可以适当左右调整一下，但大概就是这个范围\n",
    "count = 0\n",
    "maxClks = []"
   ]
  },
  {
   "cell_type": "code",
   "execution_count": 37,
   "metadata": {},
   "outputs": [
    {
     "name": "stdout",
     "output_type": "stream",
     "text": [
      "1 valid result is being test...\n",
      "max click@ 12 base_bid= 172 click = 169\n"
     ]
    }
   ],
   "source": [
    "count = count + 1\n",
    "print(str(count)+\" valid result is being test...\")\n",
    "test_predictions=valid_result['click_pred_per']\n",
    "Clks = [calculate_click(base_bid,Train_df_qr,payprice,test_predictions) for base_bid in base_bids]\n",
    "print(\"max click@\",Clks.index(max(Clks)),\"base_bid=\",base_bids[Clks.index(max(Clks))],\"click =\",max(Clks))\n",
    "maxClks.append(max(Clks))\n",
    "#     fig = plt.figure()\n",
    "#     plt.plot(base_bids,Clks)\n",
    "#     mpld3.display(fig)"
   ]
  },
  {
   "cell_type": "code",
   "execution_count": 38,
   "metadata": {},
   "outputs": [
    {
     "data": {
      "text/plain": [
       "[166,\n",
       " 166,\n",
       " 166,\n",
       " 166,\n",
       " 166,\n",
       " 167,\n",
       " 168,\n",
       " 168,\n",
       " 168,\n",
       " 168,\n",
       " 168,\n",
       " 168,\n",
       " 169,\n",
       " 169,\n",
       " 169,\n",
       " 169,\n",
       " 168,\n",
       " 167,\n",
       " 166,\n",
       " 164]"
      ]
     },
     "execution_count": 38,
     "metadata": {},
     "output_type": "execute_result"
    }
   ],
   "source": [
    "Clks\n"
   ]
  },
  {
   "cell_type": "markdown",
   "metadata": {},
   "source": [
    "##### "
   ]
  },
  {
   "cell_type": "markdown",
   "metadata": {},
   "source": [
    "## TEST"
   ]
  },
  {
   "cell_type": "code",
   "execution_count": 92,
   "metadata": {},
   "outputs": [],
   "source": [
    "Test_df = pd.read_csv(\"/project/Data/mytestset.csv\")\n",
    "Group=  pd.read_csv('/project/Data/Group_xx.csv')"
   ]
  },
  {
   "cell_type": "code",
   "execution_count": 93,
   "metadata": {},
   "outputs": [],
   "source": [
    "Test_df = Test_df[['slotwidth', 'slotheight', 'slotprice', 'android', 'ios',\n",
    "       'linux', 'mac', 'other', 'windows', 'chrome', 'firefox', 'ie',\n",
    "       'maxthon', 'opera', 'other.1', 'safari', 'sogou', 'theworld',\n",
    "       '10006', '10024', '10031', '10048', '10052', '10057', '10059',\n",
    "       '10063', '10067', '10074', '10075', '10076', '10077', '10079',\n",
    "       '10083', '10093', '10102', '10110', '10111', '10114', '10115',\n",
    "       '10116', '10117', '10118', '10120', '10123', '10125', '10126',\n",
    "       '10127', '10129', '10130', '10131', '10133', '10138', '10140',\n",
    "       '10142', '10145', '10146', '10147', '10148', '10149', '10684',\n",
    "       '11092', '11278', '11379', '11423', '11512', '11576', '11632',\n",
    "       '11680', '11724', '11944', '13042', '13403', '13496', '13678',\n",
    "       '13776', '13800', '13866', '13874', '14273', '15398', '16593',\n",
    "       '16617', '16661', '16706', '16751', '16753', 'hour_sin', 'hour_cos',\n",
    "       'city_per', 'region_per', 'weekday_0', 'weekday_1', 'weekday_2',\n",
    "       'weekday_3', 'weekday_4', 'weekday_5', 'weekday_6',\n",
    "       'adexchange_1.0', 'adexchange_2.0', 'adexchange_3.0',\n",
    "       'adexchange_4.0', 'adexchange_nan', 'slotvisibility_0',\n",
    "       'slotvisibility_1', 'slotvisibility_2', 'slotvisibility_255',\n",
    "       'slotvisibility_FifthView', 'slotvisibility_FirstView',\n",
    "       'slotvisibility_FourthView', 'slotvisibility_Na',\n",
    "       'slotvisibility_OtherView', 'slotvisibility_SecondView',\n",
    "       'slotvisibility_ThirdView', 'slotformat_0', 'slotformat_1',\n",
    "       'slotformat_5', 'slotformat_Na', 'advertiser_1458',\n",
    "       'advertiser_2259', 'advertiser_2261', 'advertiser_2821',\n",
    "       'advertiser_2997', 'advertiser_3358', 'advertiser_3386',\n",
    "       'advertiser_3427', 'advertiser_3476']]"
   ]
  },
  {
   "cell_type": "code",
   "execution_count": 94,
   "metadata": {},
   "outputs": [],
   "source": [
    "Test_df['slotheight']=Test_df['slotheight']/10\n",
    "Test_df['slotwidth']=Test_df['slotwidth']/100\n",
    "Test_df['slotprice']=Test_df['slotprice']/100"
   ]
  },
  {
   "cell_type": "code",
   "execution_count": 95,
   "metadata": {},
   "outputs": [],
   "source": [
    "test_x = Test_df\n",
    "test_x=test_x.values\n",
    "X_tr_sparse = sp.csr_matrix(test_x)\n",
    "\n",
    "test_predictions = model.predict_proba(X_tr_sparse)\n",
    "test_predictions_class = model.predict(X_tr_sparse)\n",
    "test_predictions_price = model2.predict(X_tr_sparse)\n"
   ]
  },
  {
   "cell_type": "code",
   "execution_count": 96,
   "metadata": {},
   "outputs": [
    {
     "data": {
      "text/plain": [
       "array([[9.9437988e-01, 5.6201001e-03],\n",
       "       [9.7937912e-01, 2.0620858e-02],\n",
       "       [9.9667621e-01, 3.3237829e-03],\n",
       "       ...,\n",
       "       [9.9983567e-01, 1.6432360e-04],\n",
       "       [9.9616963e-01, 3.8303486e-03],\n",
       "       [9.9945760e-01, 5.4239249e-04]], dtype=float32)"
      ]
     },
     "execution_count": 96,
     "metadata": {},
     "output_type": "execute_result"
    }
   ],
   "source": [
    "test_predictions"
   ]
  },
  {
   "cell_type": "code",
   "execution_count": 97,
   "metadata": {},
   "outputs": [
    {
     "data": {
      "text/html": [
       "<div>\n",
       "<style scoped>\n",
       "    .dataframe tbody tr th:only-of-type {\n",
       "        vertical-align: middle;\n",
       "    }\n",
       "\n",
       "    .dataframe tbody tr th {\n",
       "        vertical-align: top;\n",
       "    }\n",
       "\n",
       "    .dataframe thead th {\n",
       "        text-align: right;\n",
       "    }\n",
       "</style>\n",
       "<table border=\"1\" class=\"dataframe\">\n",
       "  <thead>\n",
       "    <tr style=\"text-align: right;\">\n",
       "      <th></th>\n",
       "      <th>click</th>\n",
       "      <th>click_pred_per</th>\n",
       "      <th>click_pred_class</th>\n",
       "      <th>click_pred_price</th>\n",
       "    </tr>\n",
       "  </thead>\n",
       "  <tbody>\n",
       "    <tr>\n",
       "      <th>0</th>\n",
       "      <td>NaN</td>\n",
       "      <td>0.005620</td>\n",
       "      <td>0</td>\n",
       "      <td>42.773262</td>\n",
       "    </tr>\n",
       "    <tr>\n",
       "      <th>1</th>\n",
       "      <td>NaN</td>\n",
       "      <td>0.020621</td>\n",
       "      <td>0</td>\n",
       "      <td>38.205078</td>\n",
       "    </tr>\n",
       "    <tr>\n",
       "      <th>2</th>\n",
       "      <td>NaN</td>\n",
       "      <td>0.003324</td>\n",
       "      <td>0</td>\n",
       "      <td>74.266556</td>\n",
       "    </tr>\n",
       "    <tr>\n",
       "      <th>3</th>\n",
       "      <td>NaN</td>\n",
       "      <td>0.000658</td>\n",
       "      <td>0</td>\n",
       "      <td>52.663895</td>\n",
       "    </tr>\n",
       "    <tr>\n",
       "      <th>4</th>\n",
       "      <td>NaN</td>\n",
       "      <td>0.010806</td>\n",
       "      <td>0</td>\n",
       "      <td>69.880096</td>\n",
       "    </tr>\n",
       "  </tbody>\n",
       "</table>\n",
       "</div>"
      ],
      "text/plain": [
       "  click  click_pred_per  click_pred_class  click_pred_price\n",
       "0   NaN        0.005620                 0         42.773262\n",
       "1   NaN        0.020621                 0         38.205078\n",
       "2   NaN        0.003324                 0         74.266556\n",
       "3   NaN        0.000658                 0         52.663895\n",
       "4   NaN        0.010806                 0         69.880096"
      ]
     },
     "execution_count": 97,
     "metadata": {},
     "output_type": "execute_result"
    }
   ],
   "source": [
    "test_result = pd.DataFrame(columns=['click', 'click_pred_per', 'click_pred_class'])  \n",
    "#test_result['click']= Valid_df['click'].copy()\n",
    "test_result['click_pred_per'] = test_predictions[:,1]\n",
    "test_result['click_pred_class'] = test_predictions_class\n",
    "test_result['click_pred_price'] = test_predictions_price\n",
    "test_result.head()"
   ]
  },
  {
   "cell_type": "code",
   "execution_count": 98,
   "metadata": {},
   "outputs": [],
   "source": [
    "test_result['click_pred_per']=recalibrate(test_result['click_pred_per'],0.1)\n"
   ]
  },
  {
   "cell_type": "code",
   "execution_count": 108,
   "metadata": {},
   "outputs": [
    {
     "data": {
      "text/html": [
       "<div>\n",
       "<style scoped>\n",
       "    .dataframe tbody tr th:only-of-type {\n",
       "        vertical-align: middle;\n",
       "    }\n",
       "\n",
       "    .dataframe tbody tr th {\n",
       "        vertical-align: top;\n",
       "    }\n",
       "\n",
       "    .dataframe thead th {\n",
       "        text-align: right;\n",
       "    }\n",
       "</style>\n",
       "<table border=\"1\" class=\"dataframe\">\n",
       "  <thead>\n",
       "    <tr style=\"text-align: right;\">\n",
       "      <th></th>\n",
       "      <th>click</th>\n",
       "      <th>click_pred_per</th>\n",
       "      <th>click_pred_class</th>\n",
       "      <th>click_pred_price</th>\n",
       "      <th>P_cut</th>\n",
       "    </tr>\n",
       "  </thead>\n",
       "  <tbody>\n",
       "    <tr>\n",
       "      <th>0</th>\n",
       "      <td>NaN</td>\n",
       "      <td>0.000565</td>\n",
       "      <td>0</td>\n",
       "      <td>42.773262</td>\n",
       "      <td>1.320608e-05</td>\n",
       "    </tr>\n",
       "    <tr>\n",
       "      <th>1</th>\n",
       "      <td>NaN</td>\n",
       "      <td>0.002101</td>\n",
       "      <td>0</td>\n",
       "      <td>38.205078</td>\n",
       "      <td>5.499477e-05</td>\n",
       "    </tr>\n",
       "    <tr>\n",
       "      <th>2</th>\n",
       "      <td>NaN</td>\n",
       "      <td>0.000333</td>\n",
       "      <td>0</td>\n",
       "      <td>74.266556</td>\n",
       "      <td>4.488906e-06</td>\n",
       "    </tr>\n",
       "    <tr>\n",
       "      <th>3</th>\n",
       "      <td>NaN</td>\n",
       "      <td>0.000066</td>\n",
       "      <td>0</td>\n",
       "      <td>52.663895</td>\n",
       "      <td>1.249352e-06</td>\n",
       "    </tr>\n",
       "    <tr>\n",
       "      <th>4</th>\n",
       "      <td>NaN</td>\n",
       "      <td>0.001091</td>\n",
       "      <td>0</td>\n",
       "      <td>69.880096</td>\n",
       "      <td>1.561487e-05</td>\n",
       "    </tr>\n",
       "    <tr>\n",
       "      <th>5</th>\n",
       "      <td>NaN</td>\n",
       "      <td>0.000100</td>\n",
       "      <td>0</td>\n",
       "      <td>39.797516</td>\n",
       "      <td>2.514176e-06</td>\n",
       "    </tr>\n",
       "    <tr>\n",
       "      <th>6</th>\n",
       "      <td>NaN</td>\n",
       "      <td>0.000085</td>\n",
       "      <td>0</td>\n",
       "      <td>79.293167</td>\n",
       "      <td>1.076752e-06</td>\n",
       "    </tr>\n",
       "    <tr>\n",
       "      <th>7</th>\n",
       "      <td>NaN</td>\n",
       "      <td>0.001126</td>\n",
       "      <td>0</td>\n",
       "      <td>76.705406</td>\n",
       "      <td>1.468187e-05</td>\n",
       "    </tr>\n",
       "    <tr>\n",
       "      <th>8</th>\n",
       "      <td>NaN</td>\n",
       "      <td>0.000043</td>\n",
       "      <td>0</td>\n",
       "      <td>70.768509</td>\n",
       "      <td>6.075588e-07</td>\n",
       "    </tr>\n",
       "    <tr>\n",
       "      <th>9</th>\n",
       "      <td>NaN</td>\n",
       "      <td>0.000684</td>\n",
       "      <td>0</td>\n",
       "      <td>84.387718</td>\n",
       "      <td>8.110711e-06</td>\n",
       "    </tr>\n",
       "    <tr>\n",
       "      <th>10</th>\n",
       "      <td>NaN</td>\n",
       "      <td>0.000436</td>\n",
       "      <td>0</td>\n",
       "      <td>53.765789</td>\n",
       "      <td>8.110072e-06</td>\n",
       "    </tr>\n",
       "    <tr>\n",
       "      <th>11</th>\n",
       "      <td>NaN</td>\n",
       "      <td>0.003793</td>\n",
       "      <td>0</td>\n",
       "      <td>71.000427</td>\n",
       "      <td>5.342578e-05</td>\n",
       "    </tr>\n",
       "    <tr>\n",
       "      <th>12</th>\n",
       "      <td>NaN</td>\n",
       "      <td>0.000820</td>\n",
       "      <td>0</td>\n",
       "      <td>67.394295</td>\n",
       "      <td>1.217115e-05</td>\n",
       "    </tr>\n",
       "    <tr>\n",
       "      <th>13</th>\n",
       "      <td>NaN</td>\n",
       "      <td>0.000206</td>\n",
       "      <td>0</td>\n",
       "      <td>71.939384</td>\n",
       "      <td>2.865366e-06</td>\n",
       "    </tr>\n",
       "    <tr>\n",
       "      <th>14</th>\n",
       "      <td>NaN</td>\n",
       "      <td>0.000433</td>\n",
       "      <td>0</td>\n",
       "      <td>57.028587</td>\n",
       "      <td>7.587527e-06</td>\n",
       "    </tr>\n",
       "    <tr>\n",
       "      <th>15</th>\n",
       "      <td>NaN</td>\n",
       "      <td>0.000095</td>\n",
       "      <td>0</td>\n",
       "      <td>19.414358</td>\n",
       "      <td>4.883770e-06</td>\n",
       "    </tr>\n",
       "    <tr>\n",
       "      <th>16</th>\n",
       "      <td>NaN</td>\n",
       "      <td>0.000068</td>\n",
       "      <td>0</td>\n",
       "      <td>81.807335</td>\n",
       "      <td>8.325442e-07</td>\n",
       "    </tr>\n",
       "    <tr>\n",
       "      <th>17</th>\n",
       "      <td>NaN</td>\n",
       "      <td>0.000138</td>\n",
       "      <td>0</td>\n",
       "      <td>80.892746</td>\n",
       "      <td>1.709887e-06</td>\n",
       "    </tr>\n",
       "    <tr>\n",
       "      <th>18</th>\n",
       "      <td>NaN</td>\n",
       "      <td>0.000318</td>\n",
       "      <td>0</td>\n",
       "      <td>60.926342</td>\n",
       "      <td>5.217390e-06</td>\n",
       "    </tr>\n",
       "    <tr>\n",
       "      <th>19</th>\n",
       "      <td>NaN</td>\n",
       "      <td>0.000429</td>\n",
       "      <td>0</td>\n",
       "      <td>78.171021</td>\n",
       "      <td>5.485703e-06</td>\n",
       "    </tr>\n",
       "  </tbody>\n",
       "</table>\n",
       "</div>"
      ],
      "text/plain": [
       "   click  click_pred_per  click_pred_class  click_pred_price         P_cut\n",
       "0    NaN        0.000565                 0         42.773262  1.320608e-05\n",
       "1    NaN        0.002101                 0         38.205078  5.499477e-05\n",
       "2    NaN        0.000333                 0         74.266556  4.488906e-06\n",
       "3    NaN        0.000066                 0         52.663895  1.249352e-06\n",
       "4    NaN        0.001091                 0         69.880096  1.561487e-05\n",
       "5    NaN        0.000100                 0         39.797516  2.514176e-06\n",
       "6    NaN        0.000085                 0         79.293167  1.076752e-06\n",
       "7    NaN        0.001126                 0         76.705406  1.468187e-05\n",
       "8    NaN        0.000043                 0         70.768509  6.075588e-07\n",
       "9    NaN        0.000684                 0         84.387718  8.110711e-06\n",
       "10   NaN        0.000436                 0         53.765789  8.110072e-06\n",
       "11   NaN        0.003793                 0         71.000427  5.342578e-05\n",
       "12   NaN        0.000820                 0         67.394295  1.217115e-05\n",
       "13   NaN        0.000206                 0         71.939384  2.865366e-06\n",
       "14   NaN        0.000433                 0         57.028587  7.587527e-06\n",
       "15   NaN        0.000095                 0         19.414358  4.883770e-06\n",
       "16   NaN        0.000068                 0         81.807335  8.325442e-07\n",
       "17   NaN        0.000138                 0         80.892746  1.709887e-06\n",
       "18   NaN        0.000318                 0         60.926342  5.217390e-06\n",
       "19   NaN        0.000429                 0         78.171021  5.485703e-06"
      ]
     },
     "execution_count": 108,
     "metadata": {},
     "output_type": "execute_result"
    }
   ],
   "source": [
    "test_result.head(20)"
   ]
  },
  {
   "cell_type": "code",
   "execution_count": 102,
   "metadata": {},
   "outputs": [],
   "source": [
    "test_result[test_result['click_pred_price']<0]=1"
   ]
  },
  {
   "cell_type": "code",
   "execution_count": 164,
   "metadata": {},
   "outputs": [
    {
     "data": {
      "text/html": [
       "<div>\n",
       "<style scoped>\n",
       "    .dataframe tbody tr th:only-of-type {\n",
       "        vertical-align: middle;\n",
       "    }\n",
       "\n",
       "    .dataframe tbody tr th {\n",
       "        vertical-align: top;\n",
       "    }\n",
       "\n",
       "    .dataframe thead th {\n",
       "        text-align: right;\n",
       "    }\n",
       "</style>\n",
       "<table border=\"1\" class=\"dataframe\">\n",
       "  <thead>\n",
       "    <tr style=\"text-align: right;\">\n",
       "      <th></th>\n",
       "      <th>click</th>\n",
       "      <th>click_pred_per</th>\n",
       "      <th>click_pred_class</th>\n",
       "      <th>click_pred_price</th>\n",
       "      <th>P_cut</th>\n",
       "    </tr>\n",
       "  </thead>\n",
       "  <tbody>\n",
       "    <tr>\n",
       "      <th>0</th>\n",
       "      <td>NaN</td>\n",
       "      <td>0.000565</td>\n",
       "      <td>0</td>\n",
       "      <td>42.773262</td>\n",
       "      <td>0.000013</td>\n",
       "    </tr>\n",
       "    <tr>\n",
       "      <th>1</th>\n",
       "      <td>NaN</td>\n",
       "      <td>0.002101</td>\n",
       "      <td>0</td>\n",
       "      <td>38.205078</td>\n",
       "      <td>0.000055</td>\n",
       "    </tr>\n",
       "    <tr>\n",
       "      <th>2</th>\n",
       "      <td>NaN</td>\n",
       "      <td>0.000333</td>\n",
       "      <td>0</td>\n",
       "      <td>74.266556</td>\n",
       "      <td>0.000004</td>\n",
       "    </tr>\n",
       "    <tr>\n",
       "      <th>3</th>\n",
       "      <td>NaN</td>\n",
       "      <td>0.000066</td>\n",
       "      <td>0</td>\n",
       "      <td>52.663895</td>\n",
       "      <td>0.000001</td>\n",
       "    </tr>\n",
       "    <tr>\n",
       "      <th>4</th>\n",
       "      <td>NaN</td>\n",
       "      <td>0.001091</td>\n",
       "      <td>0</td>\n",
       "      <td>69.880096</td>\n",
       "      <td>0.000016</td>\n",
       "    </tr>\n",
       "  </tbody>\n",
       "</table>\n",
       "</div>"
      ],
      "text/plain": [
       "  click  click_pred_per  click_pred_class  click_pred_price     P_cut\n",
       "0   NaN        0.000565                 0         42.773262  0.000013\n",
       "1   NaN        0.002101                 0         38.205078  0.000055\n",
       "2   NaN        0.000333                 0         74.266556  0.000004\n",
       "3   NaN        0.000066                 0         52.663895  0.000001\n",
       "4   NaN        0.001091                 0         69.880096  0.000016"
      ]
     },
     "execution_count": 164,
     "metadata": {},
     "output_type": "execute_result"
    }
   ],
   "source": [
    "test_result['P_cut']=test_result['click_pred_per']/test_result['click_pred_price']\n",
    "test_result.head()"
   ]
  },
  {
   "cell_type": "code",
   "execution_count": 163,
   "metadata": {},
   "outputs": [],
   "source": [
    "def clicksum2(test):\n",
    "    TR = test.copy()\n",
    "    TR['final_price']=0\n",
    "    for i in TR.index:\n",
    "        if TR.at[i,'P_cut'] >= 2.1072625776133453e-06: \n",
    "            TR.at[i,'final_price']=math.ceil(TR.at[i,'click_pred_price'])+5\n",
    "    return TR\n",
    "\n"
   ]
  },
  {
   "cell_type": "code",
   "execution_count": 165,
   "metadata": {},
   "outputs": [],
   "source": [
    "test_final=clicksum2(test_result)"
   ]
  },
  {
   "cell_type": "code",
   "execution_count": 166,
   "metadata": {},
   "outputs": [
    {
     "data": {
      "text/html": [
       "<div>\n",
       "<style scoped>\n",
       "    .dataframe tbody tr th:only-of-type {\n",
       "        vertical-align: middle;\n",
       "    }\n",
       "\n",
       "    .dataframe tbody tr th {\n",
       "        vertical-align: top;\n",
       "    }\n",
       "\n",
       "    .dataframe thead th {\n",
       "        text-align: right;\n",
       "    }\n",
       "</style>\n",
       "<table border=\"1\" class=\"dataframe\">\n",
       "  <thead>\n",
       "    <tr style=\"text-align: right;\">\n",
       "      <th></th>\n",
       "      <th>click</th>\n",
       "      <th>click_pred_per</th>\n",
       "      <th>click_pred_class</th>\n",
       "      <th>click_pred_price</th>\n",
       "      <th>P_cut</th>\n",
       "      <th>final_price</th>\n",
       "    </tr>\n",
       "  </thead>\n",
       "  <tbody>\n",
       "    <tr>\n",
       "      <th>0</th>\n",
       "      <td>NaN</td>\n",
       "      <td>0.000565</td>\n",
       "      <td>0</td>\n",
       "      <td>42.773262</td>\n",
       "      <td>0.000013</td>\n",
       "      <td>48</td>\n",
       "    </tr>\n",
       "    <tr>\n",
       "      <th>1</th>\n",
       "      <td>NaN</td>\n",
       "      <td>0.002101</td>\n",
       "      <td>0</td>\n",
       "      <td>38.205078</td>\n",
       "      <td>0.000055</td>\n",
       "      <td>44</td>\n",
       "    </tr>\n",
       "    <tr>\n",
       "      <th>2</th>\n",
       "      <td>NaN</td>\n",
       "      <td>0.000333</td>\n",
       "      <td>0</td>\n",
       "      <td>74.266556</td>\n",
       "      <td>0.000004</td>\n",
       "      <td>80</td>\n",
       "    </tr>\n",
       "    <tr>\n",
       "      <th>3</th>\n",
       "      <td>NaN</td>\n",
       "      <td>0.000066</td>\n",
       "      <td>0</td>\n",
       "      <td>52.663895</td>\n",
       "      <td>0.000001</td>\n",
       "      <td>0</td>\n",
       "    </tr>\n",
       "    <tr>\n",
       "      <th>4</th>\n",
       "      <td>NaN</td>\n",
       "      <td>0.001091</td>\n",
       "      <td>0</td>\n",
       "      <td>69.880096</td>\n",
       "      <td>0.000016</td>\n",
       "      <td>75</td>\n",
       "    </tr>\n",
       "  </tbody>\n",
       "</table>\n",
       "</div>"
      ],
      "text/plain": [
       "  click  click_pred_per  click_pred_class  click_pred_price     P_cut  \\\n",
       "0   NaN        0.000565                 0         42.773262  0.000013   \n",
       "1   NaN        0.002101                 0         38.205078  0.000055   \n",
       "2   NaN        0.000333                 0         74.266556  0.000004   \n",
       "3   NaN        0.000066                 0         52.663895  0.000001   \n",
       "4   NaN        0.001091                 0         69.880096  0.000016   \n",
       "\n",
       "   final_price  \n",
       "0           48  \n",
       "1           44  \n",
       "2           80  \n",
       "3            0  \n",
       "4           75  "
      ]
     },
     "execution_count": 166,
     "metadata": {},
     "output_type": "execute_result"
    }
   ],
   "source": [
    "test_final.head()"
   ]
  },
  {
   "cell_type": "code",
   "execution_count": 112,
   "metadata": {},
   "outputs": [
    {
     "data": {
      "text/html": [
       "<div>\n",
       "<style scoped>\n",
       "    .dataframe tbody tr th:only-of-type {\n",
       "        vertical-align: middle;\n",
       "    }\n",
       "\n",
       "    .dataframe tbody tr th {\n",
       "        vertical-align: top;\n",
       "    }\n",
       "\n",
       "    .dataframe thead th {\n",
       "        text-align: right;\n",
       "    }\n",
       "</style>\n",
       "<table border=\"1\" class=\"dataframe\">\n",
       "  <thead>\n",
       "    <tr style=\"text-align: right;\">\n",
       "      <th></th>\n",
       "      <th>click</th>\n",
       "      <th>click_pred_per</th>\n",
       "      <th>click_pred_class</th>\n",
       "      <th>click_pred_price</th>\n",
       "      <th>P_cut</th>\n",
       "      <th>final_price</th>\n",
       "    </tr>\n",
       "  </thead>\n",
       "  <tbody>\n",
       "    <tr>\n",
       "      <th>0</th>\n",
       "      <td>NaN</td>\n",
       "      <td>0.000565</td>\n",
       "      <td>0</td>\n",
       "      <td>42.773262</td>\n",
       "      <td>0.000013</td>\n",
       "      <td>48</td>\n",
       "    </tr>\n",
       "    <tr>\n",
       "      <th>1</th>\n",
       "      <td>NaN</td>\n",
       "      <td>0.002101</td>\n",
       "      <td>0</td>\n",
       "      <td>38.205078</td>\n",
       "      <td>0.000055</td>\n",
       "      <td>44</td>\n",
       "    </tr>\n",
       "    <tr>\n",
       "      <th>2</th>\n",
       "      <td>NaN</td>\n",
       "      <td>0.000333</td>\n",
       "      <td>0</td>\n",
       "      <td>74.266556</td>\n",
       "      <td>0.000004</td>\n",
       "      <td>0</td>\n",
       "    </tr>\n",
       "    <tr>\n",
       "      <th>3</th>\n",
       "      <td>NaN</td>\n",
       "      <td>0.000066</td>\n",
       "      <td>0</td>\n",
       "      <td>52.663895</td>\n",
       "      <td>0.000001</td>\n",
       "      <td>0</td>\n",
       "    </tr>\n",
       "    <tr>\n",
       "      <th>4</th>\n",
       "      <td>NaN</td>\n",
       "      <td>0.001091</td>\n",
       "      <td>0</td>\n",
       "      <td>69.880096</td>\n",
       "      <td>0.000016</td>\n",
       "      <td>75</td>\n",
       "    </tr>\n",
       "  </tbody>\n",
       "</table>\n",
       "</div>"
      ],
      "text/plain": [
       "  click  click_pred_per  click_pred_class  click_pred_price     P_cut  \\\n",
       "0   NaN        0.000565                 0         42.773262  0.000013   \n",
       "1   NaN        0.002101                 0         38.205078  0.000055   \n",
       "2   NaN        0.000333                 0         74.266556  0.000004   \n",
       "3   NaN        0.000066                 0         52.663895  0.000001   \n",
       "4   NaN        0.001091                 0         69.880096  0.000016   \n",
       "\n",
       "   final_price  \n",
       "0           48  \n",
       "1           44  \n",
       "2            0  \n",
       "3            0  \n",
       "4           75  "
      ]
     },
     "execution_count": 112,
     "metadata": {},
     "output_type": "execute_result"
    }
   ],
   "source": [
    "test_final.head()"
   ]
  },
  {
   "cell_type": "code",
   "execution_count": 113,
   "metadata": {},
   "outputs": [
    {
     "data": {
      "text/plain": [
       "click               3.400000e+01\n",
       "click_pred_per      2.273873e+02\n",
       "click_pred_class    1.970000e+02\n",
       "click_pred_price    2.302837e+07\n",
       "P_cut               3.672705e+01\n",
       "final_price         6.944936e+06\n",
       "dtype: float64"
      ]
     },
     "execution_count": 113,
     "metadata": {},
     "output_type": "execute_result"
    }
   ],
   "source": [
    "test_final.sum()"
   ]
  },
  {
   "cell_type": "code",
   "execution_count": null,
   "metadata": {},
   "outputs": [],
   "source": []
  },
  {
   "cell_type": "code",
   "execution_count": null,
   "metadata": {},
   "outputs": [],
   "source": []
  },
  {
   "cell_type": "code",
   "execution_count": null,
   "metadata": {},
   "outputs": [],
   "source": []
  },
  {
   "cell_type": "code",
   "execution_count": 167,
   "metadata": {},
   "outputs": [],
   "source": [
    "Group['bidprice']=test_final['final_price']"
   ]
  },
  {
   "cell_type": "code",
   "execution_count": 168,
   "metadata": {},
   "outputs": [
    {
     "data": {
      "text/html": [
       "<div>\n",
       "<style scoped>\n",
       "    .dataframe tbody tr th:only-of-type {\n",
       "        vertical-align: middle;\n",
       "    }\n",
       "\n",
       "    .dataframe tbody tr th {\n",
       "        vertical-align: top;\n",
       "    }\n",
       "\n",
       "    .dataframe thead th {\n",
       "        text-align: right;\n",
       "    }\n",
       "</style>\n",
       "<table border=\"1\" class=\"dataframe\">\n",
       "  <thead>\n",
       "    <tr style=\"text-align: right;\">\n",
       "      <th></th>\n",
       "      <th>bidid</th>\n",
       "      <th>bidprice</th>\n",
       "    </tr>\n",
       "  </thead>\n",
       "  <tbody>\n",
       "    <tr>\n",
       "      <th>0</th>\n",
       "      <td>366c563de7d90feb9d4dab53e795a93fb3157387</td>\n",
       "      <td>48</td>\n",
       "    </tr>\n",
       "    <tr>\n",
       "      <th>1</th>\n",
       "      <td>29167d4caa719788b5a342dbaa25151d53121f80</td>\n",
       "      <td>44</td>\n",
       "    </tr>\n",
       "    <tr>\n",
       "      <th>2</th>\n",
       "      <td>ff8bc3f4d44a3ea60c5f3a3a8fbe7cd98fb2966e</td>\n",
       "      <td>80</td>\n",
       "    </tr>\n",
       "    <tr>\n",
       "      <th>3</th>\n",
       "      <td>844c2da00d45315f20b748ec131c26ee99a7cbc7</td>\n",
       "      <td>0</td>\n",
       "    </tr>\n",
       "    <tr>\n",
       "      <th>4</th>\n",
       "      <td>c6017f0ad0c44d7d0c9b62583ea863f28941c0ca</td>\n",
       "      <td>75</td>\n",
       "    </tr>\n",
       "  </tbody>\n",
       "</table>\n",
       "</div>"
      ],
      "text/plain": [
       "                                      bidid  bidprice\n",
       "0  366c563de7d90feb9d4dab53e795a93fb3157387        48\n",
       "1  29167d4caa719788b5a342dbaa25151d53121f80        44\n",
       "2  ff8bc3f4d44a3ea60c5f3a3a8fbe7cd98fb2966e        80\n",
       "3  844c2da00d45315f20b748ec131c26ee99a7cbc7         0\n",
       "4  c6017f0ad0c44d7d0c9b62583ea863f28941c0ca        75"
      ]
     },
     "execution_count": 168,
     "metadata": {},
     "output_type": "execute_result"
    }
   ],
   "source": [
    "Group.head()"
   ]
  },
  {
   "cell_type": "code",
   "execution_count": 62,
   "metadata": {},
   "outputs": [
    {
     "data": {
      "text/html": [
       "<div>\n",
       "<style scoped>\n",
       "    .dataframe tbody tr th:only-of-type {\n",
       "        vertical-align: middle;\n",
       "    }\n",
       "\n",
       "    .dataframe tbody tr th {\n",
       "        vertical-align: top;\n",
       "    }\n",
       "\n",
       "    .dataframe thead th {\n",
       "        text-align: right;\n",
       "    }\n",
       "</style>\n",
       "<table border=\"1\" class=\"dataframe\">\n",
       "  <thead>\n",
       "    <tr style=\"text-align: right;\">\n",
       "      <th></th>\n",
       "      <th>bidid</th>\n",
       "      <th>bidprice</th>\n",
       "    </tr>\n",
       "  </thead>\n",
       "  <tbody>\n",
       "    <tr>\n",
       "      <th>0</th>\n",
       "      <td>366c563de7d90feb9d4dab53e795a93fb3157387</td>\n",
       "      <td>53.841645</td>\n",
       "    </tr>\n",
       "    <tr>\n",
       "      <th>1</th>\n",
       "      <td>29167d4caa719788b5a342dbaa25151d53121f80</td>\n",
       "      <td>534.687231</td>\n",
       "    </tr>\n",
       "    <tr>\n",
       "      <th>2</th>\n",
       "      <td>ff8bc3f4d44a3ea60c5f3a3a8fbe7cd98fb2966e</td>\n",
       "      <td>24.625266</td>\n",
       "    </tr>\n",
       "    <tr>\n",
       "      <th>3</th>\n",
       "      <td>844c2da00d45315f20b748ec131c26ee99a7cbc7</td>\n",
       "      <td>5.600366</td>\n",
       "    </tr>\n",
       "    <tr>\n",
       "      <th>4</th>\n",
       "      <td>c6017f0ad0c44d7d0c9b62583ea863f28941c0ca</td>\n",
       "      <td>241.749085</td>\n",
       "    </tr>\n",
       "  </tbody>\n",
       "</table>\n",
       "</div>"
      ],
      "text/plain": [
       "                                      bidid    bidprice\n",
       "0  366c563de7d90feb9d4dab53e795a93fb3157387   53.841645\n",
       "1  29167d4caa719788b5a342dbaa25151d53121f80  534.687231\n",
       "2  ff8bc3f4d44a3ea60c5f3a3a8fbe7cd98fb2966e   24.625266\n",
       "3  844c2da00d45315f20b748ec131c26ee99a7cbc7    5.600366\n",
       "4  c6017f0ad0c44d7d0c9b62583ea863f28941c0ca  241.749085"
      ]
     },
     "execution_count": 62,
     "metadata": {},
     "output_type": "execute_result"
    }
   ],
   "source": [
    "Group.head()"
   ]
  },
  {
   "cell_type": "code",
   "execution_count": 169,
   "metadata": {},
   "outputs": [],
   "source": [
    "Group.to_csv('Groupdef_6.csv', encoding='utf-8', index=False)"
   ]
  },
  {
   "cell_type": "code",
   "execution_count": 26,
   "metadata": {},
   "outputs": [],
   "source": [
    "df_valid = pd.read_csv(\"/Users/weisihan/Downloads/we_data/validation.csv\")"
   ]
  },
  {
   "cell_type": "code",
   "execution_count": 27,
   "metadata": {},
   "outputs": [
    {
     "data": {
      "text/plain": [
       "0.0007375623256619447"
      ]
     },
     "execution_count": 27,
     "metadata": {},
     "output_type": "execute_result"
    }
   ],
   "source": [
    "#clicks = len(train[train.click==1])\n",
    "#impression = len(train[train.bidprice>train.payprice])\n",
    "aCTR=1793/2430981\n",
    "aCTR"
   ]
  },
  {
   "cell_type": "code",
   "execution_count": 39,
   "metadata": {},
   "outputs": [],
   "source": [
    "def evaluate(bidprice):\n",
    "    budget=6250000\n",
    "    impression=0\n",
    "    click=0\n",
    "    for row in range(0,df_valid.shape[0]):\n",
    "        if budget<df_valid.payprice[row]:\n",
    "            continue\n",
    "        if bidprice.iloc[row,0]>df_valid.payprice[row]:\n",
    "            budget=budget-df_valid.payprice[row]\n",
    "            impression=impression+1\n",
    "            if df_valid.click[row]==1:\n",
    "                click=click+1\n",
    "    return click"
   ]
  },
  {
   "cell_type": "code",
   "execution_count": 40,
   "metadata": {},
   "outputs": [],
   "source": [
    "def bid_linear(basebid, pred_CTR,avg_CTR):\n",
    "    bid = np.zeros((df_valid.shape[0], 1))\n",
    "    for i in range (0,df_valid.shape[0]):\n",
    "        bid[i,0] = basebid*xx.iloc[i]/avg_CTR\n",
    "    bid = pd.DataFrame(bid)\n",
    "    return bid"
   ]
  },
  {
   "cell_type": "code",
   "execution_count": 42,
   "metadata": {},
   "outputs": [],
   "source": [
    "xx=test_result['click_pred_per'].copy()"
   ]
  },
  {
   "cell_type": "code",
   "execution_count": 43,
   "metadata": {},
   "outputs": [
    {
     "name": "stdout",
     "output_type": "stream",
     "text": [
      "basebid  10  click  82\n",
      "basebid  20  click  95\n",
      "basebid  30  click  103\n",
      "basebid  40  click  110\n",
      "basebid  50  click  117\n",
      "basebid  60  click  121\n",
      "basebid  70  click  129\n",
      "basebid  80  click  130\n",
      "basebid  90  click  133\n",
      "basebid  100  click  139\n",
      "basebid  110  click  142\n",
      "basebid  120  click  145\n",
      "basebid  130  click  146\n",
      "basebid  140  click  148\n",
      "basebid  150  click  148\n",
      "basebid  160  click  150\n",
      "basebid  170  click  151\n",
      "basebid  180  click  151\n",
      "basebid  190  click  151\n"
     ]
    }
   ],
   "source": [
    "base_bids = np.arange(10,200,10)\n",
    "for counter in base_bids:\n",
    "    base_bid=counter\n",
    "    bidprice=bid_linear(base_bid, xx, aCTR)\n",
    "    print('basebid ', base_bid, ' click ', evaluate(bidprice))"
   ]
  },
  {
   "cell_type": "code",
   "execution_count": 45,
   "metadata": {},
   "outputs": [
    {
     "name": "stdout",
     "output_type": "stream",
     "text": [
      "basebid  200  click  152\n",
      "basebid  210  click  155\n",
      "basebid  220  click  156\n",
      "basebid  230  click  159\n",
      "basebid  240  click  160\n",
      "basebid  250  click  160\n",
      "basebid  260  click  158\n",
      "basebid  270  click  154\n",
      "basebid  280  click  148\n",
      "basebid  290  click  145\n"
     ]
    }
   ],
   "source": [
    "base_bids = np.arange(200,300,10)\n",
    "for counter in base_bids:\n",
    "    base_bid=counter\n",
    "    bidprice=bid_linear(base_bid, xx, aCTR)\n",
    "    print('basebid ', base_bid, ' click ', evaluate(bidprice))"
   ]
  },
  {
   "cell_type": "code",
   "execution_count": null,
   "metadata": {},
   "outputs": [],
   "source": []
  },
  {
   "cell_type": "code",
   "execution_count": 47,
   "metadata": {},
   "outputs": [],
   "source": [
    "# parameters\n",
    "total_budget = 6250000\n",
    "payprice = df_valid['payprice'].as_matrix()\n",
    "Train_df_qr = df_valid.copy()\n",
    "test_predictions=test_result['click_pred_per']\n",
    "#test_predictions2=test_result['click_pred_LR']\n",
    "\n",
    "avgCTR = 1793/2430981 #train set\n",
    "#tuning..."
   ]
  },
  {
   "cell_type": "code",
   "execution_count": 48,
   "metadata": {},
   "outputs": [],
   "source": [
    "def generate_bidprice(base_bid, test_predictions):\n",
    "    avgCTR = 1793/2430981#train set\n",
    "    bidprices = base_bid*test_predictions/avgCTR\n",
    "    return bidprices"
   ]
  },
  {
   "cell_type": "code",
   "execution_count": 49,
   "metadata": {},
   "outputs": [],
   "source": [
    "def Prob3(Train_df,payprice,base_bid,test_predictions):\n",
    "    Train_Const_summ = pd.DataFrame({'Clicks':'', 'Spend':'', 'CTR':'', 'CPM':'', 'eCPC':''}, index=[0])\n",
    "    \n",
    "    current_budget = total_budget\n",
    "    Train_df['win'] = 0 #initialize win label\n",
    "    bidprices = generate_bidprice(base_bid, test_predictions)\n",
    "    #start biding...\n",
    "    for i in Train_df.index:\n",
    "        if current_budget >= bidprices[i]:\n",
    "            #generate bidprice:\n",
    "            current_bidprice = bidprices[i]\n",
    "\n",
    "            #Winning criterion:\n",
    "            current_payprice = payprice[i]\n",
    "            if current_bidprice > current_payprice:\n",
    "                Train_df.at[i, 'win'] = int(1)\n",
    "                current_budget = current_budget - current_payprice\n",
    "            else:\n",
    "                Train_df.at[i, 'win'] = int(0)\n",
    "        else:\n",
    "            print('lack of budget!',current_budget)\n",
    "            break\n",
    "    #biding end        \n",
    "    \n",
    "    Train_df_new = Train_df[Train_df['win']!=0]\n",
    "    #wintimes,_ = Train_df_new.shape\n",
    "    #print('wintimes:',wintimes)\n",
    "    #print('current_budget',current_budget)\n",
    "\n",
    "    Clk = Train_df_new['click'].sum()\n",
    "    Imp = Train_df_new['click'].count()\n",
    "    CTR = Clk/Imp\n",
    "    Spd = total_budget - current_budget\n",
    "    CPM = 1000*Spd/Imp\n",
    "    eCPC = Spd/Clk\n",
    "    \n",
    "    Train_Const_summ.loc[0,'Clicks']=Clk\n",
    "    Train_Const_summ.loc[0,'Spend']=Spd\n",
    "    Train_Const_summ.loc[0,'CTR']=CTR\n",
    "    Train_Const_summ.loc[0,'CPM']=CPM\n",
    "    Train_Const_summ.loc[0,'eCPC']=eCPC\n",
    "\n",
    "    print(Train_Const_summ)\n",
    "    \n",
    "        \n",
    "    return Train_df,current_budget"
   ]
  },
  {
   "cell_type": "code",
   "execution_count": 50,
   "metadata": {},
   "outputs": [],
   "source": [
    "def calculate_click(base_bid,Train_df,payprice,test_predictions):\n",
    "    print('base_bid:',base_bid)\n",
    "    result_df,current_budget = Prob3(Train_df,payprice,base_bid,test_predictions)\n",
    "    print('current_budget:',current_budget)\n",
    "    Train_df_new = result_df[result_df['win']!=0]\n",
    "    wintimes,_ = Train_df_new.shape\n",
    "    print('wintimes:',wintimes)\n",
    "    print('----------------')\n",
    "    Clk = Train_df_new['click'].sum()    \n",
    "    return Clk"
   ]
  },
  {
   "cell_type": "code",
   "execution_count": 54,
   "metadata": {},
   "outputs": [],
   "source": [
    "%matplotlib inline\n",
    "import matplotlib\n",
    "import matplotlib.pyplot as plt\n",
    "import mpld3\n",
    "import numpy as np"
   ]
  },
  {
   "cell_type": "code",
   "execution_count": 58,
   "metadata": {},
   "outputs": [
    {
     "name": "stdout",
     "output_type": "stream",
     "text": [
      "base_bid: 245\n",
      "       CPM         CTR Clicks    Spend     eCPC\n",
      "0  57670.7  0.00151166    160  6104095  38150.6\n",
      "current_budget: 145905\n",
      "wintimes: 105844\n",
      "----------------\n",
      "base_bid: 246\n",
      "       CPM         CTR Clicks    Spend     eCPC\n",
      "0  57713.6  0.00150888    160  6119892  38249.3\n",
      "current_budget: 130108\n",
      "wintimes: 106039\n",
      "----------------\n",
      "base_bid: 247\n",
      "       CPM         CTR Clicks    Spend     eCPC\n",
      "0  57763.5  0.00150595    160  6137087  38356.8\n",
      "current_budget: 112913\n",
      "wintimes: 106245\n",
      "----------------\n",
      "base_bid: 248\n",
      "       CPM         CTR Clicks    Spend     eCPC\n",
      "0  57811.4  0.00150283    160  6154945  38468.4\n",
      "current_budget: 95055\n",
      "wintimes: 106466\n",
      "----------------\n",
      "base_bid: 249\n"
     ]
    },
    {
     "ename": "KeyboardInterrupt",
     "evalue": "",
     "output_type": "error",
     "traceback": [
      "\u001b[0;31m---------------------------------------------------------------------------\u001b[0m",
      "\u001b[0;31mKeyboardInterrupt\u001b[0m                         Traceback (most recent call last)",
      "\u001b[0;32m<ipython-input-58-e8b6da10bf6b>\u001b[0m in \u001b[0;36m<module>\u001b[0;34m()\u001b[0m\n\u001b[1;32m      1\u001b[0m \u001b[0mbase_bids\u001b[0m \u001b[0;34m=\u001b[0m \u001b[0mnp\u001b[0m\u001b[0;34m.\u001b[0m\u001b[0marange\u001b[0m\u001b[0;34m(\u001b[0m\u001b[0;36m245\u001b[0m\u001b[0;34m,\u001b[0m\u001b[0;36m250\u001b[0m\u001b[0;34m,\u001b[0m\u001b[0;36m1\u001b[0m\u001b[0;34m)\u001b[0m\u001b[0;34m\u001b[0m\u001b[0m\n\u001b[0;32m----> 2\u001b[0;31m \u001b[0mClks\u001b[0m \u001b[0;34m=\u001b[0m \u001b[0;34m[\u001b[0m\u001b[0mcalculate_click\u001b[0m\u001b[0;34m(\u001b[0m\u001b[0mbase_bid\u001b[0m\u001b[0;34m,\u001b[0m\u001b[0mTrain_df_qr\u001b[0m\u001b[0;34m,\u001b[0m\u001b[0mpayprice\u001b[0m\u001b[0;34m,\u001b[0m\u001b[0mtest_predictions\u001b[0m\u001b[0;34m)\u001b[0m \u001b[0;32mfor\u001b[0m \u001b[0mbase_bid\u001b[0m \u001b[0;32min\u001b[0m \u001b[0mbase_bids\u001b[0m\u001b[0;34m]\u001b[0m\u001b[0;34m\u001b[0m\u001b[0m\n\u001b[0m\u001b[1;32m      3\u001b[0m \u001b[0mfig\u001b[0m \u001b[0;34m=\u001b[0m \u001b[0mplt\u001b[0m\u001b[0;34m.\u001b[0m\u001b[0mfigure\u001b[0m\u001b[0;34m(\u001b[0m\u001b[0;34m)\u001b[0m\u001b[0;34m\u001b[0m\u001b[0m\n\u001b[1;32m      4\u001b[0m \u001b[0mprint\u001b[0m\u001b[0;34m(\u001b[0m\u001b[0mmax\u001b[0m\u001b[0;34m(\u001b[0m\u001b[0mClks\u001b[0m\u001b[0;34m)\u001b[0m\u001b[0;34m)\u001b[0m\u001b[0;34m\u001b[0m\u001b[0m\n\u001b[1;32m      5\u001b[0m \u001b[0mplt\u001b[0m\u001b[0;34m.\u001b[0m\u001b[0mplot\u001b[0m\u001b[0;34m(\u001b[0m\u001b[0mbase_bids\u001b[0m\u001b[0;34m,\u001b[0m\u001b[0mClks\u001b[0m\u001b[0;34m)\u001b[0m\u001b[0;34m\u001b[0m\u001b[0m\n",
      "\u001b[0;32m<ipython-input-58-e8b6da10bf6b>\u001b[0m in \u001b[0;36m<listcomp>\u001b[0;34m(.0)\u001b[0m\n\u001b[1;32m      1\u001b[0m \u001b[0mbase_bids\u001b[0m \u001b[0;34m=\u001b[0m \u001b[0mnp\u001b[0m\u001b[0;34m.\u001b[0m\u001b[0marange\u001b[0m\u001b[0;34m(\u001b[0m\u001b[0;36m245\u001b[0m\u001b[0;34m,\u001b[0m\u001b[0;36m250\u001b[0m\u001b[0;34m,\u001b[0m\u001b[0;36m1\u001b[0m\u001b[0;34m)\u001b[0m\u001b[0;34m\u001b[0m\u001b[0m\n\u001b[0;32m----> 2\u001b[0;31m \u001b[0mClks\u001b[0m \u001b[0;34m=\u001b[0m \u001b[0;34m[\u001b[0m\u001b[0mcalculate_click\u001b[0m\u001b[0;34m(\u001b[0m\u001b[0mbase_bid\u001b[0m\u001b[0;34m,\u001b[0m\u001b[0mTrain_df_qr\u001b[0m\u001b[0;34m,\u001b[0m\u001b[0mpayprice\u001b[0m\u001b[0;34m,\u001b[0m\u001b[0mtest_predictions\u001b[0m\u001b[0;34m)\u001b[0m \u001b[0;32mfor\u001b[0m \u001b[0mbase_bid\u001b[0m \u001b[0;32min\u001b[0m \u001b[0mbase_bids\u001b[0m\u001b[0;34m]\u001b[0m\u001b[0;34m\u001b[0m\u001b[0m\n\u001b[0m\u001b[1;32m      3\u001b[0m \u001b[0mfig\u001b[0m \u001b[0;34m=\u001b[0m \u001b[0mplt\u001b[0m\u001b[0;34m.\u001b[0m\u001b[0mfigure\u001b[0m\u001b[0;34m(\u001b[0m\u001b[0;34m)\u001b[0m\u001b[0;34m\u001b[0m\u001b[0m\n\u001b[1;32m      4\u001b[0m \u001b[0mprint\u001b[0m\u001b[0;34m(\u001b[0m\u001b[0mmax\u001b[0m\u001b[0;34m(\u001b[0m\u001b[0mClks\u001b[0m\u001b[0;34m)\u001b[0m\u001b[0;34m)\u001b[0m\u001b[0;34m\u001b[0m\u001b[0m\n\u001b[1;32m      5\u001b[0m \u001b[0mplt\u001b[0m\u001b[0;34m.\u001b[0m\u001b[0mplot\u001b[0m\u001b[0;34m(\u001b[0m\u001b[0mbase_bids\u001b[0m\u001b[0;34m,\u001b[0m\u001b[0mClks\u001b[0m\u001b[0;34m)\u001b[0m\u001b[0;34m\u001b[0m\u001b[0m\n",
      "\u001b[0;32m<ipython-input-50-7e1d6cf6c1ea>\u001b[0m in \u001b[0;36mcalculate_click\u001b[0;34m(base_bid, Train_df, payprice, test_predictions)\u001b[0m\n\u001b[1;32m      1\u001b[0m \u001b[0;32mdef\u001b[0m \u001b[0mcalculate_click\u001b[0m\u001b[0;34m(\u001b[0m\u001b[0mbase_bid\u001b[0m\u001b[0;34m,\u001b[0m\u001b[0mTrain_df\u001b[0m\u001b[0;34m,\u001b[0m\u001b[0mpayprice\u001b[0m\u001b[0;34m,\u001b[0m\u001b[0mtest_predictions\u001b[0m\u001b[0;34m)\u001b[0m\u001b[0;34m:\u001b[0m\u001b[0;34m\u001b[0m\u001b[0m\n\u001b[1;32m      2\u001b[0m     \u001b[0mprint\u001b[0m\u001b[0;34m(\u001b[0m\u001b[0;34m'base_bid:'\u001b[0m\u001b[0;34m,\u001b[0m\u001b[0mbase_bid\u001b[0m\u001b[0;34m)\u001b[0m\u001b[0;34m\u001b[0m\u001b[0m\n\u001b[0;32m----> 3\u001b[0;31m     \u001b[0mresult_df\u001b[0m\u001b[0;34m,\u001b[0m\u001b[0mcurrent_budget\u001b[0m \u001b[0;34m=\u001b[0m \u001b[0mProb3\u001b[0m\u001b[0;34m(\u001b[0m\u001b[0mTrain_df\u001b[0m\u001b[0;34m,\u001b[0m\u001b[0mpayprice\u001b[0m\u001b[0;34m,\u001b[0m\u001b[0mbase_bid\u001b[0m\u001b[0;34m,\u001b[0m\u001b[0mtest_predictions\u001b[0m\u001b[0;34m)\u001b[0m\u001b[0;34m\u001b[0m\u001b[0m\n\u001b[0m\u001b[1;32m      4\u001b[0m     \u001b[0mprint\u001b[0m\u001b[0;34m(\u001b[0m\u001b[0;34m'current_budget:'\u001b[0m\u001b[0;34m,\u001b[0m\u001b[0mcurrent_budget\u001b[0m\u001b[0;34m)\u001b[0m\u001b[0;34m\u001b[0m\u001b[0m\n\u001b[1;32m      5\u001b[0m     \u001b[0mTrain_df_new\u001b[0m \u001b[0;34m=\u001b[0m \u001b[0mresult_df\u001b[0m\u001b[0;34m[\u001b[0m\u001b[0mresult_df\u001b[0m\u001b[0;34m[\u001b[0m\u001b[0;34m'win'\u001b[0m\u001b[0;34m]\u001b[0m\u001b[0;34m!=\u001b[0m\u001b[0;36m0\u001b[0m\u001b[0;34m]\u001b[0m\u001b[0;34m\u001b[0m\u001b[0m\n",
      "\u001b[0;32m<ipython-input-49-04e7dbf11205>\u001b[0m in \u001b[0;36mProb3\u001b[0;34m(Train_df, payprice, base_bid, test_predictions)\u001b[0m\n\u001b[1;32m      7\u001b[0m     \u001b[0;31m#start biding...\u001b[0m\u001b[0;34m\u001b[0m\u001b[0;34m\u001b[0m\u001b[0m\n\u001b[1;32m      8\u001b[0m     \u001b[0;32mfor\u001b[0m \u001b[0mi\u001b[0m \u001b[0;32min\u001b[0m \u001b[0mTrain_df\u001b[0m\u001b[0;34m.\u001b[0m\u001b[0mindex\u001b[0m\u001b[0;34m:\u001b[0m\u001b[0;34m\u001b[0m\u001b[0m\n\u001b[0;32m----> 9\u001b[0;31m         \u001b[0;32mif\u001b[0m \u001b[0mcurrent_budget\u001b[0m \u001b[0;34m>=\u001b[0m \u001b[0mbidprices\u001b[0m\u001b[0;34m[\u001b[0m\u001b[0mi\u001b[0m\u001b[0;34m]\u001b[0m\u001b[0;34m:\u001b[0m\u001b[0;34m\u001b[0m\u001b[0m\n\u001b[0m\u001b[1;32m     10\u001b[0m             \u001b[0;31m#generate bidprice:\u001b[0m\u001b[0;34m\u001b[0m\u001b[0;34m\u001b[0m\u001b[0m\n\u001b[1;32m     11\u001b[0m             \u001b[0mcurrent_bidprice\u001b[0m \u001b[0;34m=\u001b[0m \u001b[0mbidprices\u001b[0m\u001b[0;34m[\u001b[0m\u001b[0mi\u001b[0m\u001b[0;34m]\u001b[0m\u001b[0;34m\u001b[0m\u001b[0m\n",
      "\u001b[0;31mKeyboardInterrupt\u001b[0m: "
     ]
    }
   ],
   "source": [
    "base_bids = np.arange(245,250,1)\n",
    "Clks = [calculate_click(base_bid,Train_df_qr,payprice,test_predictions) for base_bid in base_bids]\n",
    "fig = plt.figure()\n",
    "print(max(Clks))\n",
    "plt.plot(base_bids,Clks)\n",
    "mpld3.display(fig)"
   ]
  },
  {
   "cell_type": "markdown",
   "metadata": {},
   "source": [
    "## Different optimizers"
   ]
  },
  {
   "cell_type": "code",
   "execution_count": 30,
   "metadata": {},
   "outputs": [
    {
     "name": "stdout",
     "output_type": "stream",
     "text": [
      "Populating the interactive namespace from numpy and matplotlib\n"
     ]
    },
    {
     "name": "stderr",
     "output_type": "stream",
     "text": [
      "/Users/weisihan/anaconda3/envs/tensorflow/lib/python3.5/site-packages/IPython/core/magics/pylab.py:160: UserWarning: pylab import has clobbered these variables: ['title']\n",
      "`%matplotlib` prevents importing * from pylab and numpy\n",
      "  \"\\n`%matplotlib` prevents importing * from pylab and numpy\"\n",
      "100%|██████████| 5/5 [00:08<00:00,  1.62s/epoch]\n",
      "100%|██████████| 5/5 [00:07<00:00,  1.56s/epoch]\n",
      "100%|██████████| 5/5 [00:07<00:00,  1.54s/epoch]\n",
      "100%|██████████| 5/5 [00:07<00:00,  1.58s/epoch]\n",
      "100%|██████████| 5/5 [00:07<00:00,  1.56s/epoch]\n",
      "100%|██████████| 5/5 [00:08<00:00,  1.68s/epoch]\n",
      "100%|██████████| 5/5 [00:08<00:00,  1.65s/epoch]\n",
      "100%|██████████| 5/5 [00:08<00:00,  1.65s/epoch]\n",
      "100%|██████████| 5/5 [00:08<00:00,  1.67s/epoch]\n",
      "100%|██████████| 5/5 [00:08<00:00,  1.66s/epoch]\n",
      "100%|██████████| 5/5 [00:08<00:00,  1.62s/epoch]\n",
      "100%|██████████| 5/5 [00:08<00:00,  1.65s/epoch]\n",
      "100%|██████████| 5/5 [00:08<00:00,  1.68s/epoch]\n",
      "100%|██████████| 5/5 [00:08<00:00,  1.66s/epoch]\n",
      "100%|██████████| 5/5 [00:08<00:00,  1.66s/epoch]\n",
      "100%|██████████| 5/5 [00:08<00:00,  1.68s/epoch]\n",
      "100%|██████████| 5/5 [00:08<00:00,  1.66s/epoch]\n",
      "100%|██████████| 5/5 [00:08<00:00,  1.64s/epoch]\n",
      "100%|██████████| 5/5 [00:08<00:00,  1.70s/epoch]\n",
      "100%|██████████| 5/5 [00:07<00:00,  1.53s/epoch]\n",
      "100%|██████████| 5/5 [00:07<00:00,  1.53s/epoch]\n",
      "100%|██████████| 5/5 [00:07<00:00,  1.54s/epoch]\n",
      "100%|██████████| 5/5 [00:07<00:00,  1.54s/epoch]\n",
      "100%|██████████| 5/5 [00:07<00:00,  1.52s/epoch]\n",
      "100%|██████████| 5/5 [00:07<00:00,  1.52s/epoch]\n",
      "100%|██████████| 5/5 [00:07<00:00,  1.51s/epoch]\n",
      "100%|██████████| 5/5 [00:08<00:00,  1.63s/epoch]\n",
      "100%|██████████| 5/5 [00:07<00:00,  1.52s/epoch]\n",
      "100%|██████████| 5/5 [00:07<00:00,  1.53s/epoch]\n",
      "100%|██████████| 5/5 [00:07<00:00,  1.53s/epoch]\n",
      "100%|██████████| 5/5 [00:07<00:00,  1.53s/epoch]\n",
      "100%|██████████| 5/5 [00:07<00:00,  1.53s/epoch]\n",
      "100%|██████████| 5/5 [00:07<00:00,  1.52s/epoch]\n",
      "100%|██████████| 5/5 [00:07<00:00,  1.53s/epoch]\n",
      "100%|██████████| 5/5 [00:07<00:00,  1.52s/epoch]\n",
      "100%|██████████| 5/5 [00:07<00:00,  1.56s/epoch]\n",
      "100%|██████████| 5/5 [00:07<00:00,  1.54s/epoch]\n",
      "100%|██████████| 5/5 [00:07<00:00,  1.53s/epoch]\n",
      "100%|██████████| 5/5 [00:07<00:00,  1.54s/epoch]\n",
      "100%|██████████| 5/5 [00:07<00:00,  1.55s/epoch]\n",
      "100%|██████████| 5/5 [00:07<00:00,  1.54s/epoch]\n",
      "100%|██████████| 5/5 [00:08<00:00,  1.63s/epoch]\n",
      "100%|██████████| 5/5 [00:08<00:00,  1.63s/epoch]\n",
      "100%|██████████| 5/5 [00:08<00:00,  1.62s/epoch]\n",
      "100%|██████████| 5/5 [00:07<00:00,  1.59s/epoch]\n",
      "100%|██████████| 5/5 [00:07<00:00,  1.49s/epoch]\n",
      "100%|██████████| 5/5 [00:07<00:00,  1.50s/epoch]\n",
      "100%|██████████| 5/5 [00:07<00:00,  1.50s/epoch]\n",
      "100%|██████████| 5/5 [00:07<00:00,  1.49s/epoch]\n",
      "100%|██████████| 5/5 [00:07<00:00,  1.50s/epoch]\n",
      "100%|██████████| 5/5 [00:07<00:00,  1.49s/epoch]\n",
      "100%|██████████| 5/5 [00:07<00:00,  1.49s/epoch]\n",
      "100%|██████████| 5/5 [00:07<00:00,  1.49s/epoch]\n",
      "100%|██████████| 5/5 [00:08<00:00,  1.67s/epoch]\n",
      "100%|██████████| 5/5 [00:07<00:00,  1.50s/epoch]\n",
      "100%|██████████| 5/5 [00:07<00:00,  1.49s/epoch]\n",
      "100%|██████████| 5/5 [00:07<00:00,  1.50s/epoch]\n",
      "100%|██████████| 5/5 [00:07<00:00,  1.50s/epoch]\n",
      "100%|██████████| 5/5 [00:07<00:00,  1.51s/epoch]\n",
      "100%|██████████| 5/5 [00:07<00:00,  1.49s/epoch]\n",
      "100%|██████████| 5/5 [00:07<00:00,  1.51s/epoch]\n",
      "100%|██████████| 5/5 [00:07<00:00,  1.51s/epoch]\n",
      "100%|██████████| 5/5 [00:07<00:00,  1.51s/epoch]\n",
      "100%|██████████| 5/5 [00:07<00:00,  1.51s/epoch]\n",
      "100%|██████████| 5/5 [00:07<00:00,  1.53s/epoch]\n",
      "100%|██████████| 5/5 [00:07<00:00,  1.52s/epoch]\n",
      "100%|██████████| 5/5 [00:07<00:00,  1.51s/epoch]\n",
      "100%|██████████| 5/5 [00:07<00:00,  1.51s/epoch]\n",
      "100%|██████████| 5/5 [00:07<00:00,  1.50s/epoch]\n",
      "100%|██████████| 5/5 [00:07<00:00,  1.52s/epoch]\n",
      "100%|██████████| 5/5 [00:08<00:00,  1.65s/epoch]\n",
      "100%|██████████| 5/5 [00:07<00:00,  1.54s/epoch]\n",
      "100%|██████████| 5/5 [00:07<00:00,  1.52s/epoch]\n",
      "100%|██████████| 5/5 [00:07<00:00,  1.50s/epoch]\n",
      "100%|██████████| 5/5 [00:07<00:00,  1.51s/epoch]\n",
      "100%|██████████| 5/5 [00:07<00:00,  1.49s/epoch]\n",
      "100%|██████████| 5/5 [00:07<00:00,  1.52s/epoch]\n",
      "100%|██████████| 5/5 [00:07<00:00,  1.51s/epoch]\n",
      "100%|██████████| 5/5 [00:07<00:00,  1.51s/epoch]\n",
      "100%|██████████| 5/5 [00:07<00:00,  1.48s/epoch]\n",
      "100%|██████████| 5/5 [00:07<00:00,  1.47s/epoch]\n",
      "100%|██████████| 5/5 [00:07<00:00,  1.46s/epoch]\n"
     ]
    },
    {
     "data": {
      "image/png": "[encoded data removed]",
      "text/plain": [
       "<Figure size 432x288 with 1 Axes>"
      ]
     },
     "metadata": {},
     "output_type": "display_data"
    }
   ],
   "source": [
    "%pylab inline\n",
    "for optim, title in [(tf.train.AdamOptimizer(learning_rate=0.001), 'Adam'), \n",
    "              (tf.train.FtrlOptimizer(0.01, l1_regularization_strength=0.01), 'FTRL')]:\n",
    "    acc = []\n",
    "    model = TFFMClassifier(\n",
    "        order=3, \n",
    "        rank=10, \n",
    "        optimizer=tf.train.AdamOptimizer(learning_rate=0.001), \n",
    "        n_epochs=30, \n",
    "        batch_size=1024,\n",
    "        init_std=0.001,\n",
    "        reg=0.01,\n",
    "        input_type='sparse',\n",
    "        seed=42\n",
    "    )\n",
    "    n_epochs = 5\n",
    "    anchor_epochs = range(0, 200+1, n_epochs)\n",
    "    for _ in anchor_epochs:\n",
    "        # score result every 5 epochs\n",
    "        model.fit(X_tr_sparse, y_tr, n_epochs=n_epochs, show_progress=True)\n",
    "        predictions = model.predict(X_te_sparse)\n",
    "        acc.append(accuracy_score(y_te, predictions))\n",
    "    plot(anchor_epochs, acc, label=title)\n",
    "    model.destroy()\n",
    "xlabel('n_epochs')\n",
    "ylabel('accuracy')\n",
    "legend()\n",
    "grid()"
   ]
  },
  {
   "cell_type": "code",
   "execution_count": 31,
   "metadata": {},
   "outputs": [
    {
     "name": "stdout",
     "output_type": "stream",
     "text": [
      "Populating the interactive namespace from numpy and matplotlib\n"
     ]
    },
    {
     "name": "stderr",
     "output_type": "stream",
     "text": [
      "/Users/weisihan/anaconda3/envs/tensorflow/lib/python3.5/site-packages/IPython/core/magics/pylab.py:160: UserWarning: pylab import has clobbered these variables: ['title']\n",
      "`%matplotlib` prevents importing * from pylab and numpy\n",
      "  \"\\n`%matplotlib` prevents importing * from pylab and numpy\"\n",
      "100%|██████████| 5/5 [00:08<00:00,  1.75s/epoch]\n",
      "100%|██████████| 5/5 [00:09<00:00,  1.97s/epoch]\n",
      "100%|██████████| 5/5 [00:09<00:00,  1.84s/epoch]\n",
      "100%|██████████| 5/5 [00:09<00:00,  1.82s/epoch]\n",
      "100%|██████████| 5/5 [00:08<00:00,  1.70s/epoch]\n",
      "100%|██████████| 5/5 [00:08<00:00,  1.79s/epoch]\n",
      "100%|██████████| 5/5 [00:09<00:00,  1.99s/epoch]\n",
      "100%|██████████| 5/5 [00:08<00:00,  1.78s/epoch]\n",
      "100%|██████████| 5/5 [00:09<00:00,  1.81s/epoch]\n",
      "100%|██████████| 5/5 [00:09<00:00,  1.87s/epoch]\n",
      "100%|██████████| 5/5 [00:10<00:00,  2.10s/epoch]\n",
      "/Users/weisihan/Downloads/tffm-master/tffm/utils.py:195: RuntimeWarning: overflow encountered in exp\n",
      "  return 1 / (1 + np.exp(-x))\n",
      "100%|██████████| 5/5 [00:11<00:00,  2.26s/epoch]\n",
      "100%|██████████| 5/5 [00:11<00:00,  2.33s/epoch]\n",
      "100%|██████████| 5/5 [00:10<00:00,  2.07s/epoch]\n",
      "100%|██████████| 5/5 [00:09<00:00,  1.85s/epoch]\n",
      "100%|██████████| 5/5 [00:09<00:00,  1.91s/epoch]\n",
      "100%|██████████| 5/5 [00:08<00:00,  1.78s/epoch]\n",
      "100%|██████████| 5/5 [00:09<00:00,  1.84s/epoch]\n",
      "100%|██████████| 5/5 [00:09<00:00,  1.92s/epoch]\n",
      "100%|██████████| 5/5 [00:11<00:00,  2.26s/epoch]\n",
      "100%|██████████| 5/5 [00:09<00:00,  1.88s/epoch]\n",
      "100%|██████████| 5/5 [00:08<00:00,  1.73s/epoch]\n",
      "100%|██████████| 5/5 [00:09<00:00,  1.90s/epoch]\n",
      "100%|██████████| 5/5 [00:08<00:00,  1.78s/epoch]\n",
      "100%|██████████| 5/5 [00:08<00:00,  1.62s/epoch]\n",
      "100%|██████████| 5/5 [00:07<00:00,  1.58s/epoch]\n",
      "100%|██████████| 5/5 [00:08<00:00,  1.61s/epoch]\n",
      "100%|██████████| 5/5 [00:09<00:00,  1.95s/epoch]\n",
      "100%|██████████| 5/5 [00:08<00:00,  1.71s/epoch]\n",
      "100%|██████████| 5/5 [00:08<00:00,  1.77s/epoch]\n",
      "100%|██████████| 5/5 [00:08<00:00,  1.64s/epoch]\n",
      "100%|██████████| 5/5 [00:08<00:00,  1.68s/epoch]\n",
      "100%|██████████| 5/5 [00:08<00:00,  1.66s/epoch]\n",
      "100%|██████████| 5/5 [00:08<00:00,  1.64s/epoch]\n",
      "100%|██████████| 5/5 [00:07<00:00,  1.59s/epoch]\n",
      "100%|██████████| 5/5 [00:07<00:00,  1.57s/epoch]\n",
      "100%|██████████| 5/5 [00:07<00:00,  1.57s/epoch]\n",
      "100%|██████████| 5/5 [00:07<00:00,  1.59s/epoch]\n",
      "100%|██████████| 5/5 [00:07<00:00,  1.58s/epoch]\n",
      "100%|██████████| 5/5 [00:08<00:00,  1.65s/epoch]\n",
      "100%|██████████| 5/5 [00:07<00:00,  1.57s/epoch]\n",
      "100%|██████████| 5/5 [00:08<00:00,  1.61s/epoch]\n",
      "100%|██████████| 5/5 [00:08<00:00,  1.61s/epoch]\n",
      "100%|██████████| 5/5 [00:07<00:00,  1.58s/epoch]\n",
      "100%|██████████| 5/5 [00:08<00:00,  1.62s/epoch]\n",
      "100%|██████████| 5/5 [00:09<00:00,  1.85s/epoch]\n",
      "100%|██████████| 5/5 [00:09<00:00,  1.90s/epoch]\n",
      "100%|██████████| 5/5 [00:08<00:00,  1.66s/epoch]\n",
      "100%|██████████| 5/5 [00:08<00:00,  1.72s/epoch]\n",
      "100%|██████████| 5/5 [00:08<00:00,  1.79s/epoch]\n",
      "100%|██████████| 5/5 [00:07<00:00,  1.57s/epoch]\n",
      "100%|██████████| 5/5 [00:08<00:00,  1.61s/epoch]\n",
      "100%|██████████| 5/5 [00:07<00:00,  1.59s/epoch]\n",
      "100%|██████████| 5/5 [00:07<00:00,  1.57s/epoch]\n",
      "100%|██████████| 5/5 [00:07<00:00,  1.56s/epoch]\n",
      "100%|██████████| 5/5 [00:07<00:00,  1.55s/epoch]\n",
      "100%|██████████| 5/5 [00:07<00:00,  1.57s/epoch]\n",
      "100%|██████████| 5/5 [00:07<00:00,  1.57s/epoch]\n",
      "100%|██████████| 5/5 [00:07<00:00,  1.57s/epoch]\n",
      "100%|██████████| 5/5 [00:09<00:00,  1.80s/epoch]\n",
      "100%|██████████| 5/5 [00:08<00:00,  1.69s/epoch]\n",
      "100%|██████████| 5/5 [00:07<00:00,  1.56s/epoch]\n",
      "100%|██████████| 5/5 [00:08<00:00,  1.68s/epoch]\n",
      "100%|██████████| 5/5 [00:08<00:00,  1.67s/epoch]\n",
      "100%|██████████| 5/5 [00:08<00:00,  1.60s/epoch]\n",
      "100%|██████████| 5/5 [00:09<00:00,  1.91s/epoch]\n",
      "100%|██████████| 5/5 [00:08<00:00,  1.62s/epoch]\n",
      "100%|██████████| 5/5 [00:07<00:00,  1.55s/epoch]\n",
      "100%|██████████| 5/5 [00:07<00:00,  1.55s/epoch]\n",
      "100%|██████████| 5/5 [00:07<00:00,  1.56s/epoch]\n",
      "100%|██████████| 5/5 [00:10<00:00,  2.01s/epoch]\n",
      "100%|██████████| 5/5 [00:08<00:00,  1.79s/epoch]\n",
      "100%|██████████| 5/5 [00:08<00:00,  1.80s/epoch]\n",
      "100%|██████████| 5/5 [00:08<00:00,  1.60s/epoch]\n",
      "100%|██████████| 5/5 [00:08<00:00,  1.66s/epoch]\n",
      "100%|██████████| 5/5 [00:10<00:00,  2.02s/epoch]\n",
      "100%|██████████| 5/5 [00:11<00:00,  2.39s/epoch]\n",
      "100%|██████████| 5/5 [00:08<00:00,  1.71s/epoch]\n",
      "100%|██████████| 5/5 [00:08<00:00,  1.79s/epoch]\n",
      "100%|██████████| 5/5 [00:08<00:00,  1.63s/epoch]\n",
      "100%|██████████| 5/5 [00:08<00:00,  1.74s/epoch]\n",
      "100%|██████████| 5/5 [00:08<00:00,  1.61s/epoch]\n"
     ]
    },
    {
     "data": {
      "image/png": "[encoded data removed]",
      "text/plain": [
       "<Figure size 432x288 with 1 Axes>"
      ]
     },
     "metadata": {},
     "output_type": "display_data"
    }
   ],
   "source": [
    "\n",
    "\n",
    "%pylab inline\n",
    "for optim, title in [(tf.train.AdamOptimizer(learning_rate=0.001), 'Adam'), \n",
    "              (tf.train.FtrlOptimizer(0.01, l1_regularization_strength=0.01), 'FTRL')]:\n",
    "    acc = []\n",
    "    model = TFFMClassifier(\n",
    "        order=3, \n",
    "        rank=10, \n",
    "        optimizer=tf.train.AdamOptimizer(learning_rate=0.001), \n",
    "        n_epochs=30, \n",
    "        batch_size=1024,\n",
    "        init_std=0.001,\n",
    "        reg=0.01,\n",
    "        input_type='sparse',\n",
    "        seed=42\n",
    "    )\n",
    "    n_epochs = 5\n",
    "    anchor_epochs = range(0, 200+1, n_epochs)\n",
    "    for _ in anchor_epochs:\n",
    "        # score result every 5 epochs\n",
    "        model.fit(X_tr_sparse, y_tr, n_epochs=n_epochs, show_progress=True)\n",
    "        predictions = model.predict_proba(X_te_sparse)\n",
    "        acc.append(roc_auc_score(y_te, predictions[:,1]))\n",
    "    plot(anchor_epochs, acc, label=title)\n",
    "    model.destroy()\n",
    "xlabel('n_epochs')\n",
    "ylabel('auc')\n",
    "legend()\n",
    "grid()"
   ]
  },
  {
   "cell_type": "code",
   "execution_count": null,
   "metadata": {
    "collapsed": true
   },
   "outputs": [],
   "source": []
  }
 ],
 "metadata": {
  "kernelspec": {
   "display_name": "Python [default]",
   "language": "python",
   "name": "python3"
  },
  "language_info": {
   "codemirror_mode": {
    "name": "ipython",
    "version": 3
   },
   "file_extension": ".py",
   "mimetype": "text/x-python",
   "name": "python",
   "nbconvert_exporter": "python",
   "pygments_lexer": "ipython3",
   "version": "3.6.4"
  }
 },
 "nbformat": 4,
 "nbformat_minor": 2
}
