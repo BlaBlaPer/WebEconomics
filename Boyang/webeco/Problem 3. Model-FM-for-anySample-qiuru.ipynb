{
 "cells": [
  {
   "cell_type": "markdown",
   "metadata": {},
   "source": [
    "## Prepare"
   ]
  },
  {
   "cell_type": "code",
   "execution_count": 1,
   "metadata": {},
   "outputs": [],
   "source": [
    "def recalibrate(p,w):\n",
    "    q = p/(p+(1-p)/w)\n",
    "    return q"
   ]
  },
  {
   "cell_type": "markdown",
   "metadata": {},
   "source": [
    "## Downsampling"
   ]
  },
  {
   "cell_type": "code",
   "execution_count": 2,
   "metadata": {},
   "outputs": [],
   "source": [
    "import numpy as np\n",
    "import pandas as pd\n",
    "Train_df = pd.read_csv('/project/Data/train_newfeature.csv')\n",
    "Valid_df = pd.read_csv('/project/Data/valid_newfeature.csv')"
   ]
  },
  {
   "cell_type": "code",
   "execution_count": 4,
   "metadata": {},
   "outputs": [],
   "source": [
    "#Samp_per should be in 0.001,0.01,0.025,0.05,0.075,0.1\n",
    "samps = [0.001,0.01,0.025,0.05,0.075,0.1]\n",
    "# samps = [0.001,0.01,0.025,0.05,0.075,0.1]\n",
    "files = []"
   ]
  },
  {
   "cell_type": "code",
   "execution_count": 5,
   "metadata": {},
   "outputs": [
    {
     "name": "stdout",
     "output_type": "stream",
     "text": [
      "/project/tffm-master/csvs/train_sample0.001_0.csv is sampled.\n",
      "/project/tffm-master/csvs/train_sample0.001_1.csv is sampled.\n",
      "/project/tffm-master/csvs/train_sample0.001_2.csv is sampled.\n",
      "/project/tffm-master/csvs/train_sample0.001_3.csv is sampled.\n",
      "/project/tffm-master/csvs/train_sample0.001_4.csv is sampled.\n",
      "/project/tffm-master/csvs/train_sample0.001_5.csv is sampled.\n",
      "/project/tffm-master/csvs/train_sample0.001_6.csv is sampled.\n",
      "/project/tffm-master/csvs/train_sample0.001_7.csv is sampled.\n",
      "/project/tffm-master/csvs/train_sample0.001_8.csv is sampled.\n",
      "/project/tffm-master/csvs/train_sample0.001_9.csv is sampled.\n",
      "/project/tffm-master/csvs/train_sample0.01_0.csv is sampled.\n",
      "/project/tffm-master/csvs/train_sample0.01_1.csv is sampled.\n",
      "/project/tffm-master/csvs/train_sample0.01_2.csv is sampled.\n",
      "/project/tffm-master/csvs/train_sample0.01_3.csv is sampled.\n",
      "/project/tffm-master/csvs/train_sample0.01_4.csv is sampled.\n",
      "/project/tffm-master/csvs/train_sample0.01_5.csv is sampled.\n",
      "/project/tffm-master/csvs/train_sample0.01_6.csv is sampled.\n",
      "/project/tffm-master/csvs/train_sample0.01_7.csv is sampled.\n",
      "/project/tffm-master/csvs/train_sample0.01_8.csv is sampled.\n",
      "/project/tffm-master/csvs/train_sample0.01_9.csv is sampled.\n",
      "/project/tffm-master/csvs/train_sample0.025_0.csv is sampled.\n",
      "/project/tffm-master/csvs/train_sample0.025_1.csv is sampled.\n",
      "/project/tffm-master/csvs/train_sample0.025_2.csv is sampled.\n",
      "/project/tffm-master/csvs/train_sample0.025_3.csv is sampled.\n",
      "/project/tffm-master/csvs/train_sample0.025_4.csv is sampled.\n",
      "/project/tffm-master/csvs/train_sample0.025_5.csv is sampled.\n",
      "/project/tffm-master/csvs/train_sample0.025_6.csv is sampled.\n",
      "/project/tffm-master/csvs/train_sample0.025_7.csv is sampled.\n",
      "/project/tffm-master/csvs/train_sample0.025_8.csv is sampled.\n",
      "/project/tffm-master/csvs/train_sample0.025_9.csv is sampled.\n",
      "/project/tffm-master/csvs/train_sample0.05_0.csv is sampled.\n",
      "/project/tffm-master/csvs/train_sample0.05_1.csv is sampled.\n",
      "/project/tffm-master/csvs/train_sample0.05_2.csv is sampled.\n",
      "/project/tffm-master/csvs/train_sample0.05_3.csv is sampled.\n",
      "/project/tffm-master/csvs/train_sample0.05_4.csv is sampled.\n",
      "/project/tffm-master/csvs/train_sample0.05_5.csv is sampled.\n",
      "/project/tffm-master/csvs/train_sample0.05_6.csv is sampled.\n",
      "/project/tffm-master/csvs/train_sample0.05_7.csv is sampled.\n",
      "/project/tffm-master/csvs/train_sample0.05_8.csv is sampled.\n",
      "/project/tffm-master/csvs/train_sample0.05_9.csv is sampled.\n",
      "/project/tffm-master/csvs/train_sample0.075_0.csv is sampled.\n",
      "/project/tffm-master/csvs/train_sample0.075_1.csv is sampled.\n",
      "/project/tffm-master/csvs/train_sample0.075_2.csv is sampled.\n",
      "/project/tffm-master/csvs/train_sample0.075_3.csv is sampled.\n",
      "/project/tffm-master/csvs/train_sample0.075_4.csv is sampled.\n",
      "/project/tffm-master/csvs/train_sample0.075_5.csv is sampled.\n",
      "/project/tffm-master/csvs/train_sample0.075_6.csv is sampled.\n",
      "/project/tffm-master/csvs/train_sample0.075_7.csv is sampled.\n",
      "/project/tffm-master/csvs/train_sample0.075_8.csv is sampled.\n",
      "/project/tffm-master/csvs/train_sample0.075_9.csv is sampled.\n",
      "/project/tffm-master/csvs/train_sample0.1_0.csv is sampled.\n",
      "/project/tffm-master/csvs/train_sample0.1_1.csv is sampled.\n",
      "/project/tffm-master/csvs/train_sample0.1_2.csv is sampled.\n",
      "/project/tffm-master/csvs/train_sample0.1_3.csv is sampled.\n",
      "/project/tffm-master/csvs/train_sample0.1_4.csv is sampled.\n",
      "/project/tffm-master/csvs/train_sample0.1_5.csv is sampled.\n",
      "/project/tffm-master/csvs/train_sample0.1_6.csv is sampled.\n",
      "/project/tffm-master/csvs/train_sample0.1_7.csv is sampled.\n",
      "/project/tffm-master/csvs/train_sample0.1_8.csv is sampled.\n",
      "/project/tffm-master/csvs/train_sample0.1_9.csv is sampled.\n"
     ]
    }
   ],
   "source": [
    "for Samp_per in samps:\n",
    "    #sample 10 times\n",
    "    for i in range(10):    \n",
    "        # bids which click =1\n",
    "        df1 = Train_df[Train_df['click']==1]\n",
    "        # bids which click =0\n",
    "        df0 = Train_df[Train_df['click']==0]\n",
    "        # get click =0 data, down sampling\n",
    "        df2=df0.sample(frac=Samp_per)\n",
    "        # combine % of click =0 data and all click=1, down sampling\n",
    "        combined_df = pd.concat([df1, df2],axis=0)\n",
    "        combined_df.head()\n",
    "        combined_df.shape\n",
    "        #new trainning set shape is(62523, 127)\n",
    "        combined_name = '/project/tffm-master/csvs/'+'train_sample'+str(Samp_per)+'_'+str(i)+'.csv'\n",
    "        files.append([combined_name,Samp_per,i])\n",
    "        combined_df.to_csv(combined_name, encoding='utf-8', index=False)\n",
    "        print(combined_name+' is sampled.')\n",
    "    "
   ]
  },
  {
   "cell_type": "code",
   "execution_count": 5,
   "metadata": {
    "scrolled": true
   },
   "outputs": [
    {
     "data": {
      "text/plain": [
       "0.001"
      ]
     },
     "execution_count": 5,
     "metadata": {},
     "output_type": "execute_result"
    }
   ],
   "source": [
    "# files[0][1]"
   ]
  },
  {
   "cell_type": "markdown",
   "metadata": {},
   "source": [
    "## model"
   ]
  },
  {
   "cell_type": "code",
   "execution_count": 10,
   "metadata": {
    "scrolled": true
   },
   "outputs": [],
   "source": [
    "from tffm import TFFMClassifier\n",
    "import tensorflow as tf\n",
    "from sklearn.metrics import accuracy_score\n",
    "from sklearn.metrics import roc_auc_score\n",
    "\n",
    "\n",
    "modelfm = TFFMClassifier(\n",
    "    order=3, \n",
    "    rank=10, \n",
    "    optimizer=tf.train.AdamOptimizer(learning_rate=0.001), \n",
    "    n_epochs=30, \n",
    "    batch_size=1024,\n",
    "    init_std=0.001,\n",
    "    reg=0.01,\n",
    "    input_type='sparse',\n",
    "    seed=42\n",
    ")\n",
    "\n",
    "#modelfit(xgb4, train, predictors)"
   ]
  },
  {
   "cell_type": "markdown",
   "metadata": {},
   "source": [
    "## train"
   ]
  },
  {
   "cell_type": "code",
   "execution_count": 11,
   "metadata": {},
   "outputs": [],
   "source": [
    "#from sklearn.externals import joblib\n",
    "cols=list(Train_df.columns)[1:]"
   ]
  },
  {
   "cell_type": "code",
   "execution_count": 12,
   "metadata": {},
   "outputs": [],
   "source": [
    "Valid_df['slotheight']=Valid_df['slotheight']/10\n",
    "Valid_df['slotwidth']=Valid_df['slotwidth']/100\n",
    "Valid_df['slotprice']=Valid_df['slotprice']/100"
   ]
  },
  {
   "cell_type": "code",
   "execution_count": 13,
   "metadata": {},
   "outputs": [],
   "source": [
    "valid_results = []"
   ]
  },
  {
   "cell_type": "code",
   "execution_count": 16,
   "metadata": {
    "scrolled": false
   },
   "outputs": [
    {
     "name": "stdout",
     "output_type": "stream",
     "text": [
      "/project/tffm-master/csvs/train_sample0.001_0.csv read.\n",
      "WARNING:tensorflow:Variable += will be deprecated. Use variable.assign_add if you want assignment to the variable value or 'x = x + y' if you want a new python Tensor object.\n",
      "valid_result on /project/tffm-master/csvs/train_sample0.001_0.csv saved.\n",
      "/project/tffm-master/csvs/train_sample0.001_1.csv read.\n",
      "valid_result on /project/tffm-master/csvs/train_sample0.001_1.csv saved.\n",
      "/project/tffm-master/csvs/train_sample0.001_2.csv read.\n",
      "valid_result on /project/tffm-master/csvs/train_sample0.001_2.csv saved.\n",
      "/project/tffm-master/csvs/train_sample0.001_3.csv read.\n",
      "valid_result on /project/tffm-master/csvs/train_sample0.001_3.csv saved.\n",
      "/project/tffm-master/csvs/train_sample0.001_4.csv read.\n",
      "valid_result on /project/tffm-master/csvs/train_sample0.001_4.csv saved.\n",
      "/project/tffm-master/csvs/train_sample0.001_5.csv read.\n",
      "valid_result on /project/tffm-master/csvs/train_sample0.001_5.csv saved.\n",
      "/project/tffm-master/csvs/train_sample0.001_6.csv read.\n"
     ]
    },
    {
     "name": "stderr",
     "output_type": "stream",
     "text": [
      "/project/tffm-master/tffm/utils.py:195: RuntimeWarning: overflow encountered in exp\n",
      "  return 1 / (1 + np.exp(-x))\n"
     ]
    },
    {
     "name": "stdout",
     "output_type": "stream",
     "text": [
      "valid_result on /project/tffm-master/csvs/train_sample0.001_6.csv saved.\n",
      "/project/tffm-master/csvs/train_sample0.001_7.csv read.\n",
      "valid_result on /project/tffm-master/csvs/train_sample0.001_7.csv saved.\n",
      "/project/tffm-master/csvs/train_sample0.001_8.csv read.\n",
      "valid_result on /project/tffm-master/csvs/train_sample0.001_8.csv saved.\n",
      "/project/tffm-master/csvs/train_sample0.001_9.csv read.\n",
      "valid_result on /project/tffm-master/csvs/train_sample0.001_9.csv saved.\n",
      "/project/tffm-master/csvs/train_sample0.01_0.csv read.\n",
      "valid_result on /project/tffm-master/csvs/train_sample0.01_0.csv saved.\n",
      "/project/tffm-master/csvs/train_sample0.01_1.csv read.\n",
      "valid_result on /project/tffm-master/csvs/train_sample0.01_1.csv saved.\n",
      "/project/tffm-master/csvs/train_sample0.01_2.csv read.\n",
      "valid_result on /project/tffm-master/csvs/train_sample0.01_2.csv saved.\n",
      "/project/tffm-master/csvs/train_sample0.01_3.csv read.\n",
      "valid_result on /project/tffm-master/csvs/train_sample0.01_3.csv saved.\n",
      "/project/tffm-master/csvs/train_sample0.01_4.csv read.\n",
      "valid_result on /project/tffm-master/csvs/train_sample0.01_4.csv saved.\n",
      "/project/tffm-master/csvs/train_sample0.01_5.csv read.\n",
      "valid_result on /project/tffm-master/csvs/train_sample0.01_5.csv saved.\n",
      "/project/tffm-master/csvs/train_sample0.01_6.csv read.\n",
      "valid_result on /project/tffm-master/csvs/train_sample0.01_6.csv saved.\n",
      "/project/tffm-master/csvs/train_sample0.01_7.csv read.\n",
      "valid_result on /project/tffm-master/csvs/train_sample0.01_7.csv saved.\n",
      "/project/tffm-master/csvs/train_sample0.01_8.csv read.\n",
      "valid_result on /project/tffm-master/csvs/train_sample0.01_8.csv saved.\n",
      "/project/tffm-master/csvs/train_sample0.01_9.csv read.\n",
      "valid_result on /project/tffm-master/csvs/train_sample0.01_9.csv saved.\n",
      "/project/tffm-master/csvs/train_sample0.025_0.csv read.\n",
      "valid_result on /project/tffm-master/csvs/train_sample0.025_0.csv saved.\n",
      "/project/tffm-master/csvs/train_sample0.025_1.csv read.\n",
      "valid_result on /project/tffm-master/csvs/train_sample0.025_1.csv saved.\n",
      "/project/tffm-master/csvs/train_sample0.025_2.csv read.\n",
      "valid_result on /project/tffm-master/csvs/train_sample0.025_2.csv saved.\n",
      "/project/tffm-master/csvs/train_sample0.025_3.csv read.\n",
      "valid_result on /project/tffm-master/csvs/train_sample0.025_3.csv saved.\n",
      "/project/tffm-master/csvs/train_sample0.025_4.csv read.\n",
      "valid_result on /project/tffm-master/csvs/train_sample0.025_4.csv saved.\n",
      "/project/tffm-master/csvs/train_sample0.025_5.csv read.\n",
      "valid_result on /project/tffm-master/csvs/train_sample0.025_5.csv saved.\n",
      "/project/tffm-master/csvs/train_sample0.025_6.csv read.\n",
      "valid_result on /project/tffm-master/csvs/train_sample0.025_6.csv saved.\n",
      "/project/tffm-master/csvs/train_sample0.025_7.csv read.\n",
      "valid_result on /project/tffm-master/csvs/train_sample0.025_7.csv saved.\n",
      "/project/tffm-master/csvs/train_sample0.025_8.csv read.\n",
      "valid_result on /project/tffm-master/csvs/train_sample0.025_8.csv saved.\n",
      "/project/tffm-master/csvs/train_sample0.025_9.csv read.\n",
      "valid_result on /project/tffm-master/csvs/train_sample0.025_9.csv saved.\n",
      "/project/tffm-master/csvs/train_sample0.05_0.csv read.\n",
      "valid_result on /project/tffm-master/csvs/train_sample0.05_0.csv saved.\n",
      "/project/tffm-master/csvs/train_sample0.05_1.csv read.\n",
      "valid_result on /project/tffm-master/csvs/train_sample0.05_1.csv saved.\n",
      "/project/tffm-master/csvs/train_sample0.05_2.csv read.\n",
      "valid_result on /project/tffm-master/csvs/train_sample0.05_2.csv saved.\n",
      "/project/tffm-master/csvs/train_sample0.05_3.csv read.\n",
      "valid_result on /project/tffm-master/csvs/train_sample0.05_3.csv saved.\n",
      "/project/tffm-master/csvs/train_sample0.05_4.csv read.\n",
      "valid_result on /project/tffm-master/csvs/train_sample0.05_4.csv saved.\n",
      "/project/tffm-master/csvs/train_sample0.05_5.csv read.\n",
      "valid_result on /project/tffm-master/csvs/train_sample0.05_5.csv saved.\n",
      "/project/tffm-master/csvs/train_sample0.05_6.csv read.\n",
      "valid_result on /project/tffm-master/csvs/train_sample0.05_6.csv saved.\n",
      "/project/tffm-master/csvs/train_sample0.05_7.csv read.\n",
      "valid_result on /project/tffm-master/csvs/train_sample0.05_7.csv saved.\n",
      "/project/tffm-master/csvs/train_sample0.05_8.csv read.\n",
      "valid_result on /project/tffm-master/csvs/train_sample0.05_8.csv saved.\n",
      "/project/tffm-master/csvs/train_sample0.05_9.csv read.\n",
      "valid_result on /project/tffm-master/csvs/train_sample0.05_9.csv saved.\n",
      "/project/tffm-master/csvs/train_sample0.075_0.csv read.\n",
      "valid_result on /project/tffm-master/csvs/train_sample0.075_0.csv saved.\n",
      "/project/tffm-master/csvs/train_sample0.075_1.csv read.\n",
      "valid_result on /project/tffm-master/csvs/train_sample0.075_1.csv saved.\n",
      "/project/tffm-master/csvs/train_sample0.075_2.csv read.\n",
      "valid_result on /project/tffm-master/csvs/train_sample0.075_2.csv saved.\n",
      "/project/tffm-master/csvs/train_sample0.075_3.csv read.\n",
      "valid_result on /project/tffm-master/csvs/train_sample0.075_3.csv saved.\n",
      "/project/tffm-master/csvs/train_sample0.075_4.csv read.\n",
      "valid_result on /project/tffm-master/csvs/train_sample0.075_4.csv saved.\n",
      "/project/tffm-master/csvs/train_sample0.075_5.csv read.\n",
      "valid_result on /project/tffm-master/csvs/train_sample0.075_5.csv saved.\n",
      "/project/tffm-master/csvs/train_sample0.075_6.csv read.\n",
      "valid_result on /project/tffm-master/csvs/train_sample0.075_6.csv saved.\n",
      "/project/tffm-master/csvs/train_sample0.075_7.csv read.\n",
      "valid_result on /project/tffm-master/csvs/train_sample0.075_7.csv saved.\n",
      "/project/tffm-master/csvs/train_sample0.075_8.csv read.\n",
      "valid_result on /project/tffm-master/csvs/train_sample0.075_8.csv saved.\n",
      "/project/tffm-master/csvs/train_sample0.075_9.csv read.\n",
      "valid_result on /project/tffm-master/csvs/train_sample0.075_9.csv saved.\n",
      "/project/tffm-master/csvs/train_sample0.1_0.csv read.\n",
      "valid_result on /project/tffm-master/csvs/train_sample0.1_0.csv saved.\n",
      "/project/tffm-master/csvs/train_sample0.1_1.csv read.\n",
      "valid_result on /project/tffm-master/csvs/train_sample0.1_1.csv saved.\n",
      "/project/tffm-master/csvs/train_sample0.1_2.csv read.\n",
      "valid_result on /project/tffm-master/csvs/train_sample0.1_2.csv saved.\n",
      "/project/tffm-master/csvs/train_sample0.1_3.csv read.\n",
      "valid_result on /project/tffm-master/csvs/train_sample0.1_3.csv saved.\n",
      "/project/tffm-master/csvs/train_sample0.1_4.csv read.\n",
      "valid_result on /project/tffm-master/csvs/train_sample0.1_4.csv saved.\n",
      "/project/tffm-master/csvs/train_sample0.1_5.csv read.\n",
      "valid_result on /project/tffm-master/csvs/train_sample0.1_5.csv saved.\n",
      "/project/tffm-master/csvs/train_sample0.1_6.csv read.\n",
      "valid_result on /project/tffm-master/csvs/train_sample0.1_6.csv saved.\n",
      "/project/tffm-master/csvs/train_sample0.1_7.csv read.\n",
      "valid_result on /project/tffm-master/csvs/train_sample0.1_7.csv saved.\n",
      "/project/tffm-master/csvs/train_sample0.1_8.csv read.\n",
      "valid_result on /project/tffm-master/csvs/train_sample0.1_8.csv saved.\n",
      "/project/tffm-master/csvs/train_sample0.1_9.csv read.\n",
      "valid_result on /project/tffm-master/csvs/train_sample0.1_9.csv saved.\n"
     ]
    }
   ],
   "source": [
    "import scipy.sparse as sp\n",
    "\n",
    "#your own location\n",
    "#loc = '/project/tffm-master/csvs/'\n",
    "\n",
    "#file[combined_name,Samp_per,i]\n",
    "for file in files:\n",
    "    \n",
    "    #read\n",
    "    #fileloc = loc+file[0]\n",
    "    fileloc = file[0]\n",
    "    combined_df = pd.read_csv(fileloc)\n",
    "    print(fileloc+' read.')\n",
    "    \n",
    "    combined_df['slotheight']=combined_df['slotheight']/10\n",
    "    combined_df['slotwidth']=combined_df['slotwidth']/100\n",
    "    combined_df['slotprice']=combined_df['slotprice']/100\n",
    "    \n",
    "    train_y = combined_df['click']\n",
    "    train_x = combined_df[cols]\n",
    "    \n",
    "    train_x=train_x.values\n",
    "    train_y=train_y.values\n",
    "    \n",
    "    #train model\n",
    "    X = sp.csr_matrix(train_x)\n",
    "    y = train_y\n",
    "    \n",
    "    model = modelfm\n",
    "    model.fit(X, y)\n",
    "    #save model\n",
    "    #filename = file[0]+'_xg.sav'\n",
    "    #joblib.dump(model, filename)\n",
    "    \n",
    "    \n",
    "    \n",
    "    #validation set\n",
    "    valid_x = Valid_df[cols]\n",
    "    valid_x = sp.csr_matrix(valid_x.values)\n",
    "\n",
    "    \n",
    "    valid_predictions = model.predict_proba(valid_x)\n",
    "    valid_predictions_class = model.predict(valid_x)\n",
    "    #save valid result\n",
    "    valid_result = pd.DataFrame(columns=['click', 'click_pred_per', 'click_pred_class'])  \n",
    "    valid_result['click']= Valid_df['click'].copy()\n",
    "    valid_result['click_pred_per'] = valid_predictions[:,1]\n",
    "    valid_result['click_pred_per']=recalibrate(valid_result['click_pred_per'],file[1])\n",
    "    valid_result['click_pred_class'] = valid_predictions_class\n",
    "    valid_results.append(valid_result)\n",
    "    print('valid_result on '+file[0]+' saved.')\n",
    "    "
   ]
  },
  {
   "cell_type": "code",
   "execution_count": 20,
   "metadata": {},
   "outputs": [
    {
     "name": "stdout",
     "output_type": "stream",
     "text": [
      "valid_result on /project/tffm-master/csvs/train_sample0.001_0.csv saved.\n",
      "valid_result on /project/tffm-master/csvs/train_sample0.001_1.csv saved.\n",
      "valid_result on /project/tffm-master/csvs/train_sample0.001_2.csv saved.\n",
      "valid_result on /project/tffm-master/csvs/train_sample0.001_3.csv saved.\n",
      "valid_result on /project/tffm-master/csvs/train_sample0.001_4.csv saved.\n",
      "valid_result on /project/tffm-master/csvs/train_sample0.001_5.csv saved.\n",
      "valid_result on /project/tffm-master/csvs/train_sample0.001_6.csv saved.\n",
      "valid_result on /project/tffm-master/csvs/train_sample0.001_7.csv saved.\n",
      "valid_result on /project/tffm-master/csvs/train_sample0.001_8.csv saved.\n",
      "valid_result on /project/tffm-master/csvs/train_sample0.001_9.csv saved.\n",
      "valid_result on /project/tffm-master/csvs/train_sample0.01_0.csv saved.\n",
      "valid_result on /project/tffm-master/csvs/train_sample0.01_1.csv saved.\n",
      "valid_result on /project/tffm-master/csvs/train_sample0.01_2.csv saved.\n",
      "valid_result on /project/tffm-master/csvs/train_sample0.01_3.csv saved.\n",
      "valid_result on /project/tffm-master/csvs/train_sample0.01_4.csv saved.\n",
      "valid_result on /project/tffm-master/csvs/train_sample0.01_5.csv saved.\n",
      "valid_result on /project/tffm-master/csvs/train_sample0.01_6.csv saved.\n",
      "valid_result on /project/tffm-master/csvs/train_sample0.01_7.csv saved.\n",
      "valid_result on /project/tffm-master/csvs/train_sample0.01_8.csv saved.\n",
      "valid_result on /project/tffm-master/csvs/train_sample0.01_9.csv saved.\n",
      "valid_result on /project/tffm-master/csvs/train_sample0.025_0.csv saved.\n",
      "valid_result on /project/tffm-master/csvs/train_sample0.025_1.csv saved.\n",
      "valid_result on /project/tffm-master/csvs/train_sample0.025_2.csv saved.\n",
      "valid_result on /project/tffm-master/csvs/train_sample0.025_3.csv saved.\n",
      "valid_result on /project/tffm-master/csvs/train_sample0.025_4.csv saved.\n",
      "valid_result on /project/tffm-master/csvs/train_sample0.025_5.csv saved.\n",
      "valid_result on /project/tffm-master/csvs/train_sample0.025_6.csv saved.\n",
      "valid_result on /project/tffm-master/csvs/train_sample0.025_7.csv saved.\n",
      "valid_result on /project/tffm-master/csvs/train_sample0.025_8.csv saved.\n",
      "valid_result on /project/tffm-master/csvs/train_sample0.025_9.csv saved.\n",
      "valid_result on /project/tffm-master/csvs/train_sample0.05_0.csv saved.\n",
      "valid_result on /project/tffm-master/csvs/train_sample0.05_1.csv saved.\n",
      "valid_result on /project/tffm-master/csvs/train_sample0.05_2.csv saved.\n",
      "valid_result on /project/tffm-master/csvs/train_sample0.05_3.csv saved.\n",
      "valid_result on /project/tffm-master/csvs/train_sample0.05_4.csv saved.\n",
      "valid_result on /project/tffm-master/csvs/train_sample0.05_5.csv saved.\n",
      "valid_result on /project/tffm-master/csvs/train_sample0.05_6.csv saved.\n",
      "valid_result on /project/tffm-master/csvs/train_sample0.05_7.csv saved.\n",
      "valid_result on /project/tffm-master/csvs/train_sample0.05_8.csv saved.\n",
      "valid_result on /project/tffm-master/csvs/train_sample0.05_9.csv saved.\n",
      "valid_result on /project/tffm-master/csvs/train_sample0.075_0.csv saved.\n",
      "valid_result on /project/tffm-master/csvs/train_sample0.075_1.csv saved.\n",
      "valid_result on /project/tffm-master/csvs/train_sample0.075_2.csv saved.\n",
      "valid_result on /project/tffm-master/csvs/train_sample0.075_3.csv saved.\n",
      "valid_result on /project/tffm-master/csvs/train_sample0.075_4.csv saved.\n",
      "valid_result on /project/tffm-master/csvs/train_sample0.075_5.csv saved.\n",
      "valid_result on /project/tffm-master/csvs/train_sample0.075_6.csv saved.\n",
      "valid_result on /project/tffm-master/csvs/train_sample0.075_7.csv saved.\n",
      "valid_result on /project/tffm-master/csvs/train_sample0.075_8.csv saved.\n",
      "valid_result on /project/tffm-master/csvs/train_sample0.075_9.csv saved.\n",
      "valid_result on /project/tffm-master/csvs/train_sample0.1_0.csv saved.\n",
      "valid_result on /project/tffm-master/csvs/train_sample0.1_1.csv saved.\n",
      "valid_result on /project/tffm-master/csvs/train_sample0.1_2.csv saved.\n",
      "valid_result on /project/tffm-master/csvs/train_sample0.1_3.csv saved.\n",
      "valid_result on /project/tffm-master/csvs/train_sample0.1_4.csv saved.\n",
      "valid_result on /project/tffm-master/csvs/train_sample0.1_5.csv saved.\n",
      "valid_result on /project/tffm-master/csvs/train_sample0.1_6.csv saved.\n",
      "valid_result on /project/tffm-master/csvs/train_sample0.1_7.csv saved.\n",
      "valid_result on /project/tffm-master/csvs/train_sample0.1_8.csv saved.\n",
      "valid_result on /project/tffm-master/csvs/train_sample0.1_9.csv saved.\n"
     ]
    }
   ],
   "source": [
    "i=0\n",
    "for file in files:\n",
    "    valid_result_name = file[0]+'_result.csv'\n",
    "    valid_results[i].to_csv(valid_result_name, encoding='utf-8', index=False)    \n",
    "    i=i+1\n",
    "    print('valid_result on '+file[0]+' saved.')\n",
    "    "
   ]
  },
  {
   "cell_type": "code",
   "execution_count": 72,
   "metadata": {
    "scrolled": true
   },
   "outputs": [],
   "source": [
    "#valid_results[50][valid_results[50].click == 1]"
   ]
  },
  {
   "cell_type": "markdown",
   "metadata": {
    "collapsed": true
   },
   "source": [
    "## Find Base Bid"
   ]
  },
  {
   "cell_type": "code",
   "execution_count": 23,
   "metadata": {},
   "outputs": [],
   "source": [
    "%matplotlib inline\n",
    "import matplotlib\n",
    "import matplotlib.pyplot as plt\n",
    "import mpld3\n",
    "import numpy as np"
   ]
  },
  {
   "cell_type": "code",
   "execution_count": 24,
   "metadata": {},
   "outputs": [],
   "source": [
    "df_valid = pd.read_csv(\"/project/Data/validation.csv\")"
   ]
  },
  {
   "cell_type": "code",
   "execution_count": 25,
   "metadata": {},
   "outputs": [],
   "source": [
    "# parameters\n",
    "total_budget = 6250000\n",
    "payprice = df_valid['payprice'].as_matrix()\n",
    "Train_df_qr = df_valid.copy()\n",
    "avgCTR = 1793/2430981 #train set\n",
    "#tuning..."
   ]
  },
  {
   "cell_type": "code",
   "execution_count": 26,
   "metadata": {},
   "outputs": [],
   "source": [
    "def generate_bidprice(base_bid, test_predictions):\n",
    "    avgCTR = 1793/2430981#train set\n",
    "    bidprices = base_bid*test_predictions/avgCTR\n",
    "    return bidprices"
   ]
  },
  {
   "cell_type": "code",
   "execution_count": 27,
   "metadata": {},
   "outputs": [],
   "source": [
    "def Prob3(Train_df,payprice,base_bid,test_predictions):\n",
    "    Train_Const_summ = pd.DataFrame({'Clicks':'', 'Spend':'', 'CTR':'', 'CPM':'', 'eCPC':''}, index=[0])\n",
    "    \n",
    "    #if count_break = 5 break\n",
    "    count_break = 0\n",
    "    \n",
    "    current_budget = total_budget\n",
    "    Train_df['win'] = 0 #initialize win label\n",
    "    bidprices = generate_bidprice(base_bid, test_predictions)\n",
    "    #start biding...\n",
    "    for i in Train_df.index:\n",
    "        current_bidprice = bidprices[i]\n",
    "        #consider budget\n",
    "        if current_budget <= current_bidprice:              \n",
    "            #count lack budget times\n",
    "            count_break = count_break + 1\n",
    "#             print('lack of budget!',\"current_budget:\",current_budget,\";current_bidprice:\",current_bidprice,';count_break:',count_break)\n",
    "            if count_break > 5:\n",
    "                break  \n",
    "            #reset bidprice\n",
    "            current_bidprice = current_budget\n",
    "        else:\n",
    "            count_break = 0\n",
    "            \n",
    "\n",
    "        #Winning criterion:\n",
    "        current_payprice = payprice[i]\n",
    "        if current_bidprice > current_payprice:\n",
    "            Train_df.at[i, 'win'] = int(1)\n",
    "            current_budget = current_budget - current_payprice\n",
    "        else:\n",
    "            Train_df.at[i, 'win'] = int(0)\n",
    "\n",
    "    #biding end        \n",
    "    \n",
    "    Train_df_new = Train_df[Train_df['win']!=0]\n",
    "\n",
    "        \n",
    "    return Train_df,current_budget"
   ]
  },
  {
   "cell_type": "code",
   "execution_count": 28,
   "metadata": {},
   "outputs": [],
   "source": [
    "def calculate_click(base_bid,Train_df,payprice,test_predictions):\n",
    "#     print('base_bid:',base_bid)\n",
    "    result_df,current_budget = Prob3(Train_df,payprice,base_bid,test_predictions)\n",
    "#     print('current_budget:',current_budget)\n",
    "    Train_df_new = result_df[result_df['win']!=0]\n",
    "    wintimes,_ = Train_df_new.shape\n",
    "#     print('wintimes:',wintimes)\n",
    "#     print('----------------')\n",
    "    Clk = Train_df_new['click'].sum()    \n",
    "    return Clk"
   ]
  },
  {
   "cell_type": "code",
   "execution_count": 75,
   "metadata": {},
   "outputs": [],
   "source": [
    "#test range\n",
    "base_bids = np.arange(80,260,10)#区间可以适当左右调整一下，但大概就是这个范围\n",
    "count = 0\n",
    "maxClks = []"
   ]
  },
  {
   "cell_type": "code",
   "execution_count": 35,
   "metadata": {
    "scrolled": true
   },
   "outputs": [
    {
     "name": "stdout",
     "output_type": "stream",
     "text": [
      "1 valid result is being test...\n",
      "max click@ 0 base_bid= 120 click = 129\n",
      "2 valid result is being test...\n"
     ]
    },
    {
     "ename": "KeyboardInterrupt",
     "evalue": "",
     "output_type": "error",
     "traceback": [
      "\u001b[0;31m---------------------------------------------------------------------------\u001b[0m",
      "\u001b[0;31mKeyboardInterrupt\u001b[0m                         Traceback (most recent call last)",
      "\u001b[0;32m<ipython-input-35-e2e96afe638b>\u001b[0m in \u001b[0;36m<module>\u001b[0;34m()\u001b[0m\n\u001b[1;32m      3\u001b[0m     \u001b[0mprint\u001b[0m\u001b[0;34m(\u001b[0m\u001b[0mstr\u001b[0m\u001b[0;34m(\u001b[0m\u001b[0mcount\u001b[0m\u001b[0;34m)\u001b[0m\u001b[0;34m+\u001b[0m\u001b[0;34m\" valid result is being test...\"\u001b[0m\u001b[0;34m)\u001b[0m\u001b[0;34m\u001b[0m\u001b[0m\n\u001b[1;32m      4\u001b[0m     \u001b[0mtest_predictions\u001b[0m\u001b[0;34m=\u001b[0m\u001b[0mvalid_result\u001b[0m\u001b[0;34m[\u001b[0m\u001b[0;34m'click_pred_per'\u001b[0m\u001b[0;34m]\u001b[0m\u001b[0;34m\u001b[0m\u001b[0m\n\u001b[0;32m----> 5\u001b[0;31m     \u001b[0mClks\u001b[0m \u001b[0;34m=\u001b[0m \u001b[0;34m[\u001b[0m\u001b[0mcalculate_click\u001b[0m\u001b[0;34m(\u001b[0m\u001b[0mbase_bid\u001b[0m\u001b[0;34m,\u001b[0m\u001b[0mTrain_df_qr\u001b[0m\u001b[0;34m,\u001b[0m\u001b[0mpayprice\u001b[0m\u001b[0;34m,\u001b[0m\u001b[0mtest_predictions\u001b[0m\u001b[0;34m)\u001b[0m \u001b[0;32mfor\u001b[0m \u001b[0mbase_bid\u001b[0m \u001b[0;32min\u001b[0m \u001b[0mbase_bids\u001b[0m\u001b[0;34m]\u001b[0m\u001b[0;34m\u001b[0m\u001b[0m\n\u001b[0m\u001b[1;32m      6\u001b[0m     \u001b[0mprint\u001b[0m\u001b[0;34m(\u001b[0m\u001b[0;34m\"max click@\"\u001b[0m\u001b[0;34m,\u001b[0m\u001b[0mClks\u001b[0m\u001b[0;34m.\u001b[0m\u001b[0mindex\u001b[0m\u001b[0;34m(\u001b[0m\u001b[0mmax\u001b[0m\u001b[0;34m(\u001b[0m\u001b[0mClks\u001b[0m\u001b[0;34m)\u001b[0m\u001b[0;34m)\u001b[0m\u001b[0;34m,\u001b[0m\u001b[0;34m\"base_bid=\"\u001b[0m\u001b[0;34m,\u001b[0m\u001b[0mbase_bids\u001b[0m\u001b[0;34m[\u001b[0m\u001b[0mClks\u001b[0m\u001b[0;34m.\u001b[0m\u001b[0mindex\u001b[0m\u001b[0;34m(\u001b[0m\u001b[0mmax\u001b[0m\u001b[0;34m(\u001b[0m\u001b[0mClks\u001b[0m\u001b[0;34m)\u001b[0m\u001b[0;34m)\u001b[0m\u001b[0;34m]\u001b[0m\u001b[0;34m,\u001b[0m\u001b[0;34m\"click =\"\u001b[0m\u001b[0;34m,\u001b[0m\u001b[0mmax\u001b[0m\u001b[0;34m(\u001b[0m\u001b[0mClks\u001b[0m\u001b[0;34m)\u001b[0m\u001b[0;34m)\u001b[0m\u001b[0;34m\u001b[0m\u001b[0m\n\u001b[1;32m      7\u001b[0m     \u001b[0mmaxClks\u001b[0m\u001b[0;34m.\u001b[0m\u001b[0mappend\u001b[0m\u001b[0;34m(\u001b[0m\u001b[0mmax\u001b[0m\u001b[0;34m(\u001b[0m\u001b[0mClks\u001b[0m\u001b[0;34m)\u001b[0m\u001b[0;34m)\u001b[0m\u001b[0;34m\u001b[0m\u001b[0m\n",
      "\u001b[0;32m<ipython-input-35-e2e96afe638b>\u001b[0m in \u001b[0;36m<listcomp>\u001b[0;34m(.0)\u001b[0m\n\u001b[1;32m      3\u001b[0m     \u001b[0mprint\u001b[0m\u001b[0;34m(\u001b[0m\u001b[0mstr\u001b[0m\u001b[0;34m(\u001b[0m\u001b[0mcount\u001b[0m\u001b[0;34m)\u001b[0m\u001b[0;34m+\u001b[0m\u001b[0;34m\" valid result is being test...\"\u001b[0m\u001b[0;34m)\u001b[0m\u001b[0;34m\u001b[0m\u001b[0m\n\u001b[1;32m      4\u001b[0m     \u001b[0mtest_predictions\u001b[0m\u001b[0;34m=\u001b[0m\u001b[0mvalid_result\u001b[0m\u001b[0;34m[\u001b[0m\u001b[0;34m'click_pred_per'\u001b[0m\u001b[0;34m]\u001b[0m\u001b[0;34m\u001b[0m\u001b[0m\n\u001b[0;32m----> 5\u001b[0;31m     \u001b[0mClks\u001b[0m \u001b[0;34m=\u001b[0m \u001b[0;34m[\u001b[0m\u001b[0mcalculate_click\u001b[0m\u001b[0;34m(\u001b[0m\u001b[0mbase_bid\u001b[0m\u001b[0;34m,\u001b[0m\u001b[0mTrain_df_qr\u001b[0m\u001b[0;34m,\u001b[0m\u001b[0mpayprice\u001b[0m\u001b[0;34m,\u001b[0m\u001b[0mtest_predictions\u001b[0m\u001b[0;34m)\u001b[0m \u001b[0;32mfor\u001b[0m \u001b[0mbase_bid\u001b[0m \u001b[0;32min\u001b[0m \u001b[0mbase_bids\u001b[0m\u001b[0;34m]\u001b[0m\u001b[0;34m\u001b[0m\u001b[0m\n\u001b[0m\u001b[1;32m      6\u001b[0m     \u001b[0mprint\u001b[0m\u001b[0;34m(\u001b[0m\u001b[0;34m\"max click@\"\u001b[0m\u001b[0;34m,\u001b[0m\u001b[0mClks\u001b[0m\u001b[0;34m.\u001b[0m\u001b[0mindex\u001b[0m\u001b[0;34m(\u001b[0m\u001b[0mmax\u001b[0m\u001b[0;34m(\u001b[0m\u001b[0mClks\u001b[0m\u001b[0;34m)\u001b[0m\u001b[0;34m)\u001b[0m\u001b[0;34m,\u001b[0m\u001b[0;34m\"base_bid=\"\u001b[0m\u001b[0;34m,\u001b[0m\u001b[0mbase_bids\u001b[0m\u001b[0;34m[\u001b[0m\u001b[0mClks\u001b[0m\u001b[0;34m.\u001b[0m\u001b[0mindex\u001b[0m\u001b[0;34m(\u001b[0m\u001b[0mmax\u001b[0m\u001b[0;34m(\u001b[0m\u001b[0mClks\u001b[0m\u001b[0;34m)\u001b[0m\u001b[0;34m)\u001b[0m\u001b[0;34m]\u001b[0m\u001b[0;34m,\u001b[0m\u001b[0;34m\"click =\"\u001b[0m\u001b[0;34m,\u001b[0m\u001b[0mmax\u001b[0m\u001b[0;34m(\u001b[0m\u001b[0mClks\u001b[0m\u001b[0;34m)\u001b[0m\u001b[0;34m)\u001b[0m\u001b[0;34m\u001b[0m\u001b[0m\n\u001b[1;32m      7\u001b[0m     \u001b[0mmaxClks\u001b[0m\u001b[0;34m.\u001b[0m\u001b[0mappend\u001b[0m\u001b[0;34m(\u001b[0m\u001b[0mmax\u001b[0m\u001b[0;34m(\u001b[0m\u001b[0mClks\u001b[0m\u001b[0;34m)\u001b[0m\u001b[0;34m)\u001b[0m\u001b[0;34m\u001b[0m\u001b[0m\n",
      "\u001b[0;32m<ipython-input-28-4f7cb5ab064a>\u001b[0m in \u001b[0;36mcalculate_click\u001b[0;34m(base_bid, Train_df, payprice, test_predictions)\u001b[0m\n\u001b[1;32m      1\u001b[0m \u001b[0;32mdef\u001b[0m \u001b[0mcalculate_click\u001b[0m\u001b[0;34m(\u001b[0m\u001b[0mbase_bid\u001b[0m\u001b[0;34m,\u001b[0m\u001b[0mTrain_df\u001b[0m\u001b[0;34m,\u001b[0m\u001b[0mpayprice\u001b[0m\u001b[0;34m,\u001b[0m\u001b[0mtest_predictions\u001b[0m\u001b[0;34m)\u001b[0m\u001b[0;34m:\u001b[0m\u001b[0;34m\u001b[0m\u001b[0m\n\u001b[1;32m      2\u001b[0m \u001b[0;31m#     print('base_bid:',base_bid)\u001b[0m\u001b[0;34m\u001b[0m\u001b[0;34m\u001b[0m\u001b[0m\n\u001b[0;32m----> 3\u001b[0;31m     \u001b[0mresult_df\u001b[0m\u001b[0;34m,\u001b[0m\u001b[0mcurrent_budget\u001b[0m \u001b[0;34m=\u001b[0m \u001b[0mProb3\u001b[0m\u001b[0;34m(\u001b[0m\u001b[0mTrain_df\u001b[0m\u001b[0;34m,\u001b[0m\u001b[0mpayprice\u001b[0m\u001b[0;34m,\u001b[0m\u001b[0mbase_bid\u001b[0m\u001b[0;34m,\u001b[0m\u001b[0mtest_predictions\u001b[0m\u001b[0;34m)\u001b[0m\u001b[0;34m\u001b[0m\u001b[0m\n\u001b[0m\u001b[1;32m      4\u001b[0m \u001b[0;31m#     print('current_budget:',current_budget)\u001b[0m\u001b[0;34m\u001b[0m\u001b[0;34m\u001b[0m\u001b[0m\n\u001b[1;32m      5\u001b[0m     \u001b[0mTrain_df_new\u001b[0m \u001b[0;34m=\u001b[0m \u001b[0mresult_df\u001b[0m\u001b[0;34m[\u001b[0m\u001b[0mresult_df\u001b[0m\u001b[0;34m[\u001b[0m\u001b[0;34m'win'\u001b[0m\u001b[0;34m]\u001b[0m\u001b[0;34m!=\u001b[0m\u001b[0;36m0\u001b[0m\u001b[0;34m]\u001b[0m\u001b[0;34m\u001b[0m\u001b[0m\n",
      "\u001b[0;32m<ipython-input-27-fc9b50d2d400>\u001b[0m in \u001b[0;36mProb3\u001b[0;34m(Train_df, payprice, base_bid, test_predictions)\u001b[0m\n\u001b[1;32m     10\u001b[0m     \u001b[0;31m#start biding...\u001b[0m\u001b[0;34m\u001b[0m\u001b[0;34m\u001b[0m\u001b[0m\n\u001b[1;32m     11\u001b[0m     \u001b[0;32mfor\u001b[0m \u001b[0mi\u001b[0m \u001b[0;32min\u001b[0m \u001b[0mTrain_df\u001b[0m\u001b[0;34m.\u001b[0m\u001b[0mindex\u001b[0m\u001b[0;34m:\u001b[0m\u001b[0;34m\u001b[0m\u001b[0m\n\u001b[0;32m---> 12\u001b[0;31m         \u001b[0mcurrent_bidprice\u001b[0m \u001b[0;34m=\u001b[0m \u001b[0mbidprices\u001b[0m\u001b[0;34m[\u001b[0m\u001b[0mi\u001b[0m\u001b[0;34m]\u001b[0m\u001b[0;34m\u001b[0m\u001b[0m\n\u001b[0m\u001b[1;32m     13\u001b[0m         \u001b[0;31m#consider budget\u001b[0m\u001b[0;34m\u001b[0m\u001b[0;34m\u001b[0m\u001b[0m\n\u001b[1;32m     14\u001b[0m         \u001b[0;32mif\u001b[0m \u001b[0mcurrent_budget\u001b[0m \u001b[0;34m<=\u001b[0m \u001b[0mcurrent_bidprice\u001b[0m\u001b[0;34m:\u001b[0m\u001b[0;34m\u001b[0m\u001b[0m\n",
      "\u001b[0;32m/opt/anaconda/envs/Python3/lib/python3.6/site-packages/pandas/core/series.py\u001b[0m in \u001b[0;36m__getitem__\u001b[0;34m(self, key)\u001b[0m\n\u001b[1;32m    621\u001b[0m         \u001b[0mkey\u001b[0m \u001b[0;34m=\u001b[0m \u001b[0mcom\u001b[0m\u001b[0;34m.\u001b[0m\u001b[0m_apply_if_callable\u001b[0m\u001b[0;34m(\u001b[0m\u001b[0mkey\u001b[0m\u001b[0;34m,\u001b[0m \u001b[0mself\u001b[0m\u001b[0;34m)\u001b[0m\u001b[0;34m\u001b[0m\u001b[0m\n\u001b[1;32m    622\u001b[0m         \u001b[0;32mtry\u001b[0m\u001b[0;34m:\u001b[0m\u001b[0;34m\u001b[0m\u001b[0m\n\u001b[0;32m--> 623\u001b[0;31m             \u001b[0mresult\u001b[0m \u001b[0;34m=\u001b[0m \u001b[0mself\u001b[0m\u001b[0;34m.\u001b[0m\u001b[0mindex\u001b[0m\u001b[0;34m.\u001b[0m\u001b[0mget_value\u001b[0m\u001b[0;34m(\u001b[0m\u001b[0mself\u001b[0m\u001b[0;34m,\u001b[0m \u001b[0mkey\u001b[0m\u001b[0;34m)\u001b[0m\u001b[0;34m\u001b[0m\u001b[0m\n\u001b[0m\u001b[1;32m    624\u001b[0m \u001b[0;34m\u001b[0m\u001b[0m\n\u001b[1;32m    625\u001b[0m             \u001b[0;32mif\u001b[0m \u001b[0;32mnot\u001b[0m \u001b[0mis_scalar\u001b[0m\u001b[0;34m(\u001b[0m\u001b[0mresult\u001b[0m\u001b[0;34m)\u001b[0m\u001b[0;34m:\u001b[0m\u001b[0;34m\u001b[0m\u001b[0m\n",
      "\u001b[0;32m/opt/anaconda/envs/Python3/lib/python3.6/site-packages/pandas/core/indexes/base.py\u001b[0m in \u001b[0;36mget_value\u001b[0;34m(self, series, key)\u001b[0m\n\u001b[1;32m   2553\u001b[0m \u001b[0;34m\u001b[0m\u001b[0m\n\u001b[1;32m   2554\u001b[0m         \u001b[0ms\u001b[0m \u001b[0;34m=\u001b[0m \u001b[0m_values_from_object\u001b[0m\u001b[0;34m(\u001b[0m\u001b[0mseries\u001b[0m\u001b[0;34m)\u001b[0m\u001b[0;34m\u001b[0m\u001b[0m\n\u001b[0;32m-> 2555\u001b[0;31m         \u001b[0mk\u001b[0m \u001b[0;34m=\u001b[0m \u001b[0m_values_from_object\u001b[0m\u001b[0;34m(\u001b[0m\u001b[0mkey\u001b[0m\u001b[0;34m)\u001b[0m\u001b[0;34m\u001b[0m\u001b[0m\n\u001b[0m\u001b[1;32m   2556\u001b[0m \u001b[0;34m\u001b[0m\u001b[0m\n\u001b[1;32m   2557\u001b[0m         \u001b[0mk\u001b[0m \u001b[0;34m=\u001b[0m \u001b[0mself\u001b[0m\u001b[0;34m.\u001b[0m\u001b[0m_convert_scalar_indexer\u001b[0m\u001b[0;34m(\u001b[0m\u001b[0mk\u001b[0m\u001b[0;34m,\u001b[0m \u001b[0mkind\u001b[0m\u001b[0;34m=\u001b[0m\u001b[0;34m'getitem'\u001b[0m\u001b[0;34m)\u001b[0m\u001b[0;34m\u001b[0m\u001b[0m\n",
      "\u001b[0;31mKeyboardInterrupt\u001b[0m: "
     ]
    }
   ],
   "source": [
    "for valid_result in valid_results[0:7]:\n",
    "    count = count + 1\n",
    "    print(str(count)+\" valid result is being test...\")\n",
    "    test_predictions=valid_result['click_pred_per']\n",
    "    Clks = [calculate_click(base_bid,Train_df_qr,payprice,test_predictions) for base_bid in base_bids]\n",
    "    print(\"max click@\",Clks.index(max(Clks)),\"base_bid=\",base_bids[Clks.index(max(Clks))],\"click =\",max(Clks))\n",
    "    maxClks.append(max(Clks))\n",
    "#     fig = plt.figure()\n",
    "#     plt.plot(base_bids,Clks)\n",
    "#     mpld3.display(fig)"
   ]
  },
  {
   "cell_type": "code",
   "execution_count": 20,
   "metadata": {
    "scrolled": true
   },
   "outputs": [
    {
     "data": {
      "text/plain": [
       "[169, 168, 165, 167, 163, 168, 167, 167, 166, 169]"
      ]
     },
     "execution_count": 20,
     "metadata": {},
     "output_type": "execute_result"
    }
   ],
   "source": [
    "maxClks"
   ]
  },
  {
   "cell_type": "code",
   "execution_count": 21,
   "metadata": {},
   "outputs": [
    {
     "data": {
      "text/plain": [
       "169"
      ]
     },
     "execution_count": 21,
     "metadata": {},
     "output_type": "execute_result"
    }
   ],
   "source": [
    "max(maxClks)"
   ]
  },
  {
   "cell_type": "code",
   "execution_count": null,
   "metadata": {
    "collapsed": true
   },
   "outputs": [],
   "source": [
    "#end"
   ]
  },
  {
   "cell_type": "code",
   "execution_count": 76,
   "metadata": {},
   "outputs": [
    {
     "name": "stdout",
     "output_type": "stream",
     "text": [
      "1 valid result is being test...\n",
      "[125, 125, 126, 130, 131, 132, 135, 137, 138, 138, 139, 139, 140, 140, 140, 140, 141, 141]\n",
      "================================================\n",
      "max click@ 16 base_bid= 240 click = 141\n",
      "2 valid result is being test...\n",
      "[118, 120, 124, 127, 129, 129, 130, 131, 133, 133, 134, 137, 138, 140, 141, 142, 143, 143]\n",
      "================================================\n",
      "max click@ 16 base_bid= 240 click = 143\n",
      "3 valid result is being test...\n",
      "[123, 127, 128, 128, 128, 128, 130, 134, 137, 139, 139, 139, 139, 139, 139, 141, 141, 141]\n",
      "================================================\n",
      "max click@ 15 base_bid= 230 click = 141\n",
      "4 valid result is being test...\n",
      "[119, 121, 128, 130, 130, 131, 133, 133, 133, 135, 137, 137, 139, 139, 140, 142, 142, 142]\n",
      "================================================\n",
      "max click@ 15 base_bid= 230 click = 142\n",
      "5 valid result is being test...\n",
      "[120, 124, 124, 126, 129, 129, 130, 130, 131, 135, 136, 136, 138, 139, 140, 141, 143, 144]\n",
      "================================================\n",
      "max click@ 17 base_bid= 250 click = 144\n",
      "6 valid result is being test...\n",
      "[122, 124, 125, 128, 129, 130, 131, 132, 132, 136, 137, 141, 143, 143, 143, 143, 144, 144]\n",
      "================================================\n",
      "max click@ 16 base_bid= 240 click = 144\n",
      "7 valid result is being test...\n",
      "[123, 125, 130, 134, 136, 136, 137, 137, 138, 139, 141, 141, 142, 143, 144, 145, 145, 146]\n",
      "================================================\n",
      "max click@ 17 base_bid= 250 click = 146\n",
      "8 valid result is being test...\n",
      "[122, 126, 129, 130, 133, 135, 135, 136, 136, 138, 138, 138, 139, 139, 140, 141, 141, 141]\n",
      "================================================\n",
      "max click@ 15 base_bid= 230 click = 141\n",
      "9 valid result is being test...\n",
      "[120, 121, 126, 128, 130, 132, 132, 134, 134, 134, 137, 137, 138, 138, 138, 138, 138, 138]\n",
      "================================================\n",
      "max click@ 12 base_bid= 200 click = 138\n",
      "10 valid result is being test...\n",
      "[123, 125, 127, 129, 129, 130, 132, 134, 136, 137, 138, 138, 140, 140, 140, 140, 140, 140]\n",
      "================================================\n",
      "max click@ 12 base_bid= 200 click = 140\n"
     ]
    }
   ],
   "source": [
    "for i in range(50,60):\n",
    "    count = count + 1\n",
    "    print(str(count)+\" valid result is being test...\")\n",
    "    test_predictions=valid_results[i]['click_pred_per']\n",
    "    Clks = [calculate_click(base_bid,Train_df_qr,payprice,test_predictions) for base_bid in base_bids]\n",
    "    print(Clks)\n",
    "    print(\"================================================\")\n",
    "    print(\"max click@\",Clks.index(max(Clks)),\"base_bid=\",base_bids[Clks.index(max(Clks))],\"click =\",max(Clks))\n",
    "    maxClks.append(max(Clks))"
   ]
  },
  {
   "cell_type": "code",
   "execution_count": null,
   "metadata": {},
   "outputs": [],
   "source": [
    "1 valid result is being test...\n",
    "[159, 158, 155, 153, 152, 149, 147, 147, 146, 144, 143, 142, 142, 143, 142, 142, 142, 140, 140, 140]\n",
    "================================================\n",
    "max click@ 0 base_bid= 160 click = 159\n",
    "2 valid result is being test...\n",
    "[154, 154, 154, 154, 155, 155, 156, 157, 157, 157, 157, 157, 157, 156, 155, 154, 153, 151, 151, 149]\n",
    "================================================\n",
    "max click@ 7 base_bid= 174 click = 157\n",
    "3 valid result is being test...\n",
    "[156, 157, 157, 158, 158, 158, 158, 158, 158, 158, 158, 157, 157, 156, 154, 154, 153, 152, 150, 147]\n",
    "================================================\n",
    "max click@ 3 base_bid= 166 click = 158\n",
    "4 valid result is being test...\n",
    "[155, 155, 155, 155, 156, 156, 156, 157, 157, 157, 157, 157, 157, 156, 156, 155, 153, 153, 152, 151]\n",
    "================================================\n",
    "max click@ 7 base_bid= 174 click = 157\n",
    "5 valid result is being test...\n",
    "[153, 153, 153, 154, 154, 154, 155, 155, 155, 156, 157, 158, 157, 156, 155, 154, 153, 152, 150, 148]\n",
    "================================================\n",
    "max click@ 11 base_bid= 182 click = 158"
   ]
  },
  {
   "cell_type": "code",
   "execution_count": 64,
   "metadata": {},
   "outputs": [
    {
     "name": "stdout",
     "output_type": "stream",
     "text": [
      "1 valid result is being test...\n",
      "[138, 139, 140, 140, 140, 142, 143, 143, 144, 147, 147, 151, 151, 152, 152, 152, 152, 153, 154, 154, 154, 156, 157]\n",
      "================================================\n",
      "max click@ 22 base_bid= 118 click = 157\n",
      "2 valid result is being test...\n",
      "[136, 136, 136, 137, 138, 139, 140, 141, 142, 143, 145, 145, 146, 146, 146, 147, 147, 148, 148, 148, 148, 149, 150]\n",
      "================================================\n",
      "max click@ 22 base_bid= 118 click = 150\n",
      "3 valid result is being test...\n",
      "[136, 136, 138, 140, 140, 140, 140, 140, 141, 141, 143, 143, 144, 145, 145, 145, 145, 145, 146, 146, 146, 146, 146]\n",
      "================================================\n",
      "max click@ 18 base_bid= 110 click = 146\n",
      "4 valid result is being test...\n",
      "[140, 140, 140, 140, 140, 141, 141, 141, 141, 142, 142, 142, 142, 143, 143, 143, 143, 143, 144, 145, 145, 145, 146]\n",
      "================================================\n",
      "max click@ 22 base_bid= 118 click = 146\n",
      "5 valid result is being test...\n",
      "[134, 135, 135, 135, 135, 136, 136, 136, 136, 137, 138, 138, 138, 139, 140, 141, 141, 141, 142, 142, 144, 144, 144]\n",
      "================================================\n",
      "max click@ 20 base_bid= 114 click = 144\n"
     ]
    }
   ],
   "source": [
    "for i in range(15,20):\n",
    "    count = count + 1\n",
    "    print(str(count)+\" valid result is being test...\")\n",
    "    test_predictions=valid_results[i]['click_pred_per']\n",
    "    Clks = [calculate_click(base_bid,Train_df_qr,payprice,test_predictions) for base_bid in base_bids]\n",
    "    print(Clks)\n",
    "    print(\"================================================\")\n",
    "    print(\"max click@\",Clks.index(max(Clks)),\"base_bid=\",base_bids[Clks.index(max(Clks))],\"click =\",max(Clks))\n",
    "    maxClks.append(max(Clks))"
   ]
  },
  {
   "cell_type": "code",
   "execution_count": null,
   "metadata": {},
   "outputs": [],
   "source": [
    "1 valid result is being test...\n",
    "[157, 155, 152, 150, 150, 145, 144, 143, 142, 140, 140, 140, 138, 138, 136, 136, 135, 134, 133, 134, 133, 132, 131, 130, 129, 129, 128, 126, 126, 125, 125, 124, 123, 122, 122]\n",
    "================================================\n",
    "max click@ 0 base_bid= 95 click = 157\n",
    "2 valid result is being test...\n",
    "[153, 154, 155, 155, 155, 155, 155, 156, 157, 157, 157, 157, 158, 158, 158, 157, 155, 152, 152, 151, 146, 146, 147, 146, 146, 144, 144, 144, 143, 142, 144, 143, 142, 143, 142]\n",
    "================================================\n",
    "max click@ 12 base_bid= 107 click = 158\n",
    "3 valid result is being test...\n",
    "[155, 157, 157, 158, 159, 159, 159, 159, 160, 160, 160, 160, 161, 161, 161, 161, 162, 162, 162, 162, 162, 160, 160, 158, 157, 157, 153, 150, 151, 151, 149, 149, 148, 147, 149]\n",
    "================================================\n",
    "max click@ 16 base_bid= 111 click = 162\n",
    "4 valid result is being test...\n",
    "[158, 158, 158, 158, 158, 159, 159, 159, 159, 159, 159, 160, 160, 160, 160, 161, 161, 161, 161, 160, 159, 157, 156, 156, 154, 151, 150, 150, 150, 150, 149, 148, 148, 148, 148]\n",
    "================================================\n",
    "max click@ 15 base_bid= 110 click = 161\n",
    "5 valid result is being test...\n",
    "[153, 153, 154, 155, 156, 156, 156, 156, 156, 156, 156, 157, 157, 157, 158, 159, 159, 159, 159, 159, 159, 159, 160, 159, 159, 159, 156, 155, 156, 155, 150, 150, 150, 149, 147]\n",
    "================================================\n",
    "max click@ 22 base_bid= 117 click = 160\n",
    "6 valid result is being test...\n",
    "[154, 154, 154, 154, 155, 155, 155, 155, 156, 156, 157, 157, 157, 157, 157, 157, 157, 157, 158, 158, 159, 159, 159, 159, 159, 159, 159, 159, 160, 161, 161, 161, 161, 161, 160]\n",
    "================================================\n",
    "max click@ 29 base_bid= 124 click = 161\n",
    "7 valid result is being test...\n",
    "[156, 156, 156, 158, 159, 159, 159, 160, 160, 160, 160, 160, 160, 160, 161, 161, 161, 161, 161, 161, 161, 161, 161, 161, 162, 163, 162, 162, 161, 158, 158, 157, 156, 154, 150]\n",
    "================================================\n",
    "max click@ 25 base_bid= 120 click = 163\n",
    "8 valid result is being test...\n",
    "[155, 155, 156, 156, 156, 156, 156, 158, 158, 158, 158, 158, 158, 159, 161, 161, 162, 162, 162, 163, 163, 163, 164, 165, 165, 165, 165, 165, 166, 166, 166, 169, 169, 169, 168]\n",
    "================================================\n",
    "max click@ 31 base_bid= 126 click = 169\n",
    "9 valid result is being test...\n",
    "[154, 154, 155, 155, 157, 157, 158, 158, 159, 160, 160, 160, 160, 161, 161, 161, 161, 162, 162, 162, 162, 163, 163, 163, 164, 164, 164, 164, 164, 163, 161, 162, 159, 158, 159]\n",
    "================================================\n",
    "max click@ 24 base_bid= 119 click = 164\n",
    "10 valid result is being test...\n",
    "[156, 156, 156, 156, 156, 157, 157, 157, 157, 158, 158, 158, 158, 158, 158, 158, 158, 158, 158, 159, 159, 159, 160, 160, 160, 160, 160, 161, 161, 161, 160, 160, 159, 157, 158]\n",
    "================================================\n",
    "max click@ 27 base_bid= 122 click = 161"
   ]
  },
  {
   "cell_type": "code",
   "execution_count": 43,
   "metadata": {},
   "outputs": [
    {
     "data": {
      "text/plain": [
       "[147, 148, 149, 151, 154, 155, 156, 156, 155, 150]"
      ]
     },
     "execution_count": 43,
     "metadata": {},
     "output_type": "execute_result"
    }
   ],
   "source": [
    "Clks"
   ]
  },
  {
   "cell_type": "code",
   "execution_count": null,
   "metadata": {
    "collapsed": true
   },
   "outputs": [],
   "source": []
  },
  {
   "cell_type": "code",
   "execution_count": null,
   "metadata": {
    "collapsed": true
   },
   "outputs": [],
   "source": [
    "1 valid result is being test...\n",
    "[149, 151, 151, 154, 155, 155, 155, 156, 156, 156, 157, 155, 152, 150, 150]\n",
    "================================================\n",
    "max click@ 10 base_bid= 95 click = 157\n",
    "2 valid result is being test...\n",
    "[145, 145, 147, 147, 149, 150, 150, 152, 152, 152, 153, 154, 155, 155, 155]\n",
    "================================================\n",
    "max click@ 12 base_bid= 97 click = 155\n",
    "3 valid result is being test...\n",
    "[147, 149, 149, 150, 151, 152, 153, 153, 154, 155, 155, 157, 157, 158, 159]\n",
    "================================================\n",
    "max click@ 14 base_bid= 99 click = 159"
   ]
  },
  {
   "cell_type": "code",
   "execution_count": null,
   "metadata": {
    "collapsed": true
   },
   "outputs": [],
   "source": []
  },
  {
   "cell_type": "code",
   "execution_count": null,
   "metadata": {
    "collapsed": true
   },
   "outputs": [],
   "source": []
  },
  {
   "cell_type": "code",
   "execution_count": null,
   "metadata": {
    "collapsed": true
   },
   "outputs": [],
   "source": []
  },
  {
   "cell_type": "code",
   "execution_count": null,
   "metadata": {
    "collapsed": true
   },
   "outputs": [],
   "source": []
  },
  {
   "cell_type": "code",
   "execution_count": null,
   "metadata": {
    "collapsed": true
   },
   "outputs": [],
   "source": []
  },
  {
   "cell_type": "code",
   "execution_count": null,
   "metadata": {
    "collapsed": true
   },
   "outputs": [],
   "source": []
  },
  {
   "cell_type": "code",
   "execution_count": null,
   "metadata": {
    "collapsed": true
   },
   "outputs": [],
   "source": []
  },
  {
   "cell_type": "markdown",
   "metadata": {},
   "source": [
    " 随便看一下"
   ]
  },
  {
   "cell_type": "code",
   "execution_count": 13,
   "metadata": {},
   "outputs": [
    {
     "name": "stdout",
     "output_type": "stream",
     "text": [
      "[[303363    360]\n",
      " [   129     73]]\n",
      "TP: 73\n",
      "TN: 303363\n",
      "FP: 360\n",
      "FN: 129\n",
      "Accuracy: 99.839105%\n",
      "Recall: 36.138614%\n",
      "Specificity: 99.881471%\n",
      "False Positive Rate: 0.118529%\n",
      "Precision: 16.859122%\n",
      "F1 score: 22.992126%\n"
     ]
    }
   ],
   "source": [
    "from sklearn.metrics import accuracy_score\n",
    "from sklearn.metrics import precision_score\n",
    "from sklearn.metrics import recall_score\n",
    "from sklearn.metrics import f1_score\n",
    "from sklearn.metrics import confusion_matrix\n",
    "\n",
    "\n",
    "y_test = valid_result['click']\n",
    "y_pred_class = valid_result['click_pred_class']\n",
    "\n",
    "print(confusion_matrix(y_test, y_pred_class))\n",
    "\n",
    "confusion = confusion_matrix(y_test, y_pred_class)\n",
    "TP = confusion[1, 1]\n",
    "TN = confusion[0, 0]\n",
    "FP = confusion[0, 1]\n",
    "FN = confusion[1, 0]\n",
    "print (\"TP:\", TP)\n",
    "print (\"TN:\", TN)\n",
    "print (\"FP:\", FP)\n",
    "print (\"FN:\", FN)\n",
    "\n",
    "#准确率、识别率（Classification Accuracy）：分类器正确分类的比例\n",
    "#print ((TP+TN) / float(TP+TN+FN+FP))\n",
    "print (\"Accuracy: %.6f%%\" % (accuracy_score(y_test, y_pred_class)* 100.0) )\n",
    "\n",
    "#灵敏性（Sensitivity），也称为真正例识别率、召回率（Recall）：正确识别的正例数据在实际正例数据中的百分比\n",
    "#print (TP / float(TP+FN))\n",
    "#recall = metrics.recall_score(y_test, y_pred_class)\n",
    "print (\"Recall: %.6f%%\" % (recall_score(y_test, y_pred_class)* 100.0))\n",
    "\n",
    "#特效性（Specificity），也称为真负例率：正确识别的负例数据在实际负例数据中的百分比\n",
    "print (\"Specificity: %.6f%%\" % (TN / float(TN+FP)* 100.0))\n",
    "\n",
    "#假阳率（False Positive Rate）：实际值是负例数据，预测错误的百分比\n",
    "#print (FP / float(TN+FP))\n",
    "specificity = TN / float(TN+FP)\n",
    "print (\"False Positive Rate: %.6f%%\" %((1 - specificity)*100.0))\n",
    "\n",
    "#精度（Precision）：看做精确性的度量，即标记为正类的数据实际为正例的百分比\n",
    "#print (TP / float(TP+FP))\n",
    "precision = precision_score(y_test, y_pred_class)\n",
    "print (\"Precision: %.6f%%\" %(precision*100.0))\n",
    "\n",
    "#F1（平衡F分数）：精确率和召回率的调和平均数\n",
    "#print (TP / float(TP+FP))\n",
    "f1 = f1_score(y_test, y_pred_class)\n",
    "print (\"F1 score: %.6f%%\" %(f1*100.0))\n",
    "\n"
   ]
  },
  {
   "cell_type": "markdown",
   "metadata": {},
   "source": [
    "## Test + Submission"
   ]
  },
  {
   "cell_type": "code",
   "execution_count": null,
   "metadata": {
    "collapsed": true
   },
   "outputs": [],
   "source": [
    "Test_df = pd.read_csv('/Users/weisihan/Downloads/we_data/mytestset.csv')\n",
    "Group=  pd.read_csv('/Users/weisihan/Downloads/we_data/Group_xx.csv')"
   ]
  },
  {
   "cell_type": "code",
   "execution_count": null,
   "metadata": {
    "collapsed": true
   },
   "outputs": [],
   "source": [
    "Test_df = Test_df[['slotwidth', 'slotheight', 'slotprice', 'android', 'ios',\n",
    "       'linux', 'mac', 'other', 'windows', 'chrome', 'firefox', 'ie',\n",
    "       'maxthon', 'opera', 'other.1', 'safari', 'sogou', 'theworld',\n",
    "       '10006', '10024', '10031', '10048', '10052', '10057', '10059',\n",
    "       '10063', '10067', '10074', '10075', '10076', '10077', '10079',\n",
    "       '10083', '10093', '10102', '10110', '10111', '10114', '10115',\n",
    "       '10116', '10117', '10118', '10120', '10123', '10125', '10126',\n",
    "       '10127', '10129', '10130', '10131', '10133', '10138', '10140',\n",
    "       '10142', '10145', '10146', '10147', '10148', '10149', '10684',\n",
    "       '11092', '11278', '11379', '11423', '11512', '11576', '11632',\n",
    "       '11680', '11724', '11944', '13042', '13403', '13496', '13678',\n",
    "       '13776', '13800', '13866', '13874', '14273', '15398', '16593',\n",
    "       '16617', '16661', '16706', '16751', '16753', 'hour_sin', 'hour_cos',\n",
    "       'city_per', 'region_per', 'weekday_0', 'weekday_1', 'weekday_2',\n",
    "       'weekday_3', 'weekday_4', 'weekday_5', 'weekday_6',\n",
    "       'adexchange_1.0', 'adexchange_2.0', 'adexchange_3.0',\n",
    "       'adexchange_4.0', 'adexchange_nan', 'slotvisibility_0',\n",
    "       'slotvisibility_1', 'slotvisibility_2', 'slotvisibility_255',\n",
    "       'slotvisibility_FifthView', 'slotvisibility_FirstView',\n",
    "       'slotvisibility_FourthView', 'slotvisibility_Na',\n",
    "       'slotvisibility_OtherView', 'slotvisibility_SecondView',\n",
    "       'slotvisibility_ThirdView', 'slotformat_0', 'slotformat_1',\n",
    "       'slotformat_5', 'slotformat_Na', 'advertiser_1458',\n",
    "       'advertiser_2259', 'advertiser_2261', 'advertiser_2821',\n",
    "       'advertiser_2997', 'advertiser_3358', 'advertiser_3386',\n",
    "       'advertiser_3427', 'advertiser_3476']]"
   ]
  },
  {
   "cell_type": "code",
   "execution_count": null,
   "metadata": {
    "collapsed": true
   },
   "outputs": [],
   "source": [
    "test_x = Test_df\n",
    "test_predictions = model.predict_proba(test_x)\n",
    "test_predictions_class = model.predict(test_x)"
   ]
  },
  {
   "cell_type": "code",
   "execution_count": null,
   "metadata": {
    "collapsed": true
   },
   "outputs": [],
   "source": [
    "test_result = pd.DataFrame(columns=['bidprice', 'click_pred_per', 'click_pred_class'])  \n",
    "test_result['click_pred_per'] = test_predictions[:,1]\n",
    "test_result['click_pred_class'] = test_predictions_class\n",
    "test_result.head()"
   ]
  },
  {
   "cell_type": "code",
   "execution_count": null,
   "metadata": {
    "collapsed": true
   },
   "outputs": [],
   "source": [
    "test_result['click_pred_per']=recalibrate(test_result['click_pred_per'],Samp_per)\n",
    "test_result.head()"
   ]
  },
  {
   "cell_type": "code",
   "execution_count": null,
   "metadata": {
    "collapsed": true
   },
   "outputs": [],
   "source": [
    "base_bid=133\n",
    "#这个变成你测出来最高clk的basebid！！！！！！！\n",
    "avgCTR = 1793/2430981#train set\n",
    "test_result['bidprice'] = base_bid*test_result['click_pred_per']/avgCTR\n",
    "test_result.head()"
   ]
  },
  {
   "cell_type": "code",
   "execution_count": null,
   "metadata": {
    "collapsed": true
   },
   "outputs": [],
   "source": [
    "Group['bidprice']=test_result['bidprice']\n",
    "Group.head()"
   ]
  },
  {
   "cell_type": "code",
   "execution_count": null,
   "metadata": {
    "collapsed": true
   },
   "outputs": [],
   "source": [
    "Group.to_csv('/Users/weisihan/Desktop/Group_6.csv', encoding='utf-8', index=False)"
   ]
  }
 ],
 "metadata": {
  "kernelspec": {
   "display_name": "Python [default]",
   "language": "python",
   "name": "python3"
  },
  "language_info": {
   "codemirror_mode": {
    "name": "ipython",
    "version": 3
   },
   "file_extension": ".py",
   "mimetype": "text/x-python",
   "name": "python",
   "nbconvert_exporter": "python",
   "pygments_lexer": "ipython3",
   "version": "3.6.4"
  }
 },
 "nbformat": 4,
 "nbformat_minor": 2
}
