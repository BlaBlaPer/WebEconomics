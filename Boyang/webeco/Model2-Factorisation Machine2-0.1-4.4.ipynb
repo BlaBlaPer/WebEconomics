{
 "cells": [
  {
   "cell_type": "code",
   "execution_count": 1,
   "metadata": {},
   "outputs": [],
   "source": [
    "import numpy as np\n",
    "import pandas as pd\n",
    "#import training setvalid_newfeature\n",
    "#Train_df = pd.read_csv('/project/tffm-master/csvs/train_sample0.1_4.csv')\n",
    "Train_df = pd.read_csv('/project/tffm-master/csvs/train_sample0.1_4.csv')\n",
    "#import validation set\n",
    "Valid_df = pd.read_csv('/project/Data/valid_newfeature.csv')"
   ]
  },
  {
   "cell_type": "code",
   "execution_count": 28,
   "metadata": {},
   "outputs": [
    {
     "data": {
      "text/plain": [
       "2"
      ]
     },
     "execution_count": 28,
     "metadata": {},
     "output_type": "execute_result"
    }
   ],
   "source": [
    "1+1"
   ]
  },
  {
   "cell_type": "code",
   "execution_count": 3,
   "metadata": {},
   "outputs": [],
   "source": [
    "# columns of without click\n",
    "cols=list(Train_df.columns)[1:]"
   ]
  },
  {
   "cell_type": "code",
   "execution_count": 4,
   "metadata": {},
   "outputs": [
    {
     "data": {
      "text/plain": [
       "(244712, 127)"
      ]
     },
     "execution_count": 4,
     "metadata": {},
     "output_type": "execute_result"
    }
   ],
   "source": [
    "Train_df.shape"
   ]
  },
  {
   "cell_type": "code",
   "execution_count": 5,
   "metadata": {},
   "outputs": [],
   "source": [
    "Train_df['slotheight']=Train_df['slotheight']/10\n",
    "Train_df['slotwidth']=Train_df['slotwidth']/100\n",
    "Train_df['slotprice']=Train_df['slotprice']/100\n",
    "\n",
    "Valid_df['slotheight']=Valid_df['slotheight']/10\n",
    "Valid_df['slotwidth']=Valid_df['slotwidth']/100\n",
    "Valid_df['slotprice']=Valid_df['slotprice']/100"
   ]
  },
  {
   "cell_type": "code",
   "execution_count": 6,
   "metadata": {},
   "outputs": [],
   "source": [
    "#train = Train_df\n",
    "y_tr = Train_df['click']\n",
    "X_tr = Train_df[cols]\n",
    "y_te = Valid_df['click']\n",
    "X_te = Valid_df[cols]"
   ]
  },
  {
   "cell_type": "code",
   "execution_count": 7,
   "metadata": {},
   "outputs": [],
   "source": [
    "X_te=X_te.values\n",
    "X_tr=X_tr.values\n",
    "y_te=y_te.values\n",
    "y_tr=y_tr.values"
   ]
  },
  {
   "cell_type": "code",
   "execution_count": 8,
   "metadata": {},
   "outputs": [],
   "source": [
    "import scipy.sparse as sp\n",
    "# only CSR format supported\n",
    "X_tr_sparse = sp.csr_matrix(X_tr)\n",
    "X_te_sparse = sp.csr_matrix(X_te)"
   ]
  },
  {
   "cell_type": "code",
   "execution_count": 9,
   "metadata": {},
   "outputs": [
    {
     "name": "stdout",
     "output_type": "stream",
     "text": [
      "Requirement already satisfied: tqdm in /opt/anaconda/envs/Python3/lib/python3.6/site-packages\n",
      "\u001b[33mYou are using pip version 9.0.1, however version 9.0.3 is available.\n",
      "You should consider upgrading via the 'pip install --upgrade pip' command.\u001b[0m\n"
     ]
    }
   ],
   "source": [
    "! pip install tqdm"
   ]
  },
  {
   "cell_type": "code",
   "execution_count": 10,
   "metadata": {},
   "outputs": [
    {
     "name": "stderr",
     "output_type": "stream",
     "text": [
      "/opt/anaconda/envs/Python3/lib/python3.6/site-packages/h5py/__init__.py:36: FutureWarning: Conversion of the second argument of issubdtype from `float` to `np.floating` is deprecated. In future, it will be treated as `np.float64 == np.dtype(float).type`.\n",
      "  from ._conv import register_converters as _register_converters\n"
     ]
    },
    {
     "name": "stdout",
     "output_type": "stream",
     "text": [
      "WARNING:tensorflow:Variable += will be deprecated. Use variable.assign_add if you want assignment to the variable value or 'x = x + y' if you want a new python Tensor object.\n"
     ]
    },
    {
     "name": "stderr",
     "output_type": "stream",
     "text": [
      "100%|██████████| 30/30 [04:15<00:00,  8.51s/epoch]\n"
     ]
    }
   ],
   "source": [
    "#23:33\n",
    "#train Factorised Machine model\n",
    "from tffm import TFFMClassifier\n",
    "import tensorflow as tf\n",
    "from sklearn.metrics import accuracy_score\n",
    "from sklearn.metrics import roc_auc_score\n",
    "\n",
    "\n",
    "model = TFFMClassifier(\n",
    "    order=3, \n",
    "    rank=10, \n",
    "    optimizer=tf.train.AdamOptimizer(learning_rate=0.001), \n",
    "    n_epochs=30, \n",
    "    batch_size=1024,\n",
    "    init_std=0.001,\n",
    "    reg=0.01,\n",
    "    input_type='sparse',\n",
    "    seed=42\n",
    ")\n",
    "\n",
    "model.fit(X_tr_sparse, y_tr, show_progress=True)\n",
    "\n",
    "    \n"
   ]
  },
  {
   "cell_type": "code",
   "execution_count": 11,
   "metadata": {},
   "outputs": [
    {
     "name": "stdout",
     "output_type": "stream",
     "text": [
      "model: TFFMClassifier()\n",
      "the accuracy is: 0.999115\n",
      "the AUC for FM is: 0.875950\n",
      "==================================\n"
     ]
    }
   ],
   "source": [
    "valid_predictions = model.predict_proba(X_te_sparse)\n",
    "valid_predictions_class = model.predict(X_te_sparse)\n",
    "\n",
    "acc = accuracy_score(y_te, valid_predictions_class)\n",
    "print('model: {}'.format(model.__str__()))\n",
    "print(\"the accuracy is: {0:6f}\".format(acc))\n",
    "print (\"the AUC for FM is: {0:6f}\".format(roc_auc_score(y_te, valid_predictions[:,1])))\n",
    "print(\"==================================\")\n"
   ]
  },
  {
   "cell_type": "code",
   "execution_count": 12,
   "metadata": {},
   "outputs": [
    {
     "data": {
      "text/html": [
       "<div>\n",
       "<style scoped>\n",
       "    .dataframe tbody tr th:only-of-type {\n",
       "        vertical-align: middle;\n",
       "    }\n",
       "\n",
       "    .dataframe tbody tr th {\n",
       "        vertical-align: top;\n",
       "    }\n",
       "\n",
       "    .dataframe thead th {\n",
       "        text-align: right;\n",
       "    }\n",
       "</style>\n",
       "<table border=\"1\" class=\"dataframe\">\n",
       "  <thead>\n",
       "    <tr style=\"text-align: right;\">\n",
       "      <th></th>\n",
       "      <th>click</th>\n",
       "      <th>click_pred_per</th>\n",
       "      <th>click_pred_class</th>\n",
       "    </tr>\n",
       "  </thead>\n",
       "  <tbody>\n",
       "    <tr>\n",
       "      <th>0</th>\n",
       "      <td>0</td>\n",
       "      <td>0.000307</td>\n",
       "      <td>0</td>\n",
       "    </tr>\n",
       "    <tr>\n",
       "      <th>1</th>\n",
       "      <td>0</td>\n",
       "      <td>0.000190</td>\n",
       "      <td>0</td>\n",
       "    </tr>\n",
       "    <tr>\n",
       "      <th>2</th>\n",
       "      <td>0</td>\n",
       "      <td>0.000142</td>\n",
       "      <td>0</td>\n",
       "    </tr>\n",
       "    <tr>\n",
       "      <th>3</th>\n",
       "      <td>0</td>\n",
       "      <td>0.000331</td>\n",
       "      <td>0</td>\n",
       "    </tr>\n",
       "    <tr>\n",
       "      <th>4</th>\n",
       "      <td>0</td>\n",
       "      <td>0.001594</td>\n",
       "      <td>0</td>\n",
       "    </tr>\n",
       "  </tbody>\n",
       "</table>\n",
       "</div>"
      ],
      "text/plain": [
       "   click  click_pred_per  click_pred_class\n",
       "0      0        0.000307                 0\n",
       "1      0        0.000190                 0\n",
       "2      0        0.000142                 0\n",
       "3      0        0.000331                 0\n",
       "4      0        0.001594                 0"
      ]
     },
     "execution_count": 12,
     "metadata": {},
     "output_type": "execute_result"
    }
   ],
   "source": [
    "valid_result = pd.DataFrame(columns=['click', 'click_pred_per', 'click_pred_class'])  \n",
    "valid_result['click']= Valid_df['click'].copy()\n",
    "valid_result['click_pred_per'] = valid_predictions[:,1]\n",
    "valid_result['click_pred_class'] = valid_predictions_class\n",
    "valid_result.head()"
   ]
  },
  {
   "cell_type": "code",
   "execution_count": 13,
   "metadata": {},
   "outputs": [],
   "source": [
    "def recalibrate(p,w):\n",
    "    q = p/(p+(1-p)/w)\n",
    "    return q"
   ]
  },
  {
   "cell_type": "code",
   "execution_count": 14,
   "metadata": {},
   "outputs": [
    {
     "data": {
      "text/html": [
       "<div>\n",
       "<style scoped>\n",
       "    .dataframe tbody tr th:only-of-type {\n",
       "        vertical-align: middle;\n",
       "    }\n",
       "\n",
       "    .dataframe tbody tr th {\n",
       "        vertical-align: top;\n",
       "    }\n",
       "\n",
       "    .dataframe thead th {\n",
       "        text-align: right;\n",
       "    }\n",
       "</style>\n",
       "<table border=\"1\" class=\"dataframe\">\n",
       "  <thead>\n",
       "    <tr style=\"text-align: right;\">\n",
       "      <th></th>\n",
       "      <th>click</th>\n",
       "      <th>click_pred_per</th>\n",
       "      <th>click_pred_class</th>\n",
       "    </tr>\n",
       "  </thead>\n",
       "  <tbody>\n",
       "    <tr>\n",
       "      <th>0</th>\n",
       "      <td>0</td>\n",
       "      <td>0.000031</td>\n",
       "      <td>0</td>\n",
       "    </tr>\n",
       "    <tr>\n",
       "      <th>1</th>\n",
       "      <td>0</td>\n",
       "      <td>0.000019</td>\n",
       "      <td>0</td>\n",
       "    </tr>\n",
       "    <tr>\n",
       "      <th>2</th>\n",
       "      <td>0</td>\n",
       "      <td>0.000014</td>\n",
       "      <td>0</td>\n",
       "    </tr>\n",
       "    <tr>\n",
       "      <th>3</th>\n",
       "      <td>0</td>\n",
       "      <td>0.000033</td>\n",
       "      <td>0</td>\n",
       "    </tr>\n",
       "    <tr>\n",
       "      <th>4</th>\n",
       "      <td>0</td>\n",
       "      <td>0.000160</td>\n",
       "      <td>0</td>\n",
       "    </tr>\n",
       "    <tr>\n",
       "      <th>5</th>\n",
       "      <td>0</td>\n",
       "      <td>0.000231</td>\n",
       "      <td>0</td>\n",
       "    </tr>\n",
       "    <tr>\n",
       "      <th>6</th>\n",
       "      <td>0</td>\n",
       "      <td>0.000268</td>\n",
       "      <td>0</td>\n",
       "    </tr>\n",
       "    <tr>\n",
       "      <th>7</th>\n",
       "      <td>0</td>\n",
       "      <td>0.000685</td>\n",
       "      <td>0</td>\n",
       "    </tr>\n",
       "    <tr>\n",
       "      <th>8</th>\n",
       "      <td>0</td>\n",
       "      <td>0.000282</td>\n",
       "      <td>0</td>\n",
       "    </tr>\n",
       "    <tr>\n",
       "      <th>9</th>\n",
       "      <td>0</td>\n",
       "      <td>0.000011</td>\n",
       "      <td>0</td>\n",
       "    </tr>\n",
       "    <tr>\n",
       "      <th>10</th>\n",
       "      <td>0</td>\n",
       "      <td>0.000138</td>\n",
       "      <td>0</td>\n",
       "    </tr>\n",
       "    <tr>\n",
       "      <th>11</th>\n",
       "      <td>0</td>\n",
       "      <td>0.000040</td>\n",
       "      <td>0</td>\n",
       "    </tr>\n",
       "    <tr>\n",
       "      <th>12</th>\n",
       "      <td>0</td>\n",
       "      <td>0.000082</td>\n",
       "      <td>0</td>\n",
       "    </tr>\n",
       "    <tr>\n",
       "      <th>13</th>\n",
       "      <td>0</td>\n",
       "      <td>0.000495</td>\n",
       "      <td>0</td>\n",
       "    </tr>\n",
       "    <tr>\n",
       "      <th>14</th>\n",
       "      <td>0</td>\n",
       "      <td>0.000104</td>\n",
       "      <td>0</td>\n",
       "    </tr>\n",
       "    <tr>\n",
       "      <th>15</th>\n",
       "      <td>0</td>\n",
       "      <td>0.000015</td>\n",
       "      <td>0</td>\n",
       "    </tr>\n",
       "    <tr>\n",
       "      <th>16</th>\n",
       "      <td>0</td>\n",
       "      <td>0.000226</td>\n",
       "      <td>0</td>\n",
       "    </tr>\n",
       "    <tr>\n",
       "      <th>17</th>\n",
       "      <td>0</td>\n",
       "      <td>0.000042</td>\n",
       "      <td>0</td>\n",
       "    </tr>\n",
       "    <tr>\n",
       "      <th>18</th>\n",
       "      <td>0</td>\n",
       "      <td>0.000008</td>\n",
       "      <td>0</td>\n",
       "    </tr>\n",
       "    <tr>\n",
       "      <th>19</th>\n",
       "      <td>0</td>\n",
       "      <td>0.000154</td>\n",
       "      <td>0</td>\n",
       "    </tr>\n",
       "  </tbody>\n",
       "</table>\n",
       "</div>"
      ],
      "text/plain": [
       "    click  click_pred_per  click_pred_class\n",
       "0       0        0.000031                 0\n",
       "1       0        0.000019                 0\n",
       "2       0        0.000014                 0\n",
       "3       0        0.000033                 0\n",
       "4       0        0.000160                 0\n",
       "5       0        0.000231                 0\n",
       "6       0        0.000268                 0\n",
       "7       0        0.000685                 0\n",
       "8       0        0.000282                 0\n",
       "9       0        0.000011                 0\n",
       "10      0        0.000138                 0\n",
       "11      0        0.000040                 0\n",
       "12      0        0.000082                 0\n",
       "13      0        0.000495                 0\n",
       "14      0        0.000104                 0\n",
       "15      0        0.000015                 0\n",
       "16      0        0.000226                 0\n",
       "17      0        0.000042                 0\n",
       "18      0        0.000008                 0\n",
       "19      0        0.000154                 0"
      ]
     },
     "execution_count": 14,
     "metadata": {},
     "output_type": "execute_result"
    }
   ],
   "source": [
    "valid_result['click_pred_per']=recalibrate(valid_result['click_pred_per'],0.1)\n",
    "valid_result.head(20)"
   ]
  },
  {
   "cell_type": "code",
   "execution_count": 47,
   "metadata": {},
   "outputs": [
    {
     "name": "stdout",
     "output_type": "stream",
     "text": [
      "[[303697     26]\n",
      " [   179     23]]\n",
      "TP: 23\n",
      "TN: 303697\n",
      "FP: 26\n",
      "FN: 179\n",
      "Accuracy: 99.932549%\n",
      "Recall: 11.386139%\n",
      "Specificity: 99.991440%\n",
      "False Positive Rate: 0.008560%\n",
      "Precision: 46.938776%\n",
      "F1 score: 18.326693%\n"
     ]
    }
   ],
   "source": [
    "from sklearn.metrics import accuracy_score\n",
    "from sklearn.metrics import precision_score\n",
    "from sklearn.metrics import recall_score\n",
    "from sklearn.metrics import f1_score\n",
    "from sklearn.metrics import confusion_matrix\n",
    "\n",
    "\n",
    "y_test = valid_result['click']\n",
    "y_pred_class = valid_result['click_pred_class']\n",
    "\n",
    "print(confusion_matrix(y_test, y_pred_class))\n",
    "\n",
    "confusion = confusion_matrix(y_test, y_pred_class)\n",
    "TP = confusion[1, 1]\n",
    "TN = confusion[0, 0]\n",
    "FP = confusion[0, 1]\n",
    "FN = confusion[1, 0]\n",
    "print (\"TP:\", TP)\n",
    "print (\"TN:\", TN)\n",
    "print (\"FP:\", FP)\n",
    "print (\"FN:\", FN)\n",
    "\n",
    "#准确率、识别率（Classification Accuracy）：分类器正确分类的比例\n",
    "#print ((TP+TN) / float(TP+TN+FN+FP))\n",
    "print (\"Accuracy: %.6f%%\" % (accuracy_score(y_test, y_pred_class)* 100.0) )\n",
    "\n",
    "#灵敏性（Sensitivity），也称为真正例识别率、召回率（Recall）：正确识别的正例数据在实际正例数据中的百分比\n",
    "#print (TP / float(TP+FN))\n",
    "#recall = metrics.recall_score(y_test, y_pred_class)\n",
    "print (\"Recall: %.6f%%\" % (recall_score(y_test, y_pred_class)* 100.0))\n",
    "\n",
    "#特效性（Specificity），也称为真负例率：正确识别的负例数据在实际负例数据中的百分比\n",
    "print (\"Specificity: %.6f%%\" % (TN / float(TN+FP)* 100.0))\n",
    "\n",
    "#假阳率（False Positive Rate）：实际值是负例数据，预测错误的百分比\n",
    "#print (FP / float(TN+FP))\n",
    "specificity = TN / float(TN+FP)\n",
    "print (\"False Positive Rate: %.6f%%\" %((1 - specificity)*100.0))\n",
    "\n",
    "#精度（Precision）：看做精确性的度量，即标记为正类的数据实际为正例的百分比\n",
    "#print (TP / float(TP+FP))\n",
    "precision = precision_score(y_test, y_pred_class)\n",
    "print (\"Precision: %.6f%%\" %(precision*100.0))\n",
    "\n",
    "#F1（平衡F分数）：精确率和召回率的调和平均数\n",
    "#print (TP / float(TP+FP))\n",
    "f1 = f1_score(y_test, y_pred_class)\n",
    "print (\"F1 score: %.6f%%\" %(f1*100.0))"
   ]
  },
  {
   "cell_type": "code",
   "execution_count": 43,
   "metadata": {},
   "outputs": [],
   "source": [
    "def agree_to_flag(click_pred_per):\n",
    "    if click_pred_per >=0.5:\n",
    "        return 1\n",
    "    else:\n",
    "        return 0\n",
    "valid_result['click_pred_class'] = valid_result['click_pred_per'].map(agree_to_flag)\n",
    "\n"
   ]
  },
  {
   "cell_type": "code",
   "execution_count": 44,
   "metadata": {},
   "outputs": [
    {
     "data": {
      "text/html": [
       "<div>\n",
       "<style scoped>\n",
       "    .dataframe tbody tr th:only-of-type {\n",
       "        vertical-align: middle;\n",
       "    }\n",
       "\n",
       "    .dataframe tbody tr th {\n",
       "        vertical-align: top;\n",
       "    }\n",
       "\n",
       "    .dataframe thead th {\n",
       "        text-align: right;\n",
       "    }\n",
       "</style>\n",
       "<table border=\"1\" class=\"dataframe\">\n",
       "  <thead>\n",
       "    <tr style=\"text-align: right;\">\n",
       "      <th></th>\n",
       "      <th>click</th>\n",
       "      <th>click_pred_per</th>\n",
       "      <th>click_pred_class</th>\n",
       "    </tr>\n",
       "  </thead>\n",
       "  <tbody>\n",
       "    <tr>\n",
       "      <th>0</th>\n",
       "      <td>0</td>\n",
       "      <td>0.000031</td>\n",
       "      <td>0</td>\n",
       "    </tr>\n",
       "    <tr>\n",
       "      <th>1</th>\n",
       "      <td>0</td>\n",
       "      <td>0.000019</td>\n",
       "      <td>0</td>\n",
       "    </tr>\n",
       "    <tr>\n",
       "      <th>2</th>\n",
       "      <td>0</td>\n",
       "      <td>0.000014</td>\n",
       "      <td>0</td>\n",
       "    </tr>\n",
       "    <tr>\n",
       "      <th>3</th>\n",
       "      <td>0</td>\n",
       "      <td>0.000033</td>\n",
       "      <td>0</td>\n",
       "    </tr>\n",
       "    <tr>\n",
       "      <th>4</th>\n",
       "      <td>0</td>\n",
       "      <td>0.000160</td>\n",
       "      <td>0</td>\n",
       "    </tr>\n",
       "  </tbody>\n",
       "</table>\n",
       "</div>"
      ],
      "text/plain": [
       "   click  click_pred_per  click_pred_class\n",
       "0      0        0.000031                 0\n",
       "1      0        0.000019                 0\n",
       "2      0        0.000014                 0\n",
       "3      0        0.000033                 0\n",
       "4      0        0.000160                 0"
      ]
     },
     "execution_count": 44,
     "metadata": {},
     "output_type": "execute_result"
    }
   ],
   "source": [
    "valid_result.head()"
   ]
  },
  {
   "cell_type": "code",
   "execution_count": 45,
   "metadata": {},
   "outputs": [],
   "source": [
    "\n",
    "\n",
    "# allow plots to appear in the notebook\n",
    "%matplotlib inline\n",
    "import matplotlib.pyplot as plt\n",
    "\n",
    "\n",
    "# IMPORTANT: first argument is true values, second argument is predicted probabilities\n",
    "from sklearn.metrics import roc_auc_score\n",
    "from sklearn.metrics import roc_curve\n",
    "def plot_ROC_curve(data, prediction):\n",
    "    \"\"\"\n",
    "    Function to plot the ROC curve with AUC.\n",
    "    \"\"\"\n",
    "\n",
    "    # Compute fpr, tpr, thresholds and roc auc\n",
    "    fpr, tpr, thresholds = roc_curve(data, prediction)\n",
    "    roc_auc = roc_auc_score(data, prediction)\n",
    "\n",
    "    # Plot ROC curve\n",
    "    plt.plot(fpr, tpr, label='ROC curve (area = %0.3f)' % roc_auc)\n",
    "    #plt.plot(fpr, tpr, label='Logistic Regression (area = %0.3f)' % logit_roc_auc)\n",
    "    plt.plot([0, 1], [0, 1], 'r--')  # random predictions curve\n",
    "    plt.xlim([0.0, 1.0])\n",
    "    plt.ylim([0.0, 1.0])\n",
    "    plt.xlabel('False Positive Rate or (1 - Specifity)')\n",
    "    plt.ylabel('True Positive Rate or (Sensitivity)')\n",
    "    plt.title('ROC curve for CTR')\n",
    "    plt.grid(True)\n",
    "    plt.legend(loc=\"lower right\")\n",
    "    \n",
    "    return\n",
    "\n",
    "\n",
    "\n"
   ]
  },
  {
   "cell_type": "code",
   "execution_count": 46,
   "metadata": {},
   "outputs": [
    {
     "name": "stdout",
     "output_type": "stream",
     "text": [
      "the AUC for FM is: 0.875950\n"
     ]
    },
    {
     "data": {
      "image/png": "[encoded data removed]",
      "text/plain": [
       "<matplotlib.figure.Figure at 0x7f4563eaed68>"
      ]
     },
     "metadata": {},
     "output_type": "display_data"
    }
   ],
   "source": [
    "plot_ROC_curve(valid_result['click'], valid_result['click_pred_per'])\n",
    "#xgboost的auc\n",
    "print (\"the AUC for FM is: {0:6f}\".format(roc_auc_score(valid_result['click'], valid_result['click_pred_per'])))"
   ]
  },
  {
   "cell_type": "code",
   "execution_count": 20,
   "metadata": {},
   "outputs": [
    {
     "name": "stdout",
     "output_type": "stream",
     "text": [
      "the AUC for FM is: 0.860693\n"
     ]
    },
    {
     "data": {
      "image/png": "[encoded data removed]",
      "text/plain": [
       "<matplotlib.figure.Figure at 0x7f32b35618d0>"
      ]
     },
     "metadata": {},
     "output_type": "display_data"
    }
   ],
   "source": [
    "plot_ROC_curve(valid_result['click'], valid_result['click_pred_per'])\n",
    "#xgboost的auc\n",
    "print (\"the AUC for FM is: {0:6f}\".format(roc_auc_score(valid_result['click'], valid_result['click_pred_per'])))"
   ]
  },
  {
   "cell_type": "code",
   "execution_count": 21,
   "metadata": {},
   "outputs": [
    {
     "name": "stdout",
     "output_type": "stream",
     "text": [
      "Collecting mpld3\n",
      "Installing collected packages: mpld3\n",
      "Successfully installed mpld3-0.3\n",
      "\u001b[33mYou are using pip version 9.0.1, however version 9.0.3 is available.\n",
      "You should consider upgrading via the 'pip install --upgrade pip' command.\u001b[0m\n"
     ]
    }
   ],
   "source": [
    "#Find Base Bid\n",
    "#! pip install mpld3"
   ]
  },
  {
   "cell_type": "code",
   "execution_count": 16,
   "metadata": {},
   "outputs": [],
   "source": [
    "%matplotlib inline\n",
    "import matplotlib\n",
    "import matplotlib.pyplot as plt\n",
    "import mpld3\n",
    "import numpy as np"
   ]
  },
  {
   "cell_type": "code",
   "execution_count": 17,
   "metadata": {},
   "outputs": [],
   "source": [
    "df_valid = pd.read_csv(\"/project/Data/validation.csv\")"
   ]
  },
  {
   "cell_type": "code",
   "execution_count": 18,
   "metadata": {},
   "outputs": [],
   "source": [
    "# parameters\n",
    "total_budget = 6250000\n",
    "payprice = df_valid['payprice'].as_matrix()\n",
    "Train_df_qr = df_valid.copy()\n",
    "avgCTR = 1793/2430981 #train set\n",
    "#tuning..."
   ]
  },
  {
   "cell_type": "code",
   "execution_count": 19,
   "metadata": {},
   "outputs": [],
   "source": [
    "def generate_bidprice(base_bid, test_predictions):\n",
    "    avgCTR = 1793/2430981#train set\n",
    "    bidprices = base_bid*test_predictions/avgCTR\n",
    "    return bidprices"
   ]
  },
  {
   "cell_type": "code",
   "execution_count": 20,
   "metadata": {},
   "outputs": [],
   "source": [
    "def Prob3(Train_df,payprice,base_bid,test_predictions):\n",
    "    Train_Const_summ = pd.DataFrame({'Clicks':'', 'Spend':'', 'CTR':'', 'CPM':'', 'eCPC':''}, index=[0])\n",
    "    \n",
    "    #if count_break = 5 break\n",
    "    count_break = 0\n",
    "    \n",
    "    current_budget = total_budget\n",
    "    Train_df['win'] = 0 #initialize win label\n",
    "    bidprices = generate_bidprice(base_bid, test_predictions)\n",
    "    #start biding...\n",
    "    for i in Train_df.index:\n",
    "        current_bidprice = bidprices[i]\n",
    "        #consider budget\n",
    "        if current_budget <= current_bidprice:              \n",
    "            #count lack budget times\n",
    "            count_break = count_break + 1\n",
    "#             print('lack of budget!',\"current_budget:\",current_budget,\";current_bidprice:\",current_bidprice,';count_break:',count_break)\n",
    "            if count_break > 5:\n",
    "                break  \n",
    "            #reset bidprice\n",
    "            current_bidprice = current_budget\n",
    "        else:\n",
    "            count_break = 0\n",
    "            \n",
    "\n",
    "        #Winning criterion:\n",
    "        current_payprice = payprice[i]\n",
    "        if current_bidprice > current_payprice:\n",
    "            Train_df.at[i, 'win'] = int(1)\n",
    "            current_budget = current_budget - current_payprice\n",
    "        else:\n",
    "            Train_df.at[i, 'win'] = int(0)\n",
    "\n",
    "    #biding end        \n",
    "    \n",
    "    Train_df_new = Train_df[Train_df['win']!=0]\n",
    "    #wintimes,_ = Train_df_new.shape\n",
    "    #print('wintimes:',wintimes)\n",
    "    #print('current_budget',current_budget)\n",
    "\n",
    "    \n",
    "#     #commented in for\n",
    "#     Clk = Train_df_new['click'].sum()\n",
    "#     Imp = Train_df_new['click'].count()\n",
    "#     CTR = Clk/Imp\n",
    "#     Spd = total_budget - current_budget\n",
    "#     CPM = 1000*Spd/Imp\n",
    "#     eCPC = Spd/Clk\n",
    "    \n",
    "#     Train_Const_summ.loc[0,'Clicks']=Clk\n",
    "#     Train_Const_summ.loc[0,'Spend']=Spd\n",
    "#     Train_Const_summ.loc[0,'CTR']=CTR\n",
    "#     Train_Const_summ.loc[0,'CPM']=CPM\n",
    "#     Train_Const_summ.loc[0,'eCPC']=eCPC\n",
    "\n",
    "#     print(Train_Const_summ)\n",
    "    \n",
    "        \n",
    "    return Train_df,current_budget"
   ]
  },
  {
   "cell_type": "code",
   "execution_count": 21,
   "metadata": {},
   "outputs": [],
   "source": [
    "def calculate_click(base_bid,Train_df,payprice,test_predictions):\n",
    "#     print('base_bid:',base_bid)\n",
    "    result_df,current_budget = Prob3(Train_df,payprice,base_bid,test_predictions)\n",
    "#     print('current_budget:',current_budget)\n",
    "    Train_df_new = result_df[result_df['win']!=0]\n",
    "    wintimes,_ = Train_df_new.shape\n",
    "#     print('wintimes:',wintimes)\n",
    "#     print('----------------')\n",
    "    Clk = Train_df_new['click'].sum()    \n",
    "    return Clk"
   ]
  },
  {
   "cell_type": "code",
   "execution_count": 25,
   "metadata": {},
   "outputs": [],
   "source": [
    "#test range\n",
    "base_bids = np.arange(160,180,1)#区间可以适当左右调整一下，但大概就是这个范围\n",
    "count = 0\n",
    "maxClks = []"
   ]
  },
  {
   "cell_type": "code",
   "execution_count": 26,
   "metadata": {},
   "outputs": [
    {
     "name": "stdout",
     "output_type": "stream",
     "text": [
      "1 valid result is being test...\n",
      "max click@ 12 base_bid= 172 click = 169\n"
     ]
    }
   ],
   "source": [
    "count = count + 1\n",
    "print(str(count)+\" valid result is being test...\")\n",
    "test_predictions=valid_result['click_pred_per']\n",
    "Clks = [calculate_click(base_bid,Train_df_qr,payprice,test_predictions) for base_bid in base_bids]\n",
    "print(\"max click@\",Clks.index(max(Clks)),\"base_bid=\",base_bids[Clks.index(max(Clks))],\"click =\",max(Clks))\n",
    "maxClks.append(max(Clks))\n",
    "#     fig = plt.figure()\n",
    "#     plt.plot(base_bids,Clks)\n",
    "#     mpld3.display(fig)"
   ]
  },
  {
   "cell_type": "code",
   "execution_count": 39,
   "metadata": {},
   "outputs": [
    {
     "data": {
      "text/plain": [
       "[166,\n",
       " 166,\n",
       " 166,\n",
       " 166,\n",
       " 166,\n",
       " 167,\n",
       " 168,\n",
       " 168,\n",
       " 168,\n",
       " 168,\n",
       " 168,\n",
       " 168,\n",
       " 169,\n",
       " 169,\n",
       " 169,\n",
       " 169,\n",
       " 168,\n",
       " 167,\n",
       " 166,\n",
       " 164]"
      ]
     },
     "execution_count": 39,
     "metadata": {},
     "output_type": "execute_result"
    }
   ],
   "source": [
    "Clks\n"
   ]
  },
  {
   "cell_type": "markdown",
   "metadata": {},
   "source": [
    "##### "
   ]
  },
  {
   "cell_type": "markdown",
   "metadata": {},
   "source": [
    "## TEST"
   ]
  },
  {
   "cell_type": "code",
   "execution_count": 29,
   "metadata": {},
   "outputs": [],
   "source": [
    "Test_df = pd.read_csv(\"/project/Data/mytestset.csv\")\n",
    "Group=  pd.read_csv('/project/Data/Group_xx.csv')"
   ]
  },
  {
   "cell_type": "code",
   "execution_count": 30,
   "metadata": {},
   "outputs": [],
   "source": [
    "Test_df = Test_df[['slotwidth', 'slotheight', 'slotprice', 'android', 'ios',\n",
    "       'linux', 'mac', 'other', 'windows', 'chrome', 'firefox', 'ie',\n",
    "       'maxthon', 'opera', 'other.1', 'safari', 'sogou', 'theworld',\n",
    "       '10006', '10024', '10031', '10048', '10052', '10057', '10059',\n",
    "       '10063', '10067', '10074', '10075', '10076', '10077', '10079',\n",
    "       '10083', '10093', '10102', '10110', '10111', '10114', '10115',\n",
    "       '10116', '10117', '10118', '10120', '10123', '10125', '10126',\n",
    "       '10127', '10129', '10130', '10131', '10133', '10138', '10140',\n",
    "       '10142', '10145', '10146', '10147', '10148', '10149', '10684',\n",
    "       '11092', '11278', '11379', '11423', '11512', '11576', '11632',\n",
    "       '11680', '11724', '11944', '13042', '13403', '13496', '13678',\n",
    "       '13776', '13800', '13866', '13874', '14273', '15398', '16593',\n",
    "       '16617', '16661', '16706', '16751', '16753', 'hour_sin', 'hour_cos',\n",
    "       'city_per', 'region_per', 'weekday_0', 'weekday_1', 'weekday_2',\n",
    "       'weekday_3', 'weekday_4', 'weekday_5', 'weekday_6',\n",
    "       'adexchange_1.0', 'adexchange_2.0', 'adexchange_3.0',\n",
    "       'adexchange_4.0', 'adexchange_nan', 'slotvisibility_0',\n",
    "       'slotvisibility_1', 'slotvisibility_2', 'slotvisibility_255',\n",
    "       'slotvisibility_FifthView', 'slotvisibility_FirstView',\n",
    "       'slotvisibility_FourthView', 'slotvisibility_Na',\n",
    "       'slotvisibility_OtherView', 'slotvisibility_SecondView',\n",
    "       'slotvisibility_ThirdView', 'slotformat_0', 'slotformat_1',\n",
    "       'slotformat_5', 'slotformat_Na', 'advertiser_1458',\n",
    "       'advertiser_2259', 'advertiser_2261', 'advertiser_2821',\n",
    "       'advertiser_2997', 'advertiser_3358', 'advertiser_3386',\n",
    "       'advertiser_3427', 'advertiser_3476']]"
   ]
  },
  {
   "cell_type": "code",
   "execution_count": 31,
   "metadata": {},
   "outputs": [],
   "source": [
    "Test_df['slotheight']=Test_df['slotheight']/10\n",
    "Test_df['slotwidth']=Test_df['slotwidth']/100\n",
    "Test_df['slotprice']=Test_df['slotprice']/100"
   ]
  },
  {
   "cell_type": "code",
   "execution_count": 32,
   "metadata": {},
   "outputs": [],
   "source": [
    "test_x = Test_df\n",
    "test_x=test_x.values\n",
    "X_tr_sparse = sp.csr_matrix(test_x)\n",
    "\n",
    "test_predictions = model.predict_proba(X_tr_sparse)\n",
    "test_predictions_class = model.predict(X_tr_sparse)\n"
   ]
  },
  {
   "cell_type": "code",
   "execution_count": 33,
   "metadata": {},
   "outputs": [
    {
     "data": {
      "text/plain": [
       "array([[9.9743015e-01, 2.5698668e-03],\n",
       "       [9.8085338e-01, 1.9146636e-02],\n",
       "       [9.9813706e-01, 1.8629238e-03],\n",
       "       ...,\n",
       "       [9.9972659e-01, 2.7342068e-04],\n",
       "       [9.9742228e-01, 2.5777172e-03],\n",
       "       [9.9975562e-01, 2.4439074e-04]], dtype=float32)"
      ]
     },
     "execution_count": 33,
     "metadata": {},
     "output_type": "execute_result"
    }
   ],
   "source": [
    "test_predictions"
   ]
  },
  {
   "cell_type": "code",
   "execution_count": 34,
   "metadata": {},
   "outputs": [
    {
     "data": {
      "text/html": [
       "<div>\n",
       "<style scoped>\n",
       "    .dataframe tbody tr th:only-of-type {\n",
       "        vertical-align: middle;\n",
       "    }\n",
       "\n",
       "    .dataframe tbody tr th {\n",
       "        vertical-align: top;\n",
       "    }\n",
       "\n",
       "    .dataframe thead th {\n",
       "        text-align: right;\n",
       "    }\n",
       "</style>\n",
       "<table border=\"1\" class=\"dataframe\">\n",
       "  <thead>\n",
       "    <tr style=\"text-align: right;\">\n",
       "      <th></th>\n",
       "      <th>click</th>\n",
       "      <th>click_pred_per</th>\n",
       "      <th>click_pred_class</th>\n",
       "    </tr>\n",
       "  </thead>\n",
       "  <tbody>\n",
       "    <tr>\n",
       "      <th>0</th>\n",
       "      <td>NaN</td>\n",
       "      <td>0.002570</td>\n",
       "      <td>0</td>\n",
       "    </tr>\n",
       "    <tr>\n",
       "      <th>1</th>\n",
       "      <td>NaN</td>\n",
       "      <td>0.019147</td>\n",
       "      <td>0</td>\n",
       "    </tr>\n",
       "    <tr>\n",
       "      <th>2</th>\n",
       "      <td>NaN</td>\n",
       "      <td>0.001863</td>\n",
       "      <td>0</td>\n",
       "    </tr>\n",
       "    <tr>\n",
       "      <th>3</th>\n",
       "      <td>NaN</td>\n",
       "      <td>0.000731</td>\n",
       "      <td>0</td>\n",
       "    </tr>\n",
       "    <tr>\n",
       "      <th>4</th>\n",
       "      <td>NaN</td>\n",
       "      <td>0.008405</td>\n",
       "      <td>0</td>\n",
       "    </tr>\n",
       "  </tbody>\n",
       "</table>\n",
       "</div>"
      ],
      "text/plain": [
       "  click  click_pred_per  click_pred_class\n",
       "0   NaN        0.002570                 0\n",
       "1   NaN        0.019147                 0\n",
       "2   NaN        0.001863                 0\n",
       "3   NaN        0.000731                 0\n",
       "4   NaN        0.008405                 0"
      ]
     },
     "execution_count": 34,
     "metadata": {},
     "output_type": "execute_result"
    }
   ],
   "source": [
    "test_result = pd.DataFrame(columns=['click', 'click_pred_per', 'click_pred_class'])  \n",
    "#test_result['click']= Valid_df['click'].copy()\n",
    "test_result['click_pred_per'] = test_predictions[:,1]\n",
    "test_result['click_pred_class'] = test_predictions_class\n",
    "test_result.head()"
   ]
  },
  {
   "cell_type": "code",
   "execution_count": 50,
   "metadata": {},
   "outputs": [],
   "source": [
    "#test_result.to_csv('FM_ALL_PCTR.csv', encoding='utf-8', index=False)"
   ]
  },
  {
   "cell_type": "code",
   "execution_count": 35,
   "metadata": {},
   "outputs": [
    {
     "data": {
      "text/html": [
       "<div>\n",
       "<style scoped>\n",
       "    .dataframe tbody tr th:only-of-type {\n",
       "        vertical-align: middle;\n",
       "    }\n",
       "\n",
       "    .dataframe tbody tr th {\n",
       "        vertical-align: top;\n",
       "    }\n",
       "\n",
       "    .dataframe thead th {\n",
       "        text-align: right;\n",
       "    }\n",
       "</style>\n",
       "<table border=\"1\" class=\"dataframe\">\n",
       "  <thead>\n",
       "    <tr style=\"text-align: right;\">\n",
       "      <th></th>\n",
       "      <th>click</th>\n",
       "      <th>click_pred_per</th>\n",
       "      <th>click_pred_class</th>\n",
       "    </tr>\n",
       "  </thead>\n",
       "  <tbody>\n",
       "    <tr>\n",
       "      <th>0</th>\n",
       "      <td>NaN</td>\n",
       "      <td>0.000258</td>\n",
       "      <td>0</td>\n",
       "    </tr>\n",
       "    <tr>\n",
       "      <th>1</th>\n",
       "      <td>NaN</td>\n",
       "      <td>0.001948</td>\n",
       "      <td>0</td>\n",
       "    </tr>\n",
       "    <tr>\n",
       "      <th>2</th>\n",
       "      <td>NaN</td>\n",
       "      <td>0.000187</td>\n",
       "      <td>0</td>\n",
       "    </tr>\n",
       "    <tr>\n",
       "      <th>3</th>\n",
       "      <td>NaN</td>\n",
       "      <td>0.000073</td>\n",
       "      <td>0</td>\n",
       "    </tr>\n",
       "    <tr>\n",
       "      <th>4</th>\n",
       "      <td>NaN</td>\n",
       "      <td>0.000847</td>\n",
       "      <td>0</td>\n",
       "    </tr>\n",
       "  </tbody>\n",
       "</table>\n",
       "</div>"
      ],
      "text/plain": [
       "  click  click_pred_per  click_pred_class\n",
       "0   NaN        0.000258                 0\n",
       "1   NaN        0.001948                 0\n",
       "2   NaN        0.000187                 0\n",
       "3   NaN        0.000073                 0\n",
       "4   NaN        0.000847                 0"
      ]
     },
     "execution_count": 35,
     "metadata": {},
     "output_type": "execute_result"
    }
   ],
   "source": [
    "test_result['click_pred_per']=recalibrate(test_result['click_pred_per'],0.1)\n",
    "test_result.head()"
   ]
  },
  {
   "cell_type": "code",
   "execution_count": 36,
   "metadata": {},
   "outputs": [],
   "source": [
    "#linear\n",
    "base_bid=175\n",
    "\n",
    "avgCTR = 1793/2430981#train set\n",
    "test_result['bidprice'] = base_bid*test_result['click_pred_per']/avgCTR"
   ]
  },
  {
   "cell_type": "code",
   "execution_count": 37,
   "metadata": {},
   "outputs": [],
   "source": [
    "Group['bidprice']=test_result['bidprice']"
   ]
  },
  {
   "cell_type": "code",
   "execution_count": 38,
   "metadata": {},
   "outputs": [
    {
     "data": {
      "text/html": [
       "<div>\n",
       "<style scoped>\n",
       "    .dataframe tbody tr th:only-of-type {\n",
       "        vertical-align: middle;\n",
       "    }\n",
       "\n",
       "    .dataframe tbody tr th {\n",
       "        vertical-align: top;\n",
       "    }\n",
       "\n",
       "    .dataframe thead th {\n",
       "        text-align: right;\n",
       "    }\n",
       "</style>\n",
       "<table border=\"1\" class=\"dataframe\">\n",
       "  <thead>\n",
       "    <tr style=\"text-align: right;\">\n",
       "      <th></th>\n",
       "      <th>bidid</th>\n",
       "      <th>bidprice</th>\n",
       "    </tr>\n",
       "  </thead>\n",
       "  <tbody>\n",
       "    <tr>\n",
       "      <th>0</th>\n",
       "      <td>366c563de7d90feb9d4dab53e795a93fb3157387</td>\n",
       "      <td>61.116091</td>\n",
       "    </tr>\n",
       "    <tr>\n",
       "      <th>1</th>\n",
       "      <td>29167d4caa719788b5a342dbaa25151d53121f80</td>\n",
       "      <td>462.254111</td>\n",
       "    </tr>\n",
       "    <tr>\n",
       "      <th>2</th>\n",
       "      <td>ff8bc3f4d44a3ea60c5f3a3a8fbe7cd98fb2966e</td>\n",
       "      <td>44.275472</td>\n",
       "    </tr>\n",
       "    <tr>\n",
       "      <th>3</th>\n",
       "      <td>844c2da00d45315f20b748ec131c26ee99a7cbc7</td>\n",
       "      <td>17.353254</td>\n",
       "    </tr>\n",
       "    <tr>\n",
       "      <th>4</th>\n",
       "      <td>c6017f0ad0c44d7d0c9b62583ea863f28941c0ca</td>\n",
       "      <td>200.933362</td>\n",
       "    </tr>\n",
       "  </tbody>\n",
       "</table>\n",
       "</div>"
      ],
      "text/plain": [
       "                                      bidid    bidprice\n",
       "0  366c563de7d90feb9d4dab53e795a93fb3157387   61.116091\n",
       "1  29167d4caa719788b5a342dbaa25151d53121f80  462.254111\n",
       "2  ff8bc3f4d44a3ea60c5f3a3a8fbe7cd98fb2966e   44.275472\n",
       "3  844c2da00d45315f20b748ec131c26ee99a7cbc7   17.353254\n",
       "4  c6017f0ad0c44d7d0c9b62583ea863f28941c0ca  200.933362"
      ]
     },
     "execution_count": 38,
     "metadata": {},
     "output_type": "execute_result"
    }
   ],
   "source": [
    "Group.head()"
   ]
  },
  {
   "cell_type": "code",
   "execution_count": 40,
   "metadata": {},
   "outputs": [
    {
     "data": {
      "text/html": [
       "<div>\n",
       "<style scoped>\n",
       "    .dataframe tbody tr th:only-of-type {\n",
       "        vertical-align: middle;\n",
       "    }\n",
       "\n",
       "    .dataframe tbody tr th {\n",
       "        vertical-align: top;\n",
       "    }\n",
       "\n",
       "    .dataframe thead th {\n",
       "        text-align: right;\n",
       "    }\n",
       "</style>\n",
       "<table border=\"1\" class=\"dataframe\">\n",
       "  <thead>\n",
       "    <tr style=\"text-align: right;\">\n",
       "      <th></th>\n",
       "      <th>bidid</th>\n",
       "      <th>bidprice</th>\n",
       "    </tr>\n",
       "  </thead>\n",
       "  <tbody>\n",
       "    <tr>\n",
       "      <th>0</th>\n",
       "      <td>366c563de7d90feb9d4dab53e795a93fb3157387</td>\n",
       "      <td>61.116091</td>\n",
       "    </tr>\n",
       "    <tr>\n",
       "      <th>1</th>\n",
       "      <td>29167d4caa719788b5a342dbaa25151d53121f80</td>\n",
       "      <td>462.254111</td>\n",
       "    </tr>\n",
       "    <tr>\n",
       "      <th>2</th>\n",
       "      <td>ff8bc3f4d44a3ea60c5f3a3a8fbe7cd98fb2966e</td>\n",
       "      <td>44.275472</td>\n",
       "    </tr>\n",
       "    <tr>\n",
       "      <th>3</th>\n",
       "      <td>844c2da00d45315f20b748ec131c26ee99a7cbc7</td>\n",
       "      <td>17.353254</td>\n",
       "    </tr>\n",
       "    <tr>\n",
       "      <th>4</th>\n",
       "      <td>c6017f0ad0c44d7d0c9b62583ea863f28941c0ca</td>\n",
       "      <td>200.933362</td>\n",
       "    </tr>\n",
       "  </tbody>\n",
       "</table>\n",
       "</div>"
      ],
      "text/plain": [
       "                                      bidid    bidprice\n",
       "0  366c563de7d90feb9d4dab53e795a93fb3157387   61.116091\n",
       "1  29167d4caa719788b5a342dbaa25151d53121f80  462.254111\n",
       "2  ff8bc3f4d44a3ea60c5f3a3a8fbe7cd98fb2966e   44.275472\n",
       "3  844c2da00d45315f20b748ec131c26ee99a7cbc7   17.353254\n",
       "4  c6017f0ad0c44d7d0c9b62583ea863f28941c0ca  200.933362"
      ]
     },
     "execution_count": 40,
     "metadata": {},
     "output_type": "execute_result"
    }
   ],
   "source": [
    "Group.head()"
   ]
  },
  {
   "cell_type": "code",
   "execution_count": 41,
   "metadata": {},
   "outputs": [],
   "source": [
    "Group.to_csv('Group1234_6.csv', encoding='utf-8', index=False)"
   ]
  },
  {
   "cell_type": "code",
   "execution_count": 26,
   "metadata": {},
   "outputs": [],
   "source": [
    "df_valid = pd.read_csv(\"/Users/weisihan/Downloads/we_data/validation.csv\")"
   ]
  },
  {
   "cell_type": "code",
   "execution_count": 27,
   "metadata": {},
   "outputs": [
    {
     "data": {
      "text/plain": [
       "0.0007375623256619447"
      ]
     },
     "execution_count": 27,
     "metadata": {},
     "output_type": "execute_result"
    }
   ],
   "source": [
    "#clicks = len(train[train.click==1])\n",
    "#impression = len(train[train.bidprice>train.payprice])\n",
    "aCTR=1793/2430981\n",
    "aCTR"
   ]
  },
  {
   "cell_type": "code",
   "execution_count": 39,
   "metadata": {},
   "outputs": [],
   "source": [
    "def evaluate(bidprice):\n",
    "    budget=6250000\n",
    "    impression=0\n",
    "    click=0\n",
    "    for row in range(0,df_valid.shape[0]):\n",
    "        if budget<df_valid.payprice[row]:\n",
    "            continue\n",
    "        if bidprice.iloc[row,0]>df_valid.payprice[row]:\n",
    "            budget=budget-df_valid.payprice[row]\n",
    "            impression=impression+1\n",
    "            if df_valid.click[row]==1:\n",
    "                click=click+1\n",
    "    return click"
   ]
  },
  {
   "cell_type": "code",
   "execution_count": 40,
   "metadata": {},
   "outputs": [],
   "source": [
    "def bid_linear(basebid, pred_CTR,avg_CTR):\n",
    "    bid = np.zeros((df_valid.shape[0], 1))\n",
    "    for i in range (0,df_valid.shape[0]):\n",
    "        bid[i,0] = basebid*xx.iloc[i]/avg_CTR\n",
    "    bid = pd.DataFrame(bid)\n",
    "    return bid"
   ]
  },
  {
   "cell_type": "code",
   "execution_count": 42,
   "metadata": {},
   "outputs": [],
   "source": [
    "xx=test_result['click_pred_per'].copy()"
   ]
  },
  {
   "cell_type": "code",
   "execution_count": 43,
   "metadata": {},
   "outputs": [
    {
     "name": "stdout",
     "output_type": "stream",
     "text": [
      "basebid  10  click  82\n",
      "basebid  20  click  95\n",
      "basebid  30  click  103\n",
      "basebid  40  click  110\n",
      "basebid  50  click  117\n",
      "basebid  60  click  121\n",
      "basebid  70  click  129\n",
      "basebid  80  click  130\n",
      "basebid  90  click  133\n",
      "basebid  100  click  139\n",
      "basebid  110  click  142\n",
      "basebid  120  click  145\n",
      "basebid  130  click  146\n",
      "basebid  140  click  148\n",
      "basebid  150  click  148\n",
      "basebid  160  click  150\n",
      "basebid  170  click  151\n",
      "basebid  180  click  151\n",
      "basebid  190  click  151\n"
     ]
    }
   ],
   "source": [
    "base_bids = np.arange(10,200,10)\n",
    "for counter in base_bids:\n",
    "    base_bid=counter\n",
    "    bidprice=bid_linear(base_bid, xx, aCTR)\n",
    "    print('basebid ', base_bid, ' click ', evaluate(bidprice))"
   ]
  },
  {
   "cell_type": "code",
   "execution_count": 45,
   "metadata": {},
   "outputs": [
    {
     "name": "stdout",
     "output_type": "stream",
     "text": [
      "basebid  200  click  152\n",
      "basebid  210  click  155\n",
      "basebid  220  click  156\n",
      "basebid  230  click  159\n",
      "basebid  240  click  160\n",
      "basebid  250  click  160\n",
      "basebid  260  click  158\n",
      "basebid  270  click  154\n",
      "basebid  280  click  148\n",
      "basebid  290  click  145\n"
     ]
    }
   ],
   "source": [
    "base_bids = np.arange(200,300,10)\n",
    "for counter in base_bids:\n",
    "    base_bid=counter\n",
    "    bidprice=bid_linear(base_bid, xx, aCTR)\n",
    "    print('basebid ', base_bid, ' click ', evaluate(bidprice))"
   ]
  },
  {
   "cell_type": "code",
   "execution_count": null,
   "metadata": {},
   "outputs": [],
   "source": []
  },
  {
   "cell_type": "code",
   "execution_count": 47,
   "metadata": {},
   "outputs": [],
   "source": [
    "# parameters\n",
    "total_budget = 6250000\n",
    "payprice = df_valid['payprice'].as_matrix()\n",
    "Train_df_qr = df_valid.copy()\n",
    "test_predictions=test_result['click_pred_per']\n",
    "#test_predictions2=test_result['click_pred_LR']\n",
    "\n",
    "avgCTR = 1793/2430981 #train set\n",
    "#tuning..."
   ]
  },
  {
   "cell_type": "code",
   "execution_count": 48,
   "metadata": {},
   "outputs": [],
   "source": [
    "def generate_bidprice(base_bid, test_predictions):\n",
    "    avgCTR = 1793/2430981#train set\n",
    "    bidprices = base_bid*test_predictions/avgCTR\n",
    "    return bidprices"
   ]
  },
  {
   "cell_type": "code",
   "execution_count": 49,
   "metadata": {},
   "outputs": [],
   "source": [
    "def Prob3(Train_df,payprice,base_bid,test_predictions):\n",
    "    Train_Const_summ = pd.DataFrame({'Clicks':'', 'Spend':'', 'CTR':'', 'CPM':'', 'eCPC':''}, index=[0])\n",
    "    \n",
    "    current_budget = total_budget\n",
    "    Train_df['win'] = 0 #initialize win label\n",
    "    bidprices = generate_bidprice(base_bid, test_predictions)\n",
    "    #start biding...\n",
    "    for i in Train_df.index:\n",
    "        if current_budget >= bidprices[i]:\n",
    "            #generate bidprice:\n",
    "            current_bidprice = bidprices[i]\n",
    "\n",
    "            #Winning criterion:\n",
    "            current_payprice = payprice[i]\n",
    "            if current_bidprice > current_payprice:\n",
    "                Train_df.at[i, 'win'] = int(1)\n",
    "                current_budget = current_budget - current_payprice\n",
    "            else:\n",
    "                Train_df.at[i, 'win'] = int(0)\n",
    "        else:\n",
    "            print('lack of budget!',current_budget)\n",
    "            break\n",
    "    #biding end        \n",
    "    \n",
    "    Train_df_new = Train_df[Train_df['win']!=0]\n",
    "    #wintimes,_ = Train_df_new.shape\n",
    "    #print('wintimes:',wintimes)\n",
    "    #print('current_budget',current_budget)\n",
    "\n",
    "    Clk = Train_df_new['click'].sum()\n",
    "    Imp = Train_df_new['click'].count()\n",
    "    CTR = Clk/Imp\n",
    "    Spd = total_budget - current_budget\n",
    "    CPM = 1000*Spd/Imp\n",
    "    eCPC = Spd/Clk\n",
    "    \n",
    "    Train_Const_summ.loc[0,'Clicks']=Clk\n",
    "    Train_Const_summ.loc[0,'Spend']=Spd\n",
    "    Train_Const_summ.loc[0,'CTR']=CTR\n",
    "    Train_Const_summ.loc[0,'CPM']=CPM\n",
    "    Train_Const_summ.loc[0,'eCPC']=eCPC\n",
    "\n",
    "    print(Train_Const_summ)\n",
    "    \n",
    "        \n",
    "    return Train_df,current_budget"
   ]
  },
  {
   "cell_type": "code",
   "execution_count": 50,
   "metadata": {},
   "outputs": [],
   "source": [
    "def calculate_click(base_bid,Train_df,payprice,test_predictions):\n",
    "    print('base_bid:',base_bid)\n",
    "    result_df,current_budget = Prob3(Train_df,payprice,base_bid,test_predictions)\n",
    "    print('current_budget:',current_budget)\n",
    "    Train_df_new = result_df[result_df['win']!=0]\n",
    "    wintimes,_ = Train_df_new.shape\n",
    "    print('wintimes:',wintimes)\n",
    "    print('----------------')\n",
    "    Clk = Train_df_new['click'].sum()    \n",
    "    return Clk"
   ]
  },
  {
   "cell_type": "code",
   "execution_count": 54,
   "metadata": {},
   "outputs": [],
   "source": [
    "%matplotlib inline\n",
    "import matplotlib\n",
    "import matplotlib.pyplot as plt\n",
    "import mpld3\n",
    "import numpy as np"
   ]
  },
  {
   "cell_type": "code",
   "execution_count": 58,
   "metadata": {},
   "outputs": [
    {
     "name": "stdout",
     "output_type": "stream",
     "text": [
      "base_bid: 245\n",
      "       CPM         CTR Clicks    Spend     eCPC\n",
      "0  57670.7  0.00151166    160  6104095  38150.6\n",
      "current_budget: 145905\n",
      "wintimes: 105844\n",
      "----------------\n",
      "base_bid: 246\n",
      "       CPM         CTR Clicks    Spend     eCPC\n",
      "0  57713.6  0.00150888    160  6119892  38249.3\n",
      "current_budget: 130108\n",
      "wintimes: 106039\n",
      "----------------\n",
      "base_bid: 247\n",
      "       CPM         CTR Clicks    Spend     eCPC\n",
      "0  57763.5  0.00150595    160  6137087  38356.8\n",
      "current_budget: 112913\n",
      "wintimes: 106245\n",
      "----------------\n",
      "base_bid: 248\n",
      "       CPM         CTR Clicks    Spend     eCPC\n",
      "0  57811.4  0.00150283    160  6154945  38468.4\n",
      "current_budget: 95055\n",
      "wintimes: 106466\n",
      "----------------\n",
      "base_bid: 249\n"
     ]
    },
    {
     "ename": "KeyboardInterrupt",
     "evalue": "",
     "output_type": "error",
     "traceback": [
      "\u001b[0;31m---------------------------------------------------------------------------\u001b[0m",
      "\u001b[0;31mKeyboardInterrupt\u001b[0m                         Traceback (most recent call last)",
      "\u001b[0;32m<ipython-input-58-e8b6da10bf6b>\u001b[0m in \u001b[0;36m<module>\u001b[0;34m()\u001b[0m\n\u001b[1;32m      1\u001b[0m \u001b[0mbase_bids\u001b[0m \u001b[0;34m=\u001b[0m \u001b[0mnp\u001b[0m\u001b[0;34m.\u001b[0m\u001b[0marange\u001b[0m\u001b[0;34m(\u001b[0m\u001b[0;36m245\u001b[0m\u001b[0;34m,\u001b[0m\u001b[0;36m250\u001b[0m\u001b[0;34m,\u001b[0m\u001b[0;36m1\u001b[0m\u001b[0;34m)\u001b[0m\u001b[0;34m\u001b[0m\u001b[0m\n\u001b[0;32m----> 2\u001b[0;31m \u001b[0mClks\u001b[0m \u001b[0;34m=\u001b[0m \u001b[0;34m[\u001b[0m\u001b[0mcalculate_click\u001b[0m\u001b[0;34m(\u001b[0m\u001b[0mbase_bid\u001b[0m\u001b[0;34m,\u001b[0m\u001b[0mTrain_df_qr\u001b[0m\u001b[0;34m,\u001b[0m\u001b[0mpayprice\u001b[0m\u001b[0;34m,\u001b[0m\u001b[0mtest_predictions\u001b[0m\u001b[0;34m)\u001b[0m \u001b[0;32mfor\u001b[0m \u001b[0mbase_bid\u001b[0m \u001b[0;32min\u001b[0m \u001b[0mbase_bids\u001b[0m\u001b[0;34m]\u001b[0m\u001b[0;34m\u001b[0m\u001b[0m\n\u001b[0m\u001b[1;32m      3\u001b[0m \u001b[0mfig\u001b[0m \u001b[0;34m=\u001b[0m \u001b[0mplt\u001b[0m\u001b[0;34m.\u001b[0m\u001b[0mfigure\u001b[0m\u001b[0;34m(\u001b[0m\u001b[0;34m)\u001b[0m\u001b[0;34m\u001b[0m\u001b[0m\n\u001b[1;32m      4\u001b[0m \u001b[0mprint\u001b[0m\u001b[0;34m(\u001b[0m\u001b[0mmax\u001b[0m\u001b[0;34m(\u001b[0m\u001b[0mClks\u001b[0m\u001b[0;34m)\u001b[0m\u001b[0;34m)\u001b[0m\u001b[0;34m\u001b[0m\u001b[0m\n\u001b[1;32m      5\u001b[0m \u001b[0mplt\u001b[0m\u001b[0;34m.\u001b[0m\u001b[0mplot\u001b[0m\u001b[0;34m(\u001b[0m\u001b[0mbase_bids\u001b[0m\u001b[0;34m,\u001b[0m\u001b[0mClks\u001b[0m\u001b[0;34m)\u001b[0m\u001b[0;34m\u001b[0m\u001b[0m\n",
      "\u001b[0;32m<ipython-input-58-e8b6da10bf6b>\u001b[0m in \u001b[0;36m<listcomp>\u001b[0;34m(.0)\u001b[0m\n\u001b[1;32m      1\u001b[0m \u001b[0mbase_bids\u001b[0m \u001b[0;34m=\u001b[0m \u001b[0mnp\u001b[0m\u001b[0;34m.\u001b[0m\u001b[0marange\u001b[0m\u001b[0;34m(\u001b[0m\u001b[0;36m245\u001b[0m\u001b[0;34m,\u001b[0m\u001b[0;36m250\u001b[0m\u001b[0;34m,\u001b[0m\u001b[0;36m1\u001b[0m\u001b[0;34m)\u001b[0m\u001b[0;34m\u001b[0m\u001b[0m\n\u001b[0;32m----> 2\u001b[0;31m \u001b[0mClks\u001b[0m \u001b[0;34m=\u001b[0m \u001b[0;34m[\u001b[0m\u001b[0mcalculate_click\u001b[0m\u001b[0;34m(\u001b[0m\u001b[0mbase_bid\u001b[0m\u001b[0;34m,\u001b[0m\u001b[0mTrain_df_qr\u001b[0m\u001b[0;34m,\u001b[0m\u001b[0mpayprice\u001b[0m\u001b[0;34m,\u001b[0m\u001b[0mtest_predictions\u001b[0m\u001b[0;34m)\u001b[0m \u001b[0;32mfor\u001b[0m \u001b[0mbase_bid\u001b[0m \u001b[0;32min\u001b[0m \u001b[0mbase_bids\u001b[0m\u001b[0;34m]\u001b[0m\u001b[0;34m\u001b[0m\u001b[0m\n\u001b[0m\u001b[1;32m      3\u001b[0m \u001b[0mfig\u001b[0m \u001b[0;34m=\u001b[0m \u001b[0mplt\u001b[0m\u001b[0;34m.\u001b[0m\u001b[0mfigure\u001b[0m\u001b[0;34m(\u001b[0m\u001b[0;34m)\u001b[0m\u001b[0;34m\u001b[0m\u001b[0m\n\u001b[1;32m      4\u001b[0m \u001b[0mprint\u001b[0m\u001b[0;34m(\u001b[0m\u001b[0mmax\u001b[0m\u001b[0;34m(\u001b[0m\u001b[0mClks\u001b[0m\u001b[0;34m)\u001b[0m\u001b[0;34m)\u001b[0m\u001b[0;34m\u001b[0m\u001b[0m\n\u001b[1;32m      5\u001b[0m \u001b[0mplt\u001b[0m\u001b[0;34m.\u001b[0m\u001b[0mplot\u001b[0m\u001b[0;34m(\u001b[0m\u001b[0mbase_bids\u001b[0m\u001b[0;34m,\u001b[0m\u001b[0mClks\u001b[0m\u001b[0;34m)\u001b[0m\u001b[0;34m\u001b[0m\u001b[0m\n",
      "\u001b[0;32m<ipython-input-50-7e1d6cf6c1ea>\u001b[0m in \u001b[0;36mcalculate_click\u001b[0;34m(base_bid, Train_df, payprice, test_predictions)\u001b[0m\n\u001b[1;32m      1\u001b[0m \u001b[0;32mdef\u001b[0m \u001b[0mcalculate_click\u001b[0m\u001b[0;34m(\u001b[0m\u001b[0mbase_bid\u001b[0m\u001b[0;34m,\u001b[0m\u001b[0mTrain_df\u001b[0m\u001b[0;34m,\u001b[0m\u001b[0mpayprice\u001b[0m\u001b[0;34m,\u001b[0m\u001b[0mtest_predictions\u001b[0m\u001b[0;34m)\u001b[0m\u001b[0;34m:\u001b[0m\u001b[0;34m\u001b[0m\u001b[0m\n\u001b[1;32m      2\u001b[0m     \u001b[0mprint\u001b[0m\u001b[0;34m(\u001b[0m\u001b[0;34m'base_bid:'\u001b[0m\u001b[0;34m,\u001b[0m\u001b[0mbase_bid\u001b[0m\u001b[0;34m)\u001b[0m\u001b[0;34m\u001b[0m\u001b[0m\n\u001b[0;32m----> 3\u001b[0;31m     \u001b[0mresult_df\u001b[0m\u001b[0;34m,\u001b[0m\u001b[0mcurrent_budget\u001b[0m \u001b[0;34m=\u001b[0m \u001b[0mProb3\u001b[0m\u001b[0;34m(\u001b[0m\u001b[0mTrain_df\u001b[0m\u001b[0;34m,\u001b[0m\u001b[0mpayprice\u001b[0m\u001b[0;34m,\u001b[0m\u001b[0mbase_bid\u001b[0m\u001b[0;34m,\u001b[0m\u001b[0mtest_predictions\u001b[0m\u001b[0;34m)\u001b[0m\u001b[0;34m\u001b[0m\u001b[0m\n\u001b[0m\u001b[1;32m      4\u001b[0m     \u001b[0mprint\u001b[0m\u001b[0;34m(\u001b[0m\u001b[0;34m'current_budget:'\u001b[0m\u001b[0;34m,\u001b[0m\u001b[0mcurrent_budget\u001b[0m\u001b[0;34m)\u001b[0m\u001b[0;34m\u001b[0m\u001b[0m\n\u001b[1;32m      5\u001b[0m     \u001b[0mTrain_df_new\u001b[0m \u001b[0;34m=\u001b[0m \u001b[0mresult_df\u001b[0m\u001b[0;34m[\u001b[0m\u001b[0mresult_df\u001b[0m\u001b[0;34m[\u001b[0m\u001b[0;34m'win'\u001b[0m\u001b[0;34m]\u001b[0m\u001b[0;34m!=\u001b[0m\u001b[0;36m0\u001b[0m\u001b[0;34m]\u001b[0m\u001b[0;34m\u001b[0m\u001b[0m\n",
      "\u001b[0;32m<ipython-input-49-04e7dbf11205>\u001b[0m in \u001b[0;36mProb3\u001b[0;34m(Train_df, payprice, base_bid, test_predictions)\u001b[0m\n\u001b[1;32m      7\u001b[0m     \u001b[0;31m#start biding...\u001b[0m\u001b[0;34m\u001b[0m\u001b[0;34m\u001b[0m\u001b[0m\n\u001b[1;32m      8\u001b[0m     \u001b[0;32mfor\u001b[0m \u001b[0mi\u001b[0m \u001b[0;32min\u001b[0m \u001b[0mTrain_df\u001b[0m\u001b[0;34m.\u001b[0m\u001b[0mindex\u001b[0m\u001b[0;34m:\u001b[0m\u001b[0;34m\u001b[0m\u001b[0m\n\u001b[0;32m----> 9\u001b[0;31m         \u001b[0;32mif\u001b[0m \u001b[0mcurrent_budget\u001b[0m \u001b[0;34m>=\u001b[0m \u001b[0mbidprices\u001b[0m\u001b[0;34m[\u001b[0m\u001b[0mi\u001b[0m\u001b[0;34m]\u001b[0m\u001b[0;34m:\u001b[0m\u001b[0;34m\u001b[0m\u001b[0m\n\u001b[0m\u001b[1;32m     10\u001b[0m             \u001b[0;31m#generate bidprice:\u001b[0m\u001b[0;34m\u001b[0m\u001b[0;34m\u001b[0m\u001b[0m\n\u001b[1;32m     11\u001b[0m             \u001b[0mcurrent_bidprice\u001b[0m \u001b[0;34m=\u001b[0m \u001b[0mbidprices\u001b[0m\u001b[0;34m[\u001b[0m\u001b[0mi\u001b[0m\u001b[0;34m]\u001b[0m\u001b[0;34m\u001b[0m\u001b[0m\n",
      "\u001b[0;31mKeyboardInterrupt\u001b[0m: "
     ]
    }
   ],
   "source": [
    "base_bids = np.arange(245,250,1)\n",
    "Clks = [calculate_click(base_bid,Train_df_qr,payprice,test_predictions) for base_bid in base_bids]\n",
    "fig = plt.figure()\n",
    "print(max(Clks))\n",
    "plt.plot(base_bids,Clks)\n",
    "mpld3.display(fig)"
   ]
  },
  {
   "cell_type": "markdown",
   "metadata": {},
   "source": [
    "## Different optimizers"
   ]
  },
  {
   "cell_type": "code",
   "execution_count": 30,
   "metadata": {},
   "outputs": [
    {
     "name": "stdout",
     "output_type": "stream",
     "text": [
      "Populating the interactive namespace from numpy and matplotlib\n"
     ]
    },
    {
     "name": "stderr",
     "output_type": "stream",
     "text": [
      "/Users/weisihan/anaconda3/envs/tensorflow/lib/python3.5/site-packages/IPython/core/magics/pylab.py:160: UserWarning: pylab import has clobbered these variables: ['title']\n",
      "`%matplotlib` prevents importing * from pylab and numpy\n",
      "  \"\\n`%matplotlib` prevents importing * from pylab and numpy\"\n",
      "100%|██████████| 5/5 [00:08<00:00,  1.62s/epoch]\n",
      "100%|██████████| 5/5 [00:07<00:00,  1.56s/epoch]\n",
      "100%|██████████| 5/5 [00:07<00:00,  1.54s/epoch]\n",
      "100%|██████████| 5/5 [00:07<00:00,  1.58s/epoch]\n",
      "100%|██████████| 5/5 [00:07<00:00,  1.56s/epoch]\n",
      "100%|██████████| 5/5 [00:08<00:00,  1.68s/epoch]\n",
      "100%|██████████| 5/5 [00:08<00:00,  1.65s/epoch]\n",
      "100%|██████████| 5/5 [00:08<00:00,  1.65s/epoch]\n",
      "100%|██████████| 5/5 [00:08<00:00,  1.67s/epoch]\n",
      "100%|██████████| 5/5 [00:08<00:00,  1.66s/epoch]\n",
      "100%|██████████| 5/5 [00:08<00:00,  1.62s/epoch]\n",
      "100%|██████████| 5/5 [00:08<00:00,  1.65s/epoch]\n",
      "100%|██████████| 5/5 [00:08<00:00,  1.68s/epoch]\n",
      "100%|██████████| 5/5 [00:08<00:00,  1.66s/epoch]\n",
      "100%|██████████| 5/5 [00:08<00:00,  1.66s/epoch]\n",
      "100%|██████████| 5/5 [00:08<00:00,  1.68s/epoch]\n",
      "100%|██████████| 5/5 [00:08<00:00,  1.66s/epoch]\n",
      "100%|██████████| 5/5 [00:08<00:00,  1.64s/epoch]\n",
      "100%|██████████| 5/5 [00:08<00:00,  1.70s/epoch]\n",
      "100%|██████████| 5/5 [00:07<00:00,  1.53s/epoch]\n",
      "100%|██████████| 5/5 [00:07<00:00,  1.53s/epoch]\n",
      "100%|██████████| 5/5 [00:07<00:00,  1.54s/epoch]\n",
      "100%|██████████| 5/5 [00:07<00:00,  1.54s/epoch]\n",
      "100%|██████████| 5/5 [00:07<00:00,  1.52s/epoch]\n",
      "100%|██████████| 5/5 [00:07<00:00,  1.52s/epoch]\n",
      "100%|██████████| 5/5 [00:07<00:00,  1.51s/epoch]\n",
      "100%|██████████| 5/5 [00:08<00:00,  1.63s/epoch]\n",
      "100%|██████████| 5/5 [00:07<00:00,  1.52s/epoch]\n",
      "100%|██████████| 5/5 [00:07<00:00,  1.53s/epoch]\n",
      "100%|██████████| 5/5 [00:07<00:00,  1.53s/epoch]\n",
      "100%|██████████| 5/5 [00:07<00:00,  1.53s/epoch]\n",
      "100%|██████████| 5/5 [00:07<00:00,  1.53s/epoch]\n",
      "100%|██████████| 5/5 [00:07<00:00,  1.52s/epoch]\n",
      "100%|██████████| 5/5 [00:07<00:00,  1.53s/epoch]\n",
      "100%|██████████| 5/5 [00:07<00:00,  1.52s/epoch]\n",
      "100%|██████████| 5/5 [00:07<00:00,  1.56s/epoch]\n",
      "100%|██████████| 5/5 [00:07<00:00,  1.54s/epoch]\n",
      "100%|██████████| 5/5 [00:07<00:00,  1.53s/epoch]\n",
      "100%|██████████| 5/5 [00:07<00:00,  1.54s/epoch]\n",
      "100%|██████████| 5/5 [00:07<00:00,  1.55s/epoch]\n",
      "100%|██████████| 5/5 [00:07<00:00,  1.54s/epoch]\n",
      "100%|██████████| 5/5 [00:08<00:00,  1.63s/epoch]\n",
      "100%|██████████| 5/5 [00:08<00:00,  1.63s/epoch]\n",
      "100%|██████████| 5/5 [00:08<00:00,  1.62s/epoch]\n",
      "100%|██████████| 5/5 [00:07<00:00,  1.59s/epoch]\n",
      "100%|██████████| 5/5 [00:07<00:00,  1.49s/epoch]\n",
      "100%|██████████| 5/5 [00:07<00:00,  1.50s/epoch]\n",
      "100%|██████████| 5/5 [00:07<00:00,  1.50s/epoch]\n",
      "100%|██████████| 5/5 [00:07<00:00,  1.49s/epoch]\n",
      "100%|██████████| 5/5 [00:07<00:00,  1.50s/epoch]\n",
      "100%|██████████| 5/5 [00:07<00:00,  1.49s/epoch]\n",
      "100%|██████████| 5/5 [00:07<00:00,  1.49s/epoch]\n",
      "100%|██████████| 5/5 [00:07<00:00,  1.49s/epoch]\n",
      "100%|██████████| 5/5 [00:08<00:00,  1.67s/epoch]\n",
      "100%|██████████| 5/5 [00:07<00:00,  1.50s/epoch]\n",
      "100%|██████████| 5/5 [00:07<00:00,  1.49s/epoch]\n",
      "100%|██████████| 5/5 [00:07<00:00,  1.50s/epoch]\n",
      "100%|██████████| 5/5 [00:07<00:00,  1.50s/epoch]\n",
      "100%|██████████| 5/5 [00:07<00:00,  1.51s/epoch]\n",
      "100%|██████████| 5/5 [00:07<00:00,  1.49s/epoch]\n",
      "100%|██████████| 5/5 [00:07<00:00,  1.51s/epoch]\n",
      "100%|██████████| 5/5 [00:07<00:00,  1.51s/epoch]\n",
      "100%|██████████| 5/5 [00:07<00:00,  1.51s/epoch]\n",
      "100%|██████████| 5/5 [00:07<00:00,  1.51s/epoch]\n",
      "100%|██████████| 5/5 [00:07<00:00,  1.53s/epoch]\n",
      "100%|██████████| 5/5 [00:07<00:00,  1.52s/epoch]\n",
      "100%|██████████| 5/5 [00:07<00:00,  1.51s/epoch]\n",
      "100%|██████████| 5/5 [00:07<00:00,  1.51s/epoch]\n",
      "100%|██████████| 5/5 [00:07<00:00,  1.50s/epoch]\n",
      "100%|██████████| 5/5 [00:07<00:00,  1.52s/epoch]\n",
      "100%|██████████| 5/5 [00:08<00:00,  1.65s/epoch]\n",
      "100%|██████████| 5/5 [00:07<00:00,  1.54s/epoch]\n",
      "100%|██████████| 5/5 [00:07<00:00,  1.52s/epoch]\n",
      "100%|██████████| 5/5 [00:07<00:00,  1.50s/epoch]\n",
      "100%|██████████| 5/5 [00:07<00:00,  1.51s/epoch]\n",
      "100%|██████████| 5/5 [00:07<00:00,  1.49s/epoch]\n",
      "100%|██████████| 5/5 [00:07<00:00,  1.52s/epoch]\n",
      "100%|██████████| 5/5 [00:07<00:00,  1.51s/epoch]\n",
      "100%|██████████| 5/5 [00:07<00:00,  1.51s/epoch]\n",
      "100%|██████████| 5/5 [00:07<00:00,  1.48s/epoch]\n",
      "100%|██████████| 5/5 [00:07<00:00,  1.47s/epoch]\n",
      "100%|██████████| 5/5 [00:07<00:00,  1.46s/epoch]\n"
     ]
    },
    {
     "data": {
      "image/png": "[encoded data removed]",
      "text/plain": [
       "<Figure size 432x288 with 1 Axes>"
      ]
     },
     "metadata": {},
     "output_type": "display_data"
    }
   ],
   "source": [
    "%pylab inline\n",
    "for optim, title in [(tf.train.AdamOptimizer(learning_rate=0.001), 'Adam'), \n",
    "              (tf.train.FtrlOptimizer(0.01, l1_regularization_strength=0.01), 'FTRL')]:\n",
    "    acc = []\n",
    "    model = TFFMClassifier(\n",
    "        order=3, \n",
    "        rank=10, \n",
    "        optimizer=tf.train.AdamOptimizer(learning_rate=0.001), \n",
    "        n_epochs=30, \n",
    "        batch_size=1024,\n",
    "        init_std=0.001,\n",
    "        reg=0.01,\n",
    "        input_type='sparse',\n",
    "        seed=42\n",
    "    )\n",
    "    n_epochs = 5\n",
    "    anchor_epochs = range(0, 200+1, n_epochs)\n",
    "    for _ in anchor_epochs:\n",
    "        # score result every 5 epochs\n",
    "        model.fit(X_tr_sparse, y_tr, n_epochs=n_epochs, show_progress=True)\n",
    "        predictions = model.predict(X_te_sparse)\n",
    "        acc.append(accuracy_score(y_te, predictions))\n",
    "    plot(anchor_epochs, acc, label=title)\n",
    "    model.destroy()\n",
    "xlabel('n_epochs')\n",
    "ylabel('accuracy')\n",
    "legend()\n",
    "grid()"
   ]
  },
  {
   "cell_type": "code",
   "execution_count": 31,
   "metadata": {},
   "outputs": [
    {
     "name": "stdout",
     "output_type": "stream",
     "text": [
      "Populating the interactive namespace from numpy and matplotlib\n"
     ]
    },
    {
     "name": "stderr",
     "output_type": "stream",
     "text": [
      "/Users/weisihan/anaconda3/envs/tensorflow/lib/python3.5/site-packages/IPython/core/magics/pylab.py:160: UserWarning: pylab import has clobbered these variables: ['title']\n",
      "`%matplotlib` prevents importing * from pylab and numpy\n",
      "  \"\\n`%matplotlib` prevents importing * from pylab and numpy\"\n",
      "100%|██████████| 5/5 [00:08<00:00,  1.75s/epoch]\n",
      "100%|██████████| 5/5 [00:09<00:00,  1.97s/epoch]\n",
      "100%|██████████| 5/5 [00:09<00:00,  1.84s/epoch]\n",
      "100%|██████████| 5/5 [00:09<00:00,  1.82s/epoch]\n",
      "100%|██████████| 5/5 [00:08<00:00,  1.70s/epoch]\n",
      "100%|██████████| 5/5 [00:08<00:00,  1.79s/epoch]\n",
      "100%|██████████| 5/5 [00:09<00:00,  1.99s/epoch]\n",
      "100%|██████████| 5/5 [00:08<00:00,  1.78s/epoch]\n",
      "100%|██████████| 5/5 [00:09<00:00,  1.81s/epoch]\n",
      "100%|██████████| 5/5 [00:09<00:00,  1.87s/epoch]\n",
      "100%|██████████| 5/5 [00:10<00:00,  2.10s/epoch]\n",
      "/Users/weisihan/Downloads/tffm-master/tffm/utils.py:195: RuntimeWarning: overflow encountered in exp\n",
      "  return 1 / (1 + np.exp(-x))\n",
      "100%|██████████| 5/5 [00:11<00:00,  2.26s/epoch]\n",
      "100%|██████████| 5/5 [00:11<00:00,  2.33s/epoch]\n",
      "100%|██████████| 5/5 [00:10<00:00,  2.07s/epoch]\n",
      "100%|██████████| 5/5 [00:09<00:00,  1.85s/epoch]\n",
      "100%|██████████| 5/5 [00:09<00:00,  1.91s/epoch]\n",
      "100%|██████████| 5/5 [00:08<00:00,  1.78s/epoch]\n",
      "100%|██████████| 5/5 [00:09<00:00,  1.84s/epoch]\n",
      "100%|██████████| 5/5 [00:09<00:00,  1.92s/epoch]\n",
      "100%|██████████| 5/5 [00:11<00:00,  2.26s/epoch]\n",
      "100%|██████████| 5/5 [00:09<00:00,  1.88s/epoch]\n",
      "100%|██████████| 5/5 [00:08<00:00,  1.73s/epoch]\n",
      "100%|██████████| 5/5 [00:09<00:00,  1.90s/epoch]\n",
      "100%|██████████| 5/5 [00:08<00:00,  1.78s/epoch]\n",
      "100%|██████████| 5/5 [00:08<00:00,  1.62s/epoch]\n",
      "100%|██████████| 5/5 [00:07<00:00,  1.58s/epoch]\n",
      "100%|██████████| 5/5 [00:08<00:00,  1.61s/epoch]\n",
      "100%|██████████| 5/5 [00:09<00:00,  1.95s/epoch]\n",
      "100%|██████████| 5/5 [00:08<00:00,  1.71s/epoch]\n",
      "100%|██████████| 5/5 [00:08<00:00,  1.77s/epoch]\n",
      "100%|██████████| 5/5 [00:08<00:00,  1.64s/epoch]\n",
      "100%|██████████| 5/5 [00:08<00:00,  1.68s/epoch]\n",
      "100%|██████████| 5/5 [00:08<00:00,  1.66s/epoch]\n",
      "100%|██████████| 5/5 [00:08<00:00,  1.64s/epoch]\n",
      "100%|██████████| 5/5 [00:07<00:00,  1.59s/epoch]\n",
      "100%|██████████| 5/5 [00:07<00:00,  1.57s/epoch]\n",
      "100%|██████████| 5/5 [00:07<00:00,  1.57s/epoch]\n",
      "100%|██████████| 5/5 [00:07<00:00,  1.59s/epoch]\n",
      "100%|██████████| 5/5 [00:07<00:00,  1.58s/epoch]\n",
      "100%|██████████| 5/5 [00:08<00:00,  1.65s/epoch]\n",
      "100%|██████████| 5/5 [00:07<00:00,  1.57s/epoch]\n",
      "100%|██████████| 5/5 [00:08<00:00,  1.61s/epoch]\n",
      "100%|██████████| 5/5 [00:08<00:00,  1.61s/epoch]\n",
      "100%|██████████| 5/5 [00:07<00:00,  1.58s/epoch]\n",
      "100%|██████████| 5/5 [00:08<00:00,  1.62s/epoch]\n",
      "100%|██████████| 5/5 [00:09<00:00,  1.85s/epoch]\n",
      "100%|██████████| 5/5 [00:09<00:00,  1.90s/epoch]\n",
      "100%|██████████| 5/5 [00:08<00:00,  1.66s/epoch]\n",
      "100%|██████████| 5/5 [00:08<00:00,  1.72s/epoch]\n",
      "100%|██████████| 5/5 [00:08<00:00,  1.79s/epoch]\n",
      "100%|██████████| 5/5 [00:07<00:00,  1.57s/epoch]\n",
      "100%|██████████| 5/5 [00:08<00:00,  1.61s/epoch]\n",
      "100%|██████████| 5/5 [00:07<00:00,  1.59s/epoch]\n",
      "100%|██████████| 5/5 [00:07<00:00,  1.57s/epoch]\n",
      "100%|██████████| 5/5 [00:07<00:00,  1.56s/epoch]\n",
      "100%|██████████| 5/5 [00:07<00:00,  1.55s/epoch]\n",
      "100%|██████████| 5/5 [00:07<00:00,  1.57s/epoch]\n",
      "100%|██████████| 5/5 [00:07<00:00,  1.57s/epoch]\n",
      "100%|██████████| 5/5 [00:07<00:00,  1.57s/epoch]\n",
      "100%|██████████| 5/5 [00:09<00:00,  1.80s/epoch]\n",
      "100%|██████████| 5/5 [00:08<00:00,  1.69s/epoch]\n",
      "100%|██████████| 5/5 [00:07<00:00,  1.56s/epoch]\n",
      "100%|██████████| 5/5 [00:08<00:00,  1.68s/epoch]\n",
      "100%|██████████| 5/5 [00:08<00:00,  1.67s/epoch]\n",
      "100%|██████████| 5/5 [00:08<00:00,  1.60s/epoch]\n",
      "100%|██████████| 5/5 [00:09<00:00,  1.91s/epoch]\n",
      "100%|██████████| 5/5 [00:08<00:00,  1.62s/epoch]\n",
      "100%|██████████| 5/5 [00:07<00:00,  1.55s/epoch]\n",
      "100%|██████████| 5/5 [00:07<00:00,  1.55s/epoch]\n",
      "100%|██████████| 5/5 [00:07<00:00,  1.56s/epoch]\n",
      "100%|██████████| 5/5 [00:10<00:00,  2.01s/epoch]\n",
      "100%|██████████| 5/5 [00:08<00:00,  1.79s/epoch]\n",
      "100%|██████████| 5/5 [00:08<00:00,  1.80s/epoch]\n",
      "100%|██████████| 5/5 [00:08<00:00,  1.60s/epoch]\n",
      "100%|██████████| 5/5 [00:08<00:00,  1.66s/epoch]\n",
      "100%|██████████| 5/5 [00:10<00:00,  2.02s/epoch]\n",
      "100%|██████████| 5/5 [00:11<00:00,  2.39s/epoch]\n",
      "100%|██████████| 5/5 [00:08<00:00,  1.71s/epoch]\n",
      "100%|██████████| 5/5 [00:08<00:00,  1.79s/epoch]\n",
      "100%|██████████| 5/5 [00:08<00:00,  1.63s/epoch]\n",
      "100%|██████████| 5/5 [00:08<00:00,  1.74s/epoch]\n",
      "100%|██████████| 5/5 [00:08<00:00,  1.61s/epoch]\n"
     ]
    },
    {
     "data": {
      "image/png": "[encoded data removed]",
      "text/plain": [
       "<Figure size 432x288 with 1 Axes>"
      ]
     },
     "metadata": {},
     "output_type": "display_data"
    }
   ],
   "source": [
    "\n",
    "\n",
    "%pylab inline\n",
    "for optim, title in [(tf.train.AdamOptimizer(learning_rate=0.001), 'Adam'), \n",
    "              (tf.train.FtrlOptimizer(0.01, l1_regularization_strength=0.01), 'FTRL')]:\n",
    "    acc = []\n",
    "    model = TFFMClassifier(\n",
    "        order=3, \n",
    "        rank=10, \n",
    "        optimizer=tf.train.AdamOptimizer(learning_rate=0.001), \n",
    "        n_epochs=30, \n",
    "        batch_size=1024,\n",
    "        init_std=0.001,\n",
    "        reg=0.01,\n",
    "        input_type='sparse',\n",
    "        seed=42\n",
    "    )\n",
    "    n_epochs = 5\n",
    "    anchor_epochs = range(0, 200+1, n_epochs)\n",
    "    for _ in anchor_epochs:\n",
    "        # score result every 5 epochs\n",
    "        model.fit(X_tr_sparse, y_tr, n_epochs=n_epochs, show_progress=True)\n",
    "        predictions = model.predict_proba(X_te_sparse)\n",
    "        acc.append(roc_auc_score(y_te, predictions[:,1]))\n",
    "    plot(anchor_epochs, acc, label=title)\n",
    "    model.destroy()\n",
    "xlabel('n_epochs')\n",
    "ylabel('auc')\n",
    "legend()\n",
    "grid()"
   ]
  },
  {
   "cell_type": "code",
   "execution_count": null,
   "metadata": {
    "collapsed": true
   },
   "outputs": [],
   "source": []
  }
 ],
 "metadata": {
  "kernelspec": {
   "display_name": "Python [default]",
   "language": "python",
   "name": "python3"
  },
  "language_info": {
   "codemirror_mode": {
    "name": "ipython",
    "version": 3
   },
   "file_extension": ".py",
   "mimetype": "text/x-python",
   "name": "python",
   "nbconvert_exporter": "python",
   "pygments_lexer": "ipython3",
   "version": "3.6.4"
  }
 },
 "nbformat": 4,
 "nbformat_minor": 2
}
