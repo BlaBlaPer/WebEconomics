{
 "cells": [
  {
   "cell_type": "markdown",
   "metadata": {},
   "source": [
    "## Prepare"
   ]
  },
  {
   "cell_type": "code",
   "execution_count": 1,
   "metadata": {},
   "outputs": [],
   "source": [
    "def recalibrate(p,w):\n",
    "    q = p/(p+(1-p)/w)\n",
    "    return q"
   ]
  },
  {
   "cell_type": "markdown",
   "metadata": {},
   "source": [
    "## Downsampling"
   ]
  },
  {
   "cell_type": "code",
   "execution_count": 2,
   "metadata": {},
   "outputs": [],
   "source": [
    "import numpy as np\n",
    "import pandas as pd\n",
    "Train_df = pd.read_csv('./Data/train_newfeature.csv')\n",
    "Valid_df = pd.read_csv('./Data/valid_newfeature.csv')"
   ]
  },
  {
   "cell_type": "code",
   "execution_count": 3,
   "metadata": {},
   "outputs": [],
   "source": [
    "#Samp_per should be in 0.001,0.01,0.025,0.05,0.075,0.1\n",
    "samps = [0.01,0.025,0.05,0.075,0.1]\n",
    "# samps = [0.001,0.01,0.025,0.05,0.075,0.1]\n",
    "files = []"
   ]
  },
  {
   "cell_type": "code",
   "execution_count": 4,
   "metadata": {},
   "outputs": [
    {
     "name": "stdout",
     "output_type": "stream",
     "text": [
      "train_sample0.01_0.csv is sampled.\n",
      "train_sample0.01_1.csv is sampled.\n",
      "train_sample0.01_2.csv is sampled.\n",
      "train_sample0.01_3.csv is sampled.\n",
      "train_sample0.01_4.csv is sampled.\n",
      "train_sample0.01_5.csv is sampled.\n",
      "train_sample0.01_6.csv is sampled.\n",
      "train_sample0.01_7.csv is sampled.\n",
      "train_sample0.01_8.csv is sampled.\n",
      "train_sample0.01_9.csv is sampled.\n",
      "train_sample0.025_0.csv is sampled.\n",
      "train_sample0.025_1.csv is sampled.\n",
      "train_sample0.025_2.csv is sampled.\n",
      "train_sample0.025_3.csv is sampled.\n",
      "train_sample0.025_4.csv is sampled.\n",
      "train_sample0.025_5.csv is sampled.\n",
      "train_sample0.025_6.csv is sampled.\n",
      "train_sample0.025_7.csv is sampled.\n",
      "train_sample0.025_8.csv is sampled.\n",
      "train_sample0.025_9.csv is sampled.\n",
      "train_sample0.05_0.csv is sampled.\n",
      "train_sample0.05_1.csv is sampled.\n",
      "train_sample0.05_2.csv is sampled.\n",
      "train_sample0.05_3.csv is sampled.\n",
      "train_sample0.05_4.csv is sampled.\n",
      "train_sample0.05_5.csv is sampled.\n",
      "train_sample0.05_6.csv is sampled.\n",
      "train_sample0.05_7.csv is sampled.\n",
      "train_sample0.05_8.csv is sampled.\n",
      "train_sample0.05_9.csv is sampled.\n",
      "train_sample0.075_0.csv is sampled.\n",
      "train_sample0.075_1.csv is sampled.\n",
      "train_sample0.075_2.csv is sampled.\n",
      "train_sample0.075_3.csv is sampled.\n",
      "train_sample0.075_4.csv is sampled.\n",
      "train_sample0.075_5.csv is sampled.\n",
      "train_sample0.075_6.csv is sampled.\n",
      "train_sample0.075_7.csv is sampled.\n",
      "train_sample0.075_8.csv is sampled.\n",
      "train_sample0.075_9.csv is sampled.\n",
      "train_sample0.1_0.csv is sampled.\n",
      "train_sample0.1_1.csv is sampled.\n",
      "train_sample0.1_2.csv is sampled.\n",
      "train_sample0.1_3.csv is sampled.\n",
      "train_sample0.1_4.csv is sampled.\n",
      "train_sample0.1_5.csv is sampled.\n",
      "train_sample0.1_6.csv is sampled.\n",
      "train_sample0.1_7.csv is sampled.\n",
      "train_sample0.1_8.csv is sampled.\n",
      "train_sample0.1_9.csv is sampled.\n"
     ]
    }
   ],
   "source": [
    "for Samp_per in samps:\n",
    "    #sample 10 times\n",
    "    for i in range(10):    \n",
    "        # bids which click =1\n",
    "        df1 = Train_df[Train_df['click']==1]\n",
    "        # bids which click =0\n",
    "        df0 = Train_df[Train_df['click']==0]\n",
    "        # get click =0 data, down sampling\n",
    "        df2=df0.sample(frac=Samp_per)\n",
    "        # combine % of click =0 data and all click=1, down sampling\n",
    "        combined_df = pd.concat([df1, df2],axis=0)\n",
    "        combined_df.head()\n",
    "        combined_df.shape\n",
    "        #new trainning set shape is(62523, 127)\n",
    "        combined_name = 'train_sample'+str(Samp_per)+'_'+str(i)+'.csv'\n",
    "        files.append([combined_name,Samp_per,i])\n",
    "        combined_df.to_csv(combined_name, encoding='utf-8', index=False)\n",
    "        print(combined_name+' is sampled.')\n",
    "    "
   ]
  },
  {
   "cell_type": "code",
   "execution_count": 5,
   "metadata": {
    "scrolled": true
   },
   "outputs": [],
   "source": [
    "# files[0][1]"
   ]
  },
  {
   "cell_type": "markdown",
   "metadata": {},
   "source": [
    "## model"
   ]
  },
  {
   "cell_type": "code",
   "execution_count": 6,
   "metadata": {
    "scrolled": true
   },
   "outputs": [],
   "source": [
    "import xgboost\n",
    "\n",
    "xgb = xgboost.XGBClassifier(\n",
    " learning_rate =0.1,\n",
    " n_estimators=100,\n",
    " max_depth=6,\n",
    " min_child_weight=7,\n",
    " gamma=0,\n",
    " subsample=0.8,\n",
    " colsample_bytree=0.8,\n",
    " reg_alpha=0.01,\n",
    " objective= 'binary:logistic',\n",
    " nthread=4,\n",
    " scale_pos_weight=1,\n",
    " seed=27)\n",
    "#modelfit(xgb4, train, predictors)"
   ]
  },
  {
   "cell_type": "markdown",
   "metadata": {},
   "source": [
    "## train"
   ]
  },
  {
   "cell_type": "code",
   "execution_count": 7,
   "metadata": {},
   "outputs": [],
   "source": [
    "from sklearn.externals import joblib\n",
    "cols=list(Train_df.columns)[1:]"
   ]
  },
  {
   "cell_type": "code",
   "execution_count": 8,
   "metadata": {},
   "outputs": [],
   "source": [
    "valid_results = []"
   ]
  },
  {
   "cell_type": "code",
   "execution_count": 9,
   "metadata": {
    "scrolled": false
   },
   "outputs": [
    {
     "name": "stdout",
     "output_type": "stream",
     "text": [
      "./train_sample0.01_0.csv read.\n"
     ]
    },
    {
     "name": "stderr",
     "output_type": "stream",
     "text": [
      "/opt/anaconda/envs/Python3/lib/python3.6/site-packages/sklearn/preprocessing/label.py:151: DeprecationWarning: The truth value of an empty array is ambiguous. Returning False, but in future this will result in an error. Use `array.size > 0` to check that an array is not empty.\n",
      "  if diff:\n"
     ]
    },
    {
     "name": "stdout",
     "output_type": "stream",
     "text": [
      "valid_result on train_sample0.01_0.csv saved.\n",
      "./train_sample0.01_1.csv read.\n"
     ]
    },
    {
     "name": "stderr",
     "output_type": "stream",
     "text": [
      "/opt/anaconda/envs/Python3/lib/python3.6/site-packages/sklearn/preprocessing/label.py:151: DeprecationWarning: The truth value of an empty array is ambiguous. Returning False, but in future this will result in an error. Use `array.size > 0` to check that an array is not empty.\n",
      "  if diff:\n"
     ]
    },
    {
     "name": "stdout",
     "output_type": "stream",
     "text": [
      "valid_result on train_sample0.01_1.csv saved.\n",
      "./train_sample0.01_2.csv read.\n"
     ]
    },
    {
     "name": "stderr",
     "output_type": "stream",
     "text": [
      "/opt/anaconda/envs/Python3/lib/python3.6/site-packages/sklearn/preprocessing/label.py:151: DeprecationWarning: The truth value of an empty array is ambiguous. Returning False, but in future this will result in an error. Use `array.size > 0` to check that an array is not empty.\n",
      "  if diff:\n"
     ]
    },
    {
     "name": "stdout",
     "output_type": "stream",
     "text": [
      "valid_result on train_sample0.01_2.csv saved.\n",
      "./train_sample0.01_3.csv read.\n"
     ]
    },
    {
     "name": "stderr",
     "output_type": "stream",
     "text": [
      "/opt/anaconda/envs/Python3/lib/python3.6/site-packages/sklearn/preprocessing/label.py:151: DeprecationWarning: The truth value of an empty array is ambiguous. Returning False, but in future this will result in an error. Use `array.size > 0` to check that an array is not empty.\n",
      "  if diff:\n"
     ]
    },
    {
     "name": "stdout",
     "output_type": "stream",
     "text": [
      "valid_result on train_sample0.01_3.csv saved.\n",
      "./train_sample0.01_4.csv read.\n"
     ]
    },
    {
     "name": "stderr",
     "output_type": "stream",
     "text": [
      "/opt/anaconda/envs/Python3/lib/python3.6/site-packages/sklearn/preprocessing/label.py:151: DeprecationWarning: The truth value of an empty array is ambiguous. Returning False, but in future this will result in an error. Use `array.size > 0` to check that an array is not empty.\n",
      "  if diff:\n"
     ]
    },
    {
     "name": "stdout",
     "output_type": "stream",
     "text": [
      "valid_result on train_sample0.01_4.csv saved.\n",
      "./train_sample0.01_5.csv read.\n"
     ]
    },
    {
     "name": "stderr",
     "output_type": "stream",
     "text": [
      "/opt/anaconda/envs/Python3/lib/python3.6/site-packages/sklearn/preprocessing/label.py:151: DeprecationWarning: The truth value of an empty array is ambiguous. Returning False, but in future this will result in an error. Use `array.size > 0` to check that an array is not empty.\n",
      "  if diff:\n"
     ]
    },
    {
     "name": "stdout",
     "output_type": "stream",
     "text": [
      "valid_result on train_sample0.01_5.csv saved.\n",
      "./train_sample0.01_6.csv read.\n"
     ]
    },
    {
     "name": "stderr",
     "output_type": "stream",
     "text": [
      "/opt/anaconda/envs/Python3/lib/python3.6/site-packages/sklearn/preprocessing/label.py:151: DeprecationWarning: The truth value of an empty array is ambiguous. Returning False, but in future this will result in an error. Use `array.size > 0` to check that an array is not empty.\n",
      "  if diff:\n"
     ]
    },
    {
     "name": "stdout",
     "output_type": "stream",
     "text": [
      "valid_result on train_sample0.01_6.csv saved.\n",
      "./train_sample0.01_7.csv read.\n"
     ]
    },
    {
     "name": "stderr",
     "output_type": "stream",
     "text": [
      "/opt/anaconda/envs/Python3/lib/python3.6/site-packages/sklearn/preprocessing/label.py:151: DeprecationWarning: The truth value of an empty array is ambiguous. Returning False, but in future this will result in an error. Use `array.size > 0` to check that an array is not empty.\n",
      "  if diff:\n"
     ]
    },
    {
     "name": "stdout",
     "output_type": "stream",
     "text": [
      "valid_result on train_sample0.01_7.csv saved.\n",
      "./train_sample0.01_8.csv read.\n"
     ]
    },
    {
     "name": "stderr",
     "output_type": "stream",
     "text": [
      "/opt/anaconda/envs/Python3/lib/python3.6/site-packages/sklearn/preprocessing/label.py:151: DeprecationWarning: The truth value of an empty array is ambiguous. Returning False, but in future this will result in an error. Use `array.size > 0` to check that an array is not empty.\n",
      "  if diff:\n"
     ]
    },
    {
     "name": "stdout",
     "output_type": "stream",
     "text": [
      "valid_result on train_sample0.01_8.csv saved.\n",
      "./train_sample0.01_9.csv read.\n"
     ]
    },
    {
     "name": "stderr",
     "output_type": "stream",
     "text": [
      "/opt/anaconda/envs/Python3/lib/python3.6/site-packages/sklearn/preprocessing/label.py:151: DeprecationWarning: The truth value of an empty array is ambiguous. Returning False, but in future this will result in an error. Use `array.size > 0` to check that an array is not empty.\n",
      "  if diff:\n"
     ]
    },
    {
     "name": "stdout",
     "output_type": "stream",
     "text": [
      "valid_result on train_sample0.01_9.csv saved.\n",
      "./train_sample0.025_0.csv read.\n"
     ]
    },
    {
     "name": "stderr",
     "output_type": "stream",
     "text": [
      "/opt/anaconda/envs/Python3/lib/python3.6/site-packages/sklearn/preprocessing/label.py:151: DeprecationWarning: The truth value of an empty array is ambiguous. Returning False, but in future this will result in an error. Use `array.size > 0` to check that an array is not empty.\n",
      "  if diff:\n"
     ]
    },
    {
     "name": "stdout",
     "output_type": "stream",
     "text": [
      "valid_result on train_sample0.025_0.csv saved.\n",
      "./train_sample0.025_1.csv read.\n"
     ]
    },
    {
     "name": "stderr",
     "output_type": "stream",
     "text": [
      "/opt/anaconda/envs/Python3/lib/python3.6/site-packages/sklearn/preprocessing/label.py:151: DeprecationWarning: The truth value of an empty array is ambiguous. Returning False, but in future this will result in an error. Use `array.size > 0` to check that an array is not empty.\n",
      "  if diff:\n"
     ]
    },
    {
     "name": "stdout",
     "output_type": "stream",
     "text": [
      "valid_result on train_sample0.025_1.csv saved.\n",
      "./train_sample0.025_2.csv read.\n"
     ]
    },
    {
     "name": "stderr",
     "output_type": "stream",
     "text": [
      "/opt/anaconda/envs/Python3/lib/python3.6/site-packages/sklearn/preprocessing/label.py:151: DeprecationWarning: The truth value of an empty array is ambiguous. Returning False, but in future this will result in an error. Use `array.size > 0` to check that an array is not empty.\n",
      "  if diff:\n"
     ]
    },
    {
     "name": "stdout",
     "output_type": "stream",
     "text": [
      "valid_result on train_sample0.025_2.csv saved.\n",
      "./train_sample0.025_3.csv read.\n"
     ]
    },
    {
     "name": "stderr",
     "output_type": "stream",
     "text": [
      "/opt/anaconda/envs/Python3/lib/python3.6/site-packages/sklearn/preprocessing/label.py:151: DeprecationWarning: The truth value of an empty array is ambiguous. Returning False, but in future this will result in an error. Use `array.size > 0` to check that an array is not empty.\n",
      "  if diff:\n"
     ]
    },
    {
     "name": "stdout",
     "output_type": "stream",
     "text": [
      "valid_result on train_sample0.025_3.csv saved.\n",
      "./train_sample0.025_4.csv read.\n"
     ]
    },
    {
     "name": "stderr",
     "output_type": "stream",
     "text": [
      "/opt/anaconda/envs/Python3/lib/python3.6/site-packages/sklearn/preprocessing/label.py:151: DeprecationWarning: The truth value of an empty array is ambiguous. Returning False, but in future this will result in an error. Use `array.size > 0` to check that an array is not empty.\n",
      "  if diff:\n"
     ]
    },
    {
     "name": "stdout",
     "output_type": "stream",
     "text": [
      "valid_result on train_sample0.025_4.csv saved.\n",
      "./train_sample0.025_5.csv read.\n"
     ]
    },
    {
     "name": "stderr",
     "output_type": "stream",
     "text": [
      "/opt/anaconda/envs/Python3/lib/python3.6/site-packages/sklearn/preprocessing/label.py:151: DeprecationWarning: The truth value of an empty array is ambiguous. Returning False, but in future this will result in an error. Use `array.size > 0` to check that an array is not empty.\n",
      "  if diff:\n"
     ]
    },
    {
     "name": "stdout",
     "output_type": "stream",
     "text": [
      "valid_result on train_sample0.025_5.csv saved.\n",
      "./train_sample0.025_6.csv read.\n"
     ]
    },
    {
     "name": "stderr",
     "output_type": "stream",
     "text": [
      "/opt/anaconda/envs/Python3/lib/python3.6/site-packages/sklearn/preprocessing/label.py:151: DeprecationWarning: The truth value of an empty array is ambiguous. Returning False, but in future this will result in an error. Use `array.size > 0` to check that an array is not empty.\n",
      "  if diff:\n"
     ]
    },
    {
     "name": "stdout",
     "output_type": "stream",
     "text": [
      "valid_result on train_sample0.025_6.csv saved.\n",
      "./train_sample0.025_7.csv read.\n"
     ]
    },
    {
     "name": "stderr",
     "output_type": "stream",
     "text": [
      "/opt/anaconda/envs/Python3/lib/python3.6/site-packages/sklearn/preprocessing/label.py:151: DeprecationWarning: The truth value of an empty array is ambiguous. Returning False, but in future this will result in an error. Use `array.size > 0` to check that an array is not empty.\n",
      "  if diff:\n"
     ]
    },
    {
     "name": "stdout",
     "output_type": "stream",
     "text": [
      "valid_result on train_sample0.025_7.csv saved.\n",
      "./train_sample0.025_8.csv read.\n"
     ]
    },
    {
     "name": "stderr",
     "output_type": "stream",
     "text": [
      "/opt/anaconda/envs/Python3/lib/python3.6/site-packages/sklearn/preprocessing/label.py:151: DeprecationWarning: The truth value of an empty array is ambiguous. Returning False, but in future this will result in an error. Use `array.size > 0` to check that an array is not empty.\n",
      "  if diff:\n"
     ]
    },
    {
     "name": "stdout",
     "output_type": "stream",
     "text": [
      "valid_result on train_sample0.025_8.csv saved.\n",
      "./train_sample0.025_9.csv read.\n"
     ]
    },
    {
     "name": "stderr",
     "output_type": "stream",
     "text": [
      "/opt/anaconda/envs/Python3/lib/python3.6/site-packages/sklearn/preprocessing/label.py:151: DeprecationWarning: The truth value of an empty array is ambiguous. Returning False, but in future this will result in an error. Use `array.size > 0` to check that an array is not empty.\n",
      "  if diff:\n"
     ]
    },
    {
     "name": "stdout",
     "output_type": "stream",
     "text": [
      "valid_result on train_sample0.025_9.csv saved.\n",
      "./train_sample0.05_0.csv read.\n"
     ]
    },
    {
     "name": "stderr",
     "output_type": "stream",
     "text": [
      "/opt/anaconda/envs/Python3/lib/python3.6/site-packages/sklearn/preprocessing/label.py:151: DeprecationWarning: The truth value of an empty array is ambiguous. Returning False, but in future this will result in an error. Use `array.size > 0` to check that an array is not empty.\n",
      "  if diff:\n"
     ]
    },
    {
     "name": "stdout",
     "output_type": "stream",
     "text": [
      "valid_result on train_sample0.05_0.csv saved.\n",
      "./train_sample0.05_1.csv read.\n"
     ]
    },
    {
     "name": "stderr",
     "output_type": "stream",
     "text": [
      "/opt/anaconda/envs/Python3/lib/python3.6/site-packages/sklearn/preprocessing/label.py:151: DeprecationWarning: The truth value of an empty array is ambiguous. Returning False, but in future this will result in an error. Use `array.size > 0` to check that an array is not empty.\n",
      "  if diff:\n"
     ]
    },
    {
     "name": "stdout",
     "output_type": "stream",
     "text": [
      "valid_result on train_sample0.05_1.csv saved.\n",
      "./train_sample0.05_2.csv read.\n"
     ]
    },
    {
     "name": "stderr",
     "output_type": "stream",
     "text": [
      "/opt/anaconda/envs/Python3/lib/python3.6/site-packages/sklearn/preprocessing/label.py:151: DeprecationWarning: The truth value of an empty array is ambiguous. Returning False, but in future this will result in an error. Use `array.size > 0` to check that an array is not empty.\n",
      "  if diff:\n"
     ]
    },
    {
     "name": "stdout",
     "output_type": "stream",
     "text": [
      "valid_result on train_sample0.05_2.csv saved.\n",
      "./train_sample0.05_3.csv read.\n"
     ]
    },
    {
     "name": "stderr",
     "output_type": "stream",
     "text": [
      "/opt/anaconda/envs/Python3/lib/python3.6/site-packages/sklearn/preprocessing/label.py:151: DeprecationWarning: The truth value of an empty array is ambiguous. Returning False, but in future this will result in an error. Use `array.size > 0` to check that an array is not empty.\n",
      "  if diff:\n"
     ]
    },
    {
     "name": "stdout",
     "output_type": "stream",
     "text": [
      "valid_result on train_sample0.05_3.csv saved.\n",
      "./train_sample0.05_4.csv read.\n"
     ]
    },
    {
     "name": "stderr",
     "output_type": "stream",
     "text": [
      "/opt/anaconda/envs/Python3/lib/python3.6/site-packages/sklearn/preprocessing/label.py:151: DeprecationWarning: The truth value of an empty array is ambiguous. Returning False, but in future this will result in an error. Use `array.size > 0` to check that an array is not empty.\n",
      "  if diff:\n"
     ]
    },
    {
     "name": "stdout",
     "output_type": "stream",
     "text": [
      "valid_result on train_sample0.05_4.csv saved.\n",
      "./train_sample0.05_5.csv read.\n"
     ]
    },
    {
     "name": "stderr",
     "output_type": "stream",
     "text": [
      "/opt/anaconda/envs/Python3/lib/python3.6/site-packages/sklearn/preprocessing/label.py:151: DeprecationWarning: The truth value of an empty array is ambiguous. Returning False, but in future this will result in an error. Use `array.size > 0` to check that an array is not empty.\n",
      "  if diff:\n"
     ]
    },
    {
     "name": "stdout",
     "output_type": "stream",
     "text": [
      "valid_result on train_sample0.05_5.csv saved.\n",
      "./train_sample0.05_6.csv read.\n"
     ]
    },
    {
     "name": "stderr",
     "output_type": "stream",
     "text": [
      "/opt/anaconda/envs/Python3/lib/python3.6/site-packages/sklearn/preprocessing/label.py:151: DeprecationWarning: The truth value of an empty array is ambiguous. Returning False, but in future this will result in an error. Use `array.size > 0` to check that an array is not empty.\n",
      "  if diff:\n"
     ]
    },
    {
     "name": "stdout",
     "output_type": "stream",
     "text": [
      "valid_result on train_sample0.05_6.csv saved.\n",
      "./train_sample0.05_7.csv read.\n"
     ]
    },
    {
     "name": "stderr",
     "output_type": "stream",
     "text": [
      "/opt/anaconda/envs/Python3/lib/python3.6/site-packages/sklearn/preprocessing/label.py:151: DeprecationWarning: The truth value of an empty array is ambiguous. Returning False, but in future this will result in an error. Use `array.size > 0` to check that an array is not empty.\n",
      "  if diff:\n"
     ]
    },
    {
     "name": "stdout",
     "output_type": "stream",
     "text": [
      "valid_result on train_sample0.05_7.csv saved.\n",
      "./train_sample0.05_8.csv read.\n"
     ]
    },
    {
     "name": "stderr",
     "output_type": "stream",
     "text": [
      "/opt/anaconda/envs/Python3/lib/python3.6/site-packages/sklearn/preprocessing/label.py:151: DeprecationWarning: The truth value of an empty array is ambiguous. Returning False, but in future this will result in an error. Use `array.size > 0` to check that an array is not empty.\n",
      "  if diff:\n"
     ]
    },
    {
     "name": "stdout",
     "output_type": "stream",
     "text": [
      "valid_result on train_sample0.05_8.csv saved.\n",
      "./train_sample0.05_9.csv read.\n"
     ]
    },
    {
     "name": "stderr",
     "output_type": "stream",
     "text": [
      "/opt/anaconda/envs/Python3/lib/python3.6/site-packages/sklearn/preprocessing/label.py:151: DeprecationWarning: The truth value of an empty array is ambiguous. Returning False, but in future this will result in an error. Use `array.size > 0` to check that an array is not empty.\n",
      "  if diff:\n"
     ]
    },
    {
     "name": "stdout",
     "output_type": "stream",
     "text": [
      "valid_result on train_sample0.05_9.csv saved.\n",
      "./train_sample0.075_0.csv read.\n"
     ]
    },
    {
     "name": "stderr",
     "output_type": "stream",
     "text": [
      "/opt/anaconda/envs/Python3/lib/python3.6/site-packages/sklearn/preprocessing/label.py:151: DeprecationWarning: The truth value of an empty array is ambiguous. Returning False, but in future this will result in an error. Use `array.size > 0` to check that an array is not empty.\n",
      "  if diff:\n"
     ]
    },
    {
     "name": "stdout",
     "output_type": "stream",
     "text": [
      "valid_result on train_sample0.075_0.csv saved.\n",
      "./train_sample0.075_1.csv read.\n"
     ]
    },
    {
     "name": "stderr",
     "output_type": "stream",
     "text": [
      "/opt/anaconda/envs/Python3/lib/python3.6/site-packages/sklearn/preprocessing/label.py:151: DeprecationWarning: The truth value of an empty array is ambiguous. Returning False, but in future this will result in an error. Use `array.size > 0` to check that an array is not empty.\n",
      "  if diff:\n"
     ]
    },
    {
     "name": "stdout",
     "output_type": "stream",
     "text": [
      "valid_result on train_sample0.075_1.csv saved.\n",
      "./train_sample0.075_2.csv read.\n"
     ]
    },
    {
     "name": "stderr",
     "output_type": "stream",
     "text": [
      "/opt/anaconda/envs/Python3/lib/python3.6/site-packages/sklearn/preprocessing/label.py:151: DeprecationWarning: The truth value of an empty array is ambiguous. Returning False, but in future this will result in an error. Use `array.size > 0` to check that an array is not empty.\n",
      "  if diff:\n"
     ]
    },
    {
     "name": "stdout",
     "output_type": "stream",
     "text": [
      "valid_result on train_sample0.075_2.csv saved.\n",
      "./train_sample0.075_3.csv read.\n"
     ]
    },
    {
     "name": "stderr",
     "output_type": "stream",
     "text": [
      "/opt/anaconda/envs/Python3/lib/python3.6/site-packages/sklearn/preprocessing/label.py:151: DeprecationWarning: The truth value of an empty array is ambiguous. Returning False, but in future this will result in an error. Use `array.size > 0` to check that an array is not empty.\n",
      "  if diff:\n"
     ]
    },
    {
     "name": "stdout",
     "output_type": "stream",
     "text": [
      "valid_result on train_sample0.075_3.csv saved.\n",
      "./train_sample0.075_4.csv read.\n"
     ]
    },
    {
     "name": "stderr",
     "output_type": "stream",
     "text": [
      "/opt/anaconda/envs/Python3/lib/python3.6/site-packages/sklearn/preprocessing/label.py:151: DeprecationWarning: The truth value of an empty array is ambiguous. Returning False, but in future this will result in an error. Use `array.size > 0` to check that an array is not empty.\n",
      "  if diff:\n"
     ]
    },
    {
     "name": "stdout",
     "output_type": "stream",
     "text": [
      "valid_result on train_sample0.075_4.csv saved.\n",
      "./train_sample0.075_5.csv read.\n"
     ]
    },
    {
     "name": "stderr",
     "output_type": "stream",
     "text": [
      "/opt/anaconda/envs/Python3/lib/python3.6/site-packages/sklearn/preprocessing/label.py:151: DeprecationWarning: The truth value of an empty array is ambiguous. Returning False, but in future this will result in an error. Use `array.size > 0` to check that an array is not empty.\n",
      "  if diff:\n"
     ]
    },
    {
     "name": "stdout",
     "output_type": "stream",
     "text": [
      "valid_result on train_sample0.075_5.csv saved.\n",
      "./train_sample0.075_6.csv read.\n"
     ]
    },
    {
     "name": "stderr",
     "output_type": "stream",
     "text": [
      "/opt/anaconda/envs/Python3/lib/python3.6/site-packages/sklearn/preprocessing/label.py:151: DeprecationWarning: The truth value of an empty array is ambiguous. Returning False, but in future this will result in an error. Use `array.size > 0` to check that an array is not empty.\n",
      "  if diff:\n"
     ]
    },
    {
     "name": "stdout",
     "output_type": "stream",
     "text": [
      "valid_result on train_sample0.075_6.csv saved.\n",
      "./train_sample0.075_7.csv read.\n"
     ]
    },
    {
     "name": "stderr",
     "output_type": "stream",
     "text": [
      "/opt/anaconda/envs/Python3/lib/python3.6/site-packages/sklearn/preprocessing/label.py:151: DeprecationWarning: The truth value of an empty array is ambiguous. Returning False, but in future this will result in an error. Use `array.size > 0` to check that an array is not empty.\n",
      "  if diff:\n"
     ]
    },
    {
     "name": "stdout",
     "output_type": "stream",
     "text": [
      "valid_result on train_sample0.075_7.csv saved.\n",
      "./train_sample0.075_8.csv read.\n"
     ]
    },
    {
     "name": "stderr",
     "output_type": "stream",
     "text": [
      "/opt/anaconda/envs/Python3/lib/python3.6/site-packages/sklearn/preprocessing/label.py:151: DeprecationWarning: The truth value of an empty array is ambiguous. Returning False, but in future this will result in an error. Use `array.size > 0` to check that an array is not empty.\n",
      "  if diff:\n"
     ]
    },
    {
     "name": "stdout",
     "output_type": "stream",
     "text": [
      "valid_result on train_sample0.075_8.csv saved.\n",
      "./train_sample0.075_9.csv read.\n"
     ]
    },
    {
     "name": "stderr",
     "output_type": "stream",
     "text": [
      "/opt/anaconda/envs/Python3/lib/python3.6/site-packages/sklearn/preprocessing/label.py:151: DeprecationWarning: The truth value of an empty array is ambiguous. Returning False, but in future this will result in an error. Use `array.size > 0` to check that an array is not empty.\n",
      "  if diff:\n"
     ]
    },
    {
     "name": "stdout",
     "output_type": "stream",
     "text": [
      "valid_result on train_sample0.075_9.csv saved.\n",
      "./train_sample0.1_0.csv read.\n"
     ]
    },
    {
     "name": "stderr",
     "output_type": "stream",
     "text": [
      "/opt/anaconda/envs/Python3/lib/python3.6/site-packages/sklearn/preprocessing/label.py:151: DeprecationWarning: The truth value of an empty array is ambiguous. Returning False, but in future this will result in an error. Use `array.size > 0` to check that an array is not empty.\n",
      "  if diff:\n"
     ]
    },
    {
     "name": "stdout",
     "output_type": "stream",
     "text": [
      "valid_result on train_sample0.1_0.csv saved.\n",
      "./train_sample0.1_1.csv read.\n"
     ]
    },
    {
     "name": "stderr",
     "output_type": "stream",
     "text": [
      "/opt/anaconda/envs/Python3/lib/python3.6/site-packages/sklearn/preprocessing/label.py:151: DeprecationWarning: The truth value of an empty array is ambiguous. Returning False, but in future this will result in an error. Use `array.size > 0` to check that an array is not empty.\n",
      "  if diff:\n"
     ]
    },
    {
     "name": "stdout",
     "output_type": "stream",
     "text": [
      "valid_result on train_sample0.1_1.csv saved.\n",
      "./train_sample0.1_2.csv read.\n"
     ]
    },
    {
     "name": "stderr",
     "output_type": "stream",
     "text": [
      "/opt/anaconda/envs/Python3/lib/python3.6/site-packages/sklearn/preprocessing/label.py:151: DeprecationWarning: The truth value of an empty array is ambiguous. Returning False, but in future this will result in an error. Use `array.size > 0` to check that an array is not empty.\n",
      "  if diff:\n"
     ]
    },
    {
     "name": "stdout",
     "output_type": "stream",
     "text": [
      "valid_result on train_sample0.1_2.csv saved.\n",
      "./train_sample0.1_3.csv read.\n"
     ]
    },
    {
     "name": "stderr",
     "output_type": "stream",
     "text": [
      "/opt/anaconda/envs/Python3/lib/python3.6/site-packages/sklearn/preprocessing/label.py:151: DeprecationWarning: The truth value of an empty array is ambiguous. Returning False, but in future this will result in an error. Use `array.size > 0` to check that an array is not empty.\n",
      "  if diff:\n"
     ]
    },
    {
     "name": "stdout",
     "output_type": "stream",
     "text": [
      "valid_result on train_sample0.1_3.csv saved.\n",
      "./train_sample0.1_4.csv read.\n"
     ]
    },
    {
     "name": "stderr",
     "output_type": "stream",
     "text": [
      "/opt/anaconda/envs/Python3/lib/python3.6/site-packages/sklearn/preprocessing/label.py:151: DeprecationWarning: The truth value of an empty array is ambiguous. Returning False, but in future this will result in an error. Use `array.size > 0` to check that an array is not empty.\n",
      "  if diff:\n"
     ]
    },
    {
     "name": "stdout",
     "output_type": "stream",
     "text": [
      "valid_result on train_sample0.1_4.csv saved.\n",
      "./train_sample0.1_5.csv read.\n"
     ]
    },
    {
     "name": "stderr",
     "output_type": "stream",
     "text": [
      "/opt/anaconda/envs/Python3/lib/python3.6/site-packages/sklearn/preprocessing/label.py:151: DeprecationWarning: The truth value of an empty array is ambiguous. Returning False, but in future this will result in an error. Use `array.size > 0` to check that an array is not empty.\n",
      "  if diff:\n"
     ]
    },
    {
     "name": "stdout",
     "output_type": "stream",
     "text": [
      "valid_result on train_sample0.1_5.csv saved.\n",
      "./train_sample0.1_6.csv read.\n"
     ]
    },
    {
     "name": "stderr",
     "output_type": "stream",
     "text": [
      "/opt/anaconda/envs/Python3/lib/python3.6/site-packages/sklearn/preprocessing/label.py:151: DeprecationWarning: The truth value of an empty array is ambiguous. Returning False, but in future this will result in an error. Use `array.size > 0` to check that an array is not empty.\n",
      "  if diff:\n"
     ]
    },
    {
     "name": "stdout",
     "output_type": "stream",
     "text": [
      "valid_result on train_sample0.1_6.csv saved.\n",
      "./train_sample0.1_7.csv read.\n"
     ]
    },
    {
     "name": "stderr",
     "output_type": "stream",
     "text": [
      "/opt/anaconda/envs/Python3/lib/python3.6/site-packages/sklearn/preprocessing/label.py:151: DeprecationWarning: The truth value of an empty array is ambiguous. Returning False, but in future this will result in an error. Use `array.size > 0` to check that an array is not empty.\n",
      "  if diff:\n"
     ]
    },
    {
     "name": "stdout",
     "output_type": "stream",
     "text": [
      "valid_result on train_sample0.1_7.csv saved.\n",
      "./train_sample0.1_8.csv read.\n"
     ]
    },
    {
     "name": "stderr",
     "output_type": "stream",
     "text": [
      "/opt/anaconda/envs/Python3/lib/python3.6/site-packages/sklearn/preprocessing/label.py:151: DeprecationWarning: The truth value of an empty array is ambiguous. Returning False, but in future this will result in an error. Use `array.size > 0` to check that an array is not empty.\n",
      "  if diff:\n"
     ]
    },
    {
     "name": "stdout",
     "output_type": "stream",
     "text": [
      "valid_result on train_sample0.1_8.csv saved.\n",
      "./train_sample0.1_9.csv read.\n",
      "valid_result on train_sample0.1_9.csv saved.\n"
     ]
    },
    {
     "name": "stderr",
     "output_type": "stream",
     "text": [
      "/opt/anaconda/envs/Python3/lib/python3.6/site-packages/sklearn/preprocessing/label.py:151: DeprecationWarning: The truth value of an empty array is ambiguous. Returning False, but in future this will result in an error. Use `array.size > 0` to check that an array is not empty.\n",
      "  if diff:\n"
     ]
    }
   ],
   "source": [
    "#your own location\n",
    "loc = './'\n",
    "\n",
    "#file[combined_name,Samp_per,i]\n",
    "for file in files:\n",
    "    #read\n",
    "    fileloc = loc+file[0]\n",
    "    combined_df = pd.read_csv(fileloc)\n",
    "    print(fileloc+' read.')\n",
    "    train_y = combined_df['click']\n",
    "    train_x = combined_df[cols]\n",
    "    \n",
    "    #train model\n",
    "    X = train_x\n",
    "    y = train_y\n",
    "    model = xgb\n",
    "    model.fit(X, y)\n",
    "    #save model\n",
    "    filename = file[0]+'_xg.sav'\n",
    "    joblib.dump(model, filename)\n",
    "    \n",
    "    #validation set\n",
    "    valid_x = Valid_df[cols]\n",
    "    valid_predictions = model.predict_proba(valid_x)\n",
    "    valid_predictions_class = model.predict(valid_x)\n",
    "    #save valid result\n",
    "    valid_result = pd.DataFrame(columns=['click', 'click_pred_per', 'click_pred_class'])  \n",
    "    valid_result['click']= Valid_df['click'].copy()\n",
    "    valid_result['click_pred_per'] = valid_predictions[:,1]\n",
    "    valid_result['click_pred_per']=recalibrate(valid_result['click_pred_per'],file[1])\n",
    "    valid_result['click_pred_class'] = valid_predictions_class\n",
    "    valid_results.append(valid_result)\n",
    "    print('valid_result on '+file[0]+' saved.')\n",
    "    \n",
    "    "
   ]
  },
  {
   "cell_type": "code",
   "execution_count": 10,
   "metadata": {
    "scrolled": true
   },
   "outputs": [],
   "source": [
    "# valid_results[0][valid_results[0].click == 1]"
   ]
  },
  {
   "cell_type": "markdown",
   "metadata": {
    "collapsed": true
   },
   "source": [
    "## Find Base Bid"
   ]
  },
  {
   "cell_type": "code",
   "execution_count": 11,
   "metadata": {
    "scrolled": true
   },
   "outputs": [],
   "source": [
    "%matplotlib inline\n",
    "import matplotlib\n",
    "import matplotlib.pyplot as plt\n",
    "import mpld3\n",
    "import numpy as np"
   ]
  },
  {
   "cell_type": "code",
   "execution_count": 12,
   "metadata": {},
   "outputs": [],
   "source": [
    "df_valid = pd.read_csv(\"./Data/validation.csv\")"
   ]
  },
  {
   "cell_type": "code",
   "execution_count": 13,
   "metadata": {},
   "outputs": [],
   "source": [
    "# parameters\n",
    "total_budget = 6250000\n",
    "payprice = df_valid['payprice'].as_matrix()\n",
    "Train_df_qr = df_valid.copy()\n",
    "avgCTR = 1793/2430981 #train set\n",
    "#tuning..."
   ]
  },
  {
   "cell_type": "code",
   "execution_count": 14,
   "metadata": {},
   "outputs": [],
   "source": [
    "def generate_bidprice(base_bid, test_predictions):\n",
    "    avgCTR = 1793/2430981#train set\n",
    "    bidprices = base_bid*test_predictions/avgCTR\n",
    "    return bidprices"
   ]
  },
  {
   "cell_type": "code",
   "execution_count": 15,
   "metadata": {},
   "outputs": [],
   "source": [
    "def Prob3(Train_df,payprice,base_bid,test_predictions):\n",
    "    Train_Const_summ = pd.DataFrame({'Clicks':'', 'Spend':'', 'CTR':'', 'CPM':'', 'eCPC':''}, index=[0])\n",
    "    \n",
    "    #if count_break = 5 break\n",
    "    count_break = 0\n",
    "    \n",
    "    current_budget = total_budget\n",
    "    Train_df['win'] = 0 #initialize win label\n",
    "    bidprices = generate_bidprice(base_bid, test_predictions)\n",
    "    #start biding...\n",
    "    for i in Train_df.index:\n",
    "        current_bidprice = bidprices[i]\n",
    "        #consider budget\n",
    "        if current_budget <= current_bidprice:              \n",
    "            #count lack budget times\n",
    "            count_break = count_break + 1\n",
    "#             print('lack of budget!',\"current_budget:\",current_budget,\";current_bidprice:\",current_bidprice,';count_break:',count_break)\n",
    "            if count_break > 5:\n",
    "                break  \n",
    "            #reset bidprice\n",
    "            current_bidprice = current_budget\n",
    "        else:\n",
    "            count_break = 0\n",
    "            \n",
    "\n",
    "        #Winning criterion:\n",
    "        current_payprice = payprice[i]\n",
    "        if current_bidprice > current_payprice:\n",
    "            Train_df.at[i, 'win'] = int(1)\n",
    "            current_budget = current_budget - current_payprice\n",
    "        else:\n",
    "            Train_df.at[i, 'win'] = int(0)\n",
    "\n",
    "    #biding end        \n",
    "    \n",
    "    Train_df_new = Train_df[Train_df['win']!=0]\n",
    "    #wintimes,_ = Train_df_new.shape\n",
    "    #print('wintimes:',wintimes)\n",
    "    #print('current_budget',current_budget)\n",
    "\n",
    "    \n",
    "#     #commented in for\n",
    "#     Clk = Train_df_new['click'].sum()\n",
    "#     Imp = Train_df_new['click'].count()\n",
    "#     CTR = Clk/Imp\n",
    "#     Spd = total_budget - current_budget\n",
    "#     CPM = 1000*Spd/Imp\n",
    "#     eCPC = Spd/Clk\n",
    "    \n",
    "#     Train_Const_summ.loc[0,'Clicks']=Clk\n",
    "#     Train_Const_summ.loc[0,'Spend']=Spd\n",
    "#     Train_Const_summ.loc[0,'CTR']=CTR\n",
    "#     Train_Const_summ.loc[0,'CPM']=CPM\n",
    "#     Train_Const_summ.loc[0,'eCPC']=eCPC\n",
    "\n",
    "#     print(Train_Const_summ)\n",
    "    \n",
    "        \n",
    "    return Train_df,current_budget"
   ]
  },
  {
   "cell_type": "code",
   "execution_count": 16,
   "metadata": {},
   "outputs": [],
   "source": [
    "def calculate_click(base_bid,Train_df,payprice,test_predictions):\n",
    "#     print('base_bid:',base_bid)\n",
    "    result_df,current_budget = Prob3(Train_df,payprice,base_bid,test_predictions)\n",
    "#     print('current_budget:',current_budget)\n",
    "    Train_df_new = result_df[result_df['win']!=0]\n",
    "    wintimes,_ = Train_df_new.shape\n",
    "#     print('wintimes:',wintimes)\n",
    "#     print('----------------')\n",
    "    Clk = Train_df_new['click'].sum()    \n",
    "    return Clk"
   ]
  },
  {
   "cell_type": "code",
   "execution_count": 27,
   "metadata": {},
   "outputs": [],
   "source": [
    "#test range\n",
    "base_bids = np.arange(120,140,1)#区间可以适当左右调整一下，但大概就是这个范围\n",
    "count = 0\n",
    "maxClks = []"
   ]
  },
  {
   "cell_type": "code",
   "execution_count": 28,
   "metadata": {
    "scrolled": false
   },
   "outputs": [
    {
     "name": "stdout",
     "output_type": "stream",
     "text": [
      "1 valid result is being test...\n",
      "max click@ 7 base_bid= 127 click = 165\n",
      "2 valid result is being test...\n",
      "max click@ 9 base_bid= 129 click = 168\n",
      "3 valid result is being test...\n",
      "max click@ 16 base_bid= 136 click = 167\n",
      "4 valid result is being test...\n",
      "max click@ 11 base_bid= 131 click = 167\n",
      "5 valid result is being test...\n",
      "max click@ 15 base_bid= 135 click = 167\n",
      "6 valid result is being test...\n",
      "max click@ 13 base_bid= 133 click = 170\n",
      "7 valid result is being test...\n",
      "max click@ 17 base_bid= 137 click = 164\n",
      "8 valid result is being test...\n",
      "max click@ 17 base_bid= 137 click = 167\n",
      "9 valid result is being test...\n",
      "max click@ 16 base_bid= 136 click = 165\n",
      "10 valid result is being test...\n",
      "max click@ 16 base_bid= 136 click = 166\n",
      "11 valid result is being test...\n",
      "max click@ 0 base_bid= 120 click = 165\n",
      "12 valid result is being test...\n",
      "max click@ 13 base_bid= 133 click = 168\n",
      "13 valid result is being test...\n",
      "max click@ 7 base_bid= 127 click = 168\n",
      "14 valid result is being test...\n",
      "max click@ 12 base_bid= 132 click = 168\n",
      "15 valid result is being test...\n",
      "max click@ 12 base_bid= 132 click = 170\n",
      "16 valid result is being test...\n",
      "max click@ 8 base_bid= 128 click = 170\n",
      "17 valid result is being test...\n",
      "max click@ 8 base_bid= 128 click = 168\n",
      "18 valid result is being test...\n",
      "max click@ 15 base_bid= 135 click = 170\n",
      "19 valid result is being test...\n",
      "max click@ 12 base_bid= 132 click = 167\n",
      "20 valid result is being test...\n",
      "max click@ 11 base_bid= 131 click = 168\n",
      "21 valid result is being test...\n",
      "max click@ 4 base_bid= 124 click = 166\n",
      "22 valid result is being test...\n",
      "max click@ 8 base_bid= 128 click = 167\n",
      "23 valid result is being test...\n",
      "max click@ 11 base_bid= 131 click = 169\n",
      "24 valid result is being test...\n",
      "max click@ 0 base_bid= 120 click = 167\n",
      "25 valid result is being test...\n",
      "max click@ 6 base_bid= 126 click = 166\n",
      "26 valid result is being test...\n",
      "max click@ 9 base_bid= 129 click = 166\n",
      "27 valid result is being test...\n",
      "max click@ 9 base_bid= 129 click = 168\n",
      "28 valid result is being test...\n",
      "max click@ 11 base_bid= 131 click = 167\n",
      "29 valid result is being test...\n",
      "max click@ 12 base_bid= 132 click = 168\n",
      "30 valid result is being test...\n",
      "max click@ 11 base_bid= 131 click = 167\n",
      "31 valid result is being test...\n",
      "max click@ 6 base_bid= 126 click = 166\n",
      "32 valid result is being test...\n",
      "max click@ 4 base_bid= 124 click = 167\n",
      "33 valid result is being test...\n",
      "max click@ 10 base_bid= 130 click = 164\n",
      "34 valid result is being test...\n",
      "max click@ 7 base_bid= 127 click = 167\n",
      "35 valid result is being test...\n",
      "max click@ 10 base_bid= 130 click = 169\n",
      "36 valid result is being test...\n",
      "max click@ 10 base_bid= 130 click = 168\n",
      "37 valid result is being test...\n",
      "max click@ 6 base_bid= 126 click = 166\n",
      "38 valid result is being test...\n",
      "max click@ 10 base_bid= 130 click = 167\n",
      "39 valid result is being test...\n",
      "max click@ 8 base_bid= 128 click = 169\n",
      "40 valid result is being test...\n",
      "max click@ 9 base_bid= 129 click = 168\n",
      "41 valid result is being test...\n",
      "max click@ 12 base_bid= 132 click = 165\n",
      "42 valid result is being test...\n",
      "max click@ 2 base_bid= 122 click = 167\n",
      "43 valid result is being test...\n",
      "max click@ 10 base_bid= 130 click = 166\n",
      "44 valid result is being test...\n",
      "max click@ 9 base_bid= 129 click = 170\n",
      "45 valid result is being test...\n",
      "max click@ 11 base_bid= 131 click = 168\n",
      "46 valid result is being test...\n",
      "max click@ 9 base_bid= 129 click = 166\n",
      "47 valid result is being test...\n",
      "max click@ 3 base_bid= 123 click = 167\n",
      "48 valid result is being test...\n",
      "max click@ 5 base_bid= 125 click = 167\n",
      "49 valid result is being test...\n",
      "max click@ 8 base_bid= 128 click = 166\n",
      "50 valid result is being test...\n",
      "max click@ 10 base_bid= 130 click = 166\n"
     ]
    }
   ],
   "source": [
    "for valid_result in valid_results:\n",
    "    count = count + 1\n",
    "    print(str(count)+\" valid result is being test...\")\n",
    "    test_predictions=valid_result['click_pred_per']\n",
    "    Clks = [calculate_click(base_bid,Train_df_qr,payprice,test_predictions) for base_bid in base_bids]\n",
    "    print(\"max click@\",Clks.index(max(Clks)),\"base_bid=\",base_bids[Clks.index(max(Clks))],\"click =\",max(Clks))\n",
    "    maxClks.append(max(Clks))\n",
    "#     fig = plt.figure()\n",
    "#     plt.plot(base_bids,Clks)\n",
    "#     mpld3.display(fig)"
   ]
  },
  {
   "cell_type": "code",
   "execution_count": null,
   "metadata": {
    "scrolled": true
   },
   "outputs": [],
   "source": [
    "maxClks"
   ]
  },
  {
   "cell_type": "code",
   "execution_count": 30,
   "metadata": {},
   "outputs": [
    {
     "data": {
      "text/plain": [
       "170"
      ]
     },
     "execution_count": 30,
     "metadata": {},
     "output_type": "execute_result"
    }
   ],
   "source": [
    "max(maxClks)"
   ]
  },
  {
   "cell_type": "code",
   "execution_count": 29,
   "metadata": {},
   "outputs": [],
   "source": [
    "#end"
   ]
  },
  {
   "cell_type": "code",
   "execution_count": null,
   "metadata": {
    "collapsed": true
   },
   "outputs": [],
   "source": []
  },
  {
   "cell_type": "code",
   "execution_count": null,
   "metadata": {
    "collapsed": true
   },
   "outputs": [],
   "source": []
  },
  {
   "cell_type": "code",
   "execution_count": null,
   "metadata": {
    "collapsed": true
   },
   "outputs": [],
   "source": []
  },
  {
   "cell_type": "code",
   "execution_count": null,
   "metadata": {
    "collapsed": true
   },
   "outputs": [],
   "source": []
  },
  {
   "cell_type": "code",
   "execution_count": null,
   "metadata": {
    "collapsed": true
   },
   "outputs": [],
   "source": []
  },
  {
   "cell_type": "code",
   "execution_count": null,
   "metadata": {
    "collapsed": true
   },
   "outputs": [],
   "source": []
  },
  {
   "cell_type": "code",
   "execution_count": null,
   "metadata": {
    "collapsed": true
   },
   "outputs": [],
   "source": []
  },
  {
   "cell_type": "code",
   "execution_count": null,
   "metadata": {
    "collapsed": true
   },
   "outputs": [],
   "source": []
  },
  {
   "cell_type": "markdown",
   "metadata": {},
   "source": [
    " 随便看一下"
   ]
  },
  {
   "cell_type": "code",
   "execution_count": 13,
   "metadata": {},
   "outputs": [
    {
     "name": "stdout",
     "output_type": "stream",
     "text": [
      "[[303363    360]\n",
      " [   129     73]]\n",
      "TP: 73\n",
      "TN: 303363\n",
      "FP: 360\n",
      "FN: 129\n",
      "Accuracy: 99.839105%\n",
      "Recall: 36.138614%\n",
      "Specificity: 99.881471%\n",
      "False Positive Rate: 0.118529%\n",
      "Precision: 16.859122%\n",
      "F1 score: 22.992126%\n"
     ]
    }
   ],
   "source": [
    "from sklearn.metrics import accuracy_score\n",
    "from sklearn.metrics import precision_score\n",
    "from sklearn.metrics import recall_score\n",
    "from sklearn.metrics import f1_score\n",
    "from sklearn.metrics import confusion_matrix\n",
    "\n",
    "\n",
    "y_test = valid_result['click']\n",
    "y_pred_class = valid_result['click_pred_class']\n",
    "\n",
    "print(confusion_matrix(y_test, y_pred_class))\n",
    "\n",
    "confusion = confusion_matrix(y_test, y_pred_class)\n",
    "TP = confusion[1, 1]\n",
    "TN = confusion[0, 0]\n",
    "FP = confusion[0, 1]\n",
    "FN = confusion[1, 0]\n",
    "print (\"TP:\", TP)\n",
    "print (\"TN:\", TN)\n",
    "print (\"FP:\", FP)\n",
    "print (\"FN:\", FN)\n",
    "\n",
    "#准确率、识别率（Classification Accuracy）：分类器正确分类的比例\n",
    "#print ((TP+TN) / float(TP+TN+FN+FP))\n",
    "print (\"Accuracy: %.6f%%\" % (accuracy_score(y_test, y_pred_class)* 100.0) )\n",
    "\n",
    "#灵敏性（Sensitivity），也称为真正例识别率、召回率（Recall）：正确识别的正例数据在实际正例数据中的百分比\n",
    "#print (TP / float(TP+FN))\n",
    "#recall = metrics.recall_score(y_test, y_pred_class)\n",
    "print (\"Recall: %.6f%%\" % (recall_score(y_test, y_pred_class)* 100.0))\n",
    "\n",
    "#特效性（Specificity），也称为真负例率：正确识别的负例数据在实际负例数据中的百分比\n",
    "print (\"Specificity: %.6f%%\" % (TN / float(TN+FP)* 100.0))\n",
    "\n",
    "#假阳率（False Positive Rate）：实际值是负例数据，预测错误的百分比\n",
    "#print (FP / float(TN+FP))\n",
    "specificity = TN / float(TN+FP)\n",
    "print (\"False Positive Rate: %.6f%%\" %((1 - specificity)*100.0))\n",
    "\n",
    "#精度（Precision）：看做精确性的度量，即标记为正类的数据实际为正例的百分比\n",
    "#print (TP / float(TP+FP))\n",
    "precision = precision_score(y_test, y_pred_class)\n",
    "print (\"Precision: %.6f%%\" %(precision*100.0))\n",
    "\n",
    "#F1（平衡F分数）：精确率和召回率的调和平均数\n",
    "#print (TP / float(TP+FP))\n",
    "f1 = f1_score(y_test, y_pred_class)\n",
    "print (\"F1 score: %.6f%%\" %(f1*100.0))\n",
    "\n"
   ]
  },
  {
   "cell_type": "markdown",
   "metadata": {},
   "source": [
    "## Test + Submission"
   ]
  },
  {
   "cell_type": "code",
   "execution_count": null,
   "metadata": {
    "collapsed": true
   },
   "outputs": [],
   "source": [
    "Test_df = pd.read_csv('/Users/weisihan/Downloads/we_data/mytestset.csv')\n",
    "Group=  pd.read_csv('/Users/weisihan/Downloads/we_data/Group_xx.csv')"
   ]
  },
  {
   "cell_type": "code",
   "execution_count": null,
   "metadata": {
    "collapsed": true
   },
   "outputs": [],
   "source": [
    "Test_df = Test_df[['slotwidth', 'slotheight', 'slotprice', 'android', 'ios',\n",
    "       'linux', 'mac', 'other', 'windows', 'chrome', 'firefox', 'ie',\n",
    "       'maxthon', 'opera', 'other.1', 'safari', 'sogou', 'theworld',\n",
    "       '10006', '10024', '10031', '10048', '10052', '10057', '10059',\n",
    "       '10063', '10067', '10074', '10075', '10076', '10077', '10079',\n",
    "       '10083', '10093', '10102', '10110', '10111', '10114', '10115',\n",
    "       '10116', '10117', '10118', '10120', '10123', '10125', '10126',\n",
    "       '10127', '10129', '10130', '10131', '10133', '10138', '10140',\n",
    "       '10142', '10145', '10146', '10147', '10148', '10149', '10684',\n",
    "       '11092', '11278', '11379', '11423', '11512', '11576', '11632',\n",
    "       '11680', '11724', '11944', '13042', '13403', '13496', '13678',\n",
    "       '13776', '13800', '13866', '13874', '14273', '15398', '16593',\n",
    "       '16617', '16661', '16706', '16751', '16753', 'hour_sin', 'hour_cos',\n",
    "       'city_per', 'region_per', 'weekday_0', 'weekday_1', 'weekday_2',\n",
    "       'weekday_3', 'weekday_4', 'weekday_5', 'weekday_6',\n",
    "       'adexchange_1.0', 'adexchange_2.0', 'adexchange_3.0',\n",
    "       'adexchange_4.0', 'adexchange_nan', 'slotvisibility_0',\n",
    "       'slotvisibility_1', 'slotvisibility_2', 'slotvisibility_255',\n",
    "       'slotvisibility_FifthView', 'slotvisibility_FirstView',\n",
    "       'slotvisibility_FourthView', 'slotvisibility_Na',\n",
    "       'slotvisibility_OtherView', 'slotvisibility_SecondView',\n",
    "       'slotvisibility_ThirdView', 'slotformat_0', 'slotformat_1',\n",
    "       'slotformat_5', 'slotformat_Na', 'advertiser_1458',\n",
    "       'advertiser_2259', 'advertiser_2261', 'advertiser_2821',\n",
    "       'advertiser_2997', 'advertiser_3358', 'advertiser_3386',\n",
    "       'advertiser_3427', 'advertiser_3476']]"
   ]
  },
  {
   "cell_type": "code",
   "execution_count": null,
   "metadata": {
    "collapsed": true
   },
   "outputs": [],
   "source": [
    "test_x = Test_df\n",
    "test_predictions = model.predict_proba(test_x)\n",
    "test_predictions_class = model.predict(test_x)"
   ]
  },
  {
   "cell_type": "code",
   "execution_count": null,
   "metadata": {
    "collapsed": true
   },
   "outputs": [],
   "source": [
    "test_result = pd.DataFrame(columns=['bidprice', 'click_pred_per', 'click_pred_class'])  \n",
    "test_result['click_pred_per'] = test_predictions[:,1]\n",
    "test_result['click_pred_class'] = test_predictions_class\n",
    "test_result.head()"
   ]
  },
  {
   "cell_type": "code",
   "execution_count": null,
   "metadata": {
    "collapsed": true
   },
   "outputs": [],
   "source": [
    "test_result['click_pred_per']=recalibrate(test_result['click_pred_per'],Samp_per)\n",
    "test_result.head()"
   ]
  },
  {
   "cell_type": "code",
   "execution_count": null,
   "metadata": {
    "collapsed": true
   },
   "outputs": [],
   "source": [
    "base_bid=133\n",
    "#这个变成你测出来最高clk的basebid！！！！！！！\n",
    "avgCTR = 1793/2430981#train set\n",
    "test_result['bidprice'] = base_bid*test_result['click_pred_per']/avgCTR\n",
    "test_result.head()"
   ]
  },
  {
   "cell_type": "code",
   "execution_count": null,
   "metadata": {
    "collapsed": true
   },
   "outputs": [],
   "source": [
    "Group['bidprice']=test_result['bidprice']\n",
    "Group.head()"
   ]
  },
  {
   "cell_type": "code",
   "execution_count": null,
   "metadata": {
    "collapsed": true
   },
   "outputs": [],
   "source": [
    "Group.to_csv('/Users/weisihan/Desktop/Group_6.csv', encoding='utf-8', index=False)"
   ]
  }
 ],
 "metadata": {
  "kernelspec": {
   "display_name": "Python [default]",
   "language": "python",
   "name": "python3"
  },
  "language_info": {
   "codemirror_mode": {
    "name": "ipython",
    "version": 3
   },
   "file_extension": ".py",
   "mimetype": "text/x-python",
   "name": "python",
   "nbconvert_exporter": "python",
   "pygments_lexer": "ipython3",
   "version": "3.6.4"
  }
 },
 "nbformat": 4,
 "nbformat_minor": 2
}
