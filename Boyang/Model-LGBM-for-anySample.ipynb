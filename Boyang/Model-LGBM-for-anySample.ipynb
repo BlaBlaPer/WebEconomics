{
 "cells": [
  {
   "cell_type": "markdown",
   "metadata": {},
   "source": [
    "## Preparation + build model"
   ]
  },
  {
   "cell_type": "code",
   "execution_count": 1,
   "metadata": {},
   "outputs": [],
   "source": [
    "import numpy as np\n",
    "import pandas as pd\n",
    "Train_df = pd.read_csv('train_newfeature.csv')\n",
    "Valid_df = pd.read_csv('valid_newfeature.csv')"
   ]
  },
  {
   "cell_type": "code",
   "execution_count": 2,
   "metadata": {},
   "outputs": [
    {
     "data": {
      "text/plain": [
       "(62523, 127)"
      ]
     },
     "execution_count": 2,
     "metadata": {},
     "output_type": "execute_result"
    }
   ],
   "source": [
    " #Samp_per should be in 0.001,0.01,0.025,0.05,0.075,0.1\n",
    "Samp_per=0.025\n",
    " # bids which click =1\n",
    " df1 = Train_df[Train_df['click']==1]\n",
    " # bids which click =0\n",
    " df0 = Train_df[Train_df['click']==0]\n",
    " # get 10% of click =0 data, down sampling\n",
    " df2=df0.sample(frac=Samp_per)\n",
    " # combine 10% of click =0 data and all click=1, down sampling\n",
    " combined_df = pd.concat([df1, df2],axis=0)\n",
    " combined_df.head()\n",
    " combined_df.shape\n",
    " #new trainning set shape is(62523, 127)"
   ]
  },
  {
   "cell_type": "code",
   "execution_count": 3,
   "metadata": {},
   "outputs": [],
   "source": [
    "# combined_df.to_csv('/Users/weisihan/Desktop/ourtrainingset_Simple_XGBoost_model_25.csv', encoding='utf-8', index=False)"
   ]
  },
  {
   "cell_type": "code",
   "execution_count": 4,
   "metadata": {},
   "outputs": [],
   "source": [
    "cols=list(Train_df.columns)[1:]"
   ]
  },
  {
   "cell_type": "code",
   "execution_count": 5,
   "metadata": {},
   "outputs": [],
   "source": [
    "# combined_df = pd.read_csv('../downloads/train_sample0.1_3.csv')"
   ]
  },
  {
   "cell_type": "code",
   "execution_count": 6,
   "metadata": {},
   "outputs": [],
   "source": [
    "train_y = combined_df['click']\n",
    "train_x = combined_df[cols]"
   ]
  },
  {
   "cell_type": "code",
   "execution_count": 7,
   "metadata": {},
   "outputs": [],
   "source": [
    "# import xgboost\n",
    "\n",
    "# xgb = xgboost.XGBClassifier(\n",
    "#  learning_rate =0.1,\n",
    "#  n_estimators=100,\n",
    "#  max_depth=6,\n",
    "#  min_child_weight=7,\n",
    "#  gamma=0,\n",
    "#  subsample=0.8,\n",
    "#  colsample_bytree=0.8,\n",
    "#  reg_alpha=0.01,\n",
    "#  objective= 'binary:logistic',\n",
    "#  nthread=4,\n",
    "#  scale_pos_weight=1,\n",
    "#  seed=27)\n",
    "# #modelfit(xgb4, train, predictors)"
   ]
  },
  {
   "cell_type": "code",
   "execution_count": 8,
   "metadata": {},
   "outputs": [],
   "source": [
    "import lightgbm"
   ]
  },
  {
   "cell_type": "code",
   "execution_count": 9,
   "metadata": {},
   "outputs": [],
   "source": [
    "lgbm = lightgbm.LGBMClassifier(\n",
    "learning_rate =0.1,\n",
    "n_estimators=100,\n",
    "max_depth=6,\n",
    "min_child_weight=7,\n",
    "subsample=0.8,\n",
    "colsample_bytree=0.8,\n",
    "reg_alpha=0.01,\n",
    "#objective= 'binary:logistic',\n",
    ")"
   ]
  },
  {
   "cell_type": "code",
   "execution_count": 10,
   "metadata": {},
   "outputs": [
    {
     "data": {
      "text/plain": [
       "LGBMClassifier(boosting_type='gbdt', class_weight=None, colsample_bytree=0.8,\n",
       "        learning_rate=0.1, max_depth=6, min_child_samples=20,\n",
       "        min_child_weight=7, min_split_gain=0.0, n_estimators=100,\n",
       "        n_jobs=-1, num_leaves=31, objective=None, random_state=None,\n",
       "        reg_alpha=0.01, reg_lambda=0.0, silent=True, subsample=0.8,\n",
       "        subsample_for_bin=200000, subsample_freq=1)"
      ]
     },
     "execution_count": 10,
     "metadata": {},
     "output_type": "execute_result"
    }
   ],
   "source": [
    "#train xgboost model\n",
    "#import xgboost\n",
    "X = train_x\n",
    "y = train_y\n",
    "# train the default model\n",
    "#model = xgboost.XGBClassifier()\n",
    "model = lgbm\n",
    "model.fit(X, y)\n",
    "#14:15-14:16"
   ]
  },
  {
   "cell_type": "code",
   "execution_count": 11,
   "metadata": {},
   "outputs": [
    {
     "data": {
      "text/plain": [
       "['Simple_XGBoost_model_25.sav']"
      ]
     },
     "execution_count": 11,
     "metadata": {},
     "output_type": "execute_result"
    }
   ],
   "source": [
    "from sklearn.externals import joblib\n",
    "\n",
    "filename = 'Simple_XGBoost_model_25.sav'\n",
    "joblib.dump(model, filename)"
   ]
  },
  {
   "cell_type": "code",
   "execution_count": 12,
   "metadata": {},
   "outputs": [
    {
     "name": "stderr",
     "output_type": "stream",
     "text": [
      "/Users/liuboyang/tutorial/lib/python3.6/site-packages/sklearn/preprocessing/label.py:151: DeprecationWarning: The truth value of an empty array is ambiguous. Returning False, but in future this will result in an error. Use `array.size > 0` to check that an array is not empty.\n",
      "  if diff:\n"
     ]
    }
   ],
   "source": [
    "#test the default model\n",
    "valid_x = Valid_df[cols]\n",
    "valid_predictions = model.predict_proba(valid_x)\n",
    "valid_predictions_class = model.predict(valid_x)"
   ]
  },
  {
   "cell_type": "code",
   "execution_count": 13,
   "metadata": {},
   "outputs": [
    {
     "data": {
      "text/plain": [
       "array([0.00450185, 0.00322451, 0.00461211, ..., 0.05455072, 0.01616482,\n",
       "       0.01012958])"
      ]
     },
     "execution_count": 13,
     "metadata": {},
     "output_type": "execute_result"
    }
   ],
   "source": [
    "valid_predictions[:,1]"
   ]
  },
  {
   "cell_type": "code",
   "execution_count": 14,
   "metadata": {
    "scrolled": true
   },
   "outputs": [
    {
     "data": {
      "text/html": [
       "<div>\n",
       "<style scoped>\n",
       "    .dataframe tbody tr th:only-of-type {\n",
       "        vertical-align: middle;\n",
       "    }\n",
       "\n",
       "    .dataframe tbody tr th {\n",
       "        vertical-align: top;\n",
       "    }\n",
       "\n",
       "    .dataframe thead th {\n",
       "        text-align: right;\n",
       "    }\n",
       "</style>\n",
       "<table border=\"1\" class=\"dataframe\">\n",
       "  <thead>\n",
       "    <tr style=\"text-align: right;\">\n",
       "      <th></th>\n",
       "      <th>click</th>\n",
       "      <th>click_pred_per</th>\n",
       "      <th>click_pred_class</th>\n",
       "    </tr>\n",
       "  </thead>\n",
       "  <tbody>\n",
       "    <tr>\n",
       "      <th>0</th>\n",
       "      <td>0</td>\n",
       "      <td>0.004502</td>\n",
       "      <td>0</td>\n",
       "    </tr>\n",
       "    <tr>\n",
       "      <th>1</th>\n",
       "      <td>0</td>\n",
       "      <td>0.003225</td>\n",
       "      <td>0</td>\n",
       "    </tr>\n",
       "    <tr>\n",
       "      <th>2</th>\n",
       "      <td>0</td>\n",
       "      <td>0.004612</td>\n",
       "      <td>0</td>\n",
       "    </tr>\n",
       "    <tr>\n",
       "      <th>3</th>\n",
       "      <td>0</td>\n",
       "      <td>0.006638</td>\n",
       "      <td>0</td>\n",
       "    </tr>\n",
       "    <tr>\n",
       "      <th>4</th>\n",
       "      <td>0</td>\n",
       "      <td>0.002682</td>\n",
       "      <td>0</td>\n",
       "    </tr>\n",
       "  </tbody>\n",
       "</table>\n",
       "</div>"
      ],
      "text/plain": [
       "   click  click_pred_per  click_pred_class\n",
       "0      0        0.004502                 0\n",
       "1      0        0.003225                 0\n",
       "2      0        0.004612                 0\n",
       "3      0        0.006638                 0\n",
       "4      0        0.002682                 0"
      ]
     },
     "execution_count": 14,
     "metadata": {},
     "output_type": "execute_result"
    }
   ],
   "source": [
    "valid_result = pd.DataFrame(columns=['click', 'click_pred_per', 'click_pred_class'])  \n",
    "valid_result['click']= Valid_df['click'].copy()\n",
    "valid_result['click_pred_per'] = valid_predictions[:,1]\n",
    "valid_result['click_pred_class'] = valid_predictions_class\n",
    "valid_result.head()"
   ]
  },
  {
   "cell_type": "markdown",
   "metadata": {},
   "source": [
    "## calibrate pCTR"
   ]
  },
  {
   "cell_type": "code",
   "execution_count": 15,
   "metadata": {},
   "outputs": [],
   "source": [
    "def recalibrate(p,w):\n",
    "    q = p/(p+(1-p)/w)\n",
    "    return q"
   ]
  },
  {
   "cell_type": "code",
   "execution_count": 16,
   "metadata": {},
   "outputs": [
    {
     "data": {
      "text/html": [
       "<div>\n",
       "<style scoped>\n",
       "    .dataframe tbody tr th:only-of-type {\n",
       "        vertical-align: middle;\n",
       "    }\n",
       "\n",
       "    .dataframe tbody tr th {\n",
       "        vertical-align: top;\n",
       "    }\n",
       "\n",
       "    .dataframe thead th {\n",
       "        text-align: right;\n",
       "    }\n",
       "</style>\n",
       "<table border=\"1\" class=\"dataframe\">\n",
       "  <thead>\n",
       "    <tr style=\"text-align: right;\">\n",
       "      <th></th>\n",
       "      <th>click</th>\n",
       "      <th>click_pred_per</th>\n",
       "      <th>click_pred_class</th>\n",
       "    </tr>\n",
       "  </thead>\n",
       "  <tbody>\n",
       "    <tr>\n",
       "      <th>0</th>\n",
       "      <td>0</td>\n",
       "      <td>0.000113</td>\n",
       "      <td>0</td>\n",
       "    </tr>\n",
       "    <tr>\n",
       "      <th>1</th>\n",
       "      <td>0</td>\n",
       "      <td>0.000081</td>\n",
       "      <td>0</td>\n",
       "    </tr>\n",
       "    <tr>\n",
       "      <th>2</th>\n",
       "      <td>0</td>\n",
       "      <td>0.000116</td>\n",
       "      <td>0</td>\n",
       "    </tr>\n",
       "    <tr>\n",
       "      <th>3</th>\n",
       "      <td>0</td>\n",
       "      <td>0.000167</td>\n",
       "      <td>0</td>\n",
       "    </tr>\n",
       "    <tr>\n",
       "      <th>4</th>\n",
       "      <td>0</td>\n",
       "      <td>0.000067</td>\n",
       "      <td>0</td>\n",
       "    </tr>\n",
       "  </tbody>\n",
       "</table>\n",
       "</div>"
      ],
      "text/plain": [
       "   click  click_pred_per  click_pred_class\n",
       "0      0        0.000113                 0\n",
       "1      0        0.000081                 0\n",
       "2      0        0.000116                 0\n",
       "3      0        0.000167                 0\n",
       "4      0        0.000067                 0"
      ]
     },
     "execution_count": 16,
     "metadata": {},
     "output_type": "execute_result"
    }
   ],
   "source": [
    "valid_result['click_pred_per']=recalibrate(valid_result['click_pred_per'],Samp_per)\n",
    "valid_result.head()"
   ]
  },
  {
   "cell_type": "code",
   "execution_count": 17,
   "metadata": {},
   "outputs": [],
   "source": [
    "#Group.to_csv('Group_6.csv', encoding='utf-8', index=False)\n",
    "valid_result.to_csv('lgbm_valid_pctr.csv', encoding = 'utf-8', index = False)"
   ]
  },
  {
   "cell_type": "code",
   "execution_count": 18,
   "metadata": {},
   "outputs": [
    {
     "name": "stderr",
     "output_type": "stream",
     "text": [
      "/Users/liuboyang/tutorial/lib/python3.6/site-packages/sklearn/preprocessing/label.py:151: DeprecationWarning: The truth value of an empty array is ambiguous. Returning False, but in future this will result in an error. Use `array.size > 0` to check that an array is not empty.\n",
      "  if diff:\n"
     ]
    }
   ],
   "source": [
    "train_x = Train_df[cols]\n",
    "train_predictions = model.predict_proba(train_x)\n",
    "train_predictions_class = model.predict(train_x)"
   ]
  },
  {
   "cell_type": "code",
   "execution_count": 19,
   "metadata": {},
   "outputs": [
    {
     "data": {
      "text/html": [
       "<div>\n",
       "<style scoped>\n",
       "    .dataframe tbody tr th:only-of-type {\n",
       "        vertical-align: middle;\n",
       "    }\n",
       "\n",
       "    .dataframe tbody tr th {\n",
       "        vertical-align: top;\n",
       "    }\n",
       "\n",
       "    .dataframe thead th {\n",
       "        text-align: right;\n",
       "    }\n",
       "</style>\n",
       "<table border=\"1\" class=\"dataframe\">\n",
       "  <thead>\n",
       "    <tr style=\"text-align: right;\">\n",
       "      <th></th>\n",
       "      <th>click</th>\n",
       "      <th>click_pred_per</th>\n",
       "      <th>click_pred_class</th>\n",
       "    </tr>\n",
       "  </thead>\n",
       "  <tbody>\n",
       "    <tr>\n",
       "      <th>0</th>\n",
       "      <td>0</td>\n",
       "      <td>0.000113</td>\n",
       "      <td>0</td>\n",
       "    </tr>\n",
       "    <tr>\n",
       "      <th>1</th>\n",
       "      <td>0</td>\n",
       "      <td>0.000081</td>\n",
       "      <td>0</td>\n",
       "    </tr>\n",
       "    <tr>\n",
       "      <th>2</th>\n",
       "      <td>0</td>\n",
       "      <td>0.000116</td>\n",
       "      <td>0</td>\n",
       "    </tr>\n",
       "    <tr>\n",
       "      <th>3</th>\n",
       "      <td>0</td>\n",
       "      <td>0.000167</td>\n",
       "      <td>0</td>\n",
       "    </tr>\n",
       "    <tr>\n",
       "      <th>4</th>\n",
       "      <td>0</td>\n",
       "      <td>0.000067</td>\n",
       "      <td>0</td>\n",
       "    </tr>\n",
       "  </tbody>\n",
       "</table>\n",
       "</div>"
      ],
      "text/plain": [
       "   click  click_pred_per  click_pred_class\n",
       "0      0        0.000113                 0\n",
       "1      0        0.000081                 0\n",
       "2      0        0.000116                 0\n",
       "3      0        0.000167                 0\n",
       "4      0        0.000067                 0"
      ]
     },
     "execution_count": 19,
     "metadata": {},
     "output_type": "execute_result"
    }
   ],
   "source": [
    "train_result = pd.DataFrame(columns=['click', 'click_pred_per', 'click_pred_class'])  \n",
    "train_result['click']= Train_df['click'].copy()\n",
    "train_result['click_pred_per'] = train_predictions[:,1]\n",
    "train_result['click_pred_class'] = train_predictions_class\n",
    "valid_result.head()"
   ]
  },
  {
   "cell_type": "code",
   "execution_count": 20,
   "metadata": {},
   "outputs": [
    {
     "data": {
      "text/html": [
       "<div>\n",
       "<style scoped>\n",
       "    .dataframe tbody tr th:only-of-type {\n",
       "        vertical-align: middle;\n",
       "    }\n",
       "\n",
       "    .dataframe tbody tr th {\n",
       "        vertical-align: top;\n",
       "    }\n",
       "\n",
       "    .dataframe thead th {\n",
       "        text-align: right;\n",
       "    }\n",
       "</style>\n",
       "<table border=\"1\" class=\"dataframe\">\n",
       "  <thead>\n",
       "    <tr style=\"text-align: right;\">\n",
       "      <th></th>\n",
       "      <th>click</th>\n",
       "      <th>click_pred_per</th>\n",
       "      <th>click_pred_class</th>\n",
       "    </tr>\n",
       "  </thead>\n",
       "  <tbody>\n",
       "    <tr>\n",
       "      <th>0</th>\n",
       "      <td>0</td>\n",
       "      <td>0.000084</td>\n",
       "      <td>0</td>\n",
       "    </tr>\n",
       "    <tr>\n",
       "      <th>1</th>\n",
       "      <td>0</td>\n",
       "      <td>0.000553</td>\n",
       "      <td>0</td>\n",
       "    </tr>\n",
       "    <tr>\n",
       "      <th>2</th>\n",
       "      <td>0</td>\n",
       "      <td>0.000082</td>\n",
       "      <td>0</td>\n",
       "    </tr>\n",
       "    <tr>\n",
       "      <th>3</th>\n",
       "      <td>0</td>\n",
       "      <td>0.000226</td>\n",
       "      <td>0</td>\n",
       "    </tr>\n",
       "    <tr>\n",
       "      <th>4</th>\n",
       "      <td>0</td>\n",
       "      <td>0.000277</td>\n",
       "      <td>0</td>\n",
       "    </tr>\n",
       "  </tbody>\n",
       "</table>\n",
       "</div>"
      ],
      "text/plain": [
       "   click  click_pred_per  click_pred_class\n",
       "0      0        0.000084                 0\n",
       "1      0        0.000553                 0\n",
       "2      0        0.000082                 0\n",
       "3      0        0.000226                 0\n",
       "4      0        0.000277                 0"
      ]
     },
     "execution_count": 20,
     "metadata": {},
     "output_type": "execute_result"
    }
   ],
   "source": [
    "train_result['click_pred_per']=recalibrate(train_result['click_pred_per'],Samp_per)\n",
    "train_result.head()"
   ]
  },
  {
   "cell_type": "code",
   "execution_count": 21,
   "metadata": {},
   "outputs": [],
   "source": [
    "train_result.to_csv('lgbm_train_pctr.csv', encoding = 'utf-8', index = False)"
   ]
  },
  {
   "cell_type": "markdown",
   "metadata": {},
   "source": [
    " 随便看一下"
   ]
  },
  {
   "cell_type": "code",
   "execution_count": 22,
   "metadata": {},
   "outputs": [
    {
     "name": "stdout",
     "output_type": "stream",
     "text": [
      "[[303387    336]\n",
      " [   128     74]]\n",
      "TP: 74\n",
      "TN: 303387\n",
      "FP: 336\n",
      "FN: 128\n",
      "Accuracy: 99.847331%\n",
      "Recall: 36.633663%\n",
      "Specificity: 99.889373%\n",
      "False Positive Rate: 0.110627%\n",
      "Precision: 18.048780%\n",
      "F1 score: 24.183007%\n"
     ]
    }
   ],
   "source": [
    "from sklearn.metrics import accuracy_score\n",
    "from sklearn.metrics import precision_score\n",
    "from sklearn.metrics import recall_score\n",
    "from sklearn.metrics import f1_score\n",
    "from sklearn.metrics import confusion_matrix\n",
    "\n",
    "\n",
    "y_test = valid_result['click']\n",
    "y_pred_class = valid_result['click_pred_class']\n",
    "\n",
    "print(confusion_matrix(y_test, y_pred_class))\n",
    "\n",
    "confusion = confusion_matrix(y_test, y_pred_class)\n",
    "TP = confusion[1, 1]\n",
    "TN = confusion[0, 0]\n",
    "FP = confusion[0, 1]\n",
    "FN = confusion[1, 0]\n",
    "print (\"TP:\", TP)\n",
    "print (\"TN:\", TN)\n",
    "print (\"FP:\", FP)\n",
    "print (\"FN:\", FN)\n",
    "\n",
    "#准确率、识别率（Classification Accuracy）：分类器正确分类的比例\n",
    "#print ((TP+TN) / float(TP+TN+FN+FP))\n",
    "print (\"Accuracy: %.6f%%\" % (accuracy_score(y_test, y_pred_class)* 100.0) )\n",
    "\n",
    "#灵敏性（Sensitivity），也称为真正例识别率、召回率（Recall）：正确识别的正例数据在实际正例数据中的百分比\n",
    "#print (TP / float(TP+FN))\n",
    "#recall = metrics.recall_score(y_test, y_pred_class)\n",
    "print (\"Recall: %.6f%%\" % (recall_score(y_test, y_pred_class)* 100.0))\n",
    "\n",
    "#特效性（Specificity），也称为真负例率：正确识别的负例数据在实际负例数据中的百分比\n",
    "print (\"Specificity: %.6f%%\" % (TN / float(TN+FP)* 100.0))\n",
    "\n",
    "#假阳率（False Positive Rate）：实际值是负例数据，预测错误的百分比\n",
    "#print (FP / float(TN+FP))\n",
    "specificity = TN / float(TN+FP)\n",
    "print (\"False Positive Rate: %.6f%%\" %((1 - specificity)*100.0))\n",
    "\n",
    "#精度（Precision）：看做精确性的度量，即标记为正类的数据实际为正例的百分比\n",
    "#print (TP / float(TP+FP))\n",
    "precision = precision_score(y_test, y_pred_class)\n",
    "print (\"Precision: %.6f%%\" %(precision*100.0))\n",
    "\n",
    "#F1（平衡F分数）：精确率和召回率的调和平均数\n",
    "#print (TP / float(TP+FP))\n",
    "f1 = f1_score(y_test, y_pred_class)\n",
    "print (\"F1 score: %.6f%%\" %(f1*100.0))\n",
    "\n"
   ]
  },
  {
   "cell_type": "code",
   "execution_count": 38,
   "metadata": {},
   "outputs": [],
   "source": [
    "# allow plots to appear in the notebook\n",
    "%matplotlib inline\n",
    "import matplotlib.pyplot as plt\n",
    "\n",
    "\n",
    "# IMPORTANT: first argument is true values, second argument is predicted probabilities\n",
    "from sklearn.metrics import roc_auc_score\n",
    "from sklearn.metrics import roc_curve\n",
    "def plot_ROC_curve(data, prediction):\n",
    "    \"\"\"\n",
    "    Function to plot the ROC curve with AUC.\n",
    "    \"\"\"\n",
    "\n",
    "    # Compute fpr, tpr, thresholds and roc auc\n",
    "    fpr, tpr, thresholds = roc_curve(data, prediction)\n",
    "    roc_auc = roc_auc_score(data, prediction)\n",
    "\n",
    "    # Plot ROC curve\n",
    "    plt.plot(fpr, tpr, label='ROC curve (area = %0.3f)' % roc_auc)\n",
    "    #plt.plot(fpr, tpr, label='Logistic Regression (area = %0.3f)' % logit_roc_auc)\n",
    "    plt.plot([0, 1], [0, 1], 'r--')  # random predictions curve\n",
    "    plt.xlim([0.0, 1.0])\n",
    "    plt.ylim([0.0, 1.0])\n",
    "    plt.xlabel('False Positive Rate or (1 - Specifity)')\n",
    "    plt.ylabel('True Positive Rate or (Sensitivity)')\n",
    "    plt.title('ROC curve for CTR')\n",
    "    plt.grid(True)\n",
    "    plt.legend(loc=\"lower right\")\n",
    "    \n",
    "    return"
   ]
  },
  {
   "cell_type": "code",
   "execution_count": 39,
   "metadata": {},
   "outputs": [
    {
     "name": "stdout",
     "output_type": "stream",
     "text": [
      "the AUC for FM is: 0.892271\n"
     ]
    },
    {
     "data": {
      "image/png": "[encoded data removed]",
      "text/plain": [
       "<matplotlib.figure.Figure at 0x12009bd30>"
      ]
     },
     "metadata": {},
     "output_type": "display_data"
    }
   ],
   "source": [
    "plot_ROC_curve(valid_result['click'], valid_result['click_pred_per'])\n",
    "#xgboost的auc\n",
    "print (\"the AUC for FM is: {0:6f}\".format(roc_auc_score(valid_result['click'], valid_result['click_pred_per'])))"
   ]
  },
  {
   "cell_type": "markdown",
   "metadata": {
    "collapsed": true
   },
   "source": [
    "## Find Base Bid ----QR's Code"
   ]
  },
  {
   "cell_type": "code",
   "execution_count": 23,
   "metadata": {},
   "outputs": [],
   "source": [
    "df_valid = pd.read_csv(\"we_data/validation.csv\")"
   ]
  },
  {
   "cell_type": "code",
   "execution_count": 24,
   "metadata": {},
   "outputs": [],
   "source": [
    "# parameters\n",
    "total_budget = 6250000\n",
    "payprice = df_valid['payprice'].as_matrix()\n",
    "Train_df_qr = df_valid.copy()\n",
    "test_predictions=valid_result['click_pred_per']\n",
    "#test_predictions1=test_result['click_pred_per']\n",
    "\n",
    "avgCTR = 1793/2430981 #train set\n",
    "#tuning..."
   ]
  },
  {
   "cell_type": "code",
   "execution_count": 25,
   "metadata": {},
   "outputs": [],
   "source": [
    "def generate_bidprice(base_bid, test_predictions):\n",
    "    avgCTR = 1793/2430981#train set\n",
    "    bidprices = base_bid*test_predictions/avgCTR\n",
    "    return bidprices"
   ]
  },
  {
   "cell_type": "code",
   "execution_count": 26,
   "metadata": {},
   "outputs": [],
   "source": [
    "def Prob3(Train_df,payprice,base_bid,test_predictions):\n",
    "    Train_Const_summ = pd.DataFrame({'Clicks':'', 'Spend':'', 'CTR':'', 'CPM':'', 'eCPC':''}, index=[0])\n",
    "    \n",
    "    #if count_break = 5 break\n",
    "    count_break = 0\n",
    "    \n",
    "    current_budget = total_budget\n",
    "    Train_df['win'] = 0 #initialize win label\n",
    "    bidprices = generate_bidprice(base_bid, test_predictions)\n",
    "    #start biding...\n",
    "    for i in Train_df.index:\n",
    "    #for i in range(Train_df.shape[0]):\n",
    "#         if current_budget >= bidprices[i]:\n",
    "#         if current_budget > 0:\n",
    "            #generate bidprice:\n",
    "        current_bidprice = bidprices[i]\n",
    "        #consider budget\n",
    "        if current_budget <= current_bidprice:              \n",
    "            #count lack budget times\n",
    "            count_break = count_break + 1\n",
    "            print('lack of budget!',\"current_budget:\",current_budget,\";current_bidprice:\",current_bidprice,';count_break:',count_break)\n",
    "            if count_break > 5:\n",
    "                break  \n",
    "            #reset bidprice\n",
    "            current_bidprice = current_budget\n",
    "        else:\n",
    "            count_break = 0\n",
    "            \n",
    "\n",
    "        #Winning criterion:\n",
    "        current_payprice = payprice[i]\n",
    "        if current_bidprice > current_payprice:\n",
    "            Train_df.at[i, 'win'] = int(1)\n",
    "            current_budget = current_budget - current_payprice\n",
    "        else:\n",
    "            Train_df.at[i, 'win'] = int(0)\n",
    "\n",
    "    #biding end        \n",
    "    \n",
    "    Train_df_new = Train_df[Train_df['win']!=0]\n",
    "    #wintimes,_ = Train_df_new.shape\n",
    "    #print('wintimes:',wintimes)\n",
    "    #print('current_budget',current_budget)\n",
    "\n",
    "    Clk = Train_df_new['click'].sum()\n",
    "    Imp = Train_df_new['click'].count()\n",
    "    CTR = Clk/Imp\n",
    "    Spd = total_budget - current_budget\n",
    "    CPM = 1000*Spd/Imp\n",
    "    eCPC = Spd/Clk\n",
    "    \n",
    "    Train_Const_summ.loc[0,'Clicks']=Clk\n",
    "    Train_Const_summ.loc[0,'Spend']=Spd\n",
    "    Train_Const_summ.loc[0,'CTR']=CTR\n",
    "    Train_Const_summ.loc[0,'CPM']=CPM\n",
    "    Train_Const_summ.loc[0,'eCPC']=eCPC\n",
    "\n",
    "    print(Train_Const_summ)\n",
    "    \n",
    "        \n",
    "    return Train_df,current_budget"
   ]
  },
  {
   "cell_type": "code",
   "execution_count": 27,
   "metadata": {},
   "outputs": [],
   "source": [
    "def calculate_click(base_bid,Train_df,payprice,test_predictions):\n",
    "    print('base_bid:',base_bid)\n",
    "    result_df,current_budget = Prob3(Train_df,payprice,base_bid,test_predictions)\n",
    "    print('current_budget:',current_budget)\n",
    "    Train_df_new = result_df[result_df['win']!=0]\n",
    "    wintimes,_ = Train_df_new.shape\n",
    "    print('wintimes:',wintimes)\n",
    "    print('----------------')\n",
    "    Clk = Train_df_new['click'].sum()    \n",
    "    return Clk"
   ]
  },
  {
   "cell_type": "code",
   "execution_count": 28,
   "metadata": {},
   "outputs": [],
   "source": [
    "%matplotlib inline\n",
    "import matplotlib\n",
    "import matplotlib.pyplot as plt\n",
    "import mpld3\n",
    "import numpy as np"
   ]
  },
  {
   "cell_type": "code",
   "execution_count": 29,
   "metadata": {
    "scrolled": false
   },
   "outputs": [
    {
     "name": "stdout",
     "output_type": "stream",
     "text": [
      "base_bid: 115\n",
      "       CPM         CTR Clicks    Spend     eCPC\n",
      "0  44574.2  0.00135905    162  5313294  32798.1\n",
      "current_budget: 936706\n",
      "wintimes: 119201\n",
      "----------------\n",
      "base_bid: 116\n",
      "       CPM         CTR Clicks    Spend     eCPC\n",
      "0  44698.7  0.00135023    162  5362946  33104.6\n",
      "current_budget: 887054\n",
      "wintimes: 119980\n",
      "----------------\n",
      "base_bid: 117\n",
      "       CPM         CTR Clicks    Spend     eCPC\n",
      "0  44805.8  0.00134202    162  5408684  33386.9\n",
      "current_budget: 841316\n",
      "wintimes: 120714\n",
      "----------------\n",
      "base_bid: 118\n",
      "       CPM         CTR Clicks    Spend     eCPC\n",
      "0  44927.6  0.00133363    162  5457489  33688.2\n",
      "current_budget: 792511\n",
      "wintimes: 121473\n",
      "----------------\n",
      "base_bid: 119\n",
      "       CPM       CTR Clicks    Spend     eCPC\n",
      "0  45043.3  0.001334    163  5503801  33765.7\n",
      "current_budget: 746199\n",
      "wintimes: 122189\n",
      "----------------\n",
      "base_bid: 120\n",
      "       CPM         CTR Clicks    Spend     eCPC\n",
      "0  45191.7  0.00133413    164  5555284  33873.7\n",
      "current_budget: 694716\n",
      "wintimes: 122927\n",
      "----------------\n",
      "base_bid: 121\n",
      "       CPM         CTR Clicks    Spend     eCPC\n",
      "0  45301.1  0.00132581    164  5603660  34168.7\n",
      "current_budget: 646340\n",
      "wintimes: 123698\n",
      "----------------\n",
      "base_bid: 122\n",
      "       CPM        CTR Clicks    Spend     eCPC\n",
      "0  45435.8  0.0013179    164  5654034  34475.8\n",
      "current_budget: 595966\n",
      "wintimes: 124440\n",
      "----------------\n",
      "base_bid: 123\n",
      "       CPM         CTR Clicks    Spend   eCPC\n",
      "0  45546.9  0.00130999    164  5702112  34769\n",
      "current_budget: 547888\n",
      "wintimes: 125192\n",
      "----------------\n",
      "base_bid: 124\n",
      "       CPM         CTR Clicks    Spend     eCPC\n",
      "0  45662.1  0.00131026    165  5750185  34849.6\n",
      "current_budget: 499815\n",
      "wintimes: 125929\n",
      "----------------\n",
      "base_bid: 125\n",
      "       CPM         CTR Clicks    Spend     eCPC\n",
      "0  45785.4  0.00130267    165  5799310  35147.3\n",
      "current_budget: 450690\n",
      "wintimes: 126663\n",
      "----------------\n",
      "base_bid: 126\n",
      "       CPM         CTR Clicks    Spend     eCPC\n",
      "0  45902.2  0.00129475    165  5849683  35452.6\n",
      "current_budget: 400317\n",
      "wintimes: 127438\n",
      "----------------\n",
      "base_bid: 127\n",
      "       CPM         CTR Clicks    Spend   eCPC\n",
      "0  46012.1  0.00128748    165  5896768  35738\n",
      "current_budget: 353232\n",
      "wintimes: 128157\n",
      "----------------\n",
      "base_bid: 128\n",
      "       CPM         CTR Clicks    Spend     eCPC\n",
      "0  46130.3  0.00129558    167  5946190  35605.9\n",
      "current_budget: 303810\n",
      "wintimes: 128900\n",
      "----------------\n",
      "base_bid: 129\n",
      "       CPM         CTR Clicks    Spend     eCPC\n",
      "0  46245.9  0.00128801    167  5996107  35904.8\n",
      "current_budget: 253893\n",
      "wintimes: 129657\n",
      "----------------\n",
      "base_bid: 130\n",
      "     CPM       CTR Clicks    Spend     eCPC\n",
      "0  46355  0.001281    167  6043166  36186.6\n",
      "current_budget: 206834\n",
      "wintimes: 130367\n",
      "----------------\n",
      "base_bid: 131\n",
      "       CPM         CTR Clicks    Spend   eCPC\n",
      "0  46455.8  0.00127409    167  6089152  36462\n",
      "current_budget: 160848\n",
      "wintimes: 131074\n",
      "----------------\n",
      "base_bid: 132\n",
      "     CPM         CTR Clicks    Spend     eCPC\n",
      "0  46561  0.00126709    167  6136642  36746.4\n",
      "current_budget: 113358\n",
      "wintimes: 131798\n",
      "----------------\n",
      "base_bid: 133\n",
      "       CPM         CTR Clicks    Spend     eCPC\n",
      "0  46673.8  0.00126018    167  6185260  37037.5\n",
      "current_budget: 64740\n",
      "wintimes: 132521\n",
      "----------------\n",
      "base_bid: 134\n",
      "       CPM         CTR Clicks    Spend     eCPC\n",
      "0  46802.1  0.00125361    167  6234738  37333.8\n",
      "current_budget: 15262\n",
      "wintimes: 133215\n",
      "----------------\n",
      "base_bid: 135\n",
      "lack of budget! current_budget: 41827 ;current_bidprice: 70001.51785387438 ;count_break: 1\n",
      "lack of budget! current_budget: 19843 ;current_bidprice: 20327.958975080826 ;count_break: 1\n",
      "lack of budget! current_budget: 392 ;current_bidprice: 437.6811262743506 ;count_break: 1\n",
      "lack of budget! current_budget: 149 ;current_bidprice: 172.5561202372778 ;count_break: 1\n",
      "lack of budget! current_budget: 18 ;current_bidprice: 33.50980082143228 ;count_break: 1\n",
      "lack of budget! current_budget: 18 ;current_bidprice: 44.05117325889661 ;count_break: 1\n",
      "lack of budget! current_budget: 18 ;current_bidprice: 32.23676866167766 ;count_break: 2\n",
      "lack of budget! current_budget: 18 ;current_bidprice: 46.76917082067173 ;count_break: 3\n",
      "lack of budget! current_budget: 1 ;current_bidprice: 132.83130223598462 ;count_break: 4\n",
      "lack of budget! current_budget: 1 ;current_bidprice: 49.211085407130525 ;count_break: 5\n",
      "lack of budget! current_budget: 1 ;current_bidprice: 114.17234939105205 ;count_break: 6\n",
      "       CPM         CTR Clicks    Spend     eCPC\n",
      "0  46913.1  0.00124601    166  6249999  37650.6\n",
      "current_budget: 1\n",
      "wintimes: 133225\n",
      "----------------\n",
      "base_bid: 136\n",
      "lack of budget! current_budget: 12211 ;current_bidprice: 48140.14682747967 ;count_break: 1\n",
      "lack of budget! current_budget: 1149 ;current_bidprice: 1316.2535525404737 ;count_break: 1\n",
      "lack of budget! current_budget: 981 ;current_bidprice: 2263.0110449437393 ;count_break: 1\n",
      "lack of budget! current_budget: 57 ;current_bidprice: 76.91168087698082 ;count_break: 1\n",
      "lack of budget! current_budget: 23 ;current_bidprice: 44.86743031868964 ;count_break: 1\n",
      "lack of budget! current_budget: 23 ;current_bidprice: 37.794955722252105 ;count_break: 2\n",
      "lack of budget! current_budget: 3 ;current_bidprice: 69.30692036632692 ;count_break: 3\n",
      "lack of budget! current_budget: 3 ;current_bidprice: 20.356772595300928 ;count_break: 4\n",
      "lack of budget! current_budget: 3 ;current_bidprice: 418.5194143998091 ;count_break: 5\n",
      "lack of budget! current_budget: 3 ;current_bidprice: 15.806806940338948 ;count_break: 6\n",
      "       CPM         CTR Clicks    Spend     eCPC\n",
      "0  46995.3  0.00123316    164  6249997  38109.7\n",
      "current_budget: 3\n",
      "wintimes: 132992\n",
      "----------------\n",
      "167\n"
     ]
    },
    {
     "data": {
      "text/html": [
       "\n",
       "\n",
       "<style>\n",
       "\n",
       "</style>\n",
       "\n",
       "<div id=\"fig_el2290648339594969135749563\"></div>\n",
       "<script>\n",
       "function mpld3_load_lib(url, callback){\n",
       "  var s = document.createElement('script');\n",
       "  s.src = url;\n",
       "  s.async = true;\n",
       "  s.onreadystatechange = s.onload = callback;\n",
       "  s.onerror = function(){console.warn(\"failed to load library \" + url);};\n",
       "  document.getElementsByTagName(\"head\")[0].appendChild(s);\n",
       "}\n",
       "\n",
       "if(typeof(mpld3) !== \"undefined\" && mpld3._mpld3IsLoaded){\n",
       "   // already loaded: just create the figure\n",
       "   !function(mpld3){\n",
       "       \n",
       "       mpld3.draw_figure(\"fig_el2290648339594969135749563\", {\"width\": 432.0, \"height\": 288.0, \"axes\": [{\"bbox\": [0.125, 0.125, 0.775, 0.755], \"xlim\": [113.95, 137.05], \"ylim\": [161.75, 167.25], \"xdomain\": [113.95, 137.05], \"ydomain\": [161.75, 167.25], \"xscale\": \"linear\", \"yscale\": \"linear\", \"axes\": [{\"position\": \"bottom\", \"nticks\": 7, \"tickvalues\": null, \"tickformat\": null, \"scale\": \"linear\", \"fontsize\": 10.0, \"grid\": {\"gridOn\": false}, \"visible\": true}, {\"position\": \"left\", \"nticks\": 8, \"tickvalues\": null, \"tickformat\": null, \"scale\": \"linear\", \"fontsize\": 10.0, \"grid\": {\"gridOn\": false}, \"visible\": true}], \"axesbg\": \"#FFFFFF\", \"axesbgalpha\": null, \"zoomable\": true, \"id\": \"el229064823949040\", \"lines\": [{\"data\": \"data01\", \"xindex\": 0, \"yindex\": 1, \"coordinates\": \"data\", \"id\": \"el229064833563032\", \"color\": \"#1F77B4\", \"linewidth\": 1.5, \"dasharray\": \"none\", \"alpha\": 1, \"zorder\": 2, \"drawstyle\": \"default\"}], \"paths\": [], \"markers\": [], \"texts\": [], \"collections\": [], \"images\": [], \"sharex\": [], \"sharey\": []}], \"data\": {\"data01\": [[115.0, 162.0], [116.0, 162.0], [117.0, 162.0], [118.0, 162.0], [119.0, 163.0], [120.0, 164.0], [121.0, 164.0], [122.0, 164.0], [123.0, 164.0], [124.0, 165.0], [125.0, 165.0], [126.0, 165.0], [127.0, 165.0], [128.0, 167.0], [129.0, 167.0], [130.0, 167.0], [131.0, 167.0], [132.0, 167.0], [133.0, 167.0], [134.0, 167.0], [135.0, 166.0], [136.0, 164.0]]}, \"id\": \"el229064833959496\", \"plugins\": [{\"type\": \"reset\"}, {\"type\": \"zoom\", \"button\": true, \"enabled\": false}, {\"type\": \"boxzoom\", \"button\": true, \"enabled\": false}]});\n",
       "   }(mpld3);\n",
       "}else if(typeof define === \"function\" && define.amd){\n",
       "   // require.js is available: use it to load d3/mpld3\n",
       "   require.config({paths: {d3: \"https://mpld3.github.io/js/d3.v3.min\"}});\n",
       "   require([\"d3\"], function(d3){\n",
       "      window.d3 = d3;\n",
       "      mpld3_load_lib(\"https://mpld3.github.io/js/mpld3.v0.3.js\", function(){\n",
       "         \n",
       "         mpld3.draw_figure(\"fig_el2290648339594969135749563\", {\"width\": 432.0, \"height\": 288.0, \"axes\": [{\"bbox\": [0.125, 0.125, 0.775, 0.755], \"xlim\": [113.95, 137.05], \"ylim\": [161.75, 167.25], \"xdomain\": [113.95, 137.05], \"ydomain\": [161.75, 167.25], \"xscale\": \"linear\", \"yscale\": \"linear\", \"axes\": [{\"position\": \"bottom\", \"nticks\": 7, \"tickvalues\": null, \"tickformat\": null, \"scale\": \"linear\", \"fontsize\": 10.0, \"grid\": {\"gridOn\": false}, \"visible\": true}, {\"position\": \"left\", \"nticks\": 8, \"tickvalues\": null, \"tickformat\": null, \"scale\": \"linear\", \"fontsize\": 10.0, \"grid\": {\"gridOn\": false}, \"visible\": true}], \"axesbg\": \"#FFFFFF\", \"axesbgalpha\": null, \"zoomable\": true, \"id\": \"el229064823949040\", \"lines\": [{\"data\": \"data01\", \"xindex\": 0, \"yindex\": 1, \"coordinates\": \"data\", \"id\": \"el229064833563032\", \"color\": \"#1F77B4\", \"linewidth\": 1.5, \"dasharray\": \"none\", \"alpha\": 1, \"zorder\": 2, \"drawstyle\": \"default\"}], \"paths\": [], \"markers\": [], \"texts\": [], \"collections\": [], \"images\": [], \"sharex\": [], \"sharey\": []}], \"data\": {\"data01\": [[115.0, 162.0], [116.0, 162.0], [117.0, 162.0], [118.0, 162.0], [119.0, 163.0], [120.0, 164.0], [121.0, 164.0], [122.0, 164.0], [123.0, 164.0], [124.0, 165.0], [125.0, 165.0], [126.0, 165.0], [127.0, 165.0], [128.0, 167.0], [129.0, 167.0], [130.0, 167.0], [131.0, 167.0], [132.0, 167.0], [133.0, 167.0], [134.0, 167.0], [135.0, 166.0], [136.0, 164.0]]}, \"id\": \"el229064833959496\", \"plugins\": [{\"type\": \"reset\"}, {\"type\": \"zoom\", \"button\": true, \"enabled\": false}, {\"type\": \"boxzoom\", \"button\": true, \"enabled\": false}]});\n",
       "      });\n",
       "    });\n",
       "}else{\n",
       "    // require.js not available: dynamically load d3 & mpld3\n",
       "    mpld3_load_lib(\"https://mpld3.github.io/js/d3.v3.min.js\", function(){\n",
       "         mpld3_load_lib(\"https://mpld3.github.io/js/mpld3.v0.3.js\", function(){\n",
       "                 \n",
       "                 mpld3.draw_figure(\"fig_el2290648339594969135749563\", {\"width\": 432.0, \"height\": 288.0, \"axes\": [{\"bbox\": [0.125, 0.125, 0.775, 0.755], \"xlim\": [113.95, 137.05], \"ylim\": [161.75, 167.25], \"xdomain\": [113.95, 137.05], \"ydomain\": [161.75, 167.25], \"xscale\": \"linear\", \"yscale\": \"linear\", \"axes\": [{\"position\": \"bottom\", \"nticks\": 7, \"tickvalues\": null, \"tickformat\": null, \"scale\": \"linear\", \"fontsize\": 10.0, \"grid\": {\"gridOn\": false}, \"visible\": true}, {\"position\": \"left\", \"nticks\": 8, \"tickvalues\": null, \"tickformat\": null, \"scale\": \"linear\", \"fontsize\": 10.0, \"grid\": {\"gridOn\": false}, \"visible\": true}], \"axesbg\": \"#FFFFFF\", \"axesbgalpha\": null, \"zoomable\": true, \"id\": \"el229064823949040\", \"lines\": [{\"data\": \"data01\", \"xindex\": 0, \"yindex\": 1, \"coordinates\": \"data\", \"id\": \"el229064833563032\", \"color\": \"#1F77B4\", \"linewidth\": 1.5, \"dasharray\": \"none\", \"alpha\": 1, \"zorder\": 2, \"drawstyle\": \"default\"}], \"paths\": [], \"markers\": [], \"texts\": [], \"collections\": [], \"images\": [], \"sharex\": [], \"sharey\": []}], \"data\": {\"data01\": [[115.0, 162.0], [116.0, 162.0], [117.0, 162.0], [118.0, 162.0], [119.0, 163.0], [120.0, 164.0], [121.0, 164.0], [122.0, 164.0], [123.0, 164.0], [124.0, 165.0], [125.0, 165.0], [126.0, 165.0], [127.0, 165.0], [128.0, 167.0], [129.0, 167.0], [130.0, 167.0], [131.0, 167.0], [132.0, 167.0], [133.0, 167.0], [134.0, 167.0], [135.0, 166.0], [136.0, 164.0]]}, \"id\": \"el229064833959496\", \"plugins\": [{\"type\": \"reset\"}, {\"type\": \"zoom\", \"button\": true, \"enabled\": false}, {\"type\": \"boxzoom\", \"button\": true, \"enabled\": false}]});\n",
       "            })\n",
       "         });\n",
       "}\n",
       "</script>"
      ],
      "text/plain": [
       "<IPython.core.display.HTML object>"
      ]
     },
     "execution_count": 29,
     "metadata": {},
     "output_type": "execute_result"
    }
   ],
   "source": [
    "base_bids = np.arange(115,137,1)#区间可以适当左右调整一下，但大概就是这个范围\n",
    "Clks = [calculate_click(base_bid,Train_df_qr,payprice,test_predictions) for base_bid in base_bids]\n",
    "fig = plt.figure()\n",
    "print(max(Clks))\n",
    "plt.plot(base_bids,Clks)\n",
    "mpld3.display(fig)"
   ]
  },
  {
   "cell_type": "code",
   "execution_count": null,
   "metadata": {
    "collapsed": true
   },
   "outputs": [],
   "source": []
  },
  {
   "cell_type": "markdown",
   "metadata": {},
   "source": [
    "## Test + Submission"
   ]
  },
  {
   "cell_type": "code",
   "execution_count": 30,
   "metadata": {},
   "outputs": [],
   "source": [
    "Test_df = pd.read_csv('mytestset.csv')\n",
    "Group=  pd.read_csv('we_data/Group_xx.csv')"
   ]
  },
  {
   "cell_type": "code",
   "execution_count": 31,
   "metadata": {},
   "outputs": [],
   "source": [
    "Test_df = Test_df[['slotwidth', 'slotheight', 'slotprice', 'android', 'ios',\n",
    "       'linux', 'mac', 'other', 'windows', 'chrome', 'firefox', 'ie',\n",
    "       'maxthon', 'opera', 'other.1', 'safari', 'sogou', 'theworld',\n",
    "       '10006', '10024', '10031', '10048', '10052', '10057', '10059',\n",
    "       '10063', '10067', '10074', '10075', '10076', '10077', '10079',\n",
    "       '10083', '10093', '10102', '10110', '10111', '10114', '10115',\n",
    "       '10116', '10117', '10118', '10120', '10123', '10125', '10126',\n",
    "       '10127', '10129', '10130', '10131', '10133', '10138', '10140',\n",
    "       '10142', '10145', '10146', '10147', '10148', '10149', '10684',\n",
    "       '11092', '11278', '11379', '11423', '11512', '11576', '11632',\n",
    "       '11680', '11724', '11944', '13042', '13403', '13496', '13678',\n",
    "       '13776', '13800', '13866', '13874', '14273', '15398', '16593',\n",
    "       '16617', '16661', '16706', '16751', '16753', 'hour_sin', 'hour_cos',\n",
    "       'city_per', 'region_per', 'weekday_0', 'weekday_1', 'weekday_2',\n",
    "       'weekday_3', 'weekday_4', 'weekday_5', 'weekday_6',\n",
    "       'adexchange_1.0', 'adexchange_2.0', 'adexchange_3.0',\n",
    "       'adexchange_4.0', 'adexchange_nan', 'slotvisibility_0',\n",
    "       'slotvisibility_1', 'slotvisibility_2', 'slotvisibility_255',\n",
    "       'slotvisibility_FifthView', 'slotvisibility_FirstView',\n",
    "       'slotvisibility_FourthView', 'slotvisibility_Na',\n",
    "       'slotvisibility_OtherView', 'slotvisibility_SecondView',\n",
    "       'slotvisibility_ThirdView', 'slotformat_0', 'slotformat_1',\n",
    "       'slotformat_5', 'slotformat_Na', 'advertiser_1458',\n",
    "       'advertiser_2259', 'advertiser_2261', 'advertiser_2821',\n",
    "       'advertiser_2997', 'advertiser_3358', 'advertiser_3386',\n",
    "       'advertiser_3427', 'advertiser_3476']]"
   ]
  },
  {
   "cell_type": "code",
   "execution_count": 32,
   "metadata": {},
   "outputs": [
    {
     "name": "stderr",
     "output_type": "stream",
     "text": [
      "/Users/liuboyang/tutorial/lib/python3.6/site-packages/sklearn/preprocessing/label.py:151: DeprecationWarning: The truth value of an empty array is ambiguous. Returning False, but in future this will result in an error. Use `array.size > 0` to check that an array is not empty.\n",
      "  if diff:\n"
     ]
    }
   ],
   "source": [
    "test_x = Test_df\n",
    "test_predictions = model.predict_proba(test_x)\n",
    "test_predictions_class = model.predict(test_x)"
   ]
  },
  {
   "cell_type": "code",
   "execution_count": 33,
   "metadata": {},
   "outputs": [
    {
     "data": {
      "text/html": [
       "<div>\n",
       "<style scoped>\n",
       "    .dataframe tbody tr th:only-of-type {\n",
       "        vertical-align: middle;\n",
       "    }\n",
       "\n",
       "    .dataframe tbody tr th {\n",
       "        vertical-align: top;\n",
       "    }\n",
       "\n",
       "    .dataframe thead th {\n",
       "        text-align: right;\n",
       "    }\n",
       "</style>\n",
       "<table border=\"1\" class=\"dataframe\">\n",
       "  <thead>\n",
       "    <tr style=\"text-align: right;\">\n",
       "      <th></th>\n",
       "      <th>bidprice</th>\n",
       "      <th>click_pred_per</th>\n",
       "      <th>click_pred_class</th>\n",
       "    </tr>\n",
       "  </thead>\n",
       "  <tbody>\n",
       "    <tr>\n",
       "      <th>0</th>\n",
       "      <td>NaN</td>\n",
       "      <td>0.052554</td>\n",
       "      <td>0</td>\n",
       "    </tr>\n",
       "    <tr>\n",
       "      <th>1</th>\n",
       "      <td>NaN</td>\n",
       "      <td>0.070916</td>\n",
       "      <td>0</td>\n",
       "    </tr>\n",
       "    <tr>\n",
       "      <th>2</th>\n",
       "      <td>NaN</td>\n",
       "      <td>0.003774</td>\n",
       "      <td>0</td>\n",
       "    </tr>\n",
       "    <tr>\n",
       "      <th>3</th>\n",
       "      <td>NaN</td>\n",
       "      <td>0.023514</td>\n",
       "      <td>0</td>\n",
       "    </tr>\n",
       "    <tr>\n",
       "      <th>4</th>\n",
       "      <td>NaN</td>\n",
       "      <td>0.023542</td>\n",
       "      <td>0</td>\n",
       "    </tr>\n",
       "  </tbody>\n",
       "</table>\n",
       "</div>"
      ],
      "text/plain": [
       "  bidprice  click_pred_per  click_pred_class\n",
       "0      NaN        0.052554                 0\n",
       "1      NaN        0.070916                 0\n",
       "2      NaN        0.003774                 0\n",
       "3      NaN        0.023514                 0\n",
       "4      NaN        0.023542                 0"
      ]
     },
     "execution_count": 33,
     "metadata": {},
     "output_type": "execute_result"
    }
   ],
   "source": [
    "test_result = pd.DataFrame(columns=['bidprice', 'click_pred_per', 'click_pred_class'])  \n",
    "test_result['click_pred_per'] = test_predictions[:,1]\n",
    "test_result['click_pred_class'] = test_predictions_class\n",
    "test_result.head()"
   ]
  },
  {
   "cell_type": "code",
   "execution_count": 34,
   "metadata": {},
   "outputs": [
    {
     "data": {
      "text/html": [
       "<div>\n",
       "<style scoped>\n",
       "    .dataframe tbody tr th:only-of-type {\n",
       "        vertical-align: middle;\n",
       "    }\n",
       "\n",
       "    .dataframe tbody tr th {\n",
       "        vertical-align: top;\n",
       "    }\n",
       "\n",
       "    .dataframe thead th {\n",
       "        text-align: right;\n",
       "    }\n",
       "</style>\n",
       "<table border=\"1\" class=\"dataframe\">\n",
       "  <thead>\n",
       "    <tr style=\"text-align: right;\">\n",
       "      <th></th>\n",
       "      <th>bidprice</th>\n",
       "      <th>click_pred_per</th>\n",
       "      <th>click_pred_class</th>\n",
       "    </tr>\n",
       "  </thead>\n",
       "  <tbody>\n",
       "    <tr>\n",
       "      <th>0</th>\n",
       "      <td>NaN</td>\n",
       "      <td>0.001385</td>\n",
       "      <td>0</td>\n",
       "    </tr>\n",
       "    <tr>\n",
       "      <th>1</th>\n",
       "      <td>NaN</td>\n",
       "      <td>0.001905</td>\n",
       "      <td>0</td>\n",
       "    </tr>\n",
       "    <tr>\n",
       "      <th>2</th>\n",
       "      <td>NaN</td>\n",
       "      <td>0.000095</td>\n",
       "      <td>0</td>\n",
       "    </tr>\n",
       "    <tr>\n",
       "      <th>3</th>\n",
       "      <td>NaN</td>\n",
       "      <td>0.000602</td>\n",
       "      <td>0</td>\n",
       "    </tr>\n",
       "    <tr>\n",
       "      <th>4</th>\n",
       "      <td>NaN</td>\n",
       "      <td>0.000602</td>\n",
       "      <td>0</td>\n",
       "    </tr>\n",
       "  </tbody>\n",
       "</table>\n",
       "</div>"
      ],
      "text/plain": [
       "  bidprice  click_pred_per  click_pred_class\n",
       "0      NaN        0.001385                 0\n",
       "1      NaN        0.001905                 0\n",
       "2      NaN        0.000095                 0\n",
       "3      NaN        0.000602                 0\n",
       "4      NaN        0.000602                 0"
      ]
     },
     "execution_count": 34,
     "metadata": {},
     "output_type": "execute_result"
    }
   ],
   "source": [
    "test_result['click_pred_per']=recalibrate(test_result['click_pred_per'],Samp_per)\n",
    "test_result.head()"
   ]
  },
  {
   "cell_type": "code",
   "execution_count": 35,
   "metadata": {},
   "outputs": [
    {
     "data": {
      "text/html": [
       "<div>\n",
       "<style scoped>\n",
       "    .dataframe tbody tr th:only-of-type {\n",
       "        vertical-align: middle;\n",
       "    }\n",
       "\n",
       "    .dataframe tbody tr th {\n",
       "        vertical-align: top;\n",
       "    }\n",
       "\n",
       "    .dataframe thead th {\n",
       "        text-align: right;\n",
       "    }\n",
       "</style>\n",
       "<table border=\"1\" class=\"dataframe\">\n",
       "  <thead>\n",
       "    <tr style=\"text-align: right;\">\n",
       "      <th></th>\n",
       "      <th>bidprice</th>\n",
       "      <th>click_pred_per</th>\n",
       "      <th>click_pred_class</th>\n",
       "    </tr>\n",
       "  </thead>\n",
       "  <tbody>\n",
       "    <tr>\n",
       "      <th>0</th>\n",
       "      <td>244.080088</td>\n",
       "      <td>0.001385</td>\n",
       "      <td>0</td>\n",
       "    </tr>\n",
       "    <tr>\n",
       "      <th>1</th>\n",
       "      <td>335.697919</td>\n",
       "      <td>0.001905</td>\n",
       "      <td>0</td>\n",
       "    </tr>\n",
       "    <tr>\n",
       "      <th>2</th>\n",
       "      <td>16.689485</td>\n",
       "      <td>0.000095</td>\n",
       "      <td>0</td>\n",
       "    </tr>\n",
       "    <tr>\n",
       "      <th>3</th>\n",
       "      <td>106.045246</td>\n",
       "      <td>0.000602</td>\n",
       "      <td>0</td>\n",
       "    </tr>\n",
       "    <tr>\n",
       "      <th>4</th>\n",
       "      <td>106.171178</td>\n",
       "      <td>0.000602</td>\n",
       "      <td>0</td>\n",
       "    </tr>\n",
       "  </tbody>\n",
       "</table>\n",
       "</div>"
      ],
      "text/plain": [
       "     bidprice  click_pred_per  click_pred_class\n",
       "0  244.080088        0.001385                 0\n",
       "1  335.697919        0.001905                 0\n",
       "2   16.689485        0.000095                 0\n",
       "3  106.045246        0.000602                 0\n",
       "4  106.171178        0.000602                 0"
      ]
     },
     "execution_count": 35,
     "metadata": {},
     "output_type": "execute_result"
    }
   ],
   "source": [
    "base_bid=130\n",
    "#这个变成你测出来最高clk的basebid！！！！！！！\n",
    "avgCTR = 1793/2430981#train set\n",
    "test_result['bidprice'] = base_bid*test_result['click_pred_per']/avgCTR\n",
    "test_result.head()"
   ]
  },
  {
   "cell_type": "code",
   "execution_count": 36,
   "metadata": {},
   "outputs": [
    {
     "data": {
      "text/html": [
       "<div>\n",
       "<style scoped>\n",
       "    .dataframe tbody tr th:only-of-type {\n",
       "        vertical-align: middle;\n",
       "    }\n",
       "\n",
       "    .dataframe tbody tr th {\n",
       "        vertical-align: top;\n",
       "    }\n",
       "\n",
       "    .dataframe thead th {\n",
       "        text-align: right;\n",
       "    }\n",
       "</style>\n",
       "<table border=\"1\" class=\"dataframe\">\n",
       "  <thead>\n",
       "    <tr style=\"text-align: right;\">\n",
       "      <th></th>\n",
       "      <th>bidid</th>\n",
       "      <th>bidprice</th>\n",
       "    </tr>\n",
       "  </thead>\n",
       "  <tbody>\n",
       "    <tr>\n",
       "      <th>0</th>\n",
       "      <td>366c563de7d90feb9d4dab53e795a93fb3157387</td>\n",
       "      <td>244.080088</td>\n",
       "    </tr>\n",
       "    <tr>\n",
       "      <th>1</th>\n",
       "      <td>29167d4caa719788b5a342dbaa25151d53121f80</td>\n",
       "      <td>335.697919</td>\n",
       "    </tr>\n",
       "    <tr>\n",
       "      <th>2</th>\n",
       "      <td>ff8bc3f4d44a3ea60c5f3a3a8fbe7cd98fb2966e</td>\n",
       "      <td>16.689485</td>\n",
       "    </tr>\n",
       "    <tr>\n",
       "      <th>3</th>\n",
       "      <td>844c2da00d45315f20b748ec131c26ee99a7cbc7</td>\n",
       "      <td>106.045246</td>\n",
       "    </tr>\n",
       "    <tr>\n",
       "      <th>4</th>\n",
       "      <td>c6017f0ad0c44d7d0c9b62583ea863f28941c0ca</td>\n",
       "      <td>106.171178</td>\n",
       "    </tr>\n",
       "  </tbody>\n",
       "</table>\n",
       "</div>"
      ],
      "text/plain": [
       "                                      bidid    bidprice\n",
       "0  366c563de7d90feb9d4dab53e795a93fb3157387  244.080088\n",
       "1  29167d4caa719788b5a342dbaa25151d53121f80  335.697919\n",
       "2  ff8bc3f4d44a3ea60c5f3a3a8fbe7cd98fb2966e   16.689485\n",
       "3  844c2da00d45315f20b748ec131c26ee99a7cbc7  106.045246\n",
       "4  c6017f0ad0c44d7d0c9b62583ea863f28941c0ca  106.171178"
      ]
     },
     "execution_count": 36,
     "metadata": {},
     "output_type": "execute_result"
    }
   ],
   "source": [
    "Group['bidprice']=test_result['bidprice']\n",
    "Group.head()"
   ]
  },
  {
   "cell_type": "code",
   "execution_count": 37,
   "metadata": {},
   "outputs": [],
   "source": [
    "Group.to_csv('Group_6.csv', encoding='utf-8', index=False)"
   ]
  },
  {
   "cell_type": "code",
   "execution_count": 40,
   "metadata": {},
   "outputs": [],
   "source": [
    "test_result.to_csv('pctr_lgbm_test.csv', encoding='utf-8', index=False)"
   ]
  },
  {
   "cell_type": "code",
   "execution_count": null,
   "metadata": {},
   "outputs": [],
   "source": []
  }
 ],
 "metadata": {
  "kernelspec": {
   "display_name": "Python 3",
   "language": "python",
   "name": "python3"
  },
  "language_info": {
   "codemirror_mode": {
    "name": "ipython",
    "version": 3
   },
   "file_extension": ".py",
   "mimetype": "text/x-python",
   "name": "python",
   "nbconvert_exporter": "python",
   "pygments_lexer": "ipython3",
   "version": "3.6.3"
  }
 },
 "nbformat": 4,
 "nbformat_minor": 2
}
