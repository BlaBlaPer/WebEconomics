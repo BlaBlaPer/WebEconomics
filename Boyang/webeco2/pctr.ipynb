{
 "cells": [
  {
   "cell_type": "code",
   "execution_count": 1,
   "metadata": {},
   "outputs": [],
   "source": [
    "import numpy as np\n",
    "import xgboost\n",
    "import pandas as pd\n",
    "import re\n",
    "import csv\n",
    "\n",
    "from collections import defaultdict\n",
    "from sklearn.feature_extraction import DictVectorizer\n",
    "from sklearn.preprocessing import LabelEncoder\n",
    "from sklearn.linear_model import LogisticRegression, SGDClassifier\n",
    "from sklearn.ensemble import GradientBoostingClassifier, AdaBoostClassifier"
   ]
  },
  {
   "cell_type": "code",
   "execution_count": 2,
   "metadata": {},
   "outputs": [],
   "source": [
    "df = pd.read_csv(\"./validation.csv\")\n",
    "#df_valid = pd.read_csv(\"~/webecon/dataset/validation.csv\")\n",
    "#df_test = pd.read_csv(\"~/webecon/dataset/test.csv\")"
   ]
  },
  {
   "cell_type": "code",
   "execution_count": 3,
   "metadata": {},
   "outputs": [],
   "source": [
    "df_valid = pd.read_csv(\"./validation.csv\")\n",
    "df_test = pd.read_csv(\"./test.csv\")"
   ]
  },
  {
   "cell_type": "code",
   "execution_count": 4,
   "metadata": {},
   "outputs": [],
   "source": [
    "train_split = np.array_split(df, 1)\n",
    "train = train_split[0]\n",
    "train_y = train['click']"
   ]
  },
  {
   "cell_type": "code",
   "execution_count": 5,
   "metadata": {},
   "outputs": [],
   "source": [
    "cols = ['click', 'weekday', 'hour', 'bidid', #'logtype', \n",
    "        'userid', 'useragent',\n",
    "       'IP', 'region', 'city', 'adexchange', 'domain', 'url', 'urlid',\n",
    "       'slotid', 'slotwidth', 'slotheight', 'slotvisibility', 'slotformat',\n",
    "       'slotprice', 'creative', 'payprice', 'keypage',\n",
    "       'advertiser', 'usertag', 'bidprice']\n",
    "\n",
    "train_x = train[cols]"
   ]
  },
  {
   "cell_type": "code",
   "execution_count": 6,
   "metadata": {},
   "outputs": [],
   "source": [
    "label_encoder = LabelEncoder()\n",
    "vectorizer = DictVectorizer()"
   ]
  },
  {
   "cell_type": "code",
   "execution_count": 7,
   "metadata": {},
   "outputs": [],
   "source": [
    "def get_browser(useragent):\n",
    "    useragent_data = re.split('_',useragent)\n",
    "    return useragent_data[1]"
   ]
  },
  {
   "cell_type": "code",
   "execution_count": 8,
   "metadata": {},
   "outputs": [],
   "source": [
    "def get_os(useragent):\n",
    "    useragent_data = re.split('_',useragent)\n",
    "    return useragent_data[0]"
   ]
  },
  {
   "cell_type": "code",
   "execution_count": 9,
   "metadata": {},
   "outputs": [],
   "source": [
    "def bid_request_features(bid,have_click):\n",
    "    result = defaultdict(float)\n",
    "    result['weekday=' + str(bid['weekday'].item())] += 1.0\n",
    "    result['hour=' + str(bid['hour'].item())] += 1.0\n",
    "    result['userid=' + bid['userid']] += 1.0\n",
    "    result['broswer=' + get_browser(bid['useragent'])] += 1.0\n",
    "    result['os=' + get_os(bid['useragent'])] += 1.0\n",
    "    result['IP=' + bid['IP']] += 1.0\n",
    "    result['region=' + str(bid['region'].item())] += 1.0\n",
    "    result['city=' + str(bid['city'].item())] += 1.0\n",
    "    result['adexchange=' + str(bid['adexchange'])] += 1.0\n",
    "    result['domain=' + str(bid['domain'])] += 1.0\n",
    "    result['url=' + str(bid['url'])] += 1.0\n",
    "    result['slotid=' + bid['slotid']] += 1.0\n",
    "    result['slotwidth=' + str(bid['slotwidth'].item())] += 1.0\n",
    "    result['slotheight=' + str(bid['slotheight'].item())] += 1.0\n",
    "    result['slotvisibility=' + bid['slotvisibility']] += 1.0\n",
    "    result['slotformat=' + bid['slotformat']] += 1.0\n",
    "    result['slotprice=' + str(bid['slotprice'].item())] += 1.0\n",
    "    result['creative=' + bid['creative']] += 1.0\n",
    "    result['keypage=' + str(bid['keypage'])] += 1.0 \n",
    "    result['advertiser=' + str(bid['advertiser'].item())] += 1.0\n",
    "\n",
    "   # usertag_data = re.split(',',bid['usertag'])\n",
    "#     for tag in usertag_data:\n",
    "#         result['usertag=' + str(tag)] += 1.0\n",
    "        \n",
    "    if have_click == 1:\n",
    "        result['click=' + str(bid['click'].item())] += 1.0\n",
    "        \n",
    "    return result"
   ]
  },
  {
   "cell_type": "code",
   "execution_count": 10,
   "metadata": {},
   "outputs": [],
   "source": [
    "train_bid_x = vectorizer.fit_transform([bid_request_features(train_x.iloc[i],0) for i in range(len(train_x))])\n",
    "train_bid_y = label_encoder.fit_transform([train_x.iloc[i]['click'] for i in range(len(train_x))]) "
   ]
  },
  {
   "cell_type": "code",
   "execution_count": 11,
   "metadata": {},
   "outputs": [],
   "source": [
    "model = GradientBoostingClassifier()\n",
    "model = model.fit(train_bid_x, train_bid_y)"
   ]
  },
  {
   "cell_type": "code",
   "execution_count": 12,
   "metadata": {},
   "outputs": [],
   "source": [
    "bid_y= []\n",
    "\n",
    "def predict_click_probab(test_bids):\n",
    "    bid_x = vectorizer.transform([bid_request_features(test_bids.iloc[i],0) for i in range(len(test_bids))])\n",
    "    bid_y.append(model.predict_proba(bid_x.toarray()))\n",
    "    return bid_y"
   ]
  },
  {
   "cell_type": "code",
   "execution_count": 13,
   "metadata": {},
   "outputs": [],
   "source": [
    "valid_cols = ['weekday', 'bidid', 'hour', 'userid', 'useragent',\n",
    "       'IP', 'region', 'city', 'adexchange', 'domain', 'url', 'urlid',\n",
    "       'slotid', 'slotwidth', 'slotheight', 'slotvisibility', 'slotformat',\n",
    "       'slotprice', 'creative', 'keypage',\n",
    "       'advertiser', 'usertag']"
   ]
  },
  {
   "cell_type": "code",
   "execution_count": 14,
   "metadata": {},
   "outputs": [],
   "source": [
    "valid_split = np.array_split(df_valid, 1)\n",
    "valid = valid_split[0]\n",
    "valid_x = valid[valid_cols]"
   ]
  },
  {
   "cell_type": "code",
   "execution_count": null,
   "metadata": {},
   "outputs": [],
   "source": [
    "click_valid_guess = predict_click_probab(valid_x)"
   ]
  },
  {
   "cell_type": "code",
   "execution_count": null,
   "metadata": {},
   "outputs": [],
   "source": [
    "valid_x['bidid'] = valid['bidid']\n",
    "valid_x['pred_click'] = click_valid_guess[0].tolist()"
   ]
  },
  {
   "cell_type": "code",
   "execution_count": null,
   "metadata": {},
   "outputs": [],
   "source": [
    "with open(\"out.csv\", \"w\") as output:\n",
    "    writer = csv.writer(output, lineterminator='\\n')\n",
    "    for i in range(0,len(valid_x)):\n",
    "        writer.writerow([valid_x['bidid'][i], valid_x['pred_click'][i][0], valid_x['pred_click'][i][1]])"
   ]
  }
 ],
 "metadata": {
  "kernelspec": {
   "display_name": "Python [default]",
   "language": "python",
   "name": "python3"
  },
  "language_info": {
   "codemirror_mode": {
    "name": "ipython",
    "version": 3
   },
   "file_extension": ".py",
   "mimetype": "text/x-python",
   "name": "python",
   "nbconvert_exporter": "python",
   "pygments_lexer": "ipython3",
   "version": "3.6.4"
  }
 },
 "nbformat": 4,
 "nbformat_minor": 2
}
