{
 "cells": [
  {
   "cell_type": "markdown",
   "metadata": {},
   "source": [
    "# Problem 3. Model Training"
   ]
  },
  {
   "cell_type": "markdown",
   "metadata": {},
   "source": [
    "## Preparation"
   ]
  },
  {
   "cell_type": "code",
   "execution_count": 1,
   "metadata": {
    "collapsed": true
   },
   "outputs": [],
   "source": [
    "import numpy as np\n",
    "import pandas as pd\n",
    "Train_df = pd.read_csv('/Users/weisihan/Downloads/we_data/train_newfeature.csv')\n",
    "Valid_df = pd.read_csv('/Users/weisihan/Downloads/we_data/valid_newfeature.csv')"
   ]
  },
  {
   "cell_type": "code",
   "execution_count": 2,
   "metadata": {
    "collapsed": true
   },
   "outputs": [],
   "source": [
    "Train_dff = pd.read_csv('/Users/weisihan/Downloads/we_data/mytrainingset.csv')"
   ]
  },
  {
   "cell_type": "code",
   "execution_count": 22,
   "metadata": {
    "collapsed": true
   },
   "outputs": [],
   "source": [
    "Test_df=pd.read_csv('/Users/weisihan/Downloads/we_data/mytestset.csv')"
   ]
  },
  {
   "cell_type": "code",
   "execution_count": 2,
   "metadata": {},
   "outputs": [
    {
     "data": {
      "text/plain": [
       "'\\nTrain_df_model = Train_df.copy()\\nTrain_df_model.head()\\n'"
      ]
     },
     "execution_count": 2,
     "metadata": {},
     "output_type": "execute_result"
    }
   ],
   "source": [
    "\"\"\"\n",
    "Train_df_model = Train_df.copy()\n",
    "Train_df_model.head()\n",
    "\"\"\""
   ]
  },
  {
   "cell_type": "markdown",
   "metadata": {},
   "source": [
    "## Feature Selection\n",
    "这个代码效果不好我就没用"
   ]
  },
  {
   "cell_type": "code",
   "execution_count": 9,
   "metadata": {
    "collapsed": true
   },
   "outputs": [],
   "source": [
    "# columns of without click\n",
    "cols=list(combined_df.columns)[1:]"
   ]
  },
  {
   "cell_type": "code",
   "execution_count": 10,
   "metadata": {
    "collapsed": true
   },
   "outputs": [],
   "source": [
    "train = combined_df\n",
    "train_y = train['click']\n",
    "train_x = train[cols]"
   ]
  },
  {
   "cell_type": "code",
   "execution_count": 13,
   "metadata": {
    "collapsed": true
   },
   "outputs": [
    {
     "name": "stdout",
     "output_type": "stream",
     "text": [
      "[False False False False False False False  True  True False False False\n",
      " False  True False False False False False False  True False False False\n",
      " False False False False False False False False False False False False\n",
      " False False False  True  True False  True False  True  True False False\n",
      " False  True False False False False False False  True False False  True\n",
      "  True  True  True  True False  True False False  True False  True False\n",
      " False  True False False False False False False  True False False False\n",
      " False  True False False False False False False False False False False\n",
      " False False False False False False False False False False False False\n",
      " False False False False False  True False False False False False False\n",
      " False False False False False False False False False False False False\n",
      " False False False False False False False False False False False False\n",
      " False False False False False False False False False False False False\n",
      " False False False False False False False False False False False False\n",
      " False False False False  True False False  True False False False False\n",
      " False False False False False False False False  True  True  True False\n",
      " False False False False False False False False False False False False\n",
      " False False False False False False False False False False False False\n",
      " False False False False False  True False False False False False False\n",
      " False False False False False False False False False False False False\n",
      " False False False False False False False False False False False False\n",
      " False False False False False False  True False False False False False\n",
      " False False False False False False False  True False  True False False\n",
      " False False False False False False False False False False False False\n",
      " False  True False False False False False False  True False False False\n",
      " False False False False False False False False False False False False\n",
      " False False False False False False False False False False False False\n",
      " False False False False False False  True False False False False False\n",
      " False False False False False False False False False False False False\n",
      " False False False False False False False False False False False False\n",
      " False False False False False False False False False False False False\n",
      " False False False False False False False False  True False False False\n",
      " False False False False False False False False False False False False\n",
      " False  True False False False False False False False False False False\n",
      " False False False False False False False False False False False  True\n",
      " False False False False False False False False False False False False\n",
      "  True False False False False False False False False False False False\n",
      " False False False False False False False False False False False False\n",
      " False False False False False False False False False False False False\n",
      " False False False False False  True False False False False False False\n",
      " False False False False False False False  True False False False False\n",
      " False False False False False  True False False False False False False\n",
      " False False False False False False False False False False False False\n",
      " False False False False False False False False False  True False False\n",
      " False False False False  True False False False False False  True  True\n",
      "  True  True False  True  True False False False False False False]\n",
      "[502 501 494 248 247 489 116   1   1 133 156 446 383   1 249 306 428 146\n",
      " 174 399   1 130 427 434 270  70 437 369 408 250 407 309 398 341 375 485\n",
      " 271 252 197   1   1 482   1  30   1   1 318 379 377   1  60 251  12  78\n",
      " 187 336   1 152 269   1   1   1   1   1  31   1  87   3   1 201   1 333\n",
      " 440   1 102 319 228 200  13 463   1 153   2 237 196   1 361 360 362 324\n",
      " 322 325 326 180 119 185 141 426 364 184 183 366 291 278 279 459 389 365\n",
      " 390 388  80 458 290   1 457 111 186 358 423 442 225 413 314  76 460 424\n",
      " 403 484 416 192 210 421 432 422 464 419 297 112 346  99 343  11 243 100\n",
      " 372 167  40 283 396 354 382 394 266 456 122 470 431 264 108 157 430 367\n",
      " 182 355 150 127 491  22 124 415 352  38   1 499 329   1 332 232  35 209\n",
      " 240  33 406 226 198 123 455 216   1   1   1  21  75 233 258  36  52 241\n",
      " 417  63  50 260 154  26 223 162 155 387  53 480 104 345 317 256  54  92\n",
      " 469 376 172   6 113   1  94 313 476  62 420 181 171 205 411 400 134 107\n",
      " 188 433  25 435 315  51  19 357 227 265 492  72 495 224 193  77 118 301\n",
      " 497 173 321  45 168 176   1 231 359 274  85  74 490 412 213  81  90 397\n",
      "  61   1 327   1 238  69  23 320 234 276 487 445 353 330 444 246 356  17\n",
      "  28   1 139 137 220 207   4 486   1 253 374 443  79 340 500 393 331 392\n",
      " 335 191 239 468 229 230 189  58 255 472  37   9 190 349 467  46 493 277\n",
      " 414   8 441 498 348 235   1 405 370  14 178 337 454 438  57 222 344 280\n",
      " 395 106  64 219 179 164 145 142 143  20 132 136 452 371  66  59 286 211\n",
      " 299 298 135 351 385 129 373 160 121 296  84 295  95 425 103 294 151 483\n",
      " 447 410   1 448 481 409 195 478 282 404 302 347 148 267  55 218 169   5\n",
      " 202   1 245  93  98  97 273 285 126 125  89  96 339 475  42 117 259 101\n",
      " 300 342 281  83 215   1 471 466 386 436 451 159 474 175  29 439  68 120\n",
      "   1 402 268  47  10  41  49  88 166  16   7 350 242 308  15 203 293 214\n",
      " 254 194 217 453 199 307  56 418 110  39 165 131  65 429 401  86 316 488\n",
      " 163 368 261 384 380   1 479 462  34 109  27 284 140 147 221 473 292 170\n",
      " 262   1  82 244 138 334  48 272 128 363  71   1 208 257 328  18 381 378\n",
      " 477 450 465 149 158 204  73 338 212 114 263  24 236 161  91 275 206 177\n",
      "  32  44 303   1 449 289  43 287 288  67   1 105 304 115 305 144   1   1\n",
      "   1   1 312   1   1 323 461 496 311 310 391]\n"
     ]
    }
   ],
   "source": [
    "from sklearn.feature_selection import RFE\n",
    "from sklearn.linear_model import LogisticRegression\n",
    "\n",
    "logreg = LogisticRegression()\n",
    "rfe = RFE(logreg, 50)\n",
    "rfe = rfe.fit(train_x, train_y )\n",
    "print(rfe.support_)\n",
    "print(rfe.ranking_)"
   ]
  },
  {
   "cell_type": "code",
   "execution_count": 84,
   "metadata": {
    "collapsed": true
   },
   "outputs": [],
   "source": [
    "filtered_cols=[]"
   ]
  },
  {
   "cell_type": "code",
   "execution_count": 78,
   "metadata": {
    "collapsed": true
   },
   "outputs": [],
   "source": [
    "for i in array_index:\n",
    "    filtered_cols.append(cols[i])"
   ]
  },
  {
   "cell_type": "code",
   "execution_count": 80,
   "metadata": {
    "collapsed": true
   },
   "outputs": [],
   "source": [
    "top_50_cols=filtered_cols\n",
    "X=train[top_50_cols]\n",
    "y=train['click']"
   ]
  },
  {
   "cell_type": "markdown",
   "metadata": {},
   "source": [
    "## Model.  Logistic Regression\n"
   ]
  },
  {
   "cell_type": "code",
   "execution_count": 10,
   "metadata": {
    "collapsed": true
   },
   "outputs": [],
   "source": [
    "cols=list(Train_df.columns)[1:]"
   ]
  },
  {
   "cell_type": "code",
   "execution_count": 11,
   "metadata": {},
   "outputs": [
    {
     "data": {
      "text/html": [
       "<div>\n",
       "<style scoped>\n",
       "    .dataframe tbody tr th:only-of-type {\n",
       "        vertical-align: middle;\n",
       "    }\n",
       "\n",
       "    .dataframe tbody tr th {\n",
       "        vertical-align: top;\n",
       "    }\n",
       "\n",
       "    .dataframe thead th {\n",
       "        text-align: right;\n",
       "    }\n",
       "</style>\n",
       "<table border=\"1\" class=\"dataframe\">\n",
       "  <thead>\n",
       "    <tr style=\"text-align: right;\">\n",
       "      <th></th>\n",
       "      <th>click</th>\n",
       "      <th>slotwidth</th>\n",
       "      <th>slotheight</th>\n",
       "      <th>slotprice</th>\n",
       "      <th>android</th>\n",
       "      <th>ios</th>\n",
       "      <th>linux</th>\n",
       "      <th>mac</th>\n",
       "      <th>other</th>\n",
       "      <th>windows</th>\n",
       "      <th>...</th>\n",
       "      <th>slotformat_Na</th>\n",
       "      <th>advertiser_1458</th>\n",
       "      <th>advertiser_2259</th>\n",
       "      <th>advertiser_2261</th>\n",
       "      <th>advertiser_2821</th>\n",
       "      <th>advertiser_2997</th>\n",
       "      <th>advertiser_3358</th>\n",
       "      <th>advertiser_3386</th>\n",
       "      <th>advertiser_3427</th>\n",
       "      <th>advertiser_3476</th>\n",
       "    </tr>\n",
       "  </thead>\n",
       "  <tbody>\n",
       "    <tr>\n",
       "      <th>0</th>\n",
       "      <td>0</td>\n",
       "      <td>200</td>\n",
       "      <td>200</td>\n",
       "      <td>5</td>\n",
       "      <td>0</td>\n",
       "      <td>0</td>\n",
       "      <td>0</td>\n",
       "      <td>0</td>\n",
       "      <td>0</td>\n",
       "      <td>1</td>\n",
       "      <td>...</td>\n",
       "      <td>0</td>\n",
       "      <td>0</td>\n",
       "      <td>0</td>\n",
       "      <td>0</td>\n",
       "      <td>0</td>\n",
       "      <td>0</td>\n",
       "      <td>0</td>\n",
       "      <td>0</td>\n",
       "      <td>1</td>\n",
       "      <td>0</td>\n",
       "    </tr>\n",
       "    <tr>\n",
       "      <th>1</th>\n",
       "      <td>0</td>\n",
       "      <td>300</td>\n",
       "      <td>250</td>\n",
       "      <td>0</td>\n",
       "      <td>0</td>\n",
       "      <td>0</td>\n",
       "      <td>0</td>\n",
       "      <td>0</td>\n",
       "      <td>0</td>\n",
       "      <td>1</td>\n",
       "      <td>...</td>\n",
       "      <td>1</td>\n",
       "      <td>0</td>\n",
       "      <td>0</td>\n",
       "      <td>0</td>\n",
       "      <td>1</td>\n",
       "      <td>0</td>\n",
       "      <td>0</td>\n",
       "      <td>0</td>\n",
       "      <td>0</td>\n",
       "      <td>0</td>\n",
       "    </tr>\n",
       "    <tr>\n",
       "      <th>2</th>\n",
       "      <td>0</td>\n",
       "      <td>250</td>\n",
       "      <td>250</td>\n",
       "      <td>5</td>\n",
       "      <td>0</td>\n",
       "      <td>0</td>\n",
       "      <td>0</td>\n",
       "      <td>0</td>\n",
       "      <td>0</td>\n",
       "      <td>1</td>\n",
       "      <td>...</td>\n",
       "      <td>0</td>\n",
       "      <td>0</td>\n",
       "      <td>0</td>\n",
       "      <td>0</td>\n",
       "      <td>0</td>\n",
       "      <td>0</td>\n",
       "      <td>0</td>\n",
       "      <td>0</td>\n",
       "      <td>1</td>\n",
       "      <td>0</td>\n",
       "    </tr>\n",
       "    <tr>\n",
       "      <th>3</th>\n",
       "      <td>0</td>\n",
       "      <td>160</td>\n",
       "      <td>600</td>\n",
       "      <td>0</td>\n",
       "      <td>0</td>\n",
       "      <td>0</td>\n",
       "      <td>0</td>\n",
       "      <td>0</td>\n",
       "      <td>0</td>\n",
       "      <td>1</td>\n",
       "      <td>...</td>\n",
       "      <td>0</td>\n",
       "      <td>1</td>\n",
       "      <td>0</td>\n",
       "      <td>0</td>\n",
       "      <td>0</td>\n",
       "      <td>0</td>\n",
       "      <td>0</td>\n",
       "      <td>0</td>\n",
       "      <td>0</td>\n",
       "      <td>0</td>\n",
       "    </tr>\n",
       "    <tr>\n",
       "      <th>4</th>\n",
       "      <td>0</td>\n",
       "      <td>728</td>\n",
       "      <td>90</td>\n",
       "      <td>133</td>\n",
       "      <td>0</td>\n",
       "      <td>0</td>\n",
       "      <td>0</td>\n",
       "      <td>0</td>\n",
       "      <td>0</td>\n",
       "      <td>1</td>\n",
       "      <td>...</td>\n",
       "      <td>1</td>\n",
       "      <td>0</td>\n",
       "      <td>1</td>\n",
       "      <td>0</td>\n",
       "      <td>0</td>\n",
       "      <td>0</td>\n",
       "      <td>0</td>\n",
       "      <td>0</td>\n",
       "      <td>0</td>\n",
       "      <td>0</td>\n",
       "    </tr>\n",
       "  </tbody>\n",
       "</table>\n",
       "<p>5 rows × 127 columns</p>\n",
       "</div>"
      ],
      "text/plain": [
       "   click  slotwidth  slotheight  slotprice  android  ios  linux  mac  other  \\\n",
       "0      0        200         200          5        0    0      0    0      0   \n",
       "1      0        300         250          0        0    0      0    0      0   \n",
       "2      0        250         250          5        0    0      0    0      0   \n",
       "3      0        160         600          0        0    0      0    0      0   \n",
       "4      0        728          90        133        0    0      0    0      0   \n",
       "\n",
       "   windows       ...         slotformat_Na  advertiser_1458  advertiser_2259  \\\n",
       "0        1       ...                     0                0                0   \n",
       "1        1       ...                     1                0                0   \n",
       "2        1       ...                     0                0                0   \n",
       "3        1       ...                     0                1                0   \n",
       "4        1       ...                     1                0                1   \n",
       "\n",
       "   advertiser_2261  advertiser_2821  advertiser_2997  advertiser_3358  \\\n",
       "0                0                0                0                0   \n",
       "1                0                1                0                0   \n",
       "2                0                0                0                0   \n",
       "3                0                0                0                0   \n",
       "4                0                0                0                0   \n",
       "\n",
       "   advertiser_3386  advertiser_3427  advertiser_3476  \n",
       "0                0                1                0  \n",
       "1                0                0                0  \n",
       "2                0                1                0  \n",
       "3                0                0                0  \n",
       "4                0                0                0  \n",
       "\n",
       "[5 rows x 127 columns]"
      ]
     },
     "execution_count": 11,
     "metadata": {},
     "output_type": "execute_result"
    }
   ],
   "source": [
    "Train_df.head()"
   ]
  },
  {
   "cell_type": "code",
   "execution_count": 12,
   "metadata": {
    "collapsed": true
   },
   "outputs": [],
   "source": [
    "l_train_y = Train_df['click']\n",
    "l_train_x = Train_df[cols]"
   ]
  },
  {
   "cell_type": "code",
   "execution_count": 13,
   "metadata": {},
   "outputs": [
    {
     "data": {
      "text/plain": [
       "LogisticRegression(C=1.0, class_weight=None, dual=False, fit_intercept=True,\n",
       "          intercept_scaling=1, max_iter=100, multi_class='ovr', n_jobs=1,\n",
       "          penalty='l2', random_state=None, solver='liblinear', tol=0.0001,\n",
       "          verbose=0, warm_start=False)"
      ]
     },
     "execution_count": 13,
     "metadata": {},
     "output_type": "execute_result"
    }
   ],
   "source": [
    "from sklearn.linear_model import LogisticRegression\n",
    "logreg = LogisticRegression()\n",
    "logreg.fit(l_train_x, l_train_y)"
   ]
  },
  {
   "cell_type": "code",
   "execution_count": 15,
   "metadata": {},
   "outputs": [
    {
     "data": {
      "text/plain": [
       "['Complicate_Logistic_model.sav']"
      ]
     },
     "execution_count": 15,
     "metadata": {},
     "output_type": "execute_result"
    }
   ],
   "source": [
    "\"\"\"from sklearn.externals import joblib\n",
    "\n",
    "filename = 'Complicate_Logistic_model.sav'\n",
    "joblib.dump(logreg, filename)\"\"\""
   ]
  },
  {
   "cell_type": "code",
   "execution_count": 16,
   "metadata": {
    "collapsed": true
   },
   "outputs": [],
   "source": [
    "#test the default model\n",
    "test_x = Valid_df[cols]\n",
    "test_predictions = logreg.predict_proba(test_x)[:, 1]\n",
    "test_predictions_class = logreg.predict(test_x)"
   ]
  },
  {
   "cell_type": "code",
   "execution_count": 17,
   "metadata": {},
   "outputs": [
    {
     "data": {
      "text/plain": [
       "array([  7.58434665e-04,   3.09625705e-04,   1.06439157e-04, ...,\n",
       "         5.30759484e-04,   4.56972592e-05,   3.14535261e-04])"
      ]
     },
     "execution_count": 17,
     "metadata": {},
     "output_type": "execute_result"
    }
   ],
   "source": [
    "test_predictions"
   ]
  },
  {
   "cell_type": "code",
   "execution_count": 18,
   "metadata": {},
   "outputs": [
    {
     "data": {
      "text/html": [
       "<div>\n",
       "<style scoped>\n",
       "    .dataframe tbody tr th:only-of-type {\n",
       "        vertical-align: middle;\n",
       "    }\n",
       "\n",
       "    .dataframe tbody tr th {\n",
       "        vertical-align: top;\n",
       "    }\n",
       "\n",
       "    .dataframe thead th {\n",
       "        text-align: right;\n",
       "    }\n",
       "</style>\n",
       "<table border=\"1\" class=\"dataframe\">\n",
       "  <thead>\n",
       "    <tr style=\"text-align: right;\">\n",
       "      <th></th>\n",
       "      <th>click</th>\n",
       "      <th>click_pred_per</th>\n",
       "      <th>click_pred_class</th>\n",
       "    </tr>\n",
       "  </thead>\n",
       "  <tbody>\n",
       "    <tr>\n",
       "      <th>0</th>\n",
       "      <td>0</td>\n",
       "      <td>0.000758</td>\n",
       "      <td>0</td>\n",
       "    </tr>\n",
       "    <tr>\n",
       "      <th>1</th>\n",
       "      <td>0</td>\n",
       "      <td>0.000310</td>\n",
       "      <td>0</td>\n",
       "    </tr>\n",
       "    <tr>\n",
       "      <th>2</th>\n",
       "      <td>0</td>\n",
       "      <td>0.000106</td>\n",
       "      <td>0</td>\n",
       "    </tr>\n",
       "    <tr>\n",
       "      <th>3</th>\n",
       "      <td>0</td>\n",
       "      <td>0.000157</td>\n",
       "      <td>0</td>\n",
       "    </tr>\n",
       "    <tr>\n",
       "      <th>4</th>\n",
       "      <td>0</td>\n",
       "      <td>0.000429</td>\n",
       "      <td>0</td>\n",
       "    </tr>\n",
       "  </tbody>\n",
       "</table>\n",
       "</div>"
      ],
      "text/plain": [
       "   click  click_pred_per  click_pred_class\n",
       "0      0        0.000758                 0\n",
       "1      0        0.000310                 0\n",
       "2      0        0.000106                 0\n",
       "3      0        0.000157                 0\n",
       "4      0        0.000429                 0"
      ]
     },
     "execution_count": 18,
     "metadata": {},
     "output_type": "execute_result"
    }
   ],
   "source": [
    "test_result = pd.DataFrame(columns=['click', 'click_pred_per', 'click_pred_class'])  \n",
    "test_result['click']= Valid_df['click'].copy()\n",
    "test_result['click_pred_per'] = test_predictions\n",
    "test_result['click_pred_class'] = test_predictions_class\n",
    "test_result.head()"
   ]
  },
  {
   "cell_type": "code",
   "execution_count": 19,
   "metadata": {},
   "outputs": [
    {
     "data": {
      "text/plain": [
       "array([  7.58434665e-04,   3.09625705e-04,   1.06439157e-04, ...,\n",
       "         5.30759484e-04,   4.56972592e-05,   3.14535261e-04])"
      ]
     },
     "execution_count": 19,
     "metadata": {},
     "output_type": "execute_result"
    }
   ],
   "source": [
    "y_pred_prob = logreg.predict_proba(test_x)[:, 1]\n",
    "y_pred_prob"
   ]
  },
  {
   "cell_type": "code",
   "execution_count": 20,
   "metadata": {},
   "outputs": [
    {
     "name": "stdout",
     "output_type": "stream",
     "text": [
      "[[303719      4]\n",
      " [   201      1]]\n",
      "TP: 1\n",
      "TN: 303719\n",
      "FP: 4\n",
      "FN: 201\n",
      "Accuracy: 99.932549%\n",
      "Recall: 0.495050%\n",
      "Specificity: 99.998683%\n",
      "False Positive Rate: 0.001317%\n",
      "Precision: 20.000000%\n",
      "F1 score: 0.966184%\n"
     ]
    }
   ],
   "source": [
    "from sklearn.metrics import accuracy_score\n",
    "from sklearn.metrics import precision_score\n",
    "from sklearn.metrics import recall_score\n",
    "from sklearn.metrics import f1_score\n",
    "from sklearn.metrics import confusion_matrix\n",
    "\n",
    "\n",
    "y_test = test_result['click']\n",
    "y_pred_class = test_result['click_pred_class']\n",
    "\n",
    "print(confusion_matrix(y_test, y_pred_class))\n",
    "\n",
    "confusion = confusion_matrix(y_test, y_pred_class)\n",
    "TP = confusion[1, 1]\n",
    "TN = confusion[0, 0]\n",
    "FP = confusion[0, 1]\n",
    "FN = confusion[1, 0]\n",
    "print (\"TP:\", TP)\n",
    "print (\"TN:\", TN)\n",
    "print (\"FP:\", FP)\n",
    "print (\"FN:\", FN)\n",
    "\n",
    "#准确率、识别率（Classification Accuracy）：分类器正确分类的比例\n",
    "#print ((TP+TN) / float(TP+TN+FN+FP))\n",
    "print (\"Accuracy: %.6f%%\" % (accuracy_score(y_test, y_pred_class)* 100.0) )\n",
    "\n",
    "#灵敏性（Sensitivity），也称为真正例识别率、召回率（Recall）：正确识别的正例数据在实际正例数据中的百分比\n",
    "#print (TP / float(TP+FN))\n",
    "#recall = metrics.recall_score(y_test, y_pred_class)\n",
    "print (\"Recall: %.6f%%\" % (recall_score(y_test, y_pred_class)* 100.0))\n",
    "\n",
    "#特效性（Specificity），也称为真负例率：正确识别的负例数据在实际负例数据中的百分比\n",
    "print (\"Specificity: %.6f%%\" % (TN / float(TN+FP)* 100.0))\n",
    "\n",
    "#假阳率（False Positive Rate）：实际值是负例数据，预测错误的百分比\n",
    "#print (FP / float(TN+FP))\n",
    "specificity = TN / float(TN+FP)\n",
    "print (\"False Positive Rate: %.6f%%\" %((1 - specificity)*100.0))\n",
    "\n",
    "#精度（Precision）：看做精确性的度量，即标记为正类的数据实际为正例的百分比\n",
    "#print (TP / float(TP+FP))\n",
    "precision = precision_score(y_test, y_pred_class)\n",
    "print (\"Precision: %.6f%%\" %(precision*100.0))\n",
    "\n",
    "#F1（平衡F分数）：精确率和召回率的调和平均数\n",
    "#print (TP / float(TP+FP))\n",
    "f1 = f1_score(y_test, y_pred_class)\n",
    "print (\"F1 score: %.6f%%\" %(f1*100.0))\n"
   ]
  },
  {
   "cell_type": "code",
   "execution_count": 17,
   "metadata": {},
   "outputs": [
    {
     "name": "stdout",
     "output_type": "stream",
     "text": [
      "Recall: 0.495050%\n"
     ]
    }
   ],
   "source": [
    "\"\"\"#Recall is \n",
    "print (\"Recall: %.6f%%\" % (1/202* 100.0))\"\"\""
   ]
  },
  {
   "cell_type": "code",
   "execution_count": 18,
   "metadata": {},
   "outputs": [
    {
     "name": "stdout",
     "output_type": "stream",
     "text": [
      "Recall: 6.930693%\n"
     ]
    }
   ],
   "source": [
    "#Recall is \n",
    "print (\"Recall: %.6f%%\" % (14/202* 100.0))"
   ]
  },
  {
   "cell_type": "markdown",
   "metadata": {},
   "source": [
    "## TEST"
   ]
  },
  {
   "cell_type": "code",
   "execution_count": 47,
   "metadata": {
    "collapsed": true
   },
   "outputs": [],
   "source": [
    "Test_df = pd.read_csv(\"/Users/weisihan/Downloads/we_data/mytestset.csv\")"
   ]
  },
  {
   "cell_type": "code",
   "execution_count": 48,
   "metadata": {
    "collapsed": true
   },
   "outputs": [],
   "source": [
    "Test_df = Test_df[['slotwidth', 'slotheight', 'slotprice', 'android', 'ios',\n",
    "       'linux', 'mac', 'other', 'windows', 'chrome', 'firefox', 'ie',\n",
    "       'maxthon', 'opera', 'other.1', 'safari', 'sogou', 'theworld',\n",
    "       '10006', '10024', '10031', '10048', '10052', '10057', '10059',\n",
    "       '10063', '10067', '10074', '10075', '10076', '10077', '10079',\n",
    "       '10083', '10093', '10102', '10110', '10111', '10114', '10115',\n",
    "       '10116', '10117', '10118', '10120', '10123', '10125', '10126',\n",
    "       '10127', '10129', '10130', '10131', '10133', '10138', '10140',\n",
    "       '10142', '10145', '10146', '10147', '10148', '10149', '10684',\n",
    "       '11092', '11278', '11379', '11423', '11512', '11576', '11632',\n",
    "       '11680', '11724', '11944', '13042', '13403', '13496', '13678',\n",
    "       '13776', '13800', '13866', '13874', '14273', '15398', '16593',\n",
    "       '16617', '16661', '16706', '16751', '16753', 'hour_sin', 'hour_cos',\n",
    "       'city_per', 'region_per', 'weekday_0', 'weekday_1', 'weekday_2',\n",
    "       'weekday_3', 'weekday_4', 'weekday_5', 'weekday_6',\n",
    "       'adexchange_1.0', 'adexchange_2.0', 'adexchange_3.0',\n",
    "       'adexchange_4.0', 'adexchange_nan', 'slotvisibility_0',\n",
    "       'slotvisibility_1', 'slotvisibility_2', 'slotvisibility_255',\n",
    "       'slotvisibility_FifthView', 'slotvisibility_FirstView',\n",
    "       'slotvisibility_FourthView', 'slotvisibility_Na',\n",
    "       'slotvisibility_OtherView', 'slotvisibility_SecondView',\n",
    "       'slotvisibility_ThirdView', 'slotformat_0', 'slotformat_1',\n",
    "       'slotformat_5', 'slotformat_Na', 'advertiser_1458',\n",
    "       'advertiser_2259', 'advertiser_2261', 'advertiser_2821',\n",
    "       'advertiser_2997', 'advertiser_3358', 'advertiser_3386',\n",
    "       'advertiser_3427', 'advertiser_3476']]"
   ]
  },
  {
   "cell_type": "code",
   "execution_count": 49,
   "metadata": {},
   "outputs": [
    {
     "name": "stderr",
     "output_type": "stream",
     "text": [
      "/Users/weisihan/anaconda3/lib/python3.6/site-packages/sklearn/cross_validation.py:41: DeprecationWarning: This module was deprecated in version 0.18 in favor of the model_selection module into which all the refactored classes and functions are moved. Also note that the interface of the new CV iterators are different from that of this module. This module will be removed in 0.20.\n",
      "  \"This module will be removed in 0.20.\", DeprecationWarning)\n"
     ]
    }
   ],
   "source": [
    "#test the default model\n",
    "import xgboost\n",
    "test_x = Test_df\n",
    "test_predictions = logreg.predict_proba(test_x)\n",
    "test_predictions_class = logreg.predict(test_x)"
   ]
  },
  {
   "cell_type": "code",
   "execution_count": 50,
   "metadata": {},
   "outputs": [
    {
     "data": {
      "text/html": [
       "<div>\n",
       "<style scoped>\n",
       "    .dataframe tbody tr th:only-of-type {\n",
       "        vertical-align: middle;\n",
       "    }\n",
       "\n",
       "    .dataframe tbody tr th {\n",
       "        vertical-align: top;\n",
       "    }\n",
       "\n",
       "    .dataframe thead th {\n",
       "        text-align: right;\n",
       "    }\n",
       "</style>\n",
       "<table border=\"1\" class=\"dataframe\">\n",
       "  <thead>\n",
       "    <tr style=\"text-align: right;\">\n",
       "      <th></th>\n",
       "      <th>bidprice</th>\n",
       "      <th>click_pred_per</th>\n",
       "      <th>click_pred_class</th>\n",
       "    </tr>\n",
       "  </thead>\n",
       "  <tbody>\n",
       "    <tr>\n",
       "      <th>0</th>\n",
       "      <td>NaN</td>\n",
       "      <td>0.000736</td>\n",
       "      <td>0</td>\n",
       "    </tr>\n",
       "    <tr>\n",
       "      <th>1</th>\n",
       "      <td>NaN</td>\n",
       "      <td>0.003392</td>\n",
       "      <td>0</td>\n",
       "    </tr>\n",
       "    <tr>\n",
       "      <th>2</th>\n",
       "      <td>NaN</td>\n",
       "      <td>0.000333</td>\n",
       "      <td>0</td>\n",
       "    </tr>\n",
       "    <tr>\n",
       "      <th>3</th>\n",
       "      <td>NaN</td>\n",
       "      <td>0.000230</td>\n",
       "      <td>0</td>\n",
       "    </tr>\n",
       "    <tr>\n",
       "      <th>4</th>\n",
       "      <td>NaN</td>\n",
       "      <td>0.001072</td>\n",
       "      <td>0</td>\n",
       "    </tr>\n",
       "  </tbody>\n",
       "</table>\n",
       "</div>"
      ],
      "text/plain": [
       "  bidprice  click_pred_per  click_pred_class\n",
       "0      NaN        0.000736                 0\n",
       "1      NaN        0.003392                 0\n",
       "2      NaN        0.000333                 0\n",
       "3      NaN        0.000230                 0\n",
       "4      NaN        0.001072                 0"
      ]
     },
     "execution_count": 50,
     "metadata": {},
     "output_type": "execute_result"
    }
   ],
   "source": [
    "test_result = pd.DataFrame(columns=['bidprice', 'click_pred_per', 'click_pred_class'])  \n",
    "#test_result['click']= Valid_df['click'].copy()\n",
    "test_result['click_pred_per'] = test_predictions[:,1]\n",
    "test_result['click_pred_class'] = test_predictions_class\n",
    "test_result.head()"
   ]
  },
  {
   "cell_type": "code",
   "execution_count": 51,
   "metadata": {
    "collapsed": true
   },
   "outputs": [],
   "source": [
    "#linear\n",
    "base_bid=90\n",
    "\n",
    "avgCTR = 1793/2430981#train set\n",
    "test_result['bidprice'] = base_bid*test_result['click_pred_per']/avgCTR"
   ]
  },
  {
   "cell_type": "code",
   "execution_count": 52,
   "metadata": {
    "collapsed": true
   },
   "outputs": [],
   "source": [
    "Group=  pd.read_csv('/Users/weisihan/Downloads/we_data/Group_xx.csv')"
   ]
  },
  {
   "cell_type": "code",
   "execution_count": 53,
   "metadata": {
    "collapsed": true
   },
   "outputs": [],
   "source": [
    "Group['bidprice']=test_result['bidprice']"
   ]
  },
  {
   "cell_type": "code",
   "execution_count": 54,
   "metadata": {},
   "outputs": [
    {
     "data": {
      "text/html": [
       "<div>\n",
       "<style scoped>\n",
       "    .dataframe tbody tr th:only-of-type {\n",
       "        vertical-align: middle;\n",
       "    }\n",
       "\n",
       "    .dataframe tbody tr th {\n",
       "        vertical-align: top;\n",
       "    }\n",
       "\n",
       "    .dataframe thead th {\n",
       "        text-align: right;\n",
       "    }\n",
       "</style>\n",
       "<table border=\"1\" class=\"dataframe\">\n",
       "  <thead>\n",
       "    <tr style=\"text-align: right;\">\n",
       "      <th></th>\n",
       "      <th>bidid</th>\n",
       "      <th>bidprice</th>\n",
       "    </tr>\n",
       "  </thead>\n",
       "  <tbody>\n",
       "    <tr>\n",
       "      <th>0</th>\n",
       "      <td>366c563de7d90feb9d4dab53e795a93fb3157387</td>\n",
       "      <td>89.753238</td>\n",
       "    </tr>\n",
       "    <tr>\n",
       "      <th>1</th>\n",
       "      <td>29167d4caa719788b5a342dbaa25151d53121f80</td>\n",
       "      <td>413.885986</td>\n",
       "    </tr>\n",
       "    <tr>\n",
       "      <th>2</th>\n",
       "      <td>ff8bc3f4d44a3ea60c5f3a3a8fbe7cd98fb2966e</td>\n",
       "      <td>40.593010</td>\n",
       "    </tr>\n",
       "    <tr>\n",
       "      <th>3</th>\n",
       "      <td>844c2da00d45315f20b748ec131c26ee99a7cbc7</td>\n",
       "      <td>28.012708</td>\n",
       "    </tr>\n",
       "    <tr>\n",
       "      <th>4</th>\n",
       "      <td>c6017f0ad0c44d7d0c9b62583ea863f28941c0ca</td>\n",
       "      <td>130.845529</td>\n",
       "    </tr>\n",
       "  </tbody>\n",
       "</table>\n",
       "</div>"
      ],
      "text/plain": [
       "                                      bidid    bidprice\n",
       "0  366c563de7d90feb9d4dab53e795a93fb3157387   89.753238\n",
       "1  29167d4caa719788b5a342dbaa25151d53121f80  413.885986\n",
       "2  ff8bc3f4d44a3ea60c5f3a3a8fbe7cd98fb2966e   40.593010\n",
       "3  844c2da00d45315f20b748ec131c26ee99a7cbc7   28.012708\n",
       "4  c6017f0ad0c44d7d0c9b62583ea863f28941c0ca  130.845529"
      ]
     },
     "execution_count": 54,
     "metadata": {},
     "output_type": "execute_result"
    }
   ],
   "source": [
    "Group.head()"
   ]
  },
  {
   "cell_type": "code",
   "execution_count": 55,
   "metadata": {
    "collapsed": true
   },
   "outputs": [],
   "source": [
    "Group.to_csv('Groupdsdf6.csv', encoding='utf-8', index=False)"
   ]
  },
  {
   "cell_type": "code",
   "execution_count": null,
   "metadata": {
    "collapsed": true
   },
   "outputs": [],
   "source": []
  },
  {
   "cell_type": "code",
   "execution_count": null,
   "metadata": {
    "collapsed": true
   },
   "outputs": [],
   "source": []
  },
  {
   "cell_type": "markdown",
   "metadata": {
    "collapsed": true
   },
   "source": [
    "## QR's Code"
   ]
  },
  {
   "cell_type": "code",
   "execution_count": null,
   "metadata": {
    "collapsed": true
   },
   "outputs": [],
   "source": []
  },
  {
   "cell_type": "code",
   "execution_count": 21,
   "metadata": {
    "collapsed": true
   },
   "outputs": [],
   "source": [
    "df_valid = pd.read_csv(\"/Users/weisihan/Downloads/we_data/validation.csv\")"
   ]
  },
  {
   "cell_type": "code",
   "execution_count": 22,
   "metadata": {
    "collapsed": true
   },
   "outputs": [],
   "source": [
    "# parameters\n",
    "total_budget = 6250000\n",
    "payprice = df_valid['payprice'].as_matrix()\n",
    "Train_df_qr = df_valid.copy()\n",
    "test_predictions=test_result['click_pred_per']\n",
    "#test_predictions2=test_result['click_pred_LR']\n",
    "\n",
    "avgCTR = 1793/2430981 #train set\n",
    "#tuning..."
   ]
  },
  {
   "cell_type": "code",
   "execution_count": 23,
   "metadata": {},
   "outputs": [
    {
     "data": {
      "text/plain": [
       "0.0007375623256619447"
      ]
     },
     "execution_count": 23,
     "metadata": {},
     "output_type": "execute_result"
    }
   ],
   "source": [
    "1793/2430981"
   ]
  },
  {
   "cell_type": "code",
   "execution_count": 24,
   "metadata": {
    "collapsed": true
   },
   "outputs": [],
   "source": [
    "### Train_df_qr.head()"
   ]
  },
  {
   "cell_type": "code",
   "execution_count": 25,
   "metadata": {
    "collapsed": true
   },
   "outputs": [],
   "source": [
    "def generate_bidprice(base_bid, test_predictions):\n",
    "    avgCTR = 1793/2430981#train set\n",
    "    bidprices = base_bid*test_predictions/avgCTR\n",
    "    return bidprices"
   ]
  },
  {
   "cell_type": "code",
   "execution_count": 26,
   "metadata": {
    "collapsed": true
   },
   "outputs": [],
   "source": [
    "def Prob3(Train_df,payprice,base_bid,test_predictions):\n",
    "    Train_Const_summ = pd.DataFrame({'Clicks':'', 'Spend':'', 'CTR':'', 'CPM':'', 'eCPC':''}, index=[0])\n",
    "    \n",
    "    current_budget = total_budget\n",
    "    Train_df['win'] = 0 #initialize win label\n",
    "    bidprices = generate_bidprice(base_bid, test_predictions)\n",
    "    #start biding...\n",
    "    for i in Train_df.index:\n",
    "        if current_budget >= bidprices[i]:\n",
    "            #generate bidprice:\n",
    "            current_bidprice = bidprices[i]\n",
    "\n",
    "            #Winning criterion:\n",
    "            current_payprice = payprice[i]\n",
    "            if current_bidprice > current_payprice:\n",
    "                Train_df.at[i, 'win'] = int(1)\n",
    "                current_budget = current_budget - current_payprice\n",
    "            else:\n",
    "                Train_df.at[i, 'win'] = int(0)\n",
    "        else:\n",
    "            print('lack of budget!',current_budget)\n",
    "            break\n",
    "    #biding end        \n",
    "    \n",
    "    Train_df_new = Train_df[Train_df['win']!=0]\n",
    "    #wintimes,_ = Train_df_new.shape\n",
    "    #print('wintimes:',wintimes)\n",
    "    #print('current_budget',current_budget)\n",
    "\n",
    "    Clk = Train_df_new['click'].sum()\n",
    "    Imp = Train_df_new['click'].count()\n",
    "    CTR = Clk/Imp\n",
    "    Spd = total_budget - current_budget\n",
    "    CPM = 1000*Spd/Imp\n",
    "    eCPC = Spd/Clk\n",
    "    \n",
    "    Train_Const_summ.loc[0,'Clicks']=Clk\n",
    "    Train_Const_summ.loc[0,'Spend']=Spd\n",
    "    Train_Const_summ.loc[0,'CTR']=CTR\n",
    "    Train_Const_summ.loc[0,'CPM']=CPM\n",
    "    Train_Const_summ.loc[0,'eCPC']=eCPC\n",
    "\n",
    "    print(Train_Const_summ)\n",
    "    \n",
    "        \n",
    "    return Train_df,current_budget"
   ]
  },
  {
   "cell_type": "code",
   "execution_count": 27,
   "metadata": {
    "collapsed": true
   },
   "outputs": [],
   "source": [
    "#Train_df,current_budget = Prob3(Train_df_qr,payprice,base_bid,test_predictions)"
   ]
  },
  {
   "cell_type": "code",
   "execution_count": 28,
   "metadata": {
    "collapsed": true
   },
   "outputs": [],
   "source": [
    "def calculate_click(base_bid,Train_df,payprice,test_predictions):\n",
    "    print('base_bid:',base_bid)\n",
    "    result_df,current_budget = Prob3(Train_df,payprice,base_bid,test_predictions)\n",
    "    print('current_budget:',current_budget)\n",
    "    Train_df_new = result_df[result_df['win']!=0]\n",
    "    wintimes,_ = Train_df_new.shape\n",
    "    print('wintimes:',wintimes)\n",
    "    print('----------------')\n",
    "    Clk = Train_df_new['click'].sum()    \n",
    "    return Clk"
   ]
  },
  {
   "cell_type": "code",
   "execution_count": 29,
   "metadata": {
    "collapsed": true
   },
   "outputs": [],
   "source": [
    "%matplotlib inline\n",
    "import matplotlib\n",
    "import matplotlib.pyplot as plt\n",
    "import mpld3\n",
    "import numpy as np"
   ]
  },
  {
   "cell_type": "code",
   "execution_count": 24,
   "metadata": {},
   "outputs": [
    {
     "name": "stdout",
     "output_type": "stream",
     "text": [
      "base_bid: 10\n",
      "       CPM         CTR Clicks   Spend     eCPC\n",
      "0  22809.7  0.00578568     69  272028  3942.43\n",
      "current_budget: 5977972\n",
      "wintimes: 11926\n",
      "----------------\n",
      "base_bid: 20\n",
      "       CPM         CTR Clicks   Spend     eCPC\n",
      "0  28766.6  0.00323446     88  782653  8893.78\n",
      "current_budget: 5467347\n",
      "wintimes: 27207\n",
      "----------------\n",
      "base_bid: 30\n",
      "       CPM         CTR Clicks    Spend     eCPC\n",
      "0  31445.2  0.00233185    102  1375477  13485.1\n",
      "current_budget: 4874523\n",
      "wintimes: 43742\n",
      "----------------\n",
      "base_bid: 40\n",
      "       CPM        CTR Clicks    Spend   eCPC\n",
      "0  34392.3  0.0019108    114  2051881  17999\n",
      "current_budget: 4198119\n",
      "wintimes: 59661\n",
      "----------------\n",
      "base_bid: 50\n",
      "     CPM         CTR Clicks    Spend     eCPC\n",
      "0  37492  0.00162684    122  2811603  23045.9\n",
      "current_budget: 3438397\n",
      "wintimes: 74992\n",
      "----------------\n",
      "base_bid: 60\n",
      "       CPM        CTR Clicks    Spend     eCPC\n",
      "0  40324.1  0.0014074    127  3638730  28651.4\n",
      "current_budget: 2611270\n",
      "wintimes: 90237\n",
      "----------------\n",
      "base_bid: 70\n",
      "       CPM         CTR Clicks    Spend     eCPC\n",
      "0  42983.9  0.00124811    131  4511542  34439.3\n",
      "current_budget: 1738458\n",
      "wintimes: 104959\n",
      "----------------\n",
      "base_bid: 80\n",
      "       CPM         CTR Clicks    Spend     eCPC\n",
      "0  45282.2  0.00117322    139  5364895  38596.4\n",
      "current_budget: 885105\n",
      "wintimes: 118477\n",
      "----------------\n",
      "base_bid: 90\n",
      "     CPM         CTR Clicks    Spend   eCPC\n",
      "0  47321  0.00108572    142  6189069  43585\n",
      "current_budget: 60931\n",
      "wintimes: 130789\n",
      "----------------\n",
      "142\n"
     ]
    },
    {
     "data": {
      "text/html": [
       "\n",
       "\n",
       "<style>\n",
       "\n",
       "</style>\n",
       "\n",
       "<div id=\"fig_el93634565170160123980544\"></div>\n",
       "<script>\n",
       "function mpld3_load_lib(url, callback){\n",
       "  var s = document.createElement('script');\n",
       "  s.src = url;\n",
       "  s.async = true;\n",
       "  s.onreadystatechange = s.onload = callback;\n",
       "  s.onerror = function(){console.warn(\"failed to load library \" + url);};\n",
       "  document.getElementsByTagName(\"head\")[0].appendChild(s);\n",
       "}\n",
       "\n",
       "if(typeof(mpld3) !== \"undefined\" && mpld3._mpld3IsLoaded){\n",
       "   // already loaded: just create the figure\n",
       "   !function(mpld3){\n",
       "       \n",
       "       mpld3.draw_figure(\"fig_el93634565170160123980544\", {\"width\": 432.0, \"height\": 288.0, \"axes\": [{\"bbox\": [0.125, 0.125, 0.775, 0.755], \"xlim\": [6.0, 94.0], \"ylim\": [65.35, 145.65], \"xdomain\": [6.0, 94.0], \"ydomain\": [65.35, 145.65], \"xscale\": \"linear\", \"yscale\": \"linear\", \"axes\": [{\"position\": \"bottom\", \"nticks\": 11, \"tickvalues\": null, \"tickformat\": null, \"scale\": \"linear\", \"fontsize\": 10.0, \"grid\": {\"gridOn\": false}, \"visible\": true}, {\"position\": \"left\", \"nticks\": 10, \"tickvalues\": null, \"tickformat\": null, \"scale\": \"linear\", \"fontsize\": 10.0, \"grid\": {\"gridOn\": false}, \"visible\": true}], \"axesbg\": \"#FFFFFF\", \"axesbgalpha\": null, \"zoomable\": true, \"id\": \"el93634565293936\", \"lines\": [{\"data\": \"data01\", \"xindex\": 0, \"yindex\": 1, \"coordinates\": \"data\", \"id\": \"el93634621631616\", \"color\": \"#1F77B4\", \"linewidth\": 1.5, \"dasharray\": \"none\", \"alpha\": 1, \"zorder\": 2, \"drawstyle\": \"default\"}], \"paths\": [], \"markers\": [], \"texts\": [], \"collections\": [], \"images\": [], \"sharex\": [], \"sharey\": []}], \"data\": {\"data01\": [[10.0, 69.0], [20.0, 88.0], [30.0, 102.0], [40.0, 114.0], [50.0, 122.0], [60.0, 127.0], [70.0, 131.0], [80.0, 139.0], [90.0, 142.0]]}, \"id\": \"el93634565170160\", \"plugins\": [{\"type\": \"reset\"}, {\"type\": \"zoom\", \"button\": true, \"enabled\": false}, {\"type\": \"boxzoom\", \"button\": true, \"enabled\": false}]});\n",
       "   }(mpld3);\n",
       "}else if(typeof define === \"function\" && define.amd){\n",
       "   // require.js is available: use it to load d3/mpld3\n",
       "   require.config({paths: {d3: \"https://mpld3.github.io/js/d3.v3.min\"}});\n",
       "   require([\"d3\"], function(d3){\n",
       "      window.d3 = d3;\n",
       "      mpld3_load_lib(\"https://mpld3.github.io/js/mpld3.v0.3.js\", function(){\n",
       "         \n",
       "         mpld3.draw_figure(\"fig_el93634565170160123980544\", {\"width\": 432.0, \"height\": 288.0, \"axes\": [{\"bbox\": [0.125, 0.125, 0.775, 0.755], \"xlim\": [6.0, 94.0], \"ylim\": [65.35, 145.65], \"xdomain\": [6.0, 94.0], \"ydomain\": [65.35, 145.65], \"xscale\": \"linear\", \"yscale\": \"linear\", \"axes\": [{\"position\": \"bottom\", \"nticks\": 11, \"tickvalues\": null, \"tickformat\": null, \"scale\": \"linear\", \"fontsize\": 10.0, \"grid\": {\"gridOn\": false}, \"visible\": true}, {\"position\": \"left\", \"nticks\": 10, \"tickvalues\": null, \"tickformat\": null, \"scale\": \"linear\", \"fontsize\": 10.0, \"grid\": {\"gridOn\": false}, \"visible\": true}], \"axesbg\": \"#FFFFFF\", \"axesbgalpha\": null, \"zoomable\": true, \"id\": \"el93634565293936\", \"lines\": [{\"data\": \"data01\", \"xindex\": 0, \"yindex\": 1, \"coordinates\": \"data\", \"id\": \"el93634621631616\", \"color\": \"#1F77B4\", \"linewidth\": 1.5, \"dasharray\": \"none\", \"alpha\": 1, \"zorder\": 2, \"drawstyle\": \"default\"}], \"paths\": [], \"markers\": [], \"texts\": [], \"collections\": [], \"images\": [], \"sharex\": [], \"sharey\": []}], \"data\": {\"data01\": [[10.0, 69.0], [20.0, 88.0], [30.0, 102.0], [40.0, 114.0], [50.0, 122.0], [60.0, 127.0], [70.0, 131.0], [80.0, 139.0], [90.0, 142.0]]}, \"id\": \"el93634565170160\", \"plugins\": [{\"type\": \"reset\"}, {\"type\": \"zoom\", \"button\": true, \"enabled\": false}, {\"type\": \"boxzoom\", \"button\": true, \"enabled\": false}]});\n",
       "      });\n",
       "    });\n",
       "}else{\n",
       "    // require.js not available: dynamically load d3 & mpld3\n",
       "    mpld3_load_lib(\"https://mpld3.github.io/js/d3.v3.min.js\", function(){\n",
       "         mpld3_load_lib(\"https://mpld3.github.io/js/mpld3.v0.3.js\", function(){\n",
       "                 \n",
       "                 mpld3.draw_figure(\"fig_el93634565170160123980544\", {\"width\": 432.0, \"height\": 288.0, \"axes\": [{\"bbox\": [0.125, 0.125, 0.775, 0.755], \"xlim\": [6.0, 94.0], \"ylim\": [65.35, 145.65], \"xdomain\": [6.0, 94.0], \"ydomain\": [65.35, 145.65], \"xscale\": \"linear\", \"yscale\": \"linear\", \"axes\": [{\"position\": \"bottom\", \"nticks\": 11, \"tickvalues\": null, \"tickformat\": null, \"scale\": \"linear\", \"fontsize\": 10.0, \"grid\": {\"gridOn\": false}, \"visible\": true}, {\"position\": \"left\", \"nticks\": 10, \"tickvalues\": null, \"tickformat\": null, \"scale\": \"linear\", \"fontsize\": 10.0, \"grid\": {\"gridOn\": false}, \"visible\": true}], \"axesbg\": \"#FFFFFF\", \"axesbgalpha\": null, \"zoomable\": true, \"id\": \"el93634565293936\", \"lines\": [{\"data\": \"data01\", \"xindex\": 0, \"yindex\": 1, \"coordinates\": \"data\", \"id\": \"el93634621631616\", \"color\": \"#1F77B4\", \"linewidth\": 1.5, \"dasharray\": \"none\", \"alpha\": 1, \"zorder\": 2, \"drawstyle\": \"default\"}], \"paths\": [], \"markers\": [], \"texts\": [], \"collections\": [], \"images\": [], \"sharex\": [], \"sharey\": []}], \"data\": {\"data01\": [[10.0, 69.0], [20.0, 88.0], [30.0, 102.0], [40.0, 114.0], [50.0, 122.0], [60.0, 127.0], [70.0, 131.0], [80.0, 139.0], [90.0, 142.0]]}, \"id\": \"el93634565170160\", \"plugins\": [{\"type\": \"reset\"}, {\"type\": \"zoom\", \"button\": true, \"enabled\": false}, {\"type\": \"boxzoom\", \"button\": true, \"enabled\": false}]});\n",
       "            })\n",
       "         });\n",
       "}\n",
       "</script>"
      ],
      "text/plain": [
       "<IPython.core.display.HTML object>"
      ]
     },
     "execution_count": 24,
     "metadata": {},
     "output_type": "execute_result"
    }
   ],
   "source": [
    "base_bids = np.arange(10,100,10)\n",
    "Clks = [calculate_click(base_bid,Train_df_qr,payprice,test_predictions) for base_bid in base_bids]\n",
    "fig = plt.figure()\n",
    "print(max(Clks))\n",
    "plt.plot(base_bids,Clks)\n",
    "mpld3.display(fig)"
   ]
  },
  {
   "cell_type": "code",
   "execution_count": 25,
   "metadata": {},
   "outputs": [
    {
     "name": "stdout",
     "output_type": "stream",
     "text": [
      "base_bid: 100\n",
      "lack of budget! 126\n",
      "     CPM         CTR Clicks    Spend   eCPC\n",
      "0  49193  0.00103111    131  6249874  47709\n",
      "current_budget: 126\n",
      "wintimes: 127048\n",
      "----------------\n",
      "base_bid: 110\n",
      "lack of budget! 278\n",
      "       CPM         CTR Clicks    Spend     eCPC\n",
      "0  50774.8  0.00101554    125  6249722  49997.8\n",
      "current_budget: 278\n",
      "wintimes: 123087\n",
      "----------------\n",
      "base_bid: 120\n",
      "lack of budget! 419\n",
      "       CPM        CTR Clicks    Spend     eCPC\n",
      "0  52181.6  0.0010103    121  6249581  51649.4\n",
      "current_budget: 419\n",
      "wintimes: 119766\n",
      "----------------\n",
      "base_bid: 130\n",
      "lack of budget! 25884\n",
      "       CPM          CTR Clicks    Spend     eCPC\n",
      "0  53399.8  0.000960903    112  6224116  55572.5\n",
      "current_budget: 25884\n",
      "wintimes: 116557\n",
      "----------------\n",
      "base_bid: 140\n",
      "lack of budget! 4512\n",
      "       CPM          CTR Clicks    Spend   eCPC\n",
      "0  54416.5  0.000932283    107  6245488  58369\n",
      "current_budget: 4512\n",
      "wintimes: 114772\n",
      "----------------\n",
      "base_bid: 150\n",
      "lack of budget! 768\n",
      "       CPM          CTR Clicks    Spend     eCPC\n",
      "0  55456.1  0.000860784     97  6249232  64425.1\n",
      "current_budget: 768\n",
      "wintimes: 112688\n",
      "----------------\n",
      "base_bid: 160\n",
      "lack of budget! 1947\n",
      "       CPM          CTR Clicks    Spend   eCPC\n",
      "0  56388.8  0.000857378     95  6248053  65769\n",
      "current_budget: 1947\n",
      "wintimes: 110803\n",
      "----------------\n",
      "base_bid: 170\n",
      "lack of budget! 465\n",
      "       CPM          CTR Clicks    Spend     eCPC\n",
      "0  57214.5  0.000833104     91  6249535  68676.2\n",
      "current_budget: 465\n",
      "wintimes: 109230\n",
      "----------------\n",
      "base_bid: 180\n",
      "lack of budget! 1444\n",
      "       CPM          CTR Clicks    Spend     eCPC\n",
      "0  58021.4  0.000798559     86  6248556  72657.6\n",
      "current_budget: 1444\n",
      "wintimes: 107694\n",
      "----------------\n",
      "base_bid: 190\n",
      "lack of budget! 96133\n",
      "       CPM          CTR Clicks    Spend     eCPC\n",
      "0  58724.6  0.000801588     84  6153867  73260.3\n",
      "current_budget: 96133\n",
      "wintimes: 104792\n",
      "----------------\n",
      "131\n"
     ]
    },
    {
     "data": {
      "text/html": [
       "\n",
       "\n",
       "<style>\n",
       "\n",
       "</style>\n",
       "\n",
       "<div id=\"fig_el93634623146512394427939\"></div>\n",
       "<script>\n",
       "function mpld3_load_lib(url, callback){\n",
       "  var s = document.createElement('script');\n",
       "  s.src = url;\n",
       "  s.async = true;\n",
       "  s.onreadystatechange = s.onload = callback;\n",
       "  s.onerror = function(){console.warn(\"failed to load library \" + url);};\n",
       "  document.getElementsByTagName(\"head\")[0].appendChild(s);\n",
       "}\n",
       "\n",
       "if(typeof(mpld3) !== \"undefined\" && mpld3._mpld3IsLoaded){\n",
       "   // already loaded: just create the figure\n",
       "   !function(mpld3){\n",
       "       \n",
       "       mpld3.draw_figure(\"fig_el93634623146512394427939\", {\"width\": 432.0, \"height\": 288.0, \"axes\": [{\"bbox\": [0.125, 0.125, 0.775, 0.755], \"xlim\": [95.5, 194.5], \"ylim\": [81.65, 133.35], \"xdomain\": [95.5, 194.5], \"ydomain\": [81.65, 133.35], \"xscale\": \"linear\", \"yscale\": \"linear\", \"axes\": [{\"position\": \"bottom\", \"nticks\": 7, \"tickvalues\": null, \"tickformat\": null, \"scale\": \"linear\", \"fontsize\": 10.0, \"grid\": {\"gridOn\": false}, \"visible\": true}, {\"position\": \"left\", \"nticks\": 7, \"tickvalues\": null, \"tickformat\": null, \"scale\": \"linear\", \"fontsize\": 10.0, \"grid\": {\"gridOn\": false}, \"visible\": true}], \"axesbg\": \"#FFFFFF\", \"axesbgalpha\": null, \"zoomable\": true, \"id\": \"el93634622172000\", \"lines\": [{\"data\": \"data01\", \"xindex\": 0, \"yindex\": 1, \"coordinates\": \"data\", \"id\": \"el93634622410640\", \"color\": \"#1F77B4\", \"linewidth\": 1.5, \"dasharray\": \"none\", \"alpha\": 1, \"zorder\": 2, \"drawstyle\": \"default\"}], \"paths\": [], \"markers\": [], \"texts\": [], \"collections\": [], \"images\": [], \"sharex\": [], \"sharey\": []}], \"data\": {\"data01\": [[100.0, 131.0], [110.0, 125.0], [120.0, 121.0], [130.0, 112.0], [140.0, 107.0], [150.0, 97.0], [160.0, 95.0], [170.0, 91.0], [180.0, 86.0], [190.0, 84.0]]}, \"id\": \"el93634623146512\", \"plugins\": [{\"type\": \"reset\"}, {\"type\": \"zoom\", \"button\": true, \"enabled\": false}, {\"type\": \"boxzoom\", \"button\": true, \"enabled\": false}]});\n",
       "   }(mpld3);\n",
       "}else if(typeof define === \"function\" && define.amd){\n",
       "   // require.js is available: use it to load d3/mpld3\n",
       "   require.config({paths: {d3: \"https://mpld3.github.io/js/d3.v3.min\"}});\n",
       "   require([\"d3\"], function(d3){\n",
       "      window.d3 = d3;\n",
       "      mpld3_load_lib(\"https://mpld3.github.io/js/mpld3.v0.3.js\", function(){\n",
       "         \n",
       "         mpld3.draw_figure(\"fig_el93634623146512394427939\", {\"width\": 432.0, \"height\": 288.0, \"axes\": [{\"bbox\": [0.125, 0.125, 0.775, 0.755], \"xlim\": [95.5, 194.5], \"ylim\": [81.65, 133.35], \"xdomain\": [95.5, 194.5], \"ydomain\": [81.65, 133.35], \"xscale\": \"linear\", \"yscale\": \"linear\", \"axes\": [{\"position\": \"bottom\", \"nticks\": 7, \"tickvalues\": null, \"tickformat\": null, \"scale\": \"linear\", \"fontsize\": 10.0, \"grid\": {\"gridOn\": false}, \"visible\": true}, {\"position\": \"left\", \"nticks\": 7, \"tickvalues\": null, \"tickformat\": null, \"scale\": \"linear\", \"fontsize\": 10.0, \"grid\": {\"gridOn\": false}, \"visible\": true}], \"axesbg\": \"#FFFFFF\", \"axesbgalpha\": null, \"zoomable\": true, \"id\": \"el93634622172000\", \"lines\": [{\"data\": \"data01\", \"xindex\": 0, \"yindex\": 1, \"coordinates\": \"data\", \"id\": \"el93634622410640\", \"color\": \"#1F77B4\", \"linewidth\": 1.5, \"dasharray\": \"none\", \"alpha\": 1, \"zorder\": 2, \"drawstyle\": \"default\"}], \"paths\": [], \"markers\": [], \"texts\": [], \"collections\": [], \"images\": [], \"sharex\": [], \"sharey\": []}], \"data\": {\"data01\": [[100.0, 131.0], [110.0, 125.0], [120.0, 121.0], [130.0, 112.0], [140.0, 107.0], [150.0, 97.0], [160.0, 95.0], [170.0, 91.0], [180.0, 86.0], [190.0, 84.0]]}, \"id\": \"el93634623146512\", \"plugins\": [{\"type\": \"reset\"}, {\"type\": \"zoom\", \"button\": true, \"enabled\": false}, {\"type\": \"boxzoom\", \"button\": true, \"enabled\": false}]});\n",
       "      });\n",
       "    });\n",
       "}else{\n",
       "    // require.js not available: dynamically load d3 & mpld3\n",
       "    mpld3_load_lib(\"https://mpld3.github.io/js/d3.v3.min.js\", function(){\n",
       "         mpld3_load_lib(\"https://mpld3.github.io/js/mpld3.v0.3.js\", function(){\n",
       "                 \n",
       "                 mpld3.draw_figure(\"fig_el93634623146512394427939\", {\"width\": 432.0, \"height\": 288.0, \"axes\": [{\"bbox\": [0.125, 0.125, 0.775, 0.755], \"xlim\": [95.5, 194.5], \"ylim\": [81.65, 133.35], \"xdomain\": [95.5, 194.5], \"ydomain\": [81.65, 133.35], \"xscale\": \"linear\", \"yscale\": \"linear\", \"axes\": [{\"position\": \"bottom\", \"nticks\": 7, \"tickvalues\": null, \"tickformat\": null, \"scale\": \"linear\", \"fontsize\": 10.0, \"grid\": {\"gridOn\": false}, \"visible\": true}, {\"position\": \"left\", \"nticks\": 7, \"tickvalues\": null, \"tickformat\": null, \"scale\": \"linear\", \"fontsize\": 10.0, \"grid\": {\"gridOn\": false}, \"visible\": true}], \"axesbg\": \"#FFFFFF\", \"axesbgalpha\": null, \"zoomable\": true, \"id\": \"el93634622172000\", \"lines\": [{\"data\": \"data01\", \"xindex\": 0, \"yindex\": 1, \"coordinates\": \"data\", \"id\": \"el93634622410640\", \"color\": \"#1F77B4\", \"linewidth\": 1.5, \"dasharray\": \"none\", \"alpha\": 1, \"zorder\": 2, \"drawstyle\": \"default\"}], \"paths\": [], \"markers\": [], \"texts\": [], \"collections\": [], \"images\": [], \"sharex\": [], \"sharey\": []}], \"data\": {\"data01\": [[100.0, 131.0], [110.0, 125.0], [120.0, 121.0], [130.0, 112.0], [140.0, 107.0], [150.0, 97.0], [160.0, 95.0], [170.0, 91.0], [180.0, 86.0], [190.0, 84.0]]}, \"id\": \"el93634623146512\", \"plugins\": [{\"type\": \"reset\"}, {\"type\": \"zoom\", \"button\": true, \"enabled\": false}, {\"type\": \"boxzoom\", \"button\": true, \"enabled\": false}]});\n",
       "            })\n",
       "         });\n",
       "}\n",
       "</script>"
      ],
      "text/plain": [
       "<IPython.core.display.HTML object>"
      ]
     },
     "execution_count": 25,
     "metadata": {},
     "output_type": "execute_result"
    }
   ],
   "source": [
    "base_bids = np.arange(100,200,10)\n",
    "Clks = [calculate_click(base_bid,Train_df_qr,payprice,test_predictions) for base_bid in base_bids]\n",
    "fig = plt.figure()\n",
    "print(max(Clks))\n",
    "plt.plot(base_bids,Clks)\n",
    "mpld3.display(fig)"
   ]
  },
  {
   "cell_type": "code",
   "execution_count": 52,
   "metadata": {
    "collapsed": true
   },
   "outputs": [
    {
     "name": "stdout",
     "output_type": "stream",
     "text": [
      "base_bid: 100\n",
      "lack of budget! 59594\n",
      "       CPM          CTR Clicks    Spend    eCPC\n",
      "0  76499.4  0.000667318     54  6190406  114637\n",
      "current_budget: 59594\n",
      "wintimes: 80921\n",
      "----------------\n",
      "base_bid: 110\n",
      "lack of budget! 2724\n",
      "       CPM          CTR Clicks    Spend    eCPC\n",
      "0  76839.4  0.000664182     54  6247276  115690\n",
      "current_budget: 2724\n",
      "wintimes: 81303\n",
      "----------------\n",
      "base_bid: 120\n",
      "lack of budget! 19031\n",
      "       CPM          CTR Clicks    Spend    eCPC\n",
      "0  77080.7  0.000668011     54  6230969  115388\n",
      "current_budget: 19031\n",
      "wintimes: 80837\n",
      "----------------\n",
      "base_bid: 130\n",
      "lack of budget! 14599\n",
      "       CPM          CTR Clicks    Spend    eCPC\n",
      "0  77313.4  0.000669552     54  6235401  115470\n",
      "current_budget: 14599\n",
      "wintimes: 80651\n",
      "----------------\n",
      "base_bid: 140\n",
      "lack of budget! 37330\n",
      "       CPM          CTR Clicks    Spend    eCPC\n",
      "0  77450.2  0.000673191     54  6212670  115049\n",
      "current_budget: 37330\n",
      "wintimes: 80215\n",
      "----------------\n",
      "base_bid: 150\n",
      "lack of budget! 32196\n",
      "       CPM          CTR Clicks    Spend    eCPC\n",
      "0  77571.3  0.000673686     54  6217804  115145\n",
      "current_budget: 32196\n",
      "wintimes: 80156\n",
      "----------------\n",
      "base_bid: 160\n",
      "lack of budget! 93846\n",
      "       CPM          CTR Clicks    Spend    eCPC\n",
      "0  77705.7  0.000656367     52  6156154  118388\n",
      "current_budget: 93846\n",
      "wintimes: 79224\n",
      "----------------\n",
      "base_bid: 170\n",
      "lack of budget! 79695\n",
      "       CPM          CTR Clicks    Spend    eCPC\n",
      "0  77794.9  0.000655614     52  6170305  118660\n",
      "current_budget: 79695\n",
      "wintimes: 79315\n",
      "----------------\n",
      "base_bid: 180\n",
      "lack of budget! 65314\n",
      "     CPM          CTR Clicks    Spend    eCPC\n",
      "0  77881  0.000654813     52  6184686  118936\n",
      "current_budget: 65314\n",
      "wintimes: 79412\n",
      "----------------\n",
      "base_bid: 190\n",
      "lack of budget! 54279\n",
      "       CPM          CTR Clicks    Spend    eCPC\n",
      "0  77944.4  0.000654179     52  6195721  119148\n",
      "current_budget: 54279\n",
      "wintimes: 79489\n",
      "----------------\n",
      "54\n"
     ]
    },
    {
     "data": {
      "text/html": [
       "\n",
       "\n",
       "<style>\n",
       "\n",
       "</style>\n",
       "\n",
       "<div id=\"fig_el1323356123918962221680534\"></div>\n",
       "<script>\n",
       "function mpld3_load_lib(url, callback){\n",
       "  var s = document.createElement('script');\n",
       "  s.src = url;\n",
       "  s.async = true;\n",
       "  s.onreadystatechange = s.onload = callback;\n",
       "  s.onerror = function(){console.warn(\"failed to load library \" + url);};\n",
       "  document.getElementsByTagName(\"head\")[0].appendChild(s);\n",
       "}\n",
       "\n",
       "if(typeof(mpld3) !== \"undefined\" && mpld3._mpld3IsLoaded){\n",
       "   // already loaded: just create the figure\n",
       "   !function(mpld3){\n",
       "       \n",
       "       mpld3.draw_figure(\"fig_el1323356123918962221680534\", {\"width\": 432.0, \"height\": 288.0, \"axes\": [{\"bbox\": [0.125, 0.125, 0.775, 0.755], \"xlim\": [95.5, 194.5], \"ylim\": [51.9, 54.1], \"xdomain\": [95.5, 194.5], \"ydomain\": [51.9, 54.1], \"xscale\": \"linear\", \"yscale\": \"linear\", \"axes\": [{\"position\": \"bottom\", \"nticks\": 7, \"tickvalues\": null, \"tickformat\": null, \"scale\": \"linear\", \"fontsize\": 10.0, \"grid\": {\"gridOn\": false}, \"visible\": true}, {\"position\": \"left\", \"nticks\": 11, \"tickvalues\": null, \"tickformat\": null, \"scale\": \"linear\", \"fontsize\": 10.0, \"grid\": {\"gridOn\": false}, \"visible\": true}], \"axesbg\": \"#FFFFFF\", \"axesbgalpha\": null, \"zoomable\": true, \"id\": \"el132335915567440\", \"lines\": [{\"data\": \"data01\", \"xindex\": 0, \"yindex\": 1, \"coordinates\": \"data\", \"id\": \"el132335594809288\", \"color\": \"#1F77B4\", \"linewidth\": 1.5, \"dasharray\": \"none\", \"alpha\": 1, \"zorder\": 2, \"drawstyle\": \"default\"}], \"paths\": [], \"markers\": [], \"texts\": [], \"collections\": [], \"images\": [], \"sharex\": [], \"sharey\": []}], \"data\": {\"data01\": [[100.0, 54.0], [110.0, 54.0], [120.0, 54.0], [130.0, 54.0], [140.0, 54.0], [150.0, 54.0], [160.0, 52.0], [170.0, 52.0], [180.0, 52.0], [190.0, 52.0]]}, \"id\": \"el132335612391896\", \"plugins\": [{\"type\": \"reset\"}, {\"type\": \"zoom\", \"button\": true, \"enabled\": false}, {\"type\": \"boxzoom\", \"button\": true, \"enabled\": false}]});\n",
       "   }(mpld3);\n",
       "}else if(typeof define === \"function\" && define.amd){\n",
       "   // require.js is available: use it to load d3/mpld3\n",
       "   require.config({paths: {d3: \"https://mpld3.github.io/js/d3.v3.min\"}});\n",
       "   require([\"d3\"], function(d3){\n",
       "      window.d3 = d3;\n",
       "      mpld3_load_lib(\"https://mpld3.github.io/js/mpld3.v0.3.js\", function(){\n",
       "         \n",
       "         mpld3.draw_figure(\"fig_el1323356123918962221680534\", {\"width\": 432.0, \"height\": 288.0, \"axes\": [{\"bbox\": [0.125, 0.125, 0.775, 0.755], \"xlim\": [95.5, 194.5], \"ylim\": [51.9, 54.1], \"xdomain\": [95.5, 194.5], \"ydomain\": [51.9, 54.1], \"xscale\": \"linear\", \"yscale\": \"linear\", \"axes\": [{\"position\": \"bottom\", \"nticks\": 7, \"tickvalues\": null, \"tickformat\": null, \"scale\": \"linear\", \"fontsize\": 10.0, \"grid\": {\"gridOn\": false}, \"visible\": true}, {\"position\": \"left\", \"nticks\": 11, \"tickvalues\": null, \"tickformat\": null, \"scale\": \"linear\", \"fontsize\": 10.0, \"grid\": {\"gridOn\": false}, \"visible\": true}], \"axesbg\": \"#FFFFFF\", \"axesbgalpha\": null, \"zoomable\": true, \"id\": \"el132335915567440\", \"lines\": [{\"data\": \"data01\", \"xindex\": 0, \"yindex\": 1, \"coordinates\": \"data\", \"id\": \"el132335594809288\", \"color\": \"#1F77B4\", \"linewidth\": 1.5, \"dasharray\": \"none\", \"alpha\": 1, \"zorder\": 2, \"drawstyle\": \"default\"}], \"paths\": [], \"markers\": [], \"texts\": [], \"collections\": [], \"images\": [], \"sharex\": [], \"sharey\": []}], \"data\": {\"data01\": [[100.0, 54.0], [110.0, 54.0], [120.0, 54.0], [130.0, 54.0], [140.0, 54.0], [150.0, 54.0], [160.0, 52.0], [170.0, 52.0], [180.0, 52.0], [190.0, 52.0]]}, \"id\": \"el132335612391896\", \"plugins\": [{\"type\": \"reset\"}, {\"type\": \"zoom\", \"button\": true, \"enabled\": false}, {\"type\": \"boxzoom\", \"button\": true, \"enabled\": false}]});\n",
       "      });\n",
       "    });\n",
       "}else{\n",
       "    // require.js not available: dynamically load d3 & mpld3\n",
       "    mpld3_load_lib(\"https://mpld3.github.io/js/d3.v3.min.js\", function(){\n",
       "         mpld3_load_lib(\"https://mpld3.github.io/js/mpld3.v0.3.js\", function(){\n",
       "                 \n",
       "                 mpld3.draw_figure(\"fig_el1323356123918962221680534\", {\"width\": 432.0, \"height\": 288.0, \"axes\": [{\"bbox\": [0.125, 0.125, 0.775, 0.755], \"xlim\": [95.5, 194.5], \"ylim\": [51.9, 54.1], \"xdomain\": [95.5, 194.5], \"ydomain\": [51.9, 54.1], \"xscale\": \"linear\", \"yscale\": \"linear\", \"axes\": [{\"position\": \"bottom\", \"nticks\": 7, \"tickvalues\": null, \"tickformat\": null, \"scale\": \"linear\", \"fontsize\": 10.0, \"grid\": {\"gridOn\": false}, \"visible\": true}, {\"position\": \"left\", \"nticks\": 11, \"tickvalues\": null, \"tickformat\": null, \"scale\": \"linear\", \"fontsize\": 10.0, \"grid\": {\"gridOn\": false}, \"visible\": true}], \"axesbg\": \"#FFFFFF\", \"axesbgalpha\": null, \"zoomable\": true, \"id\": \"el132335915567440\", \"lines\": [{\"data\": \"data01\", \"xindex\": 0, \"yindex\": 1, \"coordinates\": \"data\", \"id\": \"el132335594809288\", \"color\": \"#1F77B4\", \"linewidth\": 1.5, \"dasharray\": \"none\", \"alpha\": 1, \"zorder\": 2, \"drawstyle\": \"default\"}], \"paths\": [], \"markers\": [], \"texts\": [], \"collections\": [], \"images\": [], \"sharex\": [], \"sharey\": []}], \"data\": {\"data01\": [[100.0, 54.0], [110.0, 54.0], [120.0, 54.0], [130.0, 54.0], [140.0, 54.0], [150.0, 54.0], [160.0, 52.0], [170.0, 52.0], [180.0, 52.0], [190.0, 52.0]]}, \"id\": \"el132335612391896\", \"plugins\": [{\"type\": \"reset\"}, {\"type\": \"zoom\", \"button\": true, \"enabled\": false}, {\"type\": \"boxzoom\", \"button\": true, \"enabled\": false}]});\n",
       "            })\n",
       "         });\n",
       "}\n",
       "</script>"
      ],
      "text/plain": [
       "<IPython.core.display.HTML object>"
      ]
     },
     "execution_count": 52,
     "metadata": {},
     "output_type": "execute_result"
    }
   ],
   "source": [
    "base_bids = np.arange(100,200,10)\n",
    "Clks = [calculate_click(base_bid,Train_df_qr,payprice,test_predictions) for base_bid in base_bids]\n",
    "fig = plt.figure()\n",
    "print(max(Clks))\n",
    "plt.plot(base_bids,Clks)\n",
    "mpld3.display(fig)"
   ]
  },
  {
   "cell_type": "code",
   "execution_count": 30,
   "metadata": {},
   "outputs": [
    {
     "name": "stdout",
     "output_type": "stream",
     "text": [
      "base_bid: 85\n",
      "       CPM         CTR Clicks    Spend     eCPC\n",
      "0  46341.8  0.00111367    139  5784015  41611.6\n",
      "current_budget: 465985\n",
      "wintimes: 124812\n",
      "----------------\n",
      "base_bid: 86\n",
      "       CPM         CTR Clicks    Spend     eCPC\n",
      "0  46546.2  0.00110328    139  5864264  42188.9\n",
      "current_budget: 385736\n",
      "wintimes: 125988\n",
      "----------------\n",
      "base_bid: 87\n",
      "       CPM         CTR Clicks    Spend     eCPC\n",
      "0  46754.5  0.00110072    140  5946664  42476.2\n",
      "current_budget: 303336\n",
      "wintimes: 127189\n",
      "----------------\n",
      "base_bid: 88\n",
      "       CPM         CTR Clicks    Spend     eCPC\n",
      "0  46958.6  0.00108998    140  6031500  43082.1\n",
      "current_budget: 218500\n",
      "wintimes: 128443\n",
      "----------------\n",
      "base_bid: 89\n",
      "       CPM      CTR Clicks    Spend   eCPC\n",
      "0  47141.9  0.00108    140  6111005  43650\n",
      "current_budget: 138995\n",
      "wintimes: 129630\n",
      "----------------\n",
      "base_bid: 90\n",
      "     CPM         CTR Clicks    Spend   eCPC\n",
      "0  47321  0.00108572    142  6189069  43585\n",
      "current_budget: 60931\n",
      "wintimes: 130789\n",
      "----------------\n",
      "base_bid: 91\n",
      "lack of budget! 2167\n",
      "       CPM         CTR Clicks    Spend     eCPC\n",
      "0  47510.6  0.00107221    141  6247833  44310.9\n",
      "current_budget: 2167\n",
      "wintimes: 131504\n",
      "----------------\n",
      "base_bid: 92\n",
      "lack of budget! 140\n",
      "       CPM         CTR Clicks    Spend   eCPC\n",
      "0  47673.9  0.00106029    139  6249860  44963\n",
      "current_budget: 140\n",
      "wintimes: 131096\n",
      "----------------\n",
      "base_bid: 93\n",
      "lack of budget! 54\n",
      "       CPM         CTR Clicks    Spend     eCPC\n",
      "0  47855.6  0.00106432    139  6249946  44963.6\n",
      "current_budget: 54\n",
      "wintimes: 130600\n",
      "----------------\n",
      "base_bid: 94\n",
      "lack of budget! 12042\n",
      "       CPM         CTR Clicks    Spend     eCPC\n",
      "0  48026.4  0.00106247    138  6237958  45202.6\n",
      "current_budget: 12042\n",
      "wintimes: 129886\n",
      "----------------\n",
      "142\n"
     ]
    },
    {
     "data": {
      "text/html": [
       "\n",
       "\n",
       "<style>\n",
       "\n",
       "</style>\n",
       "\n",
       "<div id=\"fig_el2265046337283367217359973\"></div>\n",
       "<script>\n",
       "function mpld3_load_lib(url, callback){\n",
       "  var s = document.createElement('script');\n",
       "  s.src = url;\n",
       "  s.async = true;\n",
       "  s.onreadystatechange = s.onload = callback;\n",
       "  s.onerror = function(){console.warn(\"failed to load library \" + url);};\n",
       "  document.getElementsByTagName(\"head\")[0].appendChild(s);\n",
       "}\n",
       "\n",
       "if(typeof(mpld3) !== \"undefined\" && mpld3._mpld3IsLoaded){\n",
       "   // already loaded: just create the figure\n",
       "   !function(mpld3){\n",
       "       \n",
       "       mpld3.draw_figure(\"fig_el2265046337283367217359973\", {\"width\": 432.0, \"height\": 288.0, \"axes\": [{\"bbox\": [0.125, 0.125, 0.775, 0.755], \"xlim\": [84.55, 94.45], \"ylim\": [137.8, 142.2], \"xdomain\": [84.55, 94.45], \"ydomain\": [137.8, 142.2], \"xscale\": \"linear\", \"yscale\": \"linear\", \"axes\": [{\"position\": \"bottom\", \"nticks\": 7, \"tickvalues\": null, \"tickformat\": null, \"scale\": \"linear\", \"fontsize\": 10.0, \"grid\": {\"gridOn\": false}, \"visible\": true}, {\"position\": \"left\", \"nticks\": 11, \"tickvalues\": null, \"tickformat\": null, \"scale\": \"linear\", \"fontsize\": 10.0, \"grid\": {\"gridOn\": false}, \"visible\": true}], \"axesbg\": \"#FFFFFF\", \"axesbgalpha\": null, \"zoomable\": true, \"id\": \"el226504634078400\", \"lines\": [{\"data\": \"data01\", \"xindex\": 0, \"yindex\": 1, \"coordinates\": \"data\", \"id\": \"el226504670816384\", \"color\": \"#1F77B4\", \"linewidth\": 1.5, \"dasharray\": \"none\", \"alpha\": 1, \"zorder\": 2, \"drawstyle\": \"default\"}], \"paths\": [], \"markers\": [], \"texts\": [], \"collections\": [], \"images\": [], \"sharex\": [], \"sharey\": []}], \"data\": {\"data01\": [[85.0, 139.0], [86.0, 139.0], [87.0, 140.0], [88.0, 140.0], [89.0, 140.0], [90.0, 142.0], [91.0, 141.0], [92.0, 139.0], [93.0, 139.0], [94.0, 138.0]]}, \"id\": \"el226504633728336\", \"plugins\": [{\"type\": \"reset\"}, {\"type\": \"zoom\", \"button\": true, \"enabled\": false}, {\"type\": \"boxzoom\", \"button\": true, \"enabled\": false}]});\n",
       "   }(mpld3);\n",
       "}else if(typeof define === \"function\" && define.amd){\n",
       "   // require.js is available: use it to load d3/mpld3\n",
       "   require.config({paths: {d3: \"https://mpld3.github.io/js/d3.v3.min\"}});\n",
       "   require([\"d3\"], function(d3){\n",
       "      window.d3 = d3;\n",
       "      mpld3_load_lib(\"https://mpld3.github.io/js/mpld3.v0.3.js\", function(){\n",
       "         \n",
       "         mpld3.draw_figure(\"fig_el2265046337283367217359973\", {\"width\": 432.0, \"height\": 288.0, \"axes\": [{\"bbox\": [0.125, 0.125, 0.775, 0.755], \"xlim\": [84.55, 94.45], \"ylim\": [137.8, 142.2], \"xdomain\": [84.55, 94.45], \"ydomain\": [137.8, 142.2], \"xscale\": \"linear\", \"yscale\": \"linear\", \"axes\": [{\"position\": \"bottom\", \"nticks\": 7, \"tickvalues\": null, \"tickformat\": null, \"scale\": \"linear\", \"fontsize\": 10.0, \"grid\": {\"gridOn\": false}, \"visible\": true}, {\"position\": \"left\", \"nticks\": 11, \"tickvalues\": null, \"tickformat\": null, \"scale\": \"linear\", \"fontsize\": 10.0, \"grid\": {\"gridOn\": false}, \"visible\": true}], \"axesbg\": \"#FFFFFF\", \"axesbgalpha\": null, \"zoomable\": true, \"id\": \"el226504634078400\", \"lines\": [{\"data\": \"data01\", \"xindex\": 0, \"yindex\": 1, \"coordinates\": \"data\", \"id\": \"el226504670816384\", \"color\": \"#1F77B4\", \"linewidth\": 1.5, \"dasharray\": \"none\", \"alpha\": 1, \"zorder\": 2, \"drawstyle\": \"default\"}], \"paths\": [], \"markers\": [], \"texts\": [], \"collections\": [], \"images\": [], \"sharex\": [], \"sharey\": []}], \"data\": {\"data01\": [[85.0, 139.0], [86.0, 139.0], [87.0, 140.0], [88.0, 140.0], [89.0, 140.0], [90.0, 142.0], [91.0, 141.0], [92.0, 139.0], [93.0, 139.0], [94.0, 138.0]]}, \"id\": \"el226504633728336\", \"plugins\": [{\"type\": \"reset\"}, {\"type\": \"zoom\", \"button\": true, \"enabled\": false}, {\"type\": \"boxzoom\", \"button\": true, \"enabled\": false}]});\n",
       "      });\n",
       "    });\n",
       "}else{\n",
       "    // require.js not available: dynamically load d3 & mpld3\n",
       "    mpld3_load_lib(\"https://mpld3.github.io/js/d3.v3.min.js\", function(){\n",
       "         mpld3_load_lib(\"https://mpld3.github.io/js/mpld3.v0.3.js\", function(){\n",
       "                 \n",
       "                 mpld3.draw_figure(\"fig_el2265046337283367217359973\", {\"width\": 432.0, \"height\": 288.0, \"axes\": [{\"bbox\": [0.125, 0.125, 0.775, 0.755], \"xlim\": [84.55, 94.45], \"ylim\": [137.8, 142.2], \"xdomain\": [84.55, 94.45], \"ydomain\": [137.8, 142.2], \"xscale\": \"linear\", \"yscale\": \"linear\", \"axes\": [{\"position\": \"bottom\", \"nticks\": 7, \"tickvalues\": null, \"tickformat\": null, \"scale\": \"linear\", \"fontsize\": 10.0, \"grid\": {\"gridOn\": false}, \"visible\": true}, {\"position\": \"left\", \"nticks\": 11, \"tickvalues\": null, \"tickformat\": null, \"scale\": \"linear\", \"fontsize\": 10.0, \"grid\": {\"gridOn\": false}, \"visible\": true}], \"axesbg\": \"#FFFFFF\", \"axesbgalpha\": null, \"zoomable\": true, \"id\": \"el226504634078400\", \"lines\": [{\"data\": \"data01\", \"xindex\": 0, \"yindex\": 1, \"coordinates\": \"data\", \"id\": \"el226504670816384\", \"color\": \"#1F77B4\", \"linewidth\": 1.5, \"dasharray\": \"none\", \"alpha\": 1, \"zorder\": 2, \"drawstyle\": \"default\"}], \"paths\": [], \"markers\": [], \"texts\": [], \"collections\": [], \"images\": [], \"sharex\": [], \"sharey\": []}], \"data\": {\"data01\": [[85.0, 139.0], [86.0, 139.0], [87.0, 140.0], [88.0, 140.0], [89.0, 140.0], [90.0, 142.0], [91.0, 141.0], [92.0, 139.0], [93.0, 139.0], [94.0, 138.0]]}, \"id\": \"el226504633728336\", \"plugins\": [{\"type\": \"reset\"}, {\"type\": \"zoom\", \"button\": true, \"enabled\": false}, {\"type\": \"boxzoom\", \"button\": true, \"enabled\": false}]});\n",
       "            })\n",
       "         });\n",
       "}\n",
       "</script>"
      ],
      "text/plain": [
       "<IPython.core.display.HTML object>"
      ]
     },
     "execution_count": 30,
     "metadata": {},
     "output_type": "execute_result"
    }
   ],
   "source": [
    "base_bids = np.arange(85,95,1)\n",
    "Clks = [calculate_click(base_bid,Train_df_qr,payprice,test_predictions) for base_bid in base_bids]\n",
    "fig = plt.figure()\n",
    "print(max(Clks))\n",
    "plt.plot(base_bids,Clks)\n",
    "mpld3.display(fig)"
   ]
  },
  {
   "cell_type": "code",
   "execution_count": null,
   "metadata": {
    "collapsed": true
   },
   "outputs": [],
   "source": [
    "#summary\n",
    "basebid=90, clicks is 142, out of budget, 2167 money left\n"
   ]
  },
  {
   "cell_type": "code",
   "execution_count": 3,
   "metadata": {},
   "outputs": [
    {
     "ename": "NameError",
     "evalue": "name 'test_result' is not defined",
     "output_type": "error",
     "traceback": [
      "\u001b[0;31m---------------------------------------------------------------------------\u001b[0m",
      "\u001b[0;31mNameError\u001b[0m                                 Traceback (most recent call last)",
      "\u001b[0;32m<ipython-input-3-480d03b69fcc>\u001b[0m in \u001b[0;36m<module>\u001b[0;34m()\u001b[0m\n\u001b[0;32m----> 1\u001b[0;31m \u001b[0mtest_result\u001b[0m\u001b[0;34m\u001b[0m\u001b[0m\n\u001b[0m",
      "\u001b[0;31mNameError\u001b[0m: name 'test_result' is not defined"
     ]
    }
   ],
   "source": [
    "test_result"
   ]
  },
  {
   "cell_type": "code",
   "execution_count": 31,
   "metadata": {},
   "outputs": [
    {
     "data": {
      "text/plain": [
       "0.0007375623256619447"
      ]
     },
     "execution_count": 31,
     "metadata": {},
     "output_type": "execute_result"
    }
   ],
   "source": [
    "#clicks = len(train[train.click==1])\n",
    "#impression = len(train[train.bidprice>train.payprice])\n",
    "aCTR=1793/2430981\n",
    "aCTR"
   ]
  },
  {
   "cell_type": "code",
   "execution_count": 40,
   "metadata": {
    "collapsed": true
   },
   "outputs": [],
   "source": [
    "def evaluate(bidprice):\n",
    "    budget=6250000\n",
    "    impression=0\n",
    "    click=0\n",
    "    for row in range(0,df_valid.shape[0]):\n",
    "        if budget<df_valid.payprice[row]:\n",
    "            continue\n",
    "        if bidprice.iloc[row,0]>df_valid.payprice[row]:\n",
    "            budget=budget-df_valid.payprice[row]\n",
    "            impression=impression+1\n",
    "            if df_valid.click[row]==1:\n",
    "                click=click+1\n",
    "    return click"
   ]
  },
  {
   "cell_type": "code",
   "execution_count": 45,
   "metadata": {
    "collapsed": true
   },
   "outputs": [],
   "source": [
    "def bid_linear(basebid, pred_CTR,avg_CTR):\n",
    "    bid = np.zeros((df_valid.shape[0], 1))\n",
    "    for i in range (0,df_valid.shape[0]):\n",
    "        bid[i,0] = basebid*xx.iloc[i]/avg_CTR\n",
    "    bid = pd.DataFrame(bid)\n",
    "    return bid"
   ]
  },
  {
   "cell_type": "code",
   "execution_count": 46,
   "metadata": {},
   "outputs": [
    {
     "name": "stdout",
     "output_type": "stream",
     "text": [
      "basebid  85  click  139\n",
      "basebid  86  click  139\n",
      "basebid  87  click  140\n",
      "basebid  88  click  140\n",
      "basebid  89  click  140\n"
     ]
    }
   ],
   "source": [
    "for counter in range(85,90):\n",
    "    base_bid=counter\n",
    "    bidprice=bid_linear(base_bid, xx, aCTR)\n",
    "    print('basebid ', base_bid, ' click ', evaluate(bidprice))"
   ]
  },
  {
   "cell_type": "code",
   "execution_count": 35,
   "metadata": {
    "collapsed": true
   },
   "outputs": [],
   "source": [
    "xx=test_result['click_pred_per'].copy()"
   ]
  },
  {
   "cell_type": "code",
   "execution_count": null,
   "metadata": {
    "collapsed": true
   },
   "outputs": [],
   "source": []
  }
 ],
 "metadata": {
  "kernelspec": {
   "display_name": "Python 3",
   "language": "python",
   "name": "python3"
  },
  "language_info": {
   "codemirror_mode": {
    "name": "ipython",
    "version": 3
   },
   "file_extension": ".py",
   "mimetype": "text/x-python",
   "name": "python",
   "nbconvert_exporter": "python",
   "pygments_lexer": "ipython3",
   "version": "3.6.2"
  }
 },
 "nbformat": 4,
 "nbformat_minor": 2
}
