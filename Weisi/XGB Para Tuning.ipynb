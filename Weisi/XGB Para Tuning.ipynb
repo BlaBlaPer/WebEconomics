{
 "cells": [
  {
   "cell_type": "code",
   "execution_count": 20,
   "metadata": {
    "collapsed": true
   },
   "outputs": [],
   "source": [
    "import numpy as np\n",
    "import pandas as pd\n",
    "#import training set\n",
    "Train_df = pd.read_csv('/Users/weisihan/Downloads/we_data/train_newfeature.csv')\n",
    "#import validation set\n",
    "Valid_df = pd.read_csv('/Users/weisihan/Downloads/we_data/valid_newfeature.csv')"
   ]
  },
  {
   "cell_type": "code",
   "execution_count": 22,
   "metadata": {
    "collapsed": true
   },
   "outputs": [],
   "source": [
    "# bids which click =1\n",
    "df1 = Train_df[Train_df['click']==1]\n",
    "# bids which click =0\n",
    "df0 = Train_df[Train_df['click']==0]\n",
    "# get 5% of click =0 data, down sampling\n",
    "df2=df0.sample(frac=0.1)"
   ]
  },
  {
   "cell_type": "code",
   "execution_count": 23,
   "metadata": {},
   "outputs": [
    {
     "data": {
      "text/html": [
       "<div>\n",
       "<style scoped>\n",
       "    .dataframe tbody tr th:only-of-type {\n",
       "        vertical-align: middle;\n",
       "    }\n",
       "\n",
       "    .dataframe tbody tr th {\n",
       "        vertical-align: top;\n",
       "    }\n",
       "\n",
       "    .dataframe thead th {\n",
       "        text-align: right;\n",
       "    }\n",
       "</style>\n",
       "<table border=\"1\" class=\"dataframe\">\n",
       "  <thead>\n",
       "    <tr style=\"text-align: right;\">\n",
       "      <th></th>\n",
       "      <th>click</th>\n",
       "      <th>slotwidth</th>\n",
       "      <th>slotheight</th>\n",
       "      <th>slotprice</th>\n",
       "      <th>android</th>\n",
       "      <th>ios</th>\n",
       "      <th>linux</th>\n",
       "      <th>mac</th>\n",
       "      <th>other</th>\n",
       "      <th>windows</th>\n",
       "      <th>...</th>\n",
       "      <th>slotformat_Na</th>\n",
       "      <th>advertiser_1458</th>\n",
       "      <th>advertiser_2259</th>\n",
       "      <th>advertiser_2261</th>\n",
       "      <th>advertiser_2821</th>\n",
       "      <th>advertiser_2997</th>\n",
       "      <th>advertiser_3358</th>\n",
       "      <th>advertiser_3386</th>\n",
       "      <th>advertiser_3427</th>\n",
       "      <th>advertiser_3476</th>\n",
       "    </tr>\n",
       "  </thead>\n",
       "  <tbody>\n",
       "    <tr>\n",
       "      <th>1104</th>\n",
       "      <td>1</td>\n",
       "      <td>1000</td>\n",
       "      <td>90</td>\n",
       "      <td>80</td>\n",
       "      <td>0</td>\n",
       "      <td>0</td>\n",
       "      <td>0</td>\n",
       "      <td>0</td>\n",
       "      <td>0</td>\n",
       "      <td>1</td>\n",
       "      <td>...</td>\n",
       "      <td>0</td>\n",
       "      <td>0</td>\n",
       "      <td>0</td>\n",
       "      <td>0</td>\n",
       "      <td>0</td>\n",
       "      <td>0</td>\n",
       "      <td>0</td>\n",
       "      <td>1</td>\n",
       "      <td>0</td>\n",
       "      <td>0</td>\n",
       "    </tr>\n",
       "    <tr>\n",
       "      <th>4949</th>\n",
       "      <td>1</td>\n",
       "      <td>336</td>\n",
       "      <td>280</td>\n",
       "      <td>0</td>\n",
       "      <td>0</td>\n",
       "      <td>0</td>\n",
       "      <td>0</td>\n",
       "      <td>0</td>\n",
       "      <td>0</td>\n",
       "      <td>1</td>\n",
       "      <td>...</td>\n",
       "      <td>0</td>\n",
       "      <td>1</td>\n",
       "      <td>0</td>\n",
       "      <td>0</td>\n",
       "      <td>0</td>\n",
       "      <td>0</td>\n",
       "      <td>0</td>\n",
       "      <td>0</td>\n",
       "      <td>0</td>\n",
       "      <td>0</td>\n",
       "    </tr>\n",
       "    <tr>\n",
       "      <th>8878</th>\n",
       "      <td>1</td>\n",
       "      <td>300</td>\n",
       "      <td>250</td>\n",
       "      <td>0</td>\n",
       "      <td>1</td>\n",
       "      <td>0</td>\n",
       "      <td>0</td>\n",
       "      <td>0</td>\n",
       "      <td>0</td>\n",
       "      <td>0</td>\n",
       "      <td>...</td>\n",
       "      <td>0</td>\n",
       "      <td>0</td>\n",
       "      <td>0</td>\n",
       "      <td>0</td>\n",
       "      <td>0</td>\n",
       "      <td>0</td>\n",
       "      <td>0</td>\n",
       "      <td>1</td>\n",
       "      <td>0</td>\n",
       "      <td>0</td>\n",
       "    </tr>\n",
       "    <tr>\n",
       "      <th>9790</th>\n",
       "      <td>1</td>\n",
       "      <td>320</td>\n",
       "      <td>50</td>\n",
       "      <td>160</td>\n",
       "      <td>1</td>\n",
       "      <td>0</td>\n",
       "      <td>0</td>\n",
       "      <td>0</td>\n",
       "      <td>0</td>\n",
       "      <td>0</td>\n",
       "      <td>...</td>\n",
       "      <td>1</td>\n",
       "      <td>0</td>\n",
       "      <td>0</td>\n",
       "      <td>0</td>\n",
       "      <td>0</td>\n",
       "      <td>1</td>\n",
       "      <td>0</td>\n",
       "      <td>0</td>\n",
       "      <td>0</td>\n",
       "      <td>0</td>\n",
       "    </tr>\n",
       "    <tr>\n",
       "      <th>10000</th>\n",
       "      <td>1</td>\n",
       "      <td>300</td>\n",
       "      <td>250</td>\n",
       "      <td>0</td>\n",
       "      <td>0</td>\n",
       "      <td>0</td>\n",
       "      <td>0</td>\n",
       "      <td>0</td>\n",
       "      <td>0</td>\n",
       "      <td>1</td>\n",
       "      <td>...</td>\n",
       "      <td>0</td>\n",
       "      <td>0</td>\n",
       "      <td>0</td>\n",
       "      <td>0</td>\n",
       "      <td>0</td>\n",
       "      <td>0</td>\n",
       "      <td>0</td>\n",
       "      <td>1</td>\n",
       "      <td>0</td>\n",
       "      <td>0</td>\n",
       "    </tr>\n",
       "  </tbody>\n",
       "</table>\n",
       "<p>5 rows × 127 columns</p>\n",
       "</div>"
      ],
      "text/plain": [
       "       click  slotwidth  slotheight  slotprice  android  ios  linux  mac  \\\n",
       "1104       1       1000          90         80        0    0      0    0   \n",
       "4949       1        336         280          0        0    0      0    0   \n",
       "8878       1        300         250          0        1    0      0    0   \n",
       "9790       1        320          50        160        1    0      0    0   \n",
       "10000      1        300         250          0        0    0      0    0   \n",
       "\n",
       "       other  windows       ...         slotformat_Na  advertiser_1458  \\\n",
       "1104       0        1       ...                     0                0   \n",
       "4949       0        1       ...                     0                1   \n",
       "8878       0        0       ...                     0                0   \n",
       "9790       0        0       ...                     1                0   \n",
       "10000      0        1       ...                     0                0   \n",
       "\n",
       "       advertiser_2259  advertiser_2261  advertiser_2821  advertiser_2997  \\\n",
       "1104                 0                0                0                0   \n",
       "4949                 0                0                0                0   \n",
       "8878                 0                0                0                0   \n",
       "9790                 0                0                0                1   \n",
       "10000                0                0                0                0   \n",
       "\n",
       "       advertiser_3358  advertiser_3386  advertiser_3427  advertiser_3476  \n",
       "1104                 0                1                0                0  \n",
       "4949                 0                0                0                0  \n",
       "8878                 0                1                0                0  \n",
       "9790                 0                0                0                0  \n",
       "10000                0                1                0                0  \n",
       "\n",
       "[5 rows x 127 columns]"
      ]
     },
     "execution_count": 23,
     "metadata": {},
     "output_type": "execute_result"
    }
   ],
   "source": [
    "# combine 10% of click =0 data and all click=1, down sampling\n",
    "combined_df = pd.concat([df1, df2],axis=0)\n",
    "combined_df.head()\n",
    "#combined_df.shape\n",
    "#(244712, 127)"
   ]
  },
  {
   "cell_type": "code",
   "execution_count": 24,
   "metadata": {
    "collapsed": true
   },
   "outputs": [],
   "source": [
    "#combined_df.to_csv('mytrainingset.csv', encoding='utf-8', index=False)"
   ]
  },
  {
   "cell_type": "code",
   "execution_count": 25,
   "metadata": {},
   "outputs": [
    {
     "data": {
      "text/plain": [
       "(244712, 127)"
      ]
     },
     "execution_count": 25,
     "metadata": {},
     "output_type": "execute_result"
    }
   ],
   "source": [
    "combined_df.shape"
   ]
  },
  {
   "cell_type": "code",
   "execution_count": 26,
   "metadata": {
    "collapsed": true
   },
   "outputs": [],
   "source": [
    "# columns of without click\n",
    "cols=list(combined_df.columns)[1:]"
   ]
  },
  {
   "cell_type": "code",
   "execution_count": 27,
   "metadata": {
    "collapsed": true
   },
   "outputs": [],
   "source": [
    "train = combined_df\n",
    "train_y = train['click']\n",
    "train_x = train[cols]"
   ]
  },
  {
   "cell_type": "markdown",
   "metadata": {},
   "source": [
    "第一步：确定学习速率和tree_based 参数调优的估计器数目\n",
    "\n",
    "树的最大深度一般3-10 \n",
    "max_depth = 5 \n",
    "节点分裂所需的最小损失函数下降值0.1到0.2 \n",
    "gamma = 0 \n",
    "采样 \n",
    "subsample= 0.8, \n",
    "colsample_bytree = 0.8 \n",
    "比较小的值，适用极不平衡的分类问题 \n",
    "min_child_weight = 1 \n",
    "类别十分不平衡 \n",
    "scale_pos_weight = 1"
   ]
  },
  {
   "cell_type": "code",
   "execution_count": 28,
   "metadata": {},
   "outputs": [],
   "source": [
    "from xgboost import XGBClassifier\n",
    "xgb1 = XGBClassifier(\n",
    " learning_rate =0.1,\n",
    " n_estimators=1000,\n",
    " max_depth=5,\n",
    " min_child_weight=1,\n",
    " gamma=0,\n",
    " subsample=0.8,\n",
    " colsample_bytree=0.8,\n",
    " objective= 'binary:logistic',\n",
    " nthread=4,\n",
    " scale_pos_weight=1,\n",
    " seed=27)"
   ]
  },
  {
   "cell_type": "markdown",
   "metadata": {},
   "source": [
    "XGBRegressor(base_score=0.5, colsample_bylevel=1, colsample_bytree=1, gamma=0,\n",
    "       learning_rate=0.1, max_delta_step=0, max_depth=3,\n",
    "       min_child_weight=1, missing=None, n_estimators=100, nthread=-1,\n",
    "       objective='reg:linear', reg_alpha=0, reg_lambda=1,\n",
    "       scale_pos_weight=1, seed=0, silent=True, subsample=1)"
   ]
  },
  {
   "cell_type": "markdown",
   "metadata": {},
   "source": [
    "第二步： max_depth 和 min_weight 参数调优\n",
    "\n",
    "grid_search参考 \n",
    "http://scikit-learn.org/stable/modules/generated/sklearn.grid_search.GridSearchCV.html \n",
    "http://blog.csdn.net/abcjennifer/article/details/23884761 \n",
    "网格搜索scoring=’roc_auc’只支持二分类，多分类需要修改scoring(默认支持多分类)"
   ]
  },
  {
   "cell_type": "code",
   "execution_count": 33,
   "metadata": {},
   "outputs": [
    {
     "data": {
      "text/plain": [
       "([mean: 0.87137, std: 0.00480, params: {'max_depth': 6, 'min_child_weight': 8},\n",
       "  mean: 0.87070, std: 0.00449, params: {'max_depth': 6, 'min_child_weight': 9}],\n",
       " {'max_depth': 6, 'min_child_weight': 8},\n",
       " 0.8713662625399625)"
      ]
     },
     "execution_count": 33,
     "metadata": {},
     "output_type": "execute_result"
    }
   ],
   "source": [
    "#13:06\n",
    "\"\"\"param_test1 = {\n",
    " 'max_depth':range(3,10,2),\n",
    " 'min_child_weight':range(1,6,2)\n",
    "}\"\"\"\n",
    "\n",
    "\"\"\"param_test1 = {\n",
    " 'max_depth':[3,5,7,9],\n",
    " 'min_child_weight':range[1,3,5]\n",
    "}\"\"\"\n",
    "\n",
    "\n",
    "param_test2 = {\n",
    " 'max_depth':[6],\n",
    " 'min_child_weight':[8,9]}\n",
    "\n",
    "\n",
    "from sklearn import svm, grid_search, datasets\n",
    "from sklearn import grid_search\n",
    "\n",
    "gsearch1 = grid_search.GridSearchCV(\n",
    "estimator = XGBClassifier(\n",
    "learning_rate =0.1,\n",
    "n_estimators=100, max_depth=5,\n",
    "min_child_weight=1,\n",
    "gamma=0,\n",
    "subsample=0.8,\n",
    "colsample_bytree=0.8,\n",
    "objective= 'binary:logistic',\n",
    "nthread=4,\n",
    "scale_pos_weight=1,\n",
    "seed=27),\n",
    "param_grid = param_test2,\n",
    "scoring='roc_auc',\n",
    "n_jobs=4,\n",
    "iid=False,cv=5)\n",
    "gsearch1.fit(train_x,train_y )\n",
    "gsearch1.grid_scores_, gsearch1.best_params_,gsearch1.best_score_\n",
    "#网格搜索scoring='roc_auc'只支持二分类，多分类需要修改scoring(默认支持多分类)"
   ]
  },
  {
   "cell_type": "markdown",
   "metadata": {},
   "source": [
    "第三步：gamma参数调优"
   ]
  },
  {
   "cell_type": "code",
   "execution_count": 34,
   "metadata": {},
   "outputs": [
    {
     "data": {
      "text/plain": [
       "([mean: 0.87141, std: 0.00571, params: {'gamma': 0.0},\n",
       "  mean: 0.86976, std: 0.00369, params: {'gamma': 0.1},\n",
       "  mean: 0.86940, std: 0.00541, params: {'gamma': 0.2},\n",
       "  mean: 0.87032, std: 0.00425, params: {'gamma': 0.3},\n",
       "  mean: 0.86870, std: 0.00399, params: {'gamma': 0.4}],\n",
       " {'gamma': 0.0},\n",
       " 0.8714083735434602)"
      ]
     },
     "execution_count": 34,
     "metadata": {},
     "output_type": "execute_result"
    }
   ],
   "source": [
    "#13:36\n",
    "param_test3 = {\n",
    " 'gamma':[i/10.0 for i in range(0,5)]\n",
    "}\n",
    "gsearch3 = grid_search.GridSearchCV(\n",
    "estimator = XGBClassifier( \n",
    "learning_rate =0.1, \n",
    "n_estimators=100, \n",
    "max_depth=6, \n",
    "min_child_weight=7, \n",
    "gamma=0, \n",
    "subsample=0.8, \n",
    "colsample_bytree=0.8, \n",
    "objective= 'binary:logistic', \n",
    "nthread=4, \n",
    "scale_pos_weight=1,\n",
    "seed=27), \n",
    "param_grid = param_test3, \n",
    "scoring='roc_auc',\n",
    "n_jobs=4,\n",
    "iid=False, \n",
    "cv=5)\n",
    "gsearch3.fit(train_x,train_y)\n",
    "gsearch3.grid_scores_, gsearch3.best_params_, gsearch3.best_score_"
   ]
  },
  {
   "cell_type": "markdown",
   "metadata": {},
   "source": [
    "第四步：调整subsample 和 colsample_bytree 参数"
   ]
  },
  {
   "cell_type": "code",
   "execution_count": 35,
   "metadata": {},
   "outputs": [
    {
     "data": {
      "text/plain": [
       "([mean: 0.86791, std: 0.00288, params: {'colsample_bytree': 0.6, 'subsample': 0.6},\n",
       "  mean: 0.86820, std: 0.00350, params: {'colsample_bytree': 0.6, 'subsample': 0.7},\n",
       "  mean: 0.86969, std: 0.00337, params: {'colsample_bytree': 0.6, 'subsample': 0.8},\n",
       "  mean: 0.86977, std: 0.00458, params: {'colsample_bytree': 0.6, 'subsample': 0.9},\n",
       "  mean: 0.86696, std: 0.00493, params: {'colsample_bytree': 0.7, 'subsample': 0.6},\n",
       "  mean: 0.86987, std: 0.00423, params: {'colsample_bytree': 0.7, 'subsample': 0.7},\n",
       "  mean: 0.87040, std: 0.00269, params: {'colsample_bytree': 0.7, 'subsample': 0.8},\n",
       "  mean: 0.86991, std: 0.00520, params: {'colsample_bytree': 0.7, 'subsample': 0.9},\n",
       "  mean: 0.86834, std: 0.00314, params: {'colsample_bytree': 0.8, 'subsample': 0.6},\n",
       "  mean: 0.86790, std: 0.00389, params: {'colsample_bytree': 0.8, 'subsample': 0.7},\n",
       "  mean: 0.87141, std: 0.00571, params: {'colsample_bytree': 0.8, 'subsample': 0.8},\n",
       "  mean: 0.87039, std: 0.00387, params: {'colsample_bytree': 0.8, 'subsample': 0.9},\n",
       "  mean: 0.86779, std: 0.00368, params: {'colsample_bytree': 0.9, 'subsample': 0.6},\n",
       "  mean: 0.86847, std: 0.00379, params: {'colsample_bytree': 0.9, 'subsample': 0.7},\n",
       "  mean: 0.87011, std: 0.00315, params: {'colsample_bytree': 0.9, 'subsample': 0.8},\n",
       "  mean: 0.86952, std: 0.00374, params: {'colsample_bytree': 0.9, 'subsample': 0.9}],\n",
       " {'colsample_bytree': 0.8, 'subsample': 0.8},\n",
       " 0.8714083735434602)"
      ]
     },
     "execution_count": 35,
     "metadata": {},
     "output_type": "execute_result"
    }
   ],
   "source": [
    "#13:48\n",
    "#取0.6,0.7,0.8,0.9作为起始值\n",
    "param_test4 = {\n",
    " 'subsample':[i/10.0 for i in range(6,10)],\n",
    " 'colsample_bytree':[i/10.0 for i in range(6,10)]\n",
    "}\n",
    "\n",
    "gsearch4 = grid_search.GridSearchCV(\n",
    "estimator = XGBClassifier(\n",
    "learning_rate =0.1,\n",
    "n_estimators=100,\n",
    "max_depth=6,\n",
    "min_child_weight=7,\n",
    "gamma=0,\n",
    "subsample=0.8,\n",
    "colsample_bytree=0.8,\n",
    "objective= 'binary:logistic',\n",
    "nthread=4,\n",
    "scale_pos_weight=1,\n",
    "seed=27),\n",
    "param_grid = param_test4,\n",
    "scoring='roc_auc',\n",
    "n_jobs=4,\n",
    "iid=False,\n",
    "cv=5)\n",
    "gsearch4.fit(train_x,train_y)\n",
    "gsearch4.grid_scores_, gsearch4.best_params_, gsearch4.best_score_"
   ]
  },
  {
   "cell_type": "markdown",
   "metadata": {},
   "source": [
    "第五步：正则化参数调优"
   ]
  },
  {
   "cell_type": "code",
   "execution_count": 36,
   "metadata": {},
   "outputs": [
    {
     "data": {
      "text/plain": [
       "([mean: 0.87141, std: 0.00571, params: {'reg_alpha': 1e-05},\n",
       "  mean: 0.86952, std: 0.00523, params: {'reg_alpha': 0.01},\n",
       "  mean: 0.87101, std: 0.00494, params: {'reg_alpha': 0.1},\n",
       "  mean: 0.86972, std: 0.00569, params: {'reg_alpha': 1},\n",
       "  mean: 0.82934, std: 0.00461, params: {'reg_alpha': 100}],\n",
       " {'reg_alpha': 1e-05},\n",
       " 0.871408321878795)"
      ]
     },
     "execution_count": 36,
     "metadata": {},
     "output_type": "execute_result"
    }
   ],
   "source": [
    "param_test6 = {\n",
    " 'reg_alpha':[1e-5, 1e-2, 0.1, 1, 100]\n",
    "}\n",
    "gsearch6 = grid_search.GridSearchCV(\n",
    "estimator = XGBClassifier(\n",
    "learning_rate =0.1,\n",
    "n_estimators=100,\n",
    "max_depth=6,\n",
    "min_child_weight=7,\n",
    "gamma=0,\n",
    "subsample=0.8,\n",
    "colsample_bytree=0.8,\n",
    "objective= 'binary:logistic',\n",
    "nthread=4,\n",
    "scale_pos_weight=1,\n",
    "seed=27),\n",
    "param_grid = param_test6,\n",
    "scoring='roc_auc',\n",
    "n_jobs=4,\n",
    "iid=False,\n",
    "cv=5)\n",
    "gsearch6.fit(train_x,train_y)\n",
    "gsearch6.grid_scores_, gsearch6.best_params_, gsearch6.best_score_"
   ]
  },
  {
   "cell_type": "markdown",
   "metadata": {},
   "source": [
    "第六步：降低学习速率"
   ]
  },
  {
   "cell_type": "code",
   "execution_count": null,
   "metadata": {
    "collapsed": true
   },
   "outputs": [],
   "source": [
    "xgb4 = XGBClassifier(\n",
    " learning_rate =0.1,\n",
    " n_estimators=100,\n",
    " max_depth=6,\n",
    " min_child_weight=7,\n",
    " gamma=0,\n",
    " subsample=0.8,\n",
    " colsample_bytree=0.8,\n",
    " reg_alpha=0.01,\n",
    " objective= 'binary:logistic',\n",
    " nthread=4,\n",
    " scale_pos_weight=1,\n",
    " seed=27)\n",
    "modelfit(xgb4, train, predictors)"
   ]
  }
 ],
 "metadata": {
  "kernelspec": {
   "display_name": "Python 3",
   "language": "python",
   "name": "python3"
  },
  "language_info": {
   "codemirror_mode": {
    "name": "ipython",
    "version": 3
   },
   "file_extension": ".py",
   "mimetype": "text/x-python",
   "name": "python",
   "nbconvert_exporter": "python",
   "pygments_lexer": "ipython3",
   "version": "3.6.2"
  }
 },
 "nbformat": 4,
 "nbformat_minor": 2
}
