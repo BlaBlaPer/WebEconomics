{
 "cells": [
  {
   "cell_type": "code",
   "execution_count": 1,
   "metadata": {},
   "outputs": [],
   "source": [
    "import numpy as np\n",
    "import pandas as pd\n",
    "#import training setvalid_newfeature\n",
    "Train_df = pd.read_csv('/Users/weisihan/Downloads/we_data/train_newfeature.csv')\n",
    "#import validation set\n",
    "Valid_df = pd.read_csv('/Users/weisihan/Downloads/we_data/valid_newfeature.csv')"
   ]
  },
  {
   "cell_type": "code",
   "execution_count": 2,
   "metadata": {
    "collapsed": true
   },
   "outputs": [],
   "source": [
    "\"\"\"Train_dff = pd.read_csv('/Users/weisihan/Downloads/we_data/mytrainingset.csv')\"\"\""
   ]
  },
  {
   "cell_type": "code",
   "execution_count": 2,
   "metadata": {},
   "outputs": [
    {
     "data": {
      "text/plain": [
       "array(['click', 'slotwidth', 'slotheight', 'slotprice', 'android', 'ios',\n",
       "       'linux', 'mac', 'other', 'windows', 'chrome', 'firefox', 'ie',\n",
       "       'maxthon', 'opera', 'other.1', 'safari', 'sogou', 'theworld',\n",
       "       '10006', '10024', '10031', '10048', '10052', '10057', '10059',\n",
       "       '10063', '10067', '10074', '10075', '10076', '10077', '10079',\n",
       "       '10083', '10093', '10102', '10110', '10111', '10114', '10115',\n",
       "       '10116', '10117', '10118', '10120', '10123', '10125', '10126',\n",
       "       '10127', '10129', '10130', '10131', '10133', '10138', '10140',\n",
       "       '10142', '10145', '10146', '10147', '10148', '10149', '10684',\n",
       "       '11092', '11278', '11379', '11423', '11512', '11576', '11632',\n",
       "       '11680', '11724', '11944', '13042', '13403', '13496', '13678',\n",
       "       '13776', '13800', '13866', '13874', '14273', '15398', '16593',\n",
       "       '16617', '16661', '16706', '16751', '16753', 'hour_sin', 'hour_cos',\n",
       "       'city_per', 'region_per', 'weekday_0', 'weekday_1', 'weekday_2',\n",
       "       'weekday_3', 'weekday_4', 'weekday_5', 'weekday_6',\n",
       "       'adexchange_1.0', 'adexchange_2.0', 'adexchange_3.0',\n",
       "       'adexchange_4.0', 'adexchange_nan', 'slotvisibility_0',\n",
       "       'slotvisibility_1', 'slotvisibility_2', 'slotvisibility_255',\n",
       "       'slotvisibility_FifthView', 'slotvisibility_FirstView',\n",
       "       'slotvisibility_FourthView', 'slotvisibility_Na',\n",
       "       'slotvisibility_OtherView', 'slotvisibility_SecondView',\n",
       "       'slotvisibility_ThirdView', 'slotformat_0', 'slotformat_1',\n",
       "       'slotformat_5', 'slotformat_Na', 'advertiser_1458',\n",
       "       'advertiser_2259', 'advertiser_2261', 'advertiser_2821',\n",
       "       'advertiser_2997', 'advertiser_3358', 'advertiser_3386',\n",
       "       'advertiser_3427', 'advertiser_3476'], dtype=object)"
      ]
     },
     "execution_count": 2,
     "metadata": {},
     "output_type": "execute_result"
    }
   ],
   "source": [
    "Train_df.columns.get_values()"
   ]
  },
  {
   "cell_type": "code",
   "execution_count": 3,
   "metadata": {},
   "outputs": [],
   "source": [
    "# columns of without click\n",
    "cols=list(Train_df.columns)[1:]"
   ]
  },
  {
   "cell_type": "code",
   "execution_count": 4,
   "metadata": {},
   "outputs": [
    {
     "data": {
      "text/plain": [
       "(2430981, 127)"
      ]
     },
     "execution_count": 4,
     "metadata": {},
     "output_type": "execute_result"
    }
   ],
   "source": [
    "Train_df.shape"
   ]
  },
  {
   "cell_type": "code",
   "execution_count": 5,
   "metadata": {},
   "outputs": [],
   "source": [
    "Train_df['slotheight']=Train_df['slotheight']/10\n",
    "Train_df['slotwidth']=Train_df['slotwidth']/100\n",
    "Train_df['slotprice']=Train_df['slotprice']/100\n",
    "\n",
    "Valid_df['slotheight']=Valid_df['slotheight']/10\n",
    "Valid_df['slotwidth']=Valid_df['slotwidth']/100\n",
    "Valid_df['slotprice']=Valid_df['slotprice']/100"
   ]
  },
  {
   "cell_type": "code",
   "execution_count": 7,
   "metadata": {
    "collapsed": true
   },
   "outputs": [],
   "source": [
    "\"\"\"Train_dff['slotheight']=Train_dff['slotheight']/10\n",
    "Train_dff['slotwidth']=Train_dff['slotwidth']/100\n",
    "Train_dff['slotprice']=Train_dff['slotprice']/100\"\"\"\n"
   ]
  },
  {
   "cell_type": "code",
   "execution_count": 6,
   "metadata": {},
   "outputs": [],
   "source": [
    "#train = Train_df\n",
    "y_tr = Train_df['click']\n",
    "X_tr = Train_df[cols]\n",
    "y_te = Valid_df['click']\n",
    "X_te = Valid_df[cols]"
   ]
  },
  {
   "cell_type": "code",
   "execution_count": 9,
   "metadata": {
    "collapsed": true
   },
   "outputs": [],
   "source": [
    "#train = Train_dff\n",
    "\"\"\"y_tr1 = Train_dff['click']\n",
    "X_tr1 = Train_dff[cols]\n",
    "y_te1 = Valid_df['click']\n",
    "X_te1 = Valid_df[cols]\"\"\""
   ]
  },
  {
   "cell_type": "code",
   "execution_count": 7,
   "metadata": {},
   "outputs": [],
   "source": [
    "X_te=X_te.values\n",
    "X_tr=X_tr.values\n",
    "y_te=y_te.values\n",
    "y_tr=y_tr.values"
   ]
  },
  {
   "cell_type": "code",
   "execution_count": 12,
   "metadata": {
    "collapsed": true
   },
   "outputs": [],
   "source": [
    "\"\"\"X_te1=X_te1.values\n",
    "X_tr1=X_tr1.values\n",
    "y_te1=y_te1.values\n",
    "y_tr1=y_tr1.values\"\"\""
   ]
  },
  {
   "cell_type": "code",
   "execution_count": 35,
   "metadata": {},
   "outputs": [],
   "source": [
    "import scipy.sparse as sp\n",
    "# only CSR format supported\n",
    "X_tr_sparse = sp.csr_matrix(X_tr)\n",
    "X_te_sparse = sp.csr_matrix(X_te)"
   ]
  },
  {
   "cell_type": "code",
   "execution_count": 13,
   "metadata": {
    "collapsed": true
   },
   "outputs": [],
   "source": [
    "\"\"\"import scipy.sparse as sp\n",
    "# only CSR format supported\n",
    "X_tr_sparse1 = sp.csr_matrix(X_tr1)\n",
    "X_te_sparse1 = sp.csr_matrix(X_te1)\"\"\""
   ]
  },
  {
   "cell_type": "code",
   "execution_count": 10,
   "metadata": {},
   "outputs": [
    {
     "name": "stderr",
     "output_type": "stream",
     "text": [
      "100%|██████████| 30/30 [10:14<00:00, 20.48s/epoch]\n"
     ]
    }
   ],
   "source": [
    "#23:33\n",
    "#train Factorised Machine model\n",
    "from tffm import TFFMClassifier\n",
    "import tensorflow as tf\n",
    "from sklearn.metrics import accuracy_score\n",
    "from sklearn.metrics import roc_auc_score\n",
    "\n",
    "\n",
    "model = TFFMClassifier(\n",
    "    order=3, \n",
    "    rank=10, \n",
    "    optimizer=tf.train.AdamOptimizer(learning_rate=0.001), \n",
    "    n_epochs=30, \n",
    "    batch_size=1024,\n",
    "    init_std=0.001,\n",
    "    reg=0.01,\n",
    "    input_type='sparse',\n",
    "    seed=42\n",
    ")\n",
    "\n",
    "model.fit(X_tr_sparse, y_tr, show_progress=True)\n",
    "\n",
    "    \n"
   ]
  },
  {
   "cell_type": "code",
   "execution_count": 12,
   "metadata": {},
   "outputs": [
    {
     "ename": "TypeError",
     "evalue": "can't pickle SwigPyObject objects",
     "output_type": "error",
     "traceback": [
      "\u001b[0;31m---------------------------------------------------------------------------\u001b[0m",
      "\u001b[0;31mTypeError\u001b[0m                                 Traceback (most recent call last)",
      "\u001b[0;32m<ipython-input-12-cdf5f33fabb8>\u001b[0m in \u001b[0;36m<module>\u001b[0;34m()\u001b[0m\n\u001b[1;32m      2\u001b[0m \u001b[0;34m\u001b[0m\u001b[0m\n\u001b[1;32m      3\u001b[0m \u001b[0mfilename\u001b[0m \u001b[0;34m=\u001b[0m \u001b[0;34m'Complicate_FM_model.sav'\u001b[0m\u001b[0;34m\u001b[0m\u001b[0m\n\u001b[0;32m----> 4\u001b[0;31m \u001b[0mjoblib\u001b[0m\u001b[0;34m.\u001b[0m\u001b[0mdump\u001b[0m\u001b[0;34m(\u001b[0m\u001b[0mmodel\u001b[0m\u001b[0;34m,\u001b[0m \u001b[0mfilename\u001b[0m\u001b[0;34m)\u001b[0m\u001b[0;34m\u001b[0m\u001b[0m\n\u001b[0m",
      "\u001b[0;32m~/anaconda3/envs/tensorflow/lib/python3.5/site-packages/sklearn/externals/joblib/numpy_pickle.py\u001b[0m in \u001b[0;36mdump\u001b[0;34m(value, filename, compress, protocol, cache_size)\u001b[0m\n\u001b[1;32m    482\u001b[0m     \u001b[0;32melif\u001b[0m \u001b[0mis_filename\u001b[0m\u001b[0;34m:\u001b[0m\u001b[0;34m\u001b[0m\u001b[0m\n\u001b[1;32m    483\u001b[0m         \u001b[0;32mwith\u001b[0m \u001b[0mopen\u001b[0m\u001b[0;34m(\u001b[0m\u001b[0mfilename\u001b[0m\u001b[0;34m,\u001b[0m \u001b[0;34m'wb'\u001b[0m\u001b[0;34m)\u001b[0m \u001b[0;32mas\u001b[0m \u001b[0mf\u001b[0m\u001b[0;34m:\u001b[0m\u001b[0;34m\u001b[0m\u001b[0m\n\u001b[0;32m--> 484\u001b[0;31m             \u001b[0mNumpyPickler\u001b[0m\u001b[0;34m(\u001b[0m\u001b[0mf\u001b[0m\u001b[0;34m,\u001b[0m \u001b[0mprotocol\u001b[0m\u001b[0;34m=\u001b[0m\u001b[0mprotocol\u001b[0m\u001b[0;34m)\u001b[0m\u001b[0;34m.\u001b[0m\u001b[0mdump\u001b[0m\u001b[0;34m(\u001b[0m\u001b[0mvalue\u001b[0m\u001b[0;34m)\u001b[0m\u001b[0;34m\u001b[0m\u001b[0m\n\u001b[0m\u001b[1;32m    485\u001b[0m     \u001b[0;32melse\u001b[0m\u001b[0;34m:\u001b[0m\u001b[0;34m\u001b[0m\u001b[0m\n\u001b[1;32m    486\u001b[0m         \u001b[0mNumpyPickler\u001b[0m\u001b[0;34m(\u001b[0m\u001b[0mfilename\u001b[0m\u001b[0;34m,\u001b[0m \u001b[0mprotocol\u001b[0m\u001b[0;34m=\u001b[0m\u001b[0mprotocol\u001b[0m\u001b[0;34m)\u001b[0m\u001b[0;34m.\u001b[0m\u001b[0mdump\u001b[0m\u001b[0;34m(\u001b[0m\u001b[0mvalue\u001b[0m\u001b[0;34m)\u001b[0m\u001b[0;34m\u001b[0m\u001b[0m\n",
      "\u001b[0;32m~/anaconda3/envs/tensorflow/lib/python3.5/pickle.py\u001b[0m in \u001b[0;36mdump\u001b[0;34m(self, obj)\u001b[0m\n\u001b[1;32m    406\u001b[0m         \u001b[0;32mif\u001b[0m \u001b[0mself\u001b[0m\u001b[0;34m.\u001b[0m\u001b[0mproto\u001b[0m \u001b[0;34m>=\u001b[0m \u001b[0;36m4\u001b[0m\u001b[0;34m:\u001b[0m\u001b[0;34m\u001b[0m\u001b[0m\n\u001b[1;32m    407\u001b[0m             \u001b[0mself\u001b[0m\u001b[0;34m.\u001b[0m\u001b[0mframer\u001b[0m\u001b[0;34m.\u001b[0m\u001b[0mstart_framing\u001b[0m\u001b[0;34m(\u001b[0m\u001b[0;34m)\u001b[0m\u001b[0;34m\u001b[0m\u001b[0m\n\u001b[0;32m--> 408\u001b[0;31m         \u001b[0mself\u001b[0m\u001b[0;34m.\u001b[0m\u001b[0msave\u001b[0m\u001b[0;34m(\u001b[0m\u001b[0mobj\u001b[0m\u001b[0;34m)\u001b[0m\u001b[0;34m\u001b[0m\u001b[0m\n\u001b[0m\u001b[1;32m    409\u001b[0m         \u001b[0mself\u001b[0m\u001b[0;34m.\u001b[0m\u001b[0mwrite\u001b[0m\u001b[0;34m(\u001b[0m\u001b[0mSTOP\u001b[0m\u001b[0;34m)\u001b[0m\u001b[0;34m\u001b[0m\u001b[0m\n\u001b[1;32m    410\u001b[0m         \u001b[0mself\u001b[0m\u001b[0;34m.\u001b[0m\u001b[0mframer\u001b[0m\u001b[0;34m.\u001b[0m\u001b[0mend_framing\u001b[0m\u001b[0;34m(\u001b[0m\u001b[0;34m)\u001b[0m\u001b[0;34m\u001b[0m\u001b[0m\n",
      "\u001b[0;32m~/anaconda3/envs/tensorflow/lib/python3.5/site-packages/sklearn/externals/joblib/numpy_pickle.py\u001b[0m in \u001b[0;36msave\u001b[0;34m(self, obj)\u001b[0m\n\u001b[1;32m    279\u001b[0m             \u001b[0;32mreturn\u001b[0m\u001b[0;34m\u001b[0m\u001b[0m\n\u001b[1;32m    280\u001b[0m \u001b[0;34m\u001b[0m\u001b[0m\n\u001b[0;32m--> 281\u001b[0;31m         \u001b[0;32mreturn\u001b[0m \u001b[0mPickler\u001b[0m\u001b[0;34m.\u001b[0m\u001b[0msave\u001b[0m\u001b[0;34m(\u001b[0m\u001b[0mself\u001b[0m\u001b[0;34m,\u001b[0m \u001b[0mobj\u001b[0m\u001b[0;34m)\u001b[0m\u001b[0;34m\u001b[0m\u001b[0m\n\u001b[0m\u001b[1;32m    282\u001b[0m \u001b[0;34m\u001b[0m\u001b[0m\n\u001b[1;32m    283\u001b[0m \u001b[0;34m\u001b[0m\u001b[0m\n",
      "\u001b[0;32m~/anaconda3/envs/tensorflow/lib/python3.5/pickle.py\u001b[0m in \u001b[0;36msave\u001b[0;34m(self, obj, save_persistent_id)\u001b[0m\n\u001b[1;32m    518\u001b[0m \u001b[0;34m\u001b[0m\u001b[0m\n\u001b[1;32m    519\u001b[0m         \u001b[0;31m# Save the reduce() output and finally memoize the object\u001b[0m\u001b[0;34m\u001b[0m\u001b[0;34m\u001b[0m\u001b[0m\n\u001b[0;32m--> 520\u001b[0;31m         \u001b[0mself\u001b[0m\u001b[0;34m.\u001b[0m\u001b[0msave_reduce\u001b[0m\u001b[0;34m(\u001b[0m\u001b[0mobj\u001b[0m\u001b[0;34m=\u001b[0m\u001b[0mobj\u001b[0m\u001b[0;34m,\u001b[0m \u001b[0;34m*\u001b[0m\u001b[0mrv\u001b[0m\u001b[0;34m)\u001b[0m\u001b[0;34m\u001b[0m\u001b[0m\n\u001b[0m\u001b[1;32m    521\u001b[0m \u001b[0;34m\u001b[0m\u001b[0m\n\u001b[1;32m    522\u001b[0m     \u001b[0;32mdef\u001b[0m \u001b[0mpersistent_id\u001b[0m\u001b[0;34m(\u001b[0m\u001b[0mself\u001b[0m\u001b[0;34m,\u001b[0m \u001b[0mobj\u001b[0m\u001b[0;34m)\u001b[0m\u001b[0;34m:\u001b[0m\u001b[0;34m\u001b[0m\u001b[0m\n",
      "\u001b[0;32m~/anaconda3/envs/tensorflow/lib/python3.5/pickle.py\u001b[0m in \u001b[0;36msave_reduce\u001b[0;34m(self, func, args, state, listitems, dictitems, obj)\u001b[0m\n\u001b[1;32m    625\u001b[0m \u001b[0;34m\u001b[0m\u001b[0m\n\u001b[1;32m    626\u001b[0m         \u001b[0;32mif\u001b[0m \u001b[0mstate\u001b[0m \u001b[0;32mis\u001b[0m \u001b[0;32mnot\u001b[0m \u001b[0;32mNone\u001b[0m\u001b[0;34m:\u001b[0m\u001b[0;34m\u001b[0m\u001b[0m\n\u001b[0;32m--> 627\u001b[0;31m             \u001b[0msave\u001b[0m\u001b[0;34m(\u001b[0m\u001b[0mstate\u001b[0m\u001b[0;34m)\u001b[0m\u001b[0;34m\u001b[0m\u001b[0m\n\u001b[0m\u001b[1;32m    628\u001b[0m             \u001b[0mwrite\u001b[0m\u001b[0;34m(\u001b[0m\u001b[0mBUILD\u001b[0m\u001b[0;34m)\u001b[0m\u001b[0;34m\u001b[0m\u001b[0m\n\u001b[1;32m    629\u001b[0m \u001b[0;34m\u001b[0m\u001b[0m\n",
      "\u001b[0;32m~/anaconda3/envs/tensorflow/lib/python3.5/site-packages/sklearn/externals/joblib/numpy_pickle.py\u001b[0m in \u001b[0;36msave\u001b[0;34m(self, obj)\u001b[0m\n\u001b[1;32m    279\u001b[0m             \u001b[0;32mreturn\u001b[0m\u001b[0;34m\u001b[0m\u001b[0m\n\u001b[1;32m    280\u001b[0m \u001b[0;34m\u001b[0m\u001b[0m\n\u001b[0;32m--> 281\u001b[0;31m         \u001b[0;32mreturn\u001b[0m \u001b[0mPickler\u001b[0m\u001b[0;34m.\u001b[0m\u001b[0msave\u001b[0m\u001b[0;34m(\u001b[0m\u001b[0mself\u001b[0m\u001b[0;34m,\u001b[0m \u001b[0mobj\u001b[0m\u001b[0;34m)\u001b[0m\u001b[0;34m\u001b[0m\u001b[0m\n\u001b[0m\u001b[1;32m    282\u001b[0m \u001b[0;34m\u001b[0m\u001b[0m\n\u001b[1;32m    283\u001b[0m \u001b[0;34m\u001b[0m\u001b[0m\n",
      "\u001b[0;32m~/anaconda3/envs/tensorflow/lib/python3.5/pickle.py\u001b[0m in \u001b[0;36msave\u001b[0;34m(self, obj, save_persistent_id)\u001b[0m\n\u001b[1;32m    473\u001b[0m         \u001b[0mf\u001b[0m \u001b[0;34m=\u001b[0m \u001b[0mself\u001b[0m\u001b[0;34m.\u001b[0m\u001b[0mdispatch\u001b[0m\u001b[0;34m.\u001b[0m\u001b[0mget\u001b[0m\u001b[0;34m(\u001b[0m\u001b[0mt\u001b[0m\u001b[0;34m)\u001b[0m\u001b[0;34m\u001b[0m\u001b[0m\n\u001b[1;32m    474\u001b[0m         \u001b[0;32mif\u001b[0m \u001b[0mf\u001b[0m \u001b[0;32mis\u001b[0m \u001b[0;32mnot\u001b[0m \u001b[0;32mNone\u001b[0m\u001b[0;34m:\u001b[0m\u001b[0;34m\u001b[0m\u001b[0m\n\u001b[0;32m--> 475\u001b[0;31m             \u001b[0mf\u001b[0m\u001b[0;34m(\u001b[0m\u001b[0mself\u001b[0m\u001b[0;34m,\u001b[0m \u001b[0mobj\u001b[0m\u001b[0;34m)\u001b[0m \u001b[0;31m# Call unbound method with explicit self\u001b[0m\u001b[0;34m\u001b[0m\u001b[0m\n\u001b[0m\u001b[1;32m    476\u001b[0m             \u001b[0;32mreturn\u001b[0m\u001b[0;34m\u001b[0m\u001b[0m\n\u001b[1;32m    477\u001b[0m \u001b[0;34m\u001b[0m\u001b[0m\n",
      "\u001b[0;32m~/anaconda3/envs/tensorflow/lib/python3.5/pickle.py\u001b[0m in \u001b[0;36msave_dict\u001b[0;34m(self, obj)\u001b[0m\n\u001b[1;32m    812\u001b[0m \u001b[0;34m\u001b[0m\u001b[0m\n\u001b[1;32m    813\u001b[0m         \u001b[0mself\u001b[0m\u001b[0;34m.\u001b[0m\u001b[0mmemoize\u001b[0m\u001b[0;34m(\u001b[0m\u001b[0mobj\u001b[0m\u001b[0;34m)\u001b[0m\u001b[0;34m\u001b[0m\u001b[0m\n\u001b[0;32m--> 814\u001b[0;31m         \u001b[0mself\u001b[0m\u001b[0;34m.\u001b[0m\u001b[0m_batch_setitems\u001b[0m\u001b[0;34m(\u001b[0m\u001b[0mobj\u001b[0m\u001b[0;34m.\u001b[0m\u001b[0mitems\u001b[0m\u001b[0;34m(\u001b[0m\u001b[0;34m)\u001b[0m\u001b[0;34m)\u001b[0m\u001b[0;34m\u001b[0m\u001b[0m\n\u001b[0m\u001b[1;32m    815\u001b[0m \u001b[0;34m\u001b[0m\u001b[0m\n\u001b[1;32m    816\u001b[0m     \u001b[0mdispatch\u001b[0m\u001b[0;34m[\u001b[0m\u001b[0mdict\u001b[0m\u001b[0;34m]\u001b[0m \u001b[0;34m=\u001b[0m \u001b[0msave_dict\u001b[0m\u001b[0;34m\u001b[0m\u001b[0m\n",
      "\u001b[0;32m~/anaconda3/envs/tensorflow/lib/python3.5/pickle.py\u001b[0m in \u001b[0;36m_batch_setitems\u001b[0;34m(self, items)\u001b[0m\n\u001b[1;32m    838\u001b[0m                 \u001b[0;32mfor\u001b[0m \u001b[0mk\u001b[0m\u001b[0;34m,\u001b[0m \u001b[0mv\u001b[0m \u001b[0;32min\u001b[0m \u001b[0mtmp\u001b[0m\u001b[0;34m:\u001b[0m\u001b[0;34m\u001b[0m\u001b[0m\n\u001b[1;32m    839\u001b[0m                     \u001b[0msave\u001b[0m\u001b[0;34m(\u001b[0m\u001b[0mk\u001b[0m\u001b[0;34m)\u001b[0m\u001b[0;34m\u001b[0m\u001b[0m\n\u001b[0;32m--> 840\u001b[0;31m                     \u001b[0msave\u001b[0m\u001b[0;34m(\u001b[0m\u001b[0mv\u001b[0m\u001b[0;34m)\u001b[0m\u001b[0;34m\u001b[0m\u001b[0m\n\u001b[0m\u001b[1;32m    841\u001b[0m                 \u001b[0mwrite\u001b[0m\u001b[0;34m(\u001b[0m\u001b[0mSETITEMS\u001b[0m\u001b[0;34m)\u001b[0m\u001b[0;34m\u001b[0m\u001b[0m\n\u001b[1;32m    842\u001b[0m             \u001b[0;32melif\u001b[0m \u001b[0mn\u001b[0m\u001b[0;34m:\u001b[0m\u001b[0;34m\u001b[0m\u001b[0m\n",
      "\u001b[0;32m~/anaconda3/envs/tensorflow/lib/python3.5/site-packages/sklearn/externals/joblib/numpy_pickle.py\u001b[0m in \u001b[0;36msave\u001b[0;34m(self, obj)\u001b[0m\n\u001b[1;32m    279\u001b[0m             \u001b[0;32mreturn\u001b[0m\u001b[0;34m\u001b[0m\u001b[0m\n\u001b[1;32m    280\u001b[0m \u001b[0;34m\u001b[0m\u001b[0m\n\u001b[0;32m--> 281\u001b[0;31m         \u001b[0;32mreturn\u001b[0m \u001b[0mPickler\u001b[0m\u001b[0;34m.\u001b[0m\u001b[0msave\u001b[0m\u001b[0;34m(\u001b[0m\u001b[0mself\u001b[0m\u001b[0;34m,\u001b[0m \u001b[0mobj\u001b[0m\u001b[0;34m)\u001b[0m\u001b[0;34m\u001b[0m\u001b[0m\n\u001b[0m\u001b[1;32m    282\u001b[0m \u001b[0;34m\u001b[0m\u001b[0m\n\u001b[1;32m    283\u001b[0m \u001b[0;34m\u001b[0m\u001b[0m\n",
      "\u001b[0;32m~/anaconda3/envs/tensorflow/lib/python3.5/pickle.py\u001b[0m in \u001b[0;36msave\u001b[0;34m(self, obj, save_persistent_id)\u001b[0m\n\u001b[1;32m    518\u001b[0m \u001b[0;34m\u001b[0m\u001b[0m\n\u001b[1;32m    519\u001b[0m         \u001b[0;31m# Save the reduce() output and finally memoize the object\u001b[0m\u001b[0;34m\u001b[0m\u001b[0;34m\u001b[0m\u001b[0m\n\u001b[0;32m--> 520\u001b[0;31m         \u001b[0mself\u001b[0m\u001b[0;34m.\u001b[0m\u001b[0msave_reduce\u001b[0m\u001b[0;34m(\u001b[0m\u001b[0mobj\u001b[0m\u001b[0;34m=\u001b[0m\u001b[0mobj\u001b[0m\u001b[0;34m,\u001b[0m \u001b[0;34m*\u001b[0m\u001b[0mrv\u001b[0m\u001b[0;34m)\u001b[0m\u001b[0;34m\u001b[0m\u001b[0m\n\u001b[0m\u001b[1;32m    521\u001b[0m \u001b[0;34m\u001b[0m\u001b[0m\n\u001b[1;32m    522\u001b[0m     \u001b[0;32mdef\u001b[0m \u001b[0mpersistent_id\u001b[0m\u001b[0;34m(\u001b[0m\u001b[0mself\u001b[0m\u001b[0;34m,\u001b[0m \u001b[0mobj\u001b[0m\u001b[0;34m)\u001b[0m\u001b[0;34m:\u001b[0m\u001b[0;34m\u001b[0m\u001b[0m\n",
      "\u001b[0;32m~/anaconda3/envs/tensorflow/lib/python3.5/pickle.py\u001b[0m in \u001b[0;36msave_reduce\u001b[0;34m(self, func, args, state, listitems, dictitems, obj)\u001b[0m\n\u001b[1;32m    625\u001b[0m \u001b[0;34m\u001b[0m\u001b[0m\n\u001b[1;32m    626\u001b[0m         \u001b[0;32mif\u001b[0m \u001b[0mstate\u001b[0m \u001b[0;32mis\u001b[0m \u001b[0;32mnot\u001b[0m \u001b[0;32mNone\u001b[0m\u001b[0;34m:\u001b[0m\u001b[0;34m\u001b[0m\u001b[0m\n\u001b[0;32m--> 627\u001b[0;31m             \u001b[0msave\u001b[0m\u001b[0;34m(\u001b[0m\u001b[0mstate\u001b[0m\u001b[0;34m)\u001b[0m\u001b[0;34m\u001b[0m\u001b[0m\n\u001b[0m\u001b[1;32m    628\u001b[0m             \u001b[0mwrite\u001b[0m\u001b[0;34m(\u001b[0m\u001b[0mBUILD\u001b[0m\u001b[0;34m)\u001b[0m\u001b[0;34m\u001b[0m\u001b[0m\n\u001b[1;32m    629\u001b[0m \u001b[0;34m\u001b[0m\u001b[0m\n",
      "\u001b[0;32m~/anaconda3/envs/tensorflow/lib/python3.5/site-packages/sklearn/externals/joblib/numpy_pickle.py\u001b[0m in \u001b[0;36msave\u001b[0;34m(self, obj)\u001b[0m\n\u001b[1;32m    279\u001b[0m             \u001b[0;32mreturn\u001b[0m\u001b[0;34m\u001b[0m\u001b[0m\n\u001b[1;32m    280\u001b[0m \u001b[0;34m\u001b[0m\u001b[0m\n\u001b[0;32m--> 281\u001b[0;31m         \u001b[0;32mreturn\u001b[0m \u001b[0mPickler\u001b[0m\u001b[0;34m.\u001b[0m\u001b[0msave\u001b[0m\u001b[0;34m(\u001b[0m\u001b[0mself\u001b[0m\u001b[0;34m,\u001b[0m \u001b[0mobj\u001b[0m\u001b[0;34m)\u001b[0m\u001b[0;34m\u001b[0m\u001b[0m\n\u001b[0m\u001b[1;32m    282\u001b[0m \u001b[0;34m\u001b[0m\u001b[0m\n\u001b[1;32m    283\u001b[0m \u001b[0;34m\u001b[0m\u001b[0m\n",
      "\u001b[0;32m~/anaconda3/envs/tensorflow/lib/python3.5/pickle.py\u001b[0m in \u001b[0;36msave\u001b[0;34m(self, obj, save_persistent_id)\u001b[0m\n\u001b[1;32m    473\u001b[0m         \u001b[0mf\u001b[0m \u001b[0;34m=\u001b[0m \u001b[0mself\u001b[0m\u001b[0;34m.\u001b[0m\u001b[0mdispatch\u001b[0m\u001b[0;34m.\u001b[0m\u001b[0mget\u001b[0m\u001b[0;34m(\u001b[0m\u001b[0mt\u001b[0m\u001b[0;34m)\u001b[0m\u001b[0;34m\u001b[0m\u001b[0m\n\u001b[1;32m    474\u001b[0m         \u001b[0;32mif\u001b[0m \u001b[0mf\u001b[0m \u001b[0;32mis\u001b[0m \u001b[0;32mnot\u001b[0m \u001b[0;32mNone\u001b[0m\u001b[0;34m:\u001b[0m\u001b[0;34m\u001b[0m\u001b[0m\n\u001b[0;32m--> 475\u001b[0;31m             \u001b[0mf\u001b[0m\u001b[0;34m(\u001b[0m\u001b[0mself\u001b[0m\u001b[0;34m,\u001b[0m \u001b[0mobj\u001b[0m\u001b[0;34m)\u001b[0m \u001b[0;31m# Call unbound method with explicit self\u001b[0m\u001b[0;34m\u001b[0m\u001b[0m\n\u001b[0m\u001b[1;32m    476\u001b[0m             \u001b[0;32mreturn\u001b[0m\u001b[0;34m\u001b[0m\u001b[0m\n\u001b[1;32m    477\u001b[0m \u001b[0;34m\u001b[0m\u001b[0m\n",
      "\u001b[0;32m~/anaconda3/envs/tensorflow/lib/python3.5/pickle.py\u001b[0m in \u001b[0;36msave_dict\u001b[0;34m(self, obj)\u001b[0m\n\u001b[1;32m    812\u001b[0m \u001b[0;34m\u001b[0m\u001b[0m\n\u001b[1;32m    813\u001b[0m         \u001b[0mself\u001b[0m\u001b[0;34m.\u001b[0m\u001b[0mmemoize\u001b[0m\u001b[0;34m(\u001b[0m\u001b[0mobj\u001b[0m\u001b[0;34m)\u001b[0m\u001b[0;34m\u001b[0m\u001b[0m\n\u001b[0;32m--> 814\u001b[0;31m         \u001b[0mself\u001b[0m\u001b[0;34m.\u001b[0m\u001b[0m_batch_setitems\u001b[0m\u001b[0;34m(\u001b[0m\u001b[0mobj\u001b[0m\u001b[0;34m.\u001b[0m\u001b[0mitems\u001b[0m\u001b[0;34m(\u001b[0m\u001b[0;34m)\u001b[0m\u001b[0;34m)\u001b[0m\u001b[0;34m\u001b[0m\u001b[0m\n\u001b[0m\u001b[1;32m    815\u001b[0m \u001b[0;34m\u001b[0m\u001b[0m\n\u001b[1;32m    816\u001b[0m     \u001b[0mdispatch\u001b[0m\u001b[0;34m[\u001b[0m\u001b[0mdict\u001b[0m\u001b[0;34m]\u001b[0m \u001b[0;34m=\u001b[0m \u001b[0msave_dict\u001b[0m\u001b[0;34m\u001b[0m\u001b[0m\n",
      "\u001b[0;32m~/anaconda3/envs/tensorflow/lib/python3.5/pickle.py\u001b[0m in \u001b[0;36m_batch_setitems\u001b[0;34m(self, items)\u001b[0m\n\u001b[1;32m    838\u001b[0m                 \u001b[0;32mfor\u001b[0m \u001b[0mk\u001b[0m\u001b[0;34m,\u001b[0m \u001b[0mv\u001b[0m \u001b[0;32min\u001b[0m \u001b[0mtmp\u001b[0m\u001b[0;34m:\u001b[0m\u001b[0;34m\u001b[0m\u001b[0m\n\u001b[1;32m    839\u001b[0m                     \u001b[0msave\u001b[0m\u001b[0;34m(\u001b[0m\u001b[0mk\u001b[0m\u001b[0;34m)\u001b[0m\u001b[0;34m\u001b[0m\u001b[0m\n\u001b[0;32m--> 840\u001b[0;31m                     \u001b[0msave\u001b[0m\u001b[0;34m(\u001b[0m\u001b[0mv\u001b[0m\u001b[0;34m)\u001b[0m\u001b[0;34m\u001b[0m\u001b[0m\n\u001b[0m\u001b[1;32m    841\u001b[0m                 \u001b[0mwrite\u001b[0m\u001b[0;34m(\u001b[0m\u001b[0mSETITEMS\u001b[0m\u001b[0;34m)\u001b[0m\u001b[0;34m\u001b[0m\u001b[0m\n\u001b[1;32m    842\u001b[0m             \u001b[0;32melif\u001b[0m \u001b[0mn\u001b[0m\u001b[0;34m:\u001b[0m\u001b[0;34m\u001b[0m\u001b[0m\n",
      "\u001b[0;32m~/anaconda3/envs/tensorflow/lib/python3.5/site-packages/sklearn/externals/joblib/numpy_pickle.py\u001b[0m in \u001b[0;36msave\u001b[0;34m(self, obj)\u001b[0m\n\u001b[1;32m    279\u001b[0m             \u001b[0;32mreturn\u001b[0m\u001b[0;34m\u001b[0m\u001b[0m\n\u001b[1;32m    280\u001b[0m \u001b[0;34m\u001b[0m\u001b[0m\n\u001b[0;32m--> 281\u001b[0;31m         \u001b[0;32mreturn\u001b[0m \u001b[0mPickler\u001b[0m\u001b[0;34m.\u001b[0m\u001b[0msave\u001b[0m\u001b[0;34m(\u001b[0m\u001b[0mself\u001b[0m\u001b[0;34m,\u001b[0m \u001b[0mobj\u001b[0m\u001b[0;34m)\u001b[0m\u001b[0;34m\u001b[0m\u001b[0m\n\u001b[0m\u001b[1;32m    282\u001b[0m \u001b[0;34m\u001b[0m\u001b[0m\n\u001b[1;32m    283\u001b[0m \u001b[0;34m\u001b[0m\u001b[0m\n",
      "\u001b[0;32m~/anaconda3/envs/tensorflow/lib/python3.5/pickle.py\u001b[0m in \u001b[0;36msave\u001b[0;34m(self, obj, save_persistent_id)\u001b[0m\n\u001b[1;32m    493\u001b[0m             \u001b[0mreduce\u001b[0m \u001b[0;34m=\u001b[0m \u001b[0mgetattr\u001b[0m\u001b[0;34m(\u001b[0m\u001b[0mobj\u001b[0m\u001b[0;34m,\u001b[0m \u001b[0;34m\"__reduce_ex__\"\u001b[0m\u001b[0;34m,\u001b[0m \u001b[0;32mNone\u001b[0m\u001b[0;34m)\u001b[0m\u001b[0;34m\u001b[0m\u001b[0m\n\u001b[1;32m    494\u001b[0m             \u001b[0;32mif\u001b[0m \u001b[0mreduce\u001b[0m \u001b[0;32mis\u001b[0m \u001b[0;32mnot\u001b[0m \u001b[0;32mNone\u001b[0m\u001b[0;34m:\u001b[0m\u001b[0;34m\u001b[0m\u001b[0m\n\u001b[0;32m--> 495\u001b[0;31m                 \u001b[0mrv\u001b[0m \u001b[0;34m=\u001b[0m \u001b[0mreduce\u001b[0m\u001b[0;34m(\u001b[0m\u001b[0mself\u001b[0m\u001b[0;34m.\u001b[0m\u001b[0mproto\u001b[0m\u001b[0;34m)\u001b[0m\u001b[0;34m\u001b[0m\u001b[0m\n\u001b[0m\u001b[1;32m    496\u001b[0m             \u001b[0;32melse\u001b[0m\u001b[0;34m:\u001b[0m\u001b[0;34m\u001b[0m\u001b[0m\n\u001b[1;32m    497\u001b[0m                 \u001b[0mreduce\u001b[0m \u001b[0;34m=\u001b[0m \u001b[0mgetattr\u001b[0m\u001b[0;34m(\u001b[0m\u001b[0mobj\u001b[0m\u001b[0;34m,\u001b[0m \u001b[0;34m\"__reduce__\"\u001b[0m\u001b[0;34m,\u001b[0m \u001b[0;32mNone\u001b[0m\u001b[0;34m)\u001b[0m\u001b[0;34m\u001b[0m\u001b[0m\n",
      "\u001b[0;31mTypeError\u001b[0m: can't pickle SwigPyObject objects"
     ]
    }
   ],
   "source": [
    "from sklearn.externals import joblib\n",
    "\n",
    "filename = 'Complicate_FM_model.sav'\n",
    "joblib.dump(model, filename)"
   ]
  },
  {
   "cell_type": "code",
   "execution_count": 36,
   "metadata": {},
   "outputs": [
    {
     "name": "stderr",
     "output_type": "stream",
     "text": [
      "/Users/weisihan/Downloads/tffm-master/tffm/utils.py:195: RuntimeWarning: overflow encountered in exp\n",
      "  return 1 / (1 + np.exp(-x))\n"
     ]
    },
    {
     "name": "stdout",
     "output_type": "stream",
     "text": [
      "model: TFFMClassifier()\n",
      "the accuracy is: 0.999368\n",
      "the AUC for FM is: 0.860694\n",
      "==================================\n"
     ]
    }
   ],
   "source": [
    "test_predictions = model.predict_proba(X_te_sparse)\n",
    "test_predictions_class = model.predict(X_te_sparse)\n",
    "\n",
    "acc = accuracy_score(y_te, test_predictions_class)\n",
    "print('model: {}'.format(model.__str__()))\n",
    "print(\"the accuracy is: {0:6f}\".format(acc))\n",
    "print (\"the AUC for FM is: {0:6f}\".format(roc_auc_score(y_te, test_predictions[:,1])))\n",
    "print(\"==================================\")\n"
   ]
  },
  {
   "cell_type": "code",
   "execution_count": 21,
   "metadata": {},
   "outputs": [
    {
     "name": "stderr",
     "output_type": "stream",
     "text": [
      "100%|██████████| 30/30 [00:46<00:00,  1.56s/epoch]\n"
     ]
    },
    {
     "name": "stdout",
     "output_type": "stream",
     "text": [
      "model: TFFMClassifier()\n",
      "the accuracy is: 0.999148\n",
      "the AUC for FM is: 0.876168\n",
      "==================================\n"
     ]
    }
   ],
   "source": [
    "\"\"\"#23:33\n",
    "#train Factorised Machine model\n",
    "from tffm import TFFMClassifier\n",
    "import tensorflow as tf\n",
    "from sklearn.metrics import accuracy_score\n",
    "from sklearn.metrics import roc_auc_score\n",
    "\n",
    "for epo in [3]:\n",
    "    model = TFFMClassifier(\n",
    "        order=epo, \n",
    "        rank=10, \n",
    "        optimizer=tf.train.AdamOptimizer(learning_rate=0.001), \n",
    "        n_epochs=30, \n",
    "        batch_size=1024,\n",
    "        init_std=0.001,\n",
    "        reg=0.01,\n",
    "        input_type='sparse',\n",
    "        seed=42\n",
    "    )\n",
    "\n",
    "    model.fit(X_tr_sparse1, y_tr1, show_progress=True)\n",
    "\n",
    "    test_predictions1 = model.predict_proba(X_te_sparse1)\n",
    "    test_predictions_class1 = model.predict(X_te_sparse1)\n",
    "\n",
    "    acc1 = accuracy_score(y_te1, test_predictions_class1)\n",
    "    print('model: {}'.format(model.__str__()))\n",
    "    print(\"the accuracy is: {0:6f}\".format(acc1))\n",
    "    print (\"the AUC for FM is: {0:6f}\".format(roc_auc_score(y_te1, test_predictions1[:,1])))\n",
    "    print(\"==================================\")\n",
    "\n",
    "\n",
    "\"\"\""
   ]
  },
  {
   "cell_type": "code",
   "execution_count": 37,
   "metadata": {},
   "outputs": [
    {
     "data": {
      "text/html": [
       "<div>\n",
       "<style scoped>\n",
       "    .dataframe tbody tr th:only-of-type {\n",
       "        vertical-align: middle;\n",
       "    }\n",
       "\n",
       "    .dataframe tbody tr th {\n",
       "        vertical-align: top;\n",
       "    }\n",
       "\n",
       "    .dataframe thead th {\n",
       "        text-align: right;\n",
       "    }\n",
       "</style>\n",
       "<table border=\"1\" class=\"dataframe\">\n",
       "  <thead>\n",
       "    <tr style=\"text-align: right;\">\n",
       "      <th></th>\n",
       "      <th>click</th>\n",
       "      <th>click_pred_per</th>\n",
       "      <th>click_pred_class</th>\n",
       "    </tr>\n",
       "  </thead>\n",
       "  <tbody>\n",
       "    <tr>\n",
       "      <th>0</th>\n",
       "      <td>0</td>\n",
       "      <td>8.070621e-06</td>\n",
       "      <td>0</td>\n",
       "    </tr>\n",
       "    <tr>\n",
       "      <th>1</th>\n",
       "      <td>0</td>\n",
       "      <td>1.511669e-05</td>\n",
       "      <td>0</td>\n",
       "    </tr>\n",
       "    <tr>\n",
       "      <th>2</th>\n",
       "      <td>0</td>\n",
       "      <td>1.076373e-06</td>\n",
       "      <td>0</td>\n",
       "    </tr>\n",
       "    <tr>\n",
       "      <th>3</th>\n",
       "      <td>0</td>\n",
       "      <td>6.873208e-07</td>\n",
       "      <td>0</td>\n",
       "    </tr>\n",
       "    <tr>\n",
       "      <th>4</th>\n",
       "      <td>0</td>\n",
       "      <td>1.298226e-05</td>\n",
       "      <td>0</td>\n",
       "    </tr>\n",
       "  </tbody>\n",
       "</table>\n",
       "</div>"
      ],
      "text/plain": [
       "   click  click_pred_per  click_pred_class\n",
       "0      0    8.070621e-06                 0\n",
       "1      0    1.511669e-05                 0\n",
       "2      0    1.076373e-06                 0\n",
       "3      0    6.873208e-07                 0\n",
       "4      0    1.298226e-05                 0"
      ]
     },
     "execution_count": 37,
     "metadata": {},
     "output_type": "execute_result"
    }
   ],
   "source": [
    "test_result = pd.DataFrame(columns=['click', 'click_pred_per', 'click_pred_class'])  \n",
    "test_result['click']= Valid_df['click'].copy()\n",
    "test_result['click_pred_per'] = test_predictions[:,1]\n",
    "test_result['click_pred_class'] = test_predictions_class\n",
    "test_result.head()"
   ]
  },
  {
   "cell_type": "code",
   "execution_count": 22,
   "metadata": {},
   "outputs": [
    {
     "data": {
      "text/html": [
       "<div>\n",
       "<style scoped>\n",
       "    .dataframe tbody tr th:only-of-type {\n",
       "        vertical-align: middle;\n",
       "    }\n",
       "\n",
       "    .dataframe tbody tr th {\n",
       "        vertical-align: top;\n",
       "    }\n",
       "\n",
       "    .dataframe thead th {\n",
       "        text-align: right;\n",
       "    }\n",
       "</style>\n",
       "<table border=\"1\" class=\"dataframe\">\n",
       "  <thead>\n",
       "    <tr style=\"text-align: right;\">\n",
       "      <th></th>\n",
       "      <th>click</th>\n",
       "      <th>click_pred_per</th>\n",
       "      <th>click_pred_class</th>\n",
       "    </tr>\n",
       "  </thead>\n",
       "  <tbody>\n",
       "    <tr>\n",
       "      <th>0</th>\n",
       "      <td>0</td>\n",
       "      <td>0.000094</td>\n",
       "      <td>0</td>\n",
       "    </tr>\n",
       "    <tr>\n",
       "      <th>1</th>\n",
       "      <td>0</td>\n",
       "      <td>0.000093</td>\n",
       "      <td>0</td>\n",
       "    </tr>\n",
       "    <tr>\n",
       "      <th>2</th>\n",
       "      <td>0</td>\n",
       "      <td>0.000370</td>\n",
       "      <td>0</td>\n",
       "    </tr>\n",
       "    <tr>\n",
       "      <th>3</th>\n",
       "      <td>0</td>\n",
       "      <td>0.000403</td>\n",
       "      <td>0</td>\n",
       "    </tr>\n",
       "    <tr>\n",
       "      <th>4</th>\n",
       "      <td>0</td>\n",
       "      <td>0.000921</td>\n",
       "      <td>0</td>\n",
       "    </tr>\n",
       "  </tbody>\n",
       "</table>\n",
       "</div>"
      ],
      "text/plain": [
       "   click  click_pred_per  click_pred_class\n",
       "0      0        0.000094                 0\n",
       "1      0        0.000093                 0\n",
       "2      0        0.000370                 0\n",
       "3      0        0.000403                 0\n",
       "4      0        0.000921                 0"
      ]
     },
     "execution_count": 22,
     "metadata": {},
     "output_type": "execute_result"
    }
   ],
   "source": [
    "test_result1 = pd.DataFrame(columns=['click', 'click_pred_per', 'click_pred_class'])  \n",
    "test_result1['click']= Valid_df['click'].copy()\n",
    "test_result1['click_pred_per'] = test_predictions1[:,1]\n",
    "test_result1['click_pred_class'] = test_predictions_class1\n",
    "test_result1.head()"
   ]
  },
  {
   "cell_type": "code",
   "execution_count": 15,
   "metadata": {},
   "outputs": [
    {
     "name": "stdout",
     "output_type": "stream",
     "text": [
      "[[303705     18]\n",
      " [   174     28]]\n",
      "TP: 28\n",
      "TN: 303705\n",
      "FP: 18\n",
      "FN: 174\n",
      "Accuracy: 99.936827%\n",
      "Recall: 13.861386%\n",
      "Specificity: 99.994074%\n",
      "False Positive Rate: 0.005926%\n",
      "Precision: 60.869565%\n",
      "F1 score: 22.580645%\n"
     ]
    }
   ],
   "source": [
    "from sklearn.metrics import accuracy_score\n",
    "from sklearn.metrics import precision_score\n",
    "from sklearn.metrics import recall_score\n",
    "from sklearn.metrics import f1_score\n",
    "from sklearn.metrics import confusion_matrix\n",
    "\n",
    "\n",
    "y_test = test_result['click']\n",
    "y_pred_class = test_result['click_pred_class']\n",
    "\n",
    "print(confusion_matrix(y_test, y_pred_class))\n",
    "\n",
    "confusion = confusion_matrix(y_test, y_pred_class)\n",
    "TP = confusion[1, 1]\n",
    "TN = confusion[0, 0]\n",
    "FP = confusion[0, 1]\n",
    "FN = confusion[1, 0]\n",
    "print (\"TP:\", TP)\n",
    "print (\"TN:\", TN)\n",
    "print (\"FP:\", FP)\n",
    "print (\"FN:\", FN)\n",
    "\n",
    "#准确率、识别率（Classification Accuracy）：分类器正确分类的比例\n",
    "#print ((TP+TN) / float(TP+TN+FN+FP))\n",
    "print (\"Accuracy: %.6f%%\" % (accuracy_score(y_test, y_pred_class)* 100.0) )\n",
    "\n",
    "#灵敏性（Sensitivity），也称为真正例识别率、召回率（Recall）：正确识别的正例数据在实际正例数据中的百分比\n",
    "#print (TP / float(TP+FN))\n",
    "#recall = metrics.recall_score(y_test, y_pred_class)\n",
    "print (\"Recall: %.6f%%\" % (recall_score(y_test, y_pred_class)* 100.0))\n",
    "\n",
    "#特效性（Specificity），也称为真负例率：正确识别的负例数据在实际负例数据中的百分比\n",
    "print (\"Specificity: %.6f%%\" % (TN / float(TN+FP)* 100.0))\n",
    "\n",
    "#假阳率（False Positive Rate）：实际值是负例数据，预测错误的百分比\n",
    "#print (FP / float(TN+FP))\n",
    "specificity = TN / float(TN+FP)\n",
    "print (\"False Positive Rate: %.6f%%\" %((1 - specificity)*100.0))\n",
    "\n",
    "#精度（Precision）：看做精确性的度量，即标记为正类的数据实际为正例的百分比\n",
    "#print (TP / float(TP+FP))\n",
    "precision = precision_score(y_test, y_pred_class)\n",
    "print (\"Precision: %.6f%%\" %(precision*100.0))\n",
    "\n",
    "#F1（平衡F分数）：精确率和召回率的调和平均数\n",
    "#print (TP / float(TP+FP))\n",
    "f1 = f1_score(y_test, y_pred_class)\n",
    "print (\"F1 score: %.6f%%\" %(f1*100.0))"
   ]
  },
  {
   "cell_type": "code",
   "execution_count": 23,
   "metadata": {},
   "outputs": [
    {
     "name": "stdout",
     "output_type": "stream",
     "text": [
      "[[303606    117]\n",
      " [   142     60]]\n",
      "TP: 60\n",
      "TN: 303606\n",
      "FP: 117\n",
      "FN: 142\n",
      "Accuracy: 99.914782%\n",
      "Recall: 29.702970%\n",
      "Specificity: 99.961478%\n",
      "False Positive Rate: 0.038522%\n",
      "Precision: 33.898305%\n",
      "F1 score: 31.662269%\n"
     ]
    }
   ],
   "source": [
    "\"\"\"from sklearn.metrics import accuracy_score\n",
    "from sklearn.metrics import precision_score\n",
    "from sklearn.metrics import recall_score\n",
    "from sklearn.metrics import f1_score\n",
    "from sklearn.metrics import confusion_matrix\n",
    "\n",
    "\n",
    "y_test1 = test_result1['click']\n",
    "y_pred_class1 = test_result1['click_pred_class']\n",
    "\n",
    "print(confusion_matrix(y_test1, y_pred_class1))\n",
    "\n",
    "confusion1 = confusion_matrix(y_test1, y_pred_class1)\n",
    "TP1 = confusion1[1, 1]\n",
    "TN1 = confusion1[0, 0]\n",
    "FP1 = confusion1[0, 1]\n",
    "FN1 = confusion1[1, 0]\n",
    "print (\"TP:\", TP1)\n",
    "print (\"TN:\", TN1)\n",
    "print (\"FP:\", FP1)\n",
    "print (\"FN:\", FN1)\n",
    "\n",
    "#准确率、识别率（Classification Accuracy）：分类器正确分类的比例\n",
    "#print ((TP+TN) / float(TP+TN+FN+FP))\n",
    "print (\"Accuracy: %.6f%%\" % (accuracy_score(y_test1, y_pred_class1)* 100.0) )\n",
    "\n",
    "#灵敏性（Sensitivity），也称为真正例识别率、召回率（Recall）：正确识别的正例数据在实际正例数据中的百分比\n",
    "#print (TP / float(TP+FN))\n",
    "#recall = metrics.recall_score(y_test, y_pred_class)\n",
    "print (\"Recall: %.6f%%\" % (recall_score(y_test1, y_pred_class1)* 100.0))\n",
    "\n",
    "#特效性（Specificity），也称为真负例率：正确识别的负例数据在实际负例数据中的百分比\n",
    "print (\"Specificity: %.6f%%\" % (TN1 / float(TN1+FP1)* 100.0))\n",
    "\n",
    "#假阳率（False Positive Rate）：实际值是负例数据，预测错误的百分比\n",
    "#print (FP / float(TN+FP))\n",
    "specificity1 = TN1 / float(TN1+FP1)\n",
    "print (\"False Positive Rate: %.6f%%\" %((1 - specificity1)*100.0))\n",
    "\n",
    "#精度（Precision）：看做精确性的度量，即标记为正类的数据实际为正例的百分比\n",
    "#print (TP / float(TP+FP))\n",
    "precision1 = precision_score(y_test1, y_pred_class1)\n",
    "print (\"Precision: %.6f%%\" %(precision1*100.0))\n",
    "\n",
    "#F1（平衡F分数）：精确率和召回率的调和平均数\n",
    "#print (TP / float(TP+FP))\n",
    "f11 = f1_score(y_test1, y_pred_class1)\n",
    "print (\"F1 score: %.6f%%\" %(f11*100.0))\"\"\""
   ]
  },
  {
   "cell_type": "code",
   "execution_count": 24,
   "metadata": {
    "collapsed": true
   },
   "outputs": [],
   "source": [
    "#Valid_df[Valid_df['click']==1].count()"
   ]
  },
  {
   "cell_type": "code",
   "execution_count": 16,
   "metadata": {},
   "outputs": [],
   "source": [
    "# allow plots to appear in the notebook\n",
    "%matplotlib inline\n",
    "import matplotlib.pyplot as plt\n",
    "\n",
    "\n",
    "# IMPORTANT: first argument is true values, second argument is predicted probabilities\n",
    "from sklearn.metrics import roc_auc_score\n",
    "from sklearn.metrics import roc_curve\n",
    "def plot_ROC_curve(data, prediction):\n",
    "    \"\"\"\n",
    "    Function to plot the ROC curve with AUC.\n",
    "    \"\"\"\n",
    "\n",
    "    # Compute fpr, tpr, thresholds and roc auc\n",
    "    fpr, tpr, thresholds = roc_curve(data, prediction)\n",
    "    roc_auc = roc_auc_score(data, prediction)\n",
    "\n",
    "    # Plot ROC curve\n",
    "    plt.plot(fpr, tpr, label='ROC curve (area = %0.3f)' % roc_auc)\n",
    "    #plt.plot(fpr, tpr, label='Logistic Regression (area = %0.3f)' % logit_roc_auc)\n",
    "    plt.plot([0, 1], [0, 1], 'r--')  # random predictions curve\n",
    "    plt.xlim([0.0, 1.0])\n",
    "    plt.ylim([0.0, 1.0])\n",
    "    plt.xlabel('False Positive Rate or (1 - Specifity)')\n",
    "    plt.ylabel('True Positive Rate or (Sensitivity)')\n",
    "    plt.title('ROC curve for CTR')\n",
    "    plt.grid(True)\n",
    "    plt.legend(loc=\"lower right\")\n",
    "    \n",
    "    return\n",
    "\n",
    "\n",
    "\n"
   ]
  },
  {
   "cell_type": "code",
   "execution_count": 17,
   "metadata": {},
   "outputs": [
    {
     "name": "stdout",
     "output_type": "stream",
     "text": [
      "the AUC for FM is: 0.860694\n"
     ]
    },
    {
     "data": {
      "image/png": "[encoded data removed]",
      "text/plain": [
       "<Figure size 432x288 with 1 Axes>"
      ]
     },
     "metadata": {},
     "output_type": "display_data"
    }
   ],
   "source": [
    "plot_ROC_curve(test_result['click'], test_result['click_pred_per'])\n",
    "#tffm的auc\n",
    "print (\"the AUC for FM is: {0:6f}\".format(roc_auc_score(test_result['click'], test_result['click_pred_per'])))"
   ]
  },
  {
   "cell_type": "code",
   "execution_count": 24,
   "metadata": {},
   "outputs": [
    {
     "name": "stdout",
     "output_type": "stream",
     "text": [
      "the AUC for FM is: 0.876168\n"
     ]
    },
    {
     "data": {
      "image/png": "[encoded data removed]",
      "text/plain": [
       "<Figure size 432x288 with 1 Axes>"
      ]
     },
     "metadata": {},
     "output_type": "display_data"
    }
   ],
   "source": [
    "\"\"\"plot_ROC_curve(test_result1['click'], test_result1['click_pred_per'])\n",
    "#tffm的auc\n",
    "print (\"the AUC for FM is: {0:6f}\".format(roc_auc_score(test_result1['click'], test_result1['click_pred_per'])))\"\"\""
   ]
  },
  {
   "cell_type": "markdown",
   "metadata": {},
   "source": [
    "## TEST"
   ]
  },
  {
   "cell_type": "code",
   "execution_count": 18,
   "metadata": {},
   "outputs": [],
   "source": [
    "Test_df = pd.read_csv(\"/Users/weisihan/Downloads/we_data/mytestset.csv\")"
   ]
  },
  {
   "cell_type": "code",
   "execution_count": 19,
   "metadata": {},
   "outputs": [],
   "source": [
    "Test_df = Test_df[['slotwidth', 'slotheight', 'slotprice', 'android', 'ios',\n",
    "       'linux', 'mac', 'other', 'windows', 'chrome', 'firefox', 'ie',\n",
    "       'maxthon', 'opera', 'other.1', 'safari', 'sogou', 'theworld',\n",
    "       '10006', '10024', '10031', '10048', '10052', '10057', '10059',\n",
    "       '10063', '10067', '10074', '10075', '10076', '10077', '10079',\n",
    "       '10083', '10093', '10102', '10110', '10111', '10114', '10115',\n",
    "       '10116', '10117', '10118', '10120', '10123', '10125', '10126',\n",
    "       '10127', '10129', '10130', '10131', '10133', '10138', '10140',\n",
    "       '10142', '10145', '10146', '10147', '10148', '10149', '10684',\n",
    "       '11092', '11278', '11379', '11423', '11512', '11576', '11632',\n",
    "       '11680', '11724', '11944', '13042', '13403', '13496', '13678',\n",
    "       '13776', '13800', '13866', '13874', '14273', '15398', '16593',\n",
    "       '16617', '16661', '16706', '16751', '16753', 'hour_sin', 'hour_cos',\n",
    "       'city_per', 'region_per', 'weekday_0', 'weekday_1', 'weekday_2',\n",
    "       'weekday_3', 'weekday_4', 'weekday_5', 'weekday_6',\n",
    "       'adexchange_1.0', 'adexchange_2.0', 'adexchange_3.0',\n",
    "       'adexchange_4.0', 'adexchange_nan', 'slotvisibility_0',\n",
    "       'slotvisibility_1', 'slotvisibility_2', 'slotvisibility_255',\n",
    "       'slotvisibility_FifthView', 'slotvisibility_FirstView',\n",
    "       'slotvisibility_FourthView', 'slotvisibility_Na',\n",
    "       'slotvisibility_OtherView', 'slotvisibility_SecondView',\n",
    "       'slotvisibility_ThirdView', 'slotformat_0', 'slotformat_1',\n",
    "       'slotformat_5', 'slotformat_Na', 'advertiser_1458',\n",
    "       'advertiser_2259', 'advertiser_2261', 'advertiser_2821',\n",
    "       'advertiser_2997', 'advertiser_3358', 'advertiser_3386',\n",
    "       'advertiser_3427', 'advertiser_3476']]"
   ]
  },
  {
   "cell_type": "code",
   "execution_count": 20,
   "metadata": {},
   "outputs": [],
   "source": [
    "Test_df['slotheight']=Test_df['slotheight']/10\n",
    "Test_df['slotwidth']=Test_df['slotwidth']/100\n",
    "Test_df['slotprice']=Test_df['slotprice']/100"
   ]
  },
  {
   "cell_type": "code",
   "execution_count": 60,
   "metadata": {},
   "outputs": [
    {
     "name": "stderr",
     "output_type": "stream",
     "text": [
      "/Users/weisihan/Downloads/tffm-master/tffm/utils.py:195: RuntimeWarning: overflow encountered in exp\n",
      "  return 1 / (1 + np.exp(-x))\n"
     ]
    }
   ],
   "source": [
    "test_x = Test_df\n",
    "test_x=test_x.values\n",
    "X_tr_sparse = sp.csr_matrix(test_x)\n",
    "\n",
    "test_predictions = model.predict_proba(X_tr_sparse)\n",
    "test_predictions_class = model.predict(X_tr_sparse)\n"
   ]
  },
  {
   "cell_type": "code",
   "execution_count": 61,
   "metadata": {},
   "outputs": [
    {
     "data": {
      "text/plain": [
       "array([[  9.99861598e-01,   1.38403921e-04],\n",
       "       [  9.97617543e-01,   2.38247844e-03],\n",
       "       [  9.99996364e-01,   3.65936239e-06],\n",
       "       ..., \n",
       "       [  9.99979734e-01,   2.02936844e-05],\n",
       "       [  9.99786079e-01,   2.13897132e-04],\n",
       "       [  1.00000000e+00,   2.82154899e-09]], dtype=float32)"
      ]
     },
     "execution_count": 61,
     "metadata": {},
     "output_type": "execute_result"
    }
   ],
   "source": [
    "test_predictions"
   ]
  },
  {
   "cell_type": "code",
   "execution_count": 62,
   "metadata": {},
   "outputs": [
    {
     "data": {
      "text/html": [
       "<div>\n",
       "<style scoped>\n",
       "    .dataframe tbody tr th:only-of-type {\n",
       "        vertical-align: middle;\n",
       "    }\n",
       "\n",
       "    .dataframe tbody tr th {\n",
       "        vertical-align: top;\n",
       "    }\n",
       "\n",
       "    .dataframe thead th {\n",
       "        text-align: right;\n",
       "    }\n",
       "</style>\n",
       "<table border=\"1\" class=\"dataframe\">\n",
       "  <thead>\n",
       "    <tr style=\"text-align: right;\">\n",
       "      <th></th>\n",
       "      <th>click</th>\n",
       "      <th>click_pred_per</th>\n",
       "      <th>click_pred_class</th>\n",
       "    </tr>\n",
       "  </thead>\n",
       "  <tbody>\n",
       "    <tr>\n",
       "      <th>0</th>\n",
       "      <td>NaN</td>\n",
       "      <td>0.000138</td>\n",
       "      <td>0</td>\n",
       "    </tr>\n",
       "    <tr>\n",
       "      <th>1</th>\n",
       "      <td>NaN</td>\n",
       "      <td>0.002382</td>\n",
       "      <td>0</td>\n",
       "    </tr>\n",
       "    <tr>\n",
       "      <th>2</th>\n",
       "      <td>NaN</td>\n",
       "      <td>0.000004</td>\n",
       "      <td>0</td>\n",
       "    </tr>\n",
       "    <tr>\n",
       "      <th>3</th>\n",
       "      <td>NaN</td>\n",
       "      <td>0.000047</td>\n",
       "      <td>0</td>\n",
       "    </tr>\n",
       "    <tr>\n",
       "      <th>4</th>\n",
       "      <td>NaN</td>\n",
       "      <td>0.001100</td>\n",
       "      <td>0</td>\n",
       "    </tr>\n",
       "  </tbody>\n",
       "</table>\n",
       "</div>"
      ],
      "text/plain": [
       "  click  click_pred_per  click_pred_class\n",
       "0   NaN        0.000138                 0\n",
       "1   NaN        0.002382                 0\n",
       "2   NaN        0.000004                 0\n",
       "3   NaN        0.000047                 0\n",
       "4   NaN        0.001100                 0"
      ]
     },
     "execution_count": 62,
     "metadata": {},
     "output_type": "execute_result"
    }
   ],
   "source": [
    "test_result = pd.DataFrame(columns=['click', 'click_pred_per', 'click_pred_class'])  \n",
    "#test_result['click']= Valid_df['click'].copy()\n",
    "test_result['click_pred_per'] = test_predictions[:,1]\n",
    "test_result['click_pred_class'] = test_predictions_class\n",
    "test_result.head()"
   ]
  },
  {
   "cell_type": "code",
   "execution_count": 74,
   "metadata": {},
   "outputs": [],
   "source": [
    "#linear\n",
    "base_bid=254\n",
    "\n",
    "avgCTR = 1793/2430981#train set\n",
    "test_result['bidprice'] = base_bid*test_result['click_pred_per']/avgCTR"
   ]
  },
  {
   "cell_type": "code",
   "execution_count": 75,
   "metadata": {},
   "outputs": [],
   "source": [
    "Group=  pd.read_csv('/Users/weisihan/Downloads/we_data/Group_xx.csv')"
   ]
  },
  {
   "cell_type": "code",
   "execution_count": 76,
   "metadata": {},
   "outputs": [],
   "source": [
    "Group['bidprice']=test_result['bidprice']"
   ]
  },
  {
   "cell_type": "code",
   "execution_count": 77,
   "metadata": {},
   "outputs": [
    {
     "data": {
      "text/html": [
       "<div>\n",
       "<style scoped>\n",
       "    .dataframe tbody tr th:only-of-type {\n",
       "        vertical-align: middle;\n",
       "    }\n",
       "\n",
       "    .dataframe tbody tr th {\n",
       "        vertical-align: top;\n",
       "    }\n",
       "\n",
       "    .dataframe thead th {\n",
       "        text-align: right;\n",
       "    }\n",
       "</style>\n",
       "<table border=\"1\" class=\"dataframe\">\n",
       "  <thead>\n",
       "    <tr style=\"text-align: right;\">\n",
       "      <th></th>\n",
       "      <th>bidid</th>\n",
       "      <th>bidprice</th>\n",
       "    </tr>\n",
       "  </thead>\n",
       "  <tbody>\n",
       "    <tr>\n",
       "      <th>0</th>\n",
       "      <td>366c563de7d90feb9d4dab53e795a93fb3157387</td>\n",
       "      <td>47.663223</td>\n",
       "    </tr>\n",
       "    <tr>\n",
       "      <th>1</th>\n",
       "      <td>29167d4caa719788b5a342dbaa25151d53121f80</td>\n",
       "      <td>820.472412</td>\n",
       "    </tr>\n",
       "    <tr>\n",
       "      <th>2</th>\n",
       "      <td>ff8bc3f4d44a3ea60c5f3a3a8fbe7cd98fb2966e</td>\n",
       "      <td>1.260203</td>\n",
       "    </tr>\n",
       "    <tr>\n",
       "      <th>3</th>\n",
       "      <td>844c2da00d45315f20b748ec131c26ee99a7cbc7</td>\n",
       "      <td>16.278303</td>\n",
       "    </tr>\n",
       "    <tr>\n",
       "      <th>4</th>\n",
       "      <td>c6017f0ad0c44d7d0c9b62583ea863f28941c0ca</td>\n",
       "      <td>378.963562</td>\n",
       "    </tr>\n",
       "  </tbody>\n",
       "</table>\n",
       "</div>"
      ],
      "text/plain": [
       "                                      bidid    bidprice\n",
       "0  366c563de7d90feb9d4dab53e795a93fb3157387   47.663223\n",
       "1  29167d4caa719788b5a342dbaa25151d53121f80  820.472412\n",
       "2  ff8bc3f4d44a3ea60c5f3a3a8fbe7cd98fb2966e    1.260203\n",
       "3  844c2da00d45315f20b748ec131c26ee99a7cbc7   16.278303\n",
       "4  c6017f0ad0c44d7d0c9b62583ea863f28941c0ca  378.963562"
      ]
     },
     "execution_count": 77,
     "metadata": {},
     "output_type": "execute_result"
    }
   ],
   "source": [
    "Group.head()"
   ]
  },
  {
   "cell_type": "code",
   "execution_count": 78,
   "metadata": {},
   "outputs": [],
   "source": [
    "Group.to_csv('Groupd_6.csv', encoding='utf-8', index=False)"
   ]
  },
  {
   "cell_type": "code",
   "execution_count": 26,
   "metadata": {},
   "outputs": [],
   "source": [
    "df_valid = pd.read_csv(\"/Users/weisihan/Downloads/we_data/validation.csv\")"
   ]
  },
  {
   "cell_type": "code",
   "execution_count": 27,
   "metadata": {},
   "outputs": [
    {
     "data": {
      "text/plain": [
       "0.0007375623256619447"
      ]
     },
     "execution_count": 27,
     "metadata": {},
     "output_type": "execute_result"
    }
   ],
   "source": [
    "#clicks = len(train[train.click==1])\n",
    "#impression = len(train[train.bidprice>train.payprice])\n",
    "aCTR=1793/2430981\n",
    "aCTR"
   ]
  },
  {
   "cell_type": "code",
   "execution_count": 39,
   "metadata": {},
   "outputs": [],
   "source": [
    "def evaluate(bidprice):\n",
    "    budget=6250000\n",
    "    impression=0\n",
    "    click=0\n",
    "    for row in range(0,df_valid.shape[0]):\n",
    "        if budget<df_valid.payprice[row]:\n",
    "            continue\n",
    "        if bidprice.iloc[row,0]>df_valid.payprice[row]:\n",
    "            budget=budget-df_valid.payprice[row]\n",
    "            impression=impression+1\n",
    "            if df_valid.click[row]==1:\n",
    "                click=click+1\n",
    "    return click"
   ]
  },
  {
   "cell_type": "code",
   "execution_count": 40,
   "metadata": {},
   "outputs": [],
   "source": [
    "def bid_linear(basebid, pred_CTR,avg_CTR):\n",
    "    bid = np.zeros((df_valid.shape[0], 1))\n",
    "    for i in range (0,df_valid.shape[0]):\n",
    "        bid[i,0] = basebid*xx.iloc[i]/avg_CTR\n",
    "    bid = pd.DataFrame(bid)\n",
    "    return bid"
   ]
  },
  {
   "cell_type": "code",
   "execution_count": 42,
   "metadata": {},
   "outputs": [],
   "source": [
    "xx=test_result['click_pred_per'].copy()"
   ]
  },
  {
   "cell_type": "code",
   "execution_count": 43,
   "metadata": {},
   "outputs": [
    {
     "name": "stdout",
     "output_type": "stream",
     "text": [
      "basebid  10  click  82\n",
      "basebid  20  click  95\n",
      "basebid  30  click  103\n",
      "basebid  40  click  110\n",
      "basebid  50  click  117\n",
      "basebid  60  click  121\n",
      "basebid  70  click  129\n",
      "basebid  80  click  130\n",
      "basebid  90  click  133\n",
      "basebid  100  click  139\n",
      "basebid  110  click  142\n",
      "basebid  120  click  145\n",
      "basebid  130  click  146\n",
      "basebid  140  click  148\n",
      "basebid  150  click  148\n",
      "basebid  160  click  150\n",
      "basebid  170  click  151\n",
      "basebid  180  click  151\n",
      "basebid  190  click  151\n"
     ]
    }
   ],
   "source": [
    "base_bids = np.arange(10,200,10)\n",
    "for counter in base_bids:\n",
    "    base_bid=counter\n",
    "    bidprice=bid_linear(base_bid, xx, aCTR)\n",
    "    print('basebid ', base_bid, ' click ', evaluate(bidprice))"
   ]
  },
  {
   "cell_type": "code",
   "execution_count": 45,
   "metadata": {},
   "outputs": [
    {
     "name": "stdout",
     "output_type": "stream",
     "text": [
      "basebid  200  click  152\n",
      "basebid  210  click  155\n",
      "basebid  220  click  156\n",
      "basebid  230  click  159\n",
      "basebid  240  click  160\n",
      "basebid  250  click  160\n",
      "basebid  260  click  158\n",
      "basebid  270  click  154\n",
      "basebid  280  click  148\n",
      "basebid  290  click  145\n"
     ]
    }
   ],
   "source": [
    "base_bids = np.arange(200,300,10)\n",
    "for counter in base_bids:\n",
    "    base_bid=counter\n",
    "    bidprice=bid_linear(base_bid, xx, aCTR)\n",
    "    print('basebid ', base_bid, ' click ', evaluate(bidprice))"
   ]
  },
  {
   "cell_type": "code",
   "execution_count": 69,
   "metadata": {},
   "outputs": [
    {
     "name": "stdout",
     "output_type": "stream",
     "text": [
      "basebid  255  click  159\n"
     ]
    },
    {
     "ename": "KeyboardInterrupt",
     "evalue": "",
     "output_type": "error",
     "traceback": [
      "\u001b[0;31m---------------------------------------------------------------------------\u001b[0m",
      "\u001b[0;31mKeyboardInterrupt\u001b[0m                         Traceback (most recent call last)",
      "\u001b[0;32m<ipython-input-69-15ee4a111397>\u001b[0m in \u001b[0;36m<module>\u001b[0;34m()\u001b[0m\n\u001b[1;32m      2\u001b[0m \u001b[0;32mfor\u001b[0m \u001b[0mcounter\u001b[0m \u001b[0;32min\u001b[0m \u001b[0mbase_bids\u001b[0m\u001b[0;34m:\u001b[0m\u001b[0;34m\u001b[0m\u001b[0m\n\u001b[1;32m      3\u001b[0m     \u001b[0mbase_bid\u001b[0m\u001b[0;34m=\u001b[0m\u001b[0mcounter\u001b[0m\u001b[0;34m\u001b[0m\u001b[0m\n\u001b[0;32m----> 4\u001b[0;31m     \u001b[0mbidprice\u001b[0m\u001b[0;34m=\u001b[0m\u001b[0mbid_linear\u001b[0m\u001b[0;34m(\u001b[0m\u001b[0mbase_bid\u001b[0m\u001b[0;34m,\u001b[0m \u001b[0mxx\u001b[0m\u001b[0;34m,\u001b[0m \u001b[0maCTR\u001b[0m\u001b[0;34m)\u001b[0m\u001b[0;34m\u001b[0m\u001b[0m\n\u001b[0m\u001b[1;32m      5\u001b[0m     \u001b[0mprint\u001b[0m\u001b[0;34m(\u001b[0m\u001b[0;34m'basebid '\u001b[0m\u001b[0;34m,\u001b[0m \u001b[0mbase_bid\u001b[0m\u001b[0;34m,\u001b[0m \u001b[0;34m' click '\u001b[0m\u001b[0;34m,\u001b[0m \u001b[0mevaluate\u001b[0m\u001b[0;34m(\u001b[0m\u001b[0mbidprice\u001b[0m\u001b[0;34m)\u001b[0m\u001b[0;34m)\u001b[0m\u001b[0;34m\u001b[0m\u001b[0m\n",
      "\u001b[0;32m<ipython-input-40-ffe4456b2b04>\u001b[0m in \u001b[0;36mbid_linear\u001b[0;34m(basebid, pred_CTR, avg_CTR)\u001b[0m\n\u001b[1;32m      2\u001b[0m     \u001b[0mbid\u001b[0m \u001b[0;34m=\u001b[0m \u001b[0mnp\u001b[0m\u001b[0;34m.\u001b[0m\u001b[0mzeros\u001b[0m\u001b[0;34m(\u001b[0m\u001b[0;34m(\u001b[0m\u001b[0mdf_valid\u001b[0m\u001b[0;34m.\u001b[0m\u001b[0mshape\u001b[0m\u001b[0;34m[\u001b[0m\u001b[0;36m0\u001b[0m\u001b[0;34m]\u001b[0m\u001b[0;34m,\u001b[0m \u001b[0;36m1\u001b[0m\u001b[0;34m)\u001b[0m\u001b[0;34m)\u001b[0m\u001b[0;34m\u001b[0m\u001b[0m\n\u001b[1;32m      3\u001b[0m     \u001b[0;32mfor\u001b[0m \u001b[0mi\u001b[0m \u001b[0;32min\u001b[0m \u001b[0mrange\u001b[0m \u001b[0;34m(\u001b[0m\u001b[0;36m0\u001b[0m\u001b[0;34m,\u001b[0m\u001b[0mdf_valid\u001b[0m\u001b[0;34m.\u001b[0m\u001b[0mshape\u001b[0m\u001b[0;34m[\u001b[0m\u001b[0;36m0\u001b[0m\u001b[0;34m]\u001b[0m\u001b[0;34m)\u001b[0m\u001b[0;34m:\u001b[0m\u001b[0;34m\u001b[0m\u001b[0m\n\u001b[0;32m----> 4\u001b[0;31m         \u001b[0mbid\u001b[0m\u001b[0;34m[\u001b[0m\u001b[0mi\u001b[0m\u001b[0;34m,\u001b[0m\u001b[0;36m0\u001b[0m\u001b[0;34m]\u001b[0m \u001b[0;34m=\u001b[0m \u001b[0mbasebid\u001b[0m\u001b[0;34m*\u001b[0m\u001b[0mxx\u001b[0m\u001b[0;34m.\u001b[0m\u001b[0miloc\u001b[0m\u001b[0;34m[\u001b[0m\u001b[0mi\u001b[0m\u001b[0;34m]\u001b[0m\u001b[0;34m/\u001b[0m\u001b[0mavg_CTR\u001b[0m\u001b[0;34m\u001b[0m\u001b[0m\n\u001b[0m\u001b[1;32m      5\u001b[0m     \u001b[0mbid\u001b[0m \u001b[0;34m=\u001b[0m \u001b[0mpd\u001b[0m\u001b[0;34m.\u001b[0m\u001b[0mDataFrame\u001b[0m\u001b[0;34m(\u001b[0m\u001b[0mbid\u001b[0m\u001b[0;34m)\u001b[0m\u001b[0;34m\u001b[0m\u001b[0m\n\u001b[1;32m      6\u001b[0m     \u001b[0;32mreturn\u001b[0m \u001b[0mbid\u001b[0m\u001b[0;34m\u001b[0m\u001b[0m\n",
      "\u001b[0;32m~/anaconda3/envs/tensorflow/lib/python3.5/site-packages/pandas/core/indexing.py\u001b[0m in \u001b[0;36m__getitem__\u001b[0;34m(self, key)\u001b[0m\n\u001b[1;32m   1371\u001b[0m \u001b[0;34m\u001b[0m\u001b[0m\n\u001b[1;32m   1372\u001b[0m             \u001b[0mmaybe_callable\u001b[0m \u001b[0;34m=\u001b[0m \u001b[0mcom\u001b[0m\u001b[0;34m.\u001b[0m\u001b[0m_apply_if_callable\u001b[0m\u001b[0;34m(\u001b[0m\u001b[0mkey\u001b[0m\u001b[0;34m,\u001b[0m \u001b[0mself\u001b[0m\u001b[0;34m.\u001b[0m\u001b[0mobj\u001b[0m\u001b[0;34m)\u001b[0m\u001b[0;34m\u001b[0m\u001b[0m\n\u001b[0;32m-> 1373\u001b[0;31m             \u001b[0;32mreturn\u001b[0m \u001b[0mself\u001b[0m\u001b[0;34m.\u001b[0m\u001b[0m_getitem_axis\u001b[0m\u001b[0;34m(\u001b[0m\u001b[0mmaybe_callable\u001b[0m\u001b[0;34m,\u001b[0m \u001b[0maxis\u001b[0m\u001b[0;34m=\u001b[0m\u001b[0maxis\u001b[0m\u001b[0;34m)\u001b[0m\u001b[0;34m\u001b[0m\u001b[0m\n\u001b[0m\u001b[1;32m   1374\u001b[0m \u001b[0;34m\u001b[0m\u001b[0m\n\u001b[1;32m   1375\u001b[0m     \u001b[0;32mdef\u001b[0m \u001b[0m_is_scalar_access\u001b[0m\u001b[0;34m(\u001b[0m\u001b[0mself\u001b[0m\u001b[0;34m,\u001b[0m \u001b[0mkey\u001b[0m\u001b[0;34m)\u001b[0m\u001b[0;34m:\u001b[0m\u001b[0;34m\u001b[0m\u001b[0m\n",
      "\u001b[0;32m~/anaconda3/envs/tensorflow/lib/python3.5/site-packages/pandas/core/indexing.py\u001b[0m in \u001b[0;36m_getitem_axis\u001b[0;34m(self, key, axis)\u001b[0m\n\u001b[1;32m   1821\u001b[0m         \u001b[0;31m# a single integer\u001b[0m\u001b[0;34m\u001b[0m\u001b[0;34m\u001b[0m\u001b[0m\n\u001b[1;32m   1822\u001b[0m         \u001b[0;32melse\u001b[0m\u001b[0;34m:\u001b[0m\u001b[0;34m\u001b[0m\u001b[0m\n\u001b[0;32m-> 1823\u001b[0;31m             \u001b[0mkey\u001b[0m \u001b[0;34m=\u001b[0m \u001b[0mself\u001b[0m\u001b[0;34m.\u001b[0m\u001b[0m_convert_scalar_indexer\u001b[0m\u001b[0;34m(\u001b[0m\u001b[0mkey\u001b[0m\u001b[0;34m,\u001b[0m \u001b[0maxis\u001b[0m\u001b[0;34m)\u001b[0m\u001b[0;34m\u001b[0m\u001b[0m\n\u001b[0m\u001b[1;32m   1824\u001b[0m \u001b[0;34m\u001b[0m\u001b[0m\n\u001b[1;32m   1825\u001b[0m             \u001b[0;32mif\u001b[0m \u001b[0;32mnot\u001b[0m \u001b[0mis_integer\u001b[0m\u001b[0;34m(\u001b[0m\u001b[0mkey\u001b[0m\u001b[0;34m)\u001b[0m\u001b[0;34m:\u001b[0m\u001b[0;34m\u001b[0m\u001b[0m\n",
      "\u001b[0;32m~/anaconda3/envs/tensorflow/lib/python3.5/site-packages/pandas/core/indexing.py\u001b[0m in \u001b[0;36m_convert_scalar_indexer\u001b[0;34m(self, key, axis)\u001b[0m\n\u001b[1;32m    252\u001b[0m         \u001b[0;32mif\u001b[0m \u001b[0maxis\u001b[0m \u001b[0;32mis\u001b[0m \u001b[0;32mNone\u001b[0m\u001b[0;34m:\u001b[0m\u001b[0;34m\u001b[0m\u001b[0m\n\u001b[1;32m    253\u001b[0m             \u001b[0maxis\u001b[0m \u001b[0;34m=\u001b[0m \u001b[0;36m0\u001b[0m\u001b[0;34m\u001b[0m\u001b[0m\n\u001b[0;32m--> 254\u001b[0;31m         \u001b[0max\u001b[0m \u001b[0;34m=\u001b[0m \u001b[0mself\u001b[0m\u001b[0;34m.\u001b[0m\u001b[0mobj\u001b[0m\u001b[0;34m.\u001b[0m\u001b[0m_get_axis\u001b[0m\u001b[0;34m(\u001b[0m\u001b[0mmin\u001b[0m\u001b[0;34m(\u001b[0m\u001b[0maxis\u001b[0m\u001b[0;34m,\u001b[0m \u001b[0mself\u001b[0m\u001b[0;34m.\u001b[0m\u001b[0mndim\u001b[0m \u001b[0;34m-\u001b[0m \u001b[0;36m1\u001b[0m\u001b[0;34m)\u001b[0m\u001b[0;34m)\u001b[0m\u001b[0;34m\u001b[0m\u001b[0m\n\u001b[0m\u001b[1;32m    255\u001b[0m         \u001b[0;31m# a scalar\u001b[0m\u001b[0;34m\u001b[0m\u001b[0;34m\u001b[0m\u001b[0m\n\u001b[1;32m    256\u001b[0m         \u001b[0;32mreturn\u001b[0m \u001b[0max\u001b[0m\u001b[0;34m.\u001b[0m\u001b[0m_convert_scalar_indexer\u001b[0m\u001b[0;34m(\u001b[0m\u001b[0mkey\u001b[0m\u001b[0;34m,\u001b[0m \u001b[0mkind\u001b[0m\u001b[0;34m=\u001b[0m\u001b[0mself\u001b[0m\u001b[0;34m.\u001b[0m\u001b[0mname\u001b[0m\u001b[0;34m)\u001b[0m\u001b[0;34m\u001b[0m\u001b[0m\n",
      "\u001b[0;31mKeyboardInterrupt\u001b[0m: "
     ]
    }
   ],
   "source": [
    "base_bids = np.arange(255,260,1)\n",
    "for counter in base_bids:\n",
    "    base_bid=counter\n",
    "    bidprice=bid_linear(base_bid, xx, aCTR)\n",
    "    print('basebid ', base_bid, ' click ', evaluate(bidprice))"
   ]
  },
  {
   "cell_type": "code",
   "execution_count": null,
   "metadata": {},
   "outputs": [],
   "source": []
  },
  {
   "cell_type": "code",
   "execution_count": 47,
   "metadata": {},
   "outputs": [],
   "source": [
    "# parameters\n",
    "total_budget = 6250000\n",
    "payprice = df_valid['payprice'].as_matrix()\n",
    "Train_df_qr = df_valid.copy()\n",
    "test_predictions=test_result['click_pred_per']\n",
    "#test_predictions2=test_result['click_pred_LR']\n",
    "\n",
    "avgCTR = 1793/2430981 #train set\n",
    "#tuning..."
   ]
  },
  {
   "cell_type": "code",
   "execution_count": 48,
   "metadata": {},
   "outputs": [],
   "source": [
    "def generate_bidprice(base_bid, test_predictions):\n",
    "    avgCTR = 1793/2430981#train set\n",
    "    bidprices = base_bid*test_predictions/avgCTR\n",
    "    return bidprices"
   ]
  },
  {
   "cell_type": "code",
   "execution_count": 49,
   "metadata": {},
   "outputs": [],
   "source": [
    "def Prob3(Train_df,payprice,base_bid,test_predictions):\n",
    "    Train_Const_summ = pd.DataFrame({'Clicks':'', 'Spend':'', 'CTR':'', 'CPM':'', 'eCPC':''}, index=[0])\n",
    "    \n",
    "    current_budget = total_budget\n",
    "    Train_df['win'] = 0 #initialize win label\n",
    "    bidprices = generate_bidprice(base_bid, test_predictions)\n",
    "    #start biding...\n",
    "    for i in Train_df.index:\n",
    "        if current_budget >= bidprices[i]:\n",
    "            #generate bidprice:\n",
    "            current_bidprice = bidprices[i]\n",
    "\n",
    "            #Winning criterion:\n",
    "            current_payprice = payprice[i]\n",
    "            if current_bidprice > current_payprice:\n",
    "                Train_df.at[i, 'win'] = int(1)\n",
    "                current_budget = current_budget - current_payprice\n",
    "            else:\n",
    "                Train_df.at[i, 'win'] = int(0)\n",
    "        else:\n",
    "            print('lack of budget!',current_budget)\n",
    "            break\n",
    "    #biding end        \n",
    "    \n",
    "    Train_df_new = Train_df[Train_df['win']!=0]\n",
    "    #wintimes,_ = Train_df_new.shape\n",
    "    #print('wintimes:',wintimes)\n",
    "    #print('current_budget',current_budget)\n",
    "\n",
    "    Clk = Train_df_new['click'].sum()\n",
    "    Imp = Train_df_new['click'].count()\n",
    "    CTR = Clk/Imp\n",
    "    Spd = total_budget - current_budget\n",
    "    CPM = 1000*Spd/Imp\n",
    "    eCPC = Spd/Clk\n",
    "    \n",
    "    Train_Const_summ.loc[0,'Clicks']=Clk\n",
    "    Train_Const_summ.loc[0,'Spend']=Spd\n",
    "    Train_Const_summ.loc[0,'CTR']=CTR\n",
    "    Train_Const_summ.loc[0,'CPM']=CPM\n",
    "    Train_Const_summ.loc[0,'eCPC']=eCPC\n",
    "\n",
    "    print(Train_Const_summ)\n",
    "    \n",
    "        \n",
    "    return Train_df,current_budget"
   ]
  },
  {
   "cell_type": "code",
   "execution_count": 50,
   "metadata": {},
   "outputs": [],
   "source": [
    "def calculate_click(base_bid,Train_df,payprice,test_predictions):\n",
    "    print('base_bid:',base_bid)\n",
    "    result_df,current_budget = Prob3(Train_df,payprice,base_bid,test_predictions)\n",
    "    print('current_budget:',current_budget)\n",
    "    Train_df_new = result_df[result_df['win']!=0]\n",
    "    wintimes,_ = Train_df_new.shape\n",
    "    print('wintimes:',wintimes)\n",
    "    print('----------------')\n",
    "    Clk = Train_df_new['click'].sum()    \n",
    "    return Clk"
   ]
  },
  {
   "cell_type": "code",
   "execution_count": 54,
   "metadata": {},
   "outputs": [],
   "source": [
    "%matplotlib inline\n",
    "import matplotlib\n",
    "import matplotlib.pyplot as plt\n",
    "import mpld3\n",
    "import numpy as np"
   ]
  },
  {
   "cell_type": "code",
   "execution_count": 58,
   "metadata": {},
   "outputs": [
    {
     "name": "stdout",
     "output_type": "stream",
     "text": [
      "base_bid: 245\n",
      "       CPM         CTR Clicks    Spend     eCPC\n",
      "0  57670.7  0.00151166    160  6104095  38150.6\n",
      "current_budget: 145905\n",
      "wintimes: 105844\n",
      "----------------\n",
      "base_bid: 246\n",
      "       CPM         CTR Clicks    Spend     eCPC\n",
      "0  57713.6  0.00150888    160  6119892  38249.3\n",
      "current_budget: 130108\n",
      "wintimes: 106039\n",
      "----------------\n",
      "base_bid: 247\n",
      "       CPM         CTR Clicks    Spend     eCPC\n",
      "0  57763.5  0.00150595    160  6137087  38356.8\n",
      "current_budget: 112913\n",
      "wintimes: 106245\n",
      "----------------\n",
      "base_bid: 248\n",
      "       CPM         CTR Clicks    Spend     eCPC\n",
      "0  57811.4  0.00150283    160  6154945  38468.4\n",
      "current_budget: 95055\n",
      "wintimes: 106466\n",
      "----------------\n",
      "base_bid: 249\n"
     ]
    },
    {
     "ename": "KeyboardInterrupt",
     "evalue": "",
     "output_type": "error",
     "traceback": [
      "\u001b[0;31m---------------------------------------------------------------------------\u001b[0m",
      "\u001b[0;31mKeyboardInterrupt\u001b[0m                         Traceback (most recent call last)",
      "\u001b[0;32m<ipython-input-58-e8b6da10bf6b>\u001b[0m in \u001b[0;36m<module>\u001b[0;34m()\u001b[0m\n\u001b[1;32m      1\u001b[0m \u001b[0mbase_bids\u001b[0m \u001b[0;34m=\u001b[0m \u001b[0mnp\u001b[0m\u001b[0;34m.\u001b[0m\u001b[0marange\u001b[0m\u001b[0;34m(\u001b[0m\u001b[0;36m245\u001b[0m\u001b[0;34m,\u001b[0m\u001b[0;36m250\u001b[0m\u001b[0;34m,\u001b[0m\u001b[0;36m1\u001b[0m\u001b[0;34m)\u001b[0m\u001b[0;34m\u001b[0m\u001b[0m\n\u001b[0;32m----> 2\u001b[0;31m \u001b[0mClks\u001b[0m \u001b[0;34m=\u001b[0m \u001b[0;34m[\u001b[0m\u001b[0mcalculate_click\u001b[0m\u001b[0;34m(\u001b[0m\u001b[0mbase_bid\u001b[0m\u001b[0;34m,\u001b[0m\u001b[0mTrain_df_qr\u001b[0m\u001b[0;34m,\u001b[0m\u001b[0mpayprice\u001b[0m\u001b[0;34m,\u001b[0m\u001b[0mtest_predictions\u001b[0m\u001b[0;34m)\u001b[0m \u001b[0;32mfor\u001b[0m \u001b[0mbase_bid\u001b[0m \u001b[0;32min\u001b[0m \u001b[0mbase_bids\u001b[0m\u001b[0;34m]\u001b[0m\u001b[0;34m\u001b[0m\u001b[0m\n\u001b[0m\u001b[1;32m      3\u001b[0m \u001b[0mfig\u001b[0m \u001b[0;34m=\u001b[0m \u001b[0mplt\u001b[0m\u001b[0;34m.\u001b[0m\u001b[0mfigure\u001b[0m\u001b[0;34m(\u001b[0m\u001b[0;34m)\u001b[0m\u001b[0;34m\u001b[0m\u001b[0m\n\u001b[1;32m      4\u001b[0m \u001b[0mprint\u001b[0m\u001b[0;34m(\u001b[0m\u001b[0mmax\u001b[0m\u001b[0;34m(\u001b[0m\u001b[0mClks\u001b[0m\u001b[0;34m)\u001b[0m\u001b[0;34m)\u001b[0m\u001b[0;34m\u001b[0m\u001b[0m\n\u001b[1;32m      5\u001b[0m \u001b[0mplt\u001b[0m\u001b[0;34m.\u001b[0m\u001b[0mplot\u001b[0m\u001b[0;34m(\u001b[0m\u001b[0mbase_bids\u001b[0m\u001b[0;34m,\u001b[0m\u001b[0mClks\u001b[0m\u001b[0;34m)\u001b[0m\u001b[0;34m\u001b[0m\u001b[0m\n",
      "\u001b[0;32m<ipython-input-58-e8b6da10bf6b>\u001b[0m in \u001b[0;36m<listcomp>\u001b[0;34m(.0)\u001b[0m\n\u001b[1;32m      1\u001b[0m \u001b[0mbase_bids\u001b[0m \u001b[0;34m=\u001b[0m \u001b[0mnp\u001b[0m\u001b[0;34m.\u001b[0m\u001b[0marange\u001b[0m\u001b[0;34m(\u001b[0m\u001b[0;36m245\u001b[0m\u001b[0;34m,\u001b[0m\u001b[0;36m250\u001b[0m\u001b[0;34m,\u001b[0m\u001b[0;36m1\u001b[0m\u001b[0;34m)\u001b[0m\u001b[0;34m\u001b[0m\u001b[0m\n\u001b[0;32m----> 2\u001b[0;31m \u001b[0mClks\u001b[0m \u001b[0;34m=\u001b[0m \u001b[0;34m[\u001b[0m\u001b[0mcalculate_click\u001b[0m\u001b[0;34m(\u001b[0m\u001b[0mbase_bid\u001b[0m\u001b[0;34m,\u001b[0m\u001b[0mTrain_df_qr\u001b[0m\u001b[0;34m,\u001b[0m\u001b[0mpayprice\u001b[0m\u001b[0;34m,\u001b[0m\u001b[0mtest_predictions\u001b[0m\u001b[0;34m)\u001b[0m \u001b[0;32mfor\u001b[0m \u001b[0mbase_bid\u001b[0m \u001b[0;32min\u001b[0m \u001b[0mbase_bids\u001b[0m\u001b[0;34m]\u001b[0m\u001b[0;34m\u001b[0m\u001b[0m\n\u001b[0m\u001b[1;32m      3\u001b[0m \u001b[0mfig\u001b[0m \u001b[0;34m=\u001b[0m \u001b[0mplt\u001b[0m\u001b[0;34m.\u001b[0m\u001b[0mfigure\u001b[0m\u001b[0;34m(\u001b[0m\u001b[0;34m)\u001b[0m\u001b[0;34m\u001b[0m\u001b[0m\n\u001b[1;32m      4\u001b[0m \u001b[0mprint\u001b[0m\u001b[0;34m(\u001b[0m\u001b[0mmax\u001b[0m\u001b[0;34m(\u001b[0m\u001b[0mClks\u001b[0m\u001b[0;34m)\u001b[0m\u001b[0;34m)\u001b[0m\u001b[0;34m\u001b[0m\u001b[0m\n\u001b[1;32m      5\u001b[0m \u001b[0mplt\u001b[0m\u001b[0;34m.\u001b[0m\u001b[0mplot\u001b[0m\u001b[0;34m(\u001b[0m\u001b[0mbase_bids\u001b[0m\u001b[0;34m,\u001b[0m\u001b[0mClks\u001b[0m\u001b[0;34m)\u001b[0m\u001b[0;34m\u001b[0m\u001b[0m\n",
      "\u001b[0;32m<ipython-input-50-7e1d6cf6c1ea>\u001b[0m in \u001b[0;36mcalculate_click\u001b[0;34m(base_bid, Train_df, payprice, test_predictions)\u001b[0m\n\u001b[1;32m      1\u001b[0m \u001b[0;32mdef\u001b[0m \u001b[0mcalculate_click\u001b[0m\u001b[0;34m(\u001b[0m\u001b[0mbase_bid\u001b[0m\u001b[0;34m,\u001b[0m\u001b[0mTrain_df\u001b[0m\u001b[0;34m,\u001b[0m\u001b[0mpayprice\u001b[0m\u001b[0;34m,\u001b[0m\u001b[0mtest_predictions\u001b[0m\u001b[0;34m)\u001b[0m\u001b[0;34m:\u001b[0m\u001b[0;34m\u001b[0m\u001b[0m\n\u001b[1;32m      2\u001b[0m     \u001b[0mprint\u001b[0m\u001b[0;34m(\u001b[0m\u001b[0;34m'base_bid:'\u001b[0m\u001b[0;34m,\u001b[0m\u001b[0mbase_bid\u001b[0m\u001b[0;34m)\u001b[0m\u001b[0;34m\u001b[0m\u001b[0m\n\u001b[0;32m----> 3\u001b[0;31m     \u001b[0mresult_df\u001b[0m\u001b[0;34m,\u001b[0m\u001b[0mcurrent_budget\u001b[0m \u001b[0;34m=\u001b[0m \u001b[0mProb3\u001b[0m\u001b[0;34m(\u001b[0m\u001b[0mTrain_df\u001b[0m\u001b[0;34m,\u001b[0m\u001b[0mpayprice\u001b[0m\u001b[0;34m,\u001b[0m\u001b[0mbase_bid\u001b[0m\u001b[0;34m,\u001b[0m\u001b[0mtest_predictions\u001b[0m\u001b[0;34m)\u001b[0m\u001b[0;34m\u001b[0m\u001b[0m\n\u001b[0m\u001b[1;32m      4\u001b[0m     \u001b[0mprint\u001b[0m\u001b[0;34m(\u001b[0m\u001b[0;34m'current_budget:'\u001b[0m\u001b[0;34m,\u001b[0m\u001b[0mcurrent_budget\u001b[0m\u001b[0;34m)\u001b[0m\u001b[0;34m\u001b[0m\u001b[0m\n\u001b[1;32m      5\u001b[0m     \u001b[0mTrain_df_new\u001b[0m \u001b[0;34m=\u001b[0m \u001b[0mresult_df\u001b[0m\u001b[0;34m[\u001b[0m\u001b[0mresult_df\u001b[0m\u001b[0;34m[\u001b[0m\u001b[0;34m'win'\u001b[0m\u001b[0;34m]\u001b[0m\u001b[0;34m!=\u001b[0m\u001b[0;36m0\u001b[0m\u001b[0;34m]\u001b[0m\u001b[0;34m\u001b[0m\u001b[0m\n",
      "\u001b[0;32m<ipython-input-49-04e7dbf11205>\u001b[0m in \u001b[0;36mProb3\u001b[0;34m(Train_df, payprice, base_bid, test_predictions)\u001b[0m\n\u001b[1;32m      7\u001b[0m     \u001b[0;31m#start biding...\u001b[0m\u001b[0;34m\u001b[0m\u001b[0;34m\u001b[0m\u001b[0m\n\u001b[1;32m      8\u001b[0m     \u001b[0;32mfor\u001b[0m \u001b[0mi\u001b[0m \u001b[0;32min\u001b[0m \u001b[0mTrain_df\u001b[0m\u001b[0;34m.\u001b[0m\u001b[0mindex\u001b[0m\u001b[0;34m:\u001b[0m\u001b[0;34m\u001b[0m\u001b[0m\n\u001b[0;32m----> 9\u001b[0;31m         \u001b[0;32mif\u001b[0m \u001b[0mcurrent_budget\u001b[0m \u001b[0;34m>=\u001b[0m \u001b[0mbidprices\u001b[0m\u001b[0;34m[\u001b[0m\u001b[0mi\u001b[0m\u001b[0;34m]\u001b[0m\u001b[0;34m:\u001b[0m\u001b[0;34m\u001b[0m\u001b[0m\n\u001b[0m\u001b[1;32m     10\u001b[0m             \u001b[0;31m#generate bidprice:\u001b[0m\u001b[0;34m\u001b[0m\u001b[0;34m\u001b[0m\u001b[0m\n\u001b[1;32m     11\u001b[0m             \u001b[0mcurrent_bidprice\u001b[0m \u001b[0;34m=\u001b[0m \u001b[0mbidprices\u001b[0m\u001b[0;34m[\u001b[0m\u001b[0mi\u001b[0m\u001b[0;34m]\u001b[0m\u001b[0;34m\u001b[0m\u001b[0m\n",
      "\u001b[0;31mKeyboardInterrupt\u001b[0m: "
     ]
    }
   ],
   "source": [
    "base_bids = np.arange(245,250,1)\n",
    "Clks = [calculate_click(base_bid,Train_df_qr,payprice,test_predictions) for base_bid in base_bids]\n",
    "fig = plt.figure()\n",
    "print(max(Clks))\n",
    "plt.plot(base_bids,Clks)\n",
    "mpld3.display(fig)"
   ]
  },
  {
   "cell_type": "markdown",
   "metadata": {},
   "source": [
    "## Different optimizers"
   ]
  },
  {
   "cell_type": "code",
   "execution_count": 30,
   "metadata": {},
   "outputs": [
    {
     "name": "stdout",
     "output_type": "stream",
     "text": [
      "Populating the interactive namespace from numpy and matplotlib\n"
     ]
    },
    {
     "name": "stderr",
     "output_type": "stream",
     "text": [
      "/Users/weisihan/anaconda3/envs/tensorflow/lib/python3.5/site-packages/IPython/core/magics/pylab.py:160: UserWarning: pylab import has clobbered these variables: ['title']\n",
      "`%matplotlib` prevents importing * from pylab and numpy\n",
      "  \"\\n`%matplotlib` prevents importing * from pylab and numpy\"\n",
      "100%|██████████| 5/5 [00:08<00:00,  1.62s/epoch]\n",
      "100%|██████████| 5/5 [00:07<00:00,  1.56s/epoch]\n",
      "100%|██████████| 5/5 [00:07<00:00,  1.54s/epoch]\n",
      "100%|██████████| 5/5 [00:07<00:00,  1.58s/epoch]\n",
      "100%|██████████| 5/5 [00:07<00:00,  1.56s/epoch]\n",
      "100%|██████████| 5/5 [00:08<00:00,  1.68s/epoch]\n",
      "100%|██████████| 5/5 [00:08<00:00,  1.65s/epoch]\n",
      "100%|██████████| 5/5 [00:08<00:00,  1.65s/epoch]\n",
      "100%|██████████| 5/5 [00:08<00:00,  1.67s/epoch]\n",
      "100%|██████████| 5/5 [00:08<00:00,  1.66s/epoch]\n",
      "100%|██████████| 5/5 [00:08<00:00,  1.62s/epoch]\n",
      "100%|██████████| 5/5 [00:08<00:00,  1.65s/epoch]\n",
      "100%|██████████| 5/5 [00:08<00:00,  1.68s/epoch]\n",
      "100%|██████████| 5/5 [00:08<00:00,  1.66s/epoch]\n",
      "100%|██████████| 5/5 [00:08<00:00,  1.66s/epoch]\n",
      "100%|██████████| 5/5 [00:08<00:00,  1.68s/epoch]\n",
      "100%|██████████| 5/5 [00:08<00:00,  1.66s/epoch]\n",
      "100%|██████████| 5/5 [00:08<00:00,  1.64s/epoch]\n",
      "100%|██████████| 5/5 [00:08<00:00,  1.70s/epoch]\n",
      "100%|██████████| 5/5 [00:07<00:00,  1.53s/epoch]\n",
      "100%|██████████| 5/5 [00:07<00:00,  1.53s/epoch]\n",
      "100%|██████████| 5/5 [00:07<00:00,  1.54s/epoch]\n",
      "100%|██████████| 5/5 [00:07<00:00,  1.54s/epoch]\n",
      "100%|██████████| 5/5 [00:07<00:00,  1.52s/epoch]\n",
      "100%|██████████| 5/5 [00:07<00:00,  1.52s/epoch]\n",
      "100%|██████████| 5/5 [00:07<00:00,  1.51s/epoch]\n",
      "100%|██████████| 5/5 [00:08<00:00,  1.63s/epoch]\n",
      "100%|██████████| 5/5 [00:07<00:00,  1.52s/epoch]\n",
      "100%|██████████| 5/5 [00:07<00:00,  1.53s/epoch]\n",
      "100%|██████████| 5/5 [00:07<00:00,  1.53s/epoch]\n",
      "100%|██████████| 5/5 [00:07<00:00,  1.53s/epoch]\n",
      "100%|██████████| 5/5 [00:07<00:00,  1.53s/epoch]\n",
      "100%|██████████| 5/5 [00:07<00:00,  1.52s/epoch]\n",
      "100%|██████████| 5/5 [00:07<00:00,  1.53s/epoch]\n",
      "100%|██████████| 5/5 [00:07<00:00,  1.52s/epoch]\n",
      "100%|██████████| 5/5 [00:07<00:00,  1.56s/epoch]\n",
      "100%|██████████| 5/5 [00:07<00:00,  1.54s/epoch]\n",
      "100%|██████████| 5/5 [00:07<00:00,  1.53s/epoch]\n",
      "100%|██████████| 5/5 [00:07<00:00,  1.54s/epoch]\n",
      "100%|██████████| 5/5 [00:07<00:00,  1.55s/epoch]\n",
      "100%|██████████| 5/5 [00:07<00:00,  1.54s/epoch]\n",
      "100%|██████████| 5/5 [00:08<00:00,  1.63s/epoch]\n",
      "100%|██████████| 5/5 [00:08<00:00,  1.63s/epoch]\n",
      "100%|██████████| 5/5 [00:08<00:00,  1.62s/epoch]\n",
      "100%|██████████| 5/5 [00:07<00:00,  1.59s/epoch]\n",
      "100%|██████████| 5/5 [00:07<00:00,  1.49s/epoch]\n",
      "100%|██████████| 5/5 [00:07<00:00,  1.50s/epoch]\n",
      "100%|██████████| 5/5 [00:07<00:00,  1.50s/epoch]\n",
      "100%|██████████| 5/5 [00:07<00:00,  1.49s/epoch]\n",
      "100%|██████████| 5/5 [00:07<00:00,  1.50s/epoch]\n",
      "100%|██████████| 5/5 [00:07<00:00,  1.49s/epoch]\n",
      "100%|██████████| 5/5 [00:07<00:00,  1.49s/epoch]\n",
      "100%|██████████| 5/5 [00:07<00:00,  1.49s/epoch]\n",
      "100%|██████████| 5/5 [00:08<00:00,  1.67s/epoch]\n",
      "100%|██████████| 5/5 [00:07<00:00,  1.50s/epoch]\n",
      "100%|██████████| 5/5 [00:07<00:00,  1.49s/epoch]\n",
      "100%|██████████| 5/5 [00:07<00:00,  1.50s/epoch]\n",
      "100%|██████████| 5/5 [00:07<00:00,  1.50s/epoch]\n",
      "100%|██████████| 5/5 [00:07<00:00,  1.51s/epoch]\n",
      "100%|██████████| 5/5 [00:07<00:00,  1.49s/epoch]\n",
      "100%|██████████| 5/5 [00:07<00:00,  1.51s/epoch]\n",
      "100%|██████████| 5/5 [00:07<00:00,  1.51s/epoch]\n",
      "100%|██████████| 5/5 [00:07<00:00,  1.51s/epoch]\n",
      "100%|██████████| 5/5 [00:07<00:00,  1.51s/epoch]\n",
      "100%|██████████| 5/5 [00:07<00:00,  1.53s/epoch]\n",
      "100%|██████████| 5/5 [00:07<00:00,  1.52s/epoch]\n",
      "100%|██████████| 5/5 [00:07<00:00,  1.51s/epoch]\n",
      "100%|██████████| 5/5 [00:07<00:00,  1.51s/epoch]\n",
      "100%|██████████| 5/5 [00:07<00:00,  1.50s/epoch]\n",
      "100%|██████████| 5/5 [00:07<00:00,  1.52s/epoch]\n",
      "100%|██████████| 5/5 [00:08<00:00,  1.65s/epoch]\n",
      "100%|██████████| 5/5 [00:07<00:00,  1.54s/epoch]\n",
      "100%|██████████| 5/5 [00:07<00:00,  1.52s/epoch]\n",
      "100%|██████████| 5/5 [00:07<00:00,  1.50s/epoch]\n",
      "100%|██████████| 5/5 [00:07<00:00,  1.51s/epoch]\n",
      "100%|██████████| 5/5 [00:07<00:00,  1.49s/epoch]\n",
      "100%|██████████| 5/5 [00:07<00:00,  1.52s/epoch]\n",
      "100%|██████████| 5/5 [00:07<00:00,  1.51s/epoch]\n",
      "100%|██████████| 5/5 [00:07<00:00,  1.51s/epoch]\n",
      "100%|██████████| 5/5 [00:07<00:00,  1.48s/epoch]\n",
      "100%|██████████| 5/5 [00:07<00:00,  1.47s/epoch]\n",
      "100%|██████████| 5/5 [00:07<00:00,  1.46s/epoch]\n"
     ]
    },
    {
     "data": {
      "image/png": "[encoded data removed]",
      "text/plain": [
       "<Figure size 432x288 with 1 Axes>"
      ]
     },
     "metadata": {},
     "output_type": "display_data"
    }
   ],
   "source": [
    "%pylab inline\n",
    "for optim, title in [(tf.train.AdamOptimizer(learning_rate=0.001), 'Adam'), \n",
    "              (tf.train.FtrlOptimizer(0.01, l1_regularization_strength=0.01), 'FTRL')]:\n",
    "    acc = []\n",
    "    model = TFFMClassifier(\n",
    "        order=3, \n",
    "        rank=10, \n",
    "        optimizer=tf.train.AdamOptimizer(learning_rate=0.001), \n",
    "        n_epochs=30, \n",
    "        batch_size=1024,\n",
    "        init_std=0.001,\n",
    "        reg=0.01,\n",
    "        input_type='sparse',\n",
    "        seed=42\n",
    "    )\n",
    "    n_epochs = 5\n",
    "    anchor_epochs = range(0, 200+1, n_epochs)\n",
    "    for _ in anchor_epochs:\n",
    "        # score result every 5 epochs\n",
    "        model.fit(X_tr_sparse, y_tr, n_epochs=n_epochs, show_progress=True)\n",
    "        predictions = model.predict(X_te_sparse)\n",
    "        acc.append(accuracy_score(y_te, predictions))\n",
    "    plot(anchor_epochs, acc, label=title)\n",
    "    model.destroy()\n",
    "xlabel('n_epochs')\n",
    "ylabel('accuracy')\n",
    "legend()\n",
    "grid()"
   ]
  },
  {
   "cell_type": "code",
   "execution_count": 31,
   "metadata": {},
   "outputs": [
    {
     "name": "stdout",
     "output_type": "stream",
     "text": [
      "Populating the interactive namespace from numpy and matplotlib\n"
     ]
    },
    {
     "name": "stderr",
     "output_type": "stream",
     "text": [
      "/Users/weisihan/anaconda3/envs/tensorflow/lib/python3.5/site-packages/IPython/core/magics/pylab.py:160: UserWarning: pylab import has clobbered these variables: ['title']\n",
      "`%matplotlib` prevents importing * from pylab and numpy\n",
      "  \"\\n`%matplotlib` prevents importing * from pylab and numpy\"\n",
      "100%|██████████| 5/5 [00:08<00:00,  1.75s/epoch]\n",
      "100%|██████████| 5/5 [00:09<00:00,  1.97s/epoch]\n",
      "100%|██████████| 5/5 [00:09<00:00,  1.84s/epoch]\n",
      "100%|██████████| 5/5 [00:09<00:00,  1.82s/epoch]\n",
      "100%|██████████| 5/5 [00:08<00:00,  1.70s/epoch]\n",
      "100%|██████████| 5/5 [00:08<00:00,  1.79s/epoch]\n",
      "100%|██████████| 5/5 [00:09<00:00,  1.99s/epoch]\n",
      "100%|██████████| 5/5 [00:08<00:00,  1.78s/epoch]\n",
      "100%|██████████| 5/5 [00:09<00:00,  1.81s/epoch]\n",
      "100%|██████████| 5/5 [00:09<00:00,  1.87s/epoch]\n",
      "100%|██████████| 5/5 [00:10<00:00,  2.10s/epoch]\n",
      "/Users/weisihan/Downloads/tffm-master/tffm/utils.py:195: RuntimeWarning: overflow encountered in exp\n",
      "  return 1 / (1 + np.exp(-x))\n",
      "100%|██████████| 5/5 [00:11<00:00,  2.26s/epoch]\n",
      "100%|██████████| 5/5 [00:11<00:00,  2.33s/epoch]\n",
      "100%|██████████| 5/5 [00:10<00:00,  2.07s/epoch]\n",
      "100%|██████████| 5/5 [00:09<00:00,  1.85s/epoch]\n",
      "100%|██████████| 5/5 [00:09<00:00,  1.91s/epoch]\n",
      "100%|██████████| 5/5 [00:08<00:00,  1.78s/epoch]\n",
      "100%|██████████| 5/5 [00:09<00:00,  1.84s/epoch]\n",
      "100%|██████████| 5/5 [00:09<00:00,  1.92s/epoch]\n",
      "100%|██████████| 5/5 [00:11<00:00,  2.26s/epoch]\n",
      "100%|██████████| 5/5 [00:09<00:00,  1.88s/epoch]\n",
      "100%|██████████| 5/5 [00:08<00:00,  1.73s/epoch]\n",
      "100%|██████████| 5/5 [00:09<00:00,  1.90s/epoch]\n",
      "100%|██████████| 5/5 [00:08<00:00,  1.78s/epoch]\n",
      "100%|██████████| 5/5 [00:08<00:00,  1.62s/epoch]\n",
      "100%|██████████| 5/5 [00:07<00:00,  1.58s/epoch]\n",
      "100%|██████████| 5/5 [00:08<00:00,  1.61s/epoch]\n",
      "100%|██████████| 5/5 [00:09<00:00,  1.95s/epoch]\n",
      "100%|██████████| 5/5 [00:08<00:00,  1.71s/epoch]\n",
      "100%|██████████| 5/5 [00:08<00:00,  1.77s/epoch]\n",
      "100%|██████████| 5/5 [00:08<00:00,  1.64s/epoch]\n",
      "100%|██████████| 5/5 [00:08<00:00,  1.68s/epoch]\n",
      "100%|██████████| 5/5 [00:08<00:00,  1.66s/epoch]\n",
      "100%|██████████| 5/5 [00:08<00:00,  1.64s/epoch]\n",
      "100%|██████████| 5/5 [00:07<00:00,  1.59s/epoch]\n",
      "100%|██████████| 5/5 [00:07<00:00,  1.57s/epoch]\n",
      "100%|██████████| 5/5 [00:07<00:00,  1.57s/epoch]\n",
      "100%|██████████| 5/5 [00:07<00:00,  1.59s/epoch]\n",
      "100%|██████████| 5/5 [00:07<00:00,  1.58s/epoch]\n",
      "100%|██████████| 5/5 [00:08<00:00,  1.65s/epoch]\n",
      "100%|██████████| 5/5 [00:07<00:00,  1.57s/epoch]\n",
      "100%|██████████| 5/5 [00:08<00:00,  1.61s/epoch]\n",
      "100%|██████████| 5/5 [00:08<00:00,  1.61s/epoch]\n",
      "100%|██████████| 5/5 [00:07<00:00,  1.58s/epoch]\n",
      "100%|██████████| 5/5 [00:08<00:00,  1.62s/epoch]\n",
      "100%|██████████| 5/5 [00:09<00:00,  1.85s/epoch]\n",
      "100%|██████████| 5/5 [00:09<00:00,  1.90s/epoch]\n",
      "100%|██████████| 5/5 [00:08<00:00,  1.66s/epoch]\n",
      "100%|██████████| 5/5 [00:08<00:00,  1.72s/epoch]\n",
      "100%|██████████| 5/5 [00:08<00:00,  1.79s/epoch]\n",
      "100%|██████████| 5/5 [00:07<00:00,  1.57s/epoch]\n",
      "100%|██████████| 5/5 [00:08<00:00,  1.61s/epoch]\n",
      "100%|██████████| 5/5 [00:07<00:00,  1.59s/epoch]\n",
      "100%|██████████| 5/5 [00:07<00:00,  1.57s/epoch]\n",
      "100%|██████████| 5/5 [00:07<00:00,  1.56s/epoch]\n",
      "100%|██████████| 5/5 [00:07<00:00,  1.55s/epoch]\n",
      "100%|██████████| 5/5 [00:07<00:00,  1.57s/epoch]\n",
      "100%|██████████| 5/5 [00:07<00:00,  1.57s/epoch]\n",
      "100%|██████████| 5/5 [00:07<00:00,  1.57s/epoch]\n",
      "100%|██████████| 5/5 [00:09<00:00,  1.80s/epoch]\n",
      "100%|██████████| 5/5 [00:08<00:00,  1.69s/epoch]\n",
      "100%|██████████| 5/5 [00:07<00:00,  1.56s/epoch]\n",
      "100%|██████████| 5/5 [00:08<00:00,  1.68s/epoch]\n",
      "100%|██████████| 5/5 [00:08<00:00,  1.67s/epoch]\n",
      "100%|██████████| 5/5 [00:08<00:00,  1.60s/epoch]\n",
      "100%|██████████| 5/5 [00:09<00:00,  1.91s/epoch]\n",
      "100%|██████████| 5/5 [00:08<00:00,  1.62s/epoch]\n",
      "100%|██████████| 5/5 [00:07<00:00,  1.55s/epoch]\n",
      "100%|██████████| 5/5 [00:07<00:00,  1.55s/epoch]\n",
      "100%|██████████| 5/5 [00:07<00:00,  1.56s/epoch]\n",
      "100%|██████████| 5/5 [00:10<00:00,  2.01s/epoch]\n",
      "100%|██████████| 5/5 [00:08<00:00,  1.79s/epoch]\n",
      "100%|██████████| 5/5 [00:08<00:00,  1.80s/epoch]\n",
      "100%|██████████| 5/5 [00:08<00:00,  1.60s/epoch]\n",
      "100%|██████████| 5/5 [00:08<00:00,  1.66s/epoch]\n",
      "100%|██████████| 5/5 [00:10<00:00,  2.02s/epoch]\n",
      "100%|██████████| 5/5 [00:11<00:00,  2.39s/epoch]\n",
      "100%|██████████| 5/5 [00:08<00:00,  1.71s/epoch]\n",
      "100%|██████████| 5/5 [00:08<00:00,  1.79s/epoch]\n",
      "100%|██████████| 5/5 [00:08<00:00,  1.63s/epoch]\n",
      "100%|██████████| 5/5 [00:08<00:00,  1.74s/epoch]\n",
      "100%|██████████| 5/5 [00:08<00:00,  1.61s/epoch]\n"
     ]
    },
    {
     "data": {
      "image/png": "[encoded data removed]",
      "text/plain": [
       "<Figure size 432x288 with 1 Axes>"
      ]
     },
     "metadata": {},
     "output_type": "display_data"
    }
   ],
   "source": [
    "\n",
    "\n",
    "%pylab inline\n",
    "for optim, title in [(tf.train.AdamOptimizer(learning_rate=0.001), 'Adam'), \n",
    "              (tf.train.FtrlOptimizer(0.01, l1_regularization_strength=0.01), 'FTRL')]:\n",
    "    acc = []\n",
    "    model = TFFMClassifier(\n",
    "        order=3, \n",
    "        rank=10, \n",
    "        optimizer=tf.train.AdamOptimizer(learning_rate=0.001), \n",
    "        n_epochs=30, \n",
    "        batch_size=1024,\n",
    "        init_std=0.001,\n",
    "        reg=0.01,\n",
    "        input_type='sparse',\n",
    "        seed=42\n",
    "    )\n",
    "    n_epochs = 5\n",
    "    anchor_epochs = range(0, 200+1, n_epochs)\n",
    "    for _ in anchor_epochs:\n",
    "        # score result every 5 epochs\n",
    "        model.fit(X_tr_sparse, y_tr, n_epochs=n_epochs, show_progress=True)\n",
    "        predictions = model.predict_proba(X_te_sparse)\n",
    "        acc.append(roc_auc_score(y_te, predictions[:,1]))\n",
    "    plot(anchor_epochs, acc, label=title)\n",
    "    model.destroy()\n",
    "xlabel('n_epochs')\n",
    "ylabel('auc')\n",
    "legend()\n",
    "grid()"
   ]
  },
  {
   "cell_type": "code",
   "execution_count": null,
   "metadata": {
    "collapsed": true
   },
   "outputs": [],
   "source": []
  }
 ],
 "metadata": {
  "kernelspec": {
   "display_name": "Python 3",
   "language": "python",
   "name": "python3"
  },
  "language_info": {
   "codemirror_mode": {
    "name": "ipython",
    "version": 3
   },
   "file_extension": ".py",
   "mimetype": "text/x-python",
   "name": "python",
   "nbconvert_exporter": "python",
   "pygments_lexer": "ipython3",
   "version": "3.5.4"
  }
 },
 "nbformat": 4,
 "nbformat_minor": 2
}
